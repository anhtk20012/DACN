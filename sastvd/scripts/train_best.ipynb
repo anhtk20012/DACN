{
 "cells": [
  {
   "cell_type": "code",
   "execution_count": 1,
   "metadata": {},
   "outputs": [
    {
     "name": "stderr",
     "output_type": "stream",
     "text": [
      "2024-01-10 04:09:07,190\tINFO worker.py:1724 -- Started a local Ray instance.\n",
      "2024-01-10 04:09:08,433\tINFO tune.py:220 -- Initializing Ray automatically. For cluster usage or custom Ray initialization, call `ray.init(...)` before `tune.run(...)`.\n",
      "2024-01-10 04:09:08,436\tINFO tune.py:583 -- [output] This uses the legacy output and progress reporter, as Jupyter notebooks are not supported by the new engine, yet. For more information, please see https://github.com/ray-project/ray/issues/36949\n"
     ]
    },
    {
     "data": {
      "text/html": [
       "<div class=\"tuneStatus\">\n",
       "  <div style=\"display: flex;flex-direction: row\">\n",
       "    <div style=\"display: flex;flex-direction: column;\">\n",
       "      <h3>Tune Status</h3>\n",
       "      <table>\n",
       "<tbody>\n",
       "<tr><td>Current time:</td><td>2024-01-10 04:17:40</td></tr>\n",
       "<tr><td>Running for: </td><td>00:08:32.47        </td></tr>\n",
       "<tr><td>Memory:      </td><td>5.0/7.7 GiB        </td></tr>\n",
       "</tbody>\n",
       "</table>\n",
       "    </div>\n",
       "    <div class=\"vDivider\"></div>\n",
       "    <div class=\"systemInfo\">\n",
       "      <h3>System Info</h3>\n",
       "      Using FIFO scheduling algorithm.<br>Logical resource usage: 2.0/8 CPUs, 0/1 GPUs (0.0/1.0 accelerator_type:G)\n",
       "    </div>\n",
       "    \n",
       "  </div>\n",
       "  <div class=\"hDivider\"></div>\n",
       "  <div class=\"trialStatus\">\n",
       "    <h3>Trial Status</h3>\n",
       "    <table>\n",
       "<thead>\n",
       "<tr><th>Trial name              </th><th>status    </th><th>loc                </th><th style=\"text-align: right;\">  batch_size</th><th>embtype  </th><th style=\"text-align: right;\">  gatdropout</th><th>gnntype  </th><th>gtype  </th><th style=\"text-align: right;\">  hdropout</th><th style=\"text-align: right;\">  hfeat</th><th>loss  </th><th style=\"text-align: right;\">    lr</th><th>modeltype  </th><th>multitask  </th><th style=\"text-align: right;\">  scea</th><th>splits  </th><th style=\"text-align: right;\">  stmtweight</th><th style=\"text-align: right;\">  iter</th><th style=\"text-align: right;\">  total time (s)</th><th style=\"text-align: right;\">  train_loss</th><th style=\"text-align: right;\">  val_loss</th><th style=\"text-align: right;\">  val_auroc</th></tr>\n",
       "</thead>\n",
       "<tbody>\n",
       "<tr><td>train_linevd_541e2_00000</td><td>TERMINATED</td><td>172.31.35.121:14937</td><td style=\"text-align: right;\">        1024</td><td>codebert </td><td style=\"text-align: right;\">         0.2</td><td>gcn      </td><td>pdg+raw</td><td style=\"text-align: right;\">       0.3</td><td style=\"text-align: right;\">    512</td><td>ce    </td><td style=\"text-align: right;\">0.0001</td><td>gat2layer  </td><td>linemethod </td><td style=\"text-align: right;\">   0.5</td><td>default </td><td style=\"text-align: right;\">           1</td><td style=\"text-align: right;\">   130</td><td style=\"text-align: right;\">         501.308</td><td style=\"text-align: right;\">    0.174896</td><td style=\"text-align: right;\">   6.70413</td><td style=\"text-align: right;\">   0.198052</td></tr>\n",
       "</tbody>\n",
       "</table>\n",
       "  </div>\n",
       "</div>\n",
       "<style>\n",
       ".tuneStatus {\n",
       "  color: var(--jp-ui-font-color1);\n",
       "}\n",
       ".tuneStatus .systemInfo {\n",
       "  display: flex;\n",
       "  flex-direction: column;\n",
       "}\n",
       ".tuneStatus td {\n",
       "  white-space: nowrap;\n",
       "}\n",
       ".tuneStatus .trialStatus {\n",
       "  display: flex;\n",
       "  flex-direction: column;\n",
       "}\n",
       ".tuneStatus h3 {\n",
       "  font-weight: bold;\n",
       "}\n",
       ".tuneStatus .hDivider {\n",
       "  border-bottom-width: var(--jp-border-width);\n",
       "  border-bottom-color: var(--jp-border-color0);\n",
       "  border-bottom-style: solid;\n",
       "}\n",
       ".tuneStatus .vDivider {\n",
       "  border-left-width: var(--jp-border-width);\n",
       "  border-left-color: var(--jp-border-color0);\n",
       "  border-left-style: solid;\n",
       "  margin: 0.5em 1em 0.5em 1em;\n",
       "}\n",
       "</style>\n"
      ],
      "text/plain": [
       "<IPython.core.display.HTML object>"
      ]
     },
     "metadata": {},
     "output_type": "display_data"
    },
    {
     "name": "stderr",
     "output_type": "stream",
     "text": [
      "(6 Workers) Validate Samples:   0%|          | 0/92 [00:00<?, ?it/s]\n",
      "(6 Workers) Validate Samples:  45%|████▍     | 41/92 [00:00<00:00, 367.27it/s]\n",
      "(6 Workers) Validate Samples: 100%|██████████| 92/92 [00:00<00:00, 170.50it/s]\n",
      "(6 Workers) Validate Samples:   0%|          | 0/6 [00:00<?, ?it/s]\n",
      "(6 Workers) Validate Samples: 100%|██████████| 6/6 [00:00<00:00, 35.52it/s]\n",
      "(6 Workers) Validate Samples: 100%|██████████| 42/42 [00:00<00:00, 1130.54it/s]\n"
     ]
    },
    {
     "name": "stdout",
     "output_type": "stream",
     "text": [
      "\u001b[36m(train_linevd pid=14937)\u001b[0m Loading Codebert...\n"
     ]
    },
    {
     "name": "stderr",
     "output_type": "stream",
     "text": [
      "1it [00:00, 1533.01it/s]4937)\u001b[0m \n",
      "1it [00:00, 3339.41it/s]4937)\u001b[0m \n",
      "1it [00:00, 4650.00it/s]4937)\u001b[0m \n",
      "  0%|          | 0/91 [00:00<?, ?it/s]\n",
      "100%|██████████| 91/91 [00:00<00:00, 981.34it/s]\n",
      "100%|██████████| 6/6 [00:00<00:00, 1016.68it/s]\n",
      "100%|██████████| 41/41 [00:00<00:00, 1355.79it/s]\n",
      "\u001b[36m(train_linevd pid=14937)\u001b[0m GPU available: False, used: False\n",
      "\u001b[36m(train_linevd pid=14937)\u001b[0m TPU available: False, using: 0 TPU cores\n",
      "\u001b[36m(train_linevd pid=14937)\u001b[0m IPU available: False, using: 0 IPUs\n",
      "\u001b[36m(train_linevd pid=14937)\u001b[0m HPU available: False, using: 0 HPUs\n",
      "\u001b[36m(train_linevd pid=14937)\u001b[0m Missing logger folder: /home/ubuntu/linevd/storage/processed/raytune_best_-1/202401100409_1fca96a_update_get_data.sh/lightning_logs\n",
      "\u001b[36m(train_linevd pid=14937)\u001b[0m \n",
      "\u001b[36m(train_linevd pid=14937)\u001b[0m    | Name       | Type                   | Params\n",
      "\u001b[36m(train_linevd pid=14937)\u001b[0m -------------------------------------------------------\n",
      "\u001b[36m(train_linevd pid=14937)\u001b[0m 0  | loss       | CrossEntropyLoss       | 0     \n",
      "\u001b[36m(train_linevd pid=14937)\u001b[0m 1  | loss_f     | CrossEntropyLoss       | 0     \n",
      "\u001b[36m(train_linevd pid=14937)\u001b[0m 2  | accuracy   | BinaryAccuracy         | 0     \n",
      "\u001b[36m(train_linevd pid=14937)\u001b[0m 3  | auroc      | BinaryAUROC            | 0     \n",
      "\u001b[36m(train_linevd pid=14937)\u001b[0m 4  | mcc        | BinaryMatthewsCorrCoef | 0     \n",
      "\u001b[36m(train_linevd pid=14937)\u001b[0m 5  | gat        | GraphConv              | 393 K \n",
      "\u001b[36m(train_linevd pid=14937)\u001b[0m 6  | gat2       | GraphConv              | 262 K \n",
      "\u001b[36m(train_linevd pid=14937)\u001b[0m 7  | fc         | Linear                 | 262 K \n",
      "\u001b[36m(train_linevd pid=14937)\u001b[0m 8  | fconly     | Linear                 | 393 K \n",
      "\u001b[36m(train_linevd pid=14937)\u001b[0m 9  | mlpdropout | Dropout                | 0     \n",
      "\u001b[36m(train_linevd pid=14937)\u001b[0m 10 | codebertfc | Linear                 | 393 K \n",
      "\u001b[36m(train_linevd pid=14937)\u001b[0m 11 | hidden     | ModuleList             | 2.1 M \n",
      "\u001b[36m(train_linevd pid=14937)\u001b[0m 12 | hdropout   | Dropout                | 0     \n",
      "\u001b[36m(train_linevd pid=14937)\u001b[0m 13 | fc2        | Linear                 | 1.0 K \n",
      "\u001b[36m(train_linevd pid=14937)\u001b[0m -------------------------------------------------------\n",
      "\u001b[36m(train_linevd pid=14937)\u001b[0m 3.8 M     Trainable params\n",
      "\u001b[36m(train_linevd pid=14937)\u001b[0m 0         Non-trainable params\n",
      "\u001b[36m(train_linevd pid=14937)\u001b[0m 3.8 M     Total params\n",
      "\u001b[36m(train_linevd pid=14937)\u001b[0m 15.235    Total estimated model params size (MB)\n",
      "\u001b[36m(train_linevd pid=14937)\u001b[0m /home/ubuntu/miniconda3/lib/python3.10/site-packages/pytorch_lightning/trainer/connectors/data_connector.py:441: The 'train_dataloader' does not have many workers which may be a bottleneck. Consider increasing the value of the `num_workers` argument` to `num_workers=7` in the `DataLoader` to improve performance.\n",
      "\u001b[36m(train_linevd pid=14937)\u001b[0m /home/ubuntu/miniconda3/lib/python3.10/site-packages/pytorch_lightning/utilities/data.py:121: Your `IterableDataset` has `__len__` defined. In combination with multi-process data loading (when num_workers > 1), `__len__` could be inaccurate if each worker is not configured independently to avoid having duplicate data.\n",
      "\u001b[36m(train_linevd pid=14937)\u001b[0m /home/ubuntu/miniconda3/lib/python3.10/site-packages/dgl/dataloading/dataloader.py:1149: DGLWarning: Dataloader CPU affinity opt is not enabled, consider switching it on (see enable_cpu_affinity() or CPU best practices for DGL [https://docs.dgl.ai/tutorials/cpu/cpu_best_practises.html])\n",
      "\u001b[36m(train_linevd pid=14937)\u001b[0m   dgl_warning(\n",
      "\u001b[36m(train_linevd pid=14937)\u001b[0m /home/ubuntu/miniconda3/lib/python3.10/site-packages/pytorch_lightning/loops/fit_loop.py:293: The number of training batches (4) is smaller than the logging interval Trainer(log_every_n_steps=50). Set a lower value for log_every_n_steps if you want to see logs for the training epoch.\n",
      "\u001b[36m(train_linevd pid=14937)\u001b[0m /home/ubuntu/miniconda3/lib/python3.10/site-packages/pytorch_lightning/trainer/connectors/data_connector.py:441: The 'val_dataloader' does not have many workers which may be a bottleneck. Consider increasing the value of the `num_workers` argument` to `num_workers=7` in the `DataLoader` to improve performance.\n"
     ]
    },
    {
     "name": "stdout",
     "output_type": "stream",
     "text": [
      "Epoch 0:   0%|          | 0/4 [00:00<?, ?it/s] \n",
      "Epoch 0:  25%|██▌       | 1/4 [00:01<00:03,  0.81it/s, v_num=0, train_loss_step=1.390, train_acc=0.376, train_acc_func=0.550, train_mcc=-.0362]\n",
      "Epoch 0:  50%|█████     | 2/4 [00:01<00:01,  1.09it/s, v_num=0, train_loss_step=1.360, train_acc=0.952, train_acc_func=0.403, train_mcc=0.0518]\n",
      "Epoch 0:  75%|███████▌  | 3/4 [00:02<00:00,  1.32it/s, v_num=0, train_loss_step=1.340, train_acc=0.972, train_acc_func=0.392, train_mcc=0.178] \n",
      "Epoch 0: 100%|██████████| 4/4 [00:02<00:00,  1.53it/s, v_num=0, train_loss_step=1.310, train_acc=0.972, train_acc_func=0.422, train_mcc=0.220]\n",
      "\u001b[36m(train_linevd pid=14937)\u001b[0m \n",
      "Validation: |          | 0/? [00:00<?, ?it/s]\u001b[A\n",
      "\u001b[36m(train_linevd pid=14937)\u001b[0m \n",
      "Validation:   0%|          | 0/1 [00:00<?, ?it/s]\u001b[A\n",
      "Validation DataLoader 0:   0%|          | 0/1 [00:00<?, ?it/s]\u001b[A\n",
      "\u001b[36m(train_linevd pid=14937)\u001b[0m \n",
      "Validation DataLoader 0: 100%|██████████| 1/1 [00:00<00:00, 10.58it/s]\u001b[A\n"
     ]
    },
    {
     "data": {
      "text/html": [
       "<div class=\"trialProgress\">\n",
       "  <h3>Trial Progress</h3>\n",
       "  <table>\n",
       "<thead>\n",
       "<tr><th>Trial name              </th><th>should_checkpoint  </th><th style=\"text-align: right;\">  train_loss</th><th style=\"text-align: right;\">  val_auroc</th><th style=\"text-align: right;\">  val_loss</th></tr>\n",
       "</thead>\n",
       "<tbody>\n",
       "<tr><td>train_linevd_541e2_00000</td><td>True               </td><td style=\"text-align: right;\">    0.174896</td><td style=\"text-align: right;\">   0.198052</td><td style=\"text-align: right;\">   6.70413</td></tr>\n",
       "</tbody>\n",
       "</table>\n",
       "</div>\n",
       "<style>\n",
       ".trialProgress {\n",
       "  display: flex;\n",
       "  flex-direction: column;\n",
       "  color: var(--jp-ui-font-color1);\n",
       "}\n",
       ".trialProgress h3 {\n",
       "  font-weight: bold;\n",
       "}\n",
       ".trialProgress td {\n",
       "  white-space: nowrap;\n",
       "}\n",
       "</style>\n"
      ],
      "text/plain": [
       "<IPython.core.display.HTML object>"
      ]
     },
     "metadata": {},
     "output_type": "display_data"
    },
    {
     "name": "stderr",
     "output_type": "stream",
     "text": [
      "\u001b[36m(train_linevd pid=14937)\u001b[0m Checkpoint successfully created at: Checkpoint(filesystem=local, path=/home/ubuntu/linevd/storage/processed/raytune_best_-1/202401100409_1fca96a_update_get_data.sh/tune_linevd/train_linevd_541e2_00000_0_batch_size=1024,embtype=codebert,gatdropout=0.2000,gnntype=gcn,gtype=pdg_raw,hdropout=0.3000,hfeat=512,_2024-01-10_04-09-08/checkpoint_000000)\n"
     ]
    },
    {
     "name": "stdout",
     "output_type": "stream",
     "text": [
      "\u001b[36m(train_linevd pid=14937)\u001b[0m \n",
      "Epoch 0: 100%|██████████| 4/4 [00:03<00:00,  1.14it/s, v_num=0, train_loss_step=1.310, train_acc=0.972, train_acc_func=0.422, train_mcc=0.220, val_loss_step=1.270, val_loss_epoch=1.270, val_auroc=0.777, val_acc=0.996, val_mcc=0.703, train_loss_epoch=1.350]\n",
      "Epoch 1:   0%|          | 0/4 [00:00<?, ?it/s, v_num=0, train_loss_step=1.310, train_acc=0.972, train_acc_func=0.422, train_mcc=0.220, val_loss_step=1.270, val_loss_epoch=1.270, val_auroc=0.777, val_acc=0.996, val_mcc=0.703, train_loss_epoch=1.350]        \n",
      "Epoch 1:  25%|██▌       | 1/4 [00:01<00:05,  0.58it/s, v_num=0, train_loss_step=1.280, train_acc=0.970, train_acc_func=0.391, train_mcc=0.171, val_loss_step=1.270, val_loss_epoch=1.270, val_auroc=0.777, val_acc=0.996, val_mcc=0.703, train_loss_epoch=1.350]\n",
      "Epoch 1:  50%|█████     | 2/4 [00:02<00:02,  0.93it/s, v_num=0, train_loss_step=1.230, train_acc=0.971, train_acc_func=0.388, train_mcc=0.174, val_loss_step=1.270, val_loss_epoch=1.270, val_auroc=0.777, val_acc=0.996, val_mcc=0.703, train_loss_epoch=1.350]\n",
      "Epoch 1:  75%|███████▌  | 3/4 [00:02<00:00,  1.17it/s, v_num=0, train_loss_step=1.170, train_acc=0.975, train_acc_func=0.400, train_mcc=0.189, val_loss_step=1.270, val_loss_epoch=1.270, val_auroc=0.777, val_acc=0.996, val_mcc=0.703, train_loss_epoch=1.350]\n",
      "Epoch 1: 100%|██████████| 4/4 [00:02<00:00,  1.37it/s, v_num=0, train_loss_step=1.090, train_acc=0.974, train_acc_func=0.382, train_mcc=0.226, val_loss_step=1.270, val_loss_epoch=1.270, val_auroc=0.777, val_acc=0.996, val_mcc=0.703, train_loss_epoch=1.350]\n",
      "\u001b[36m(train_linevd pid=14937)\u001b[0m \n",
      "Validation: |          | 0/? [00:00<?, ?it/s]\u001b[A\n",
      "Validation:   0%|          | 0/1 [00:00<?, ?it/s]\u001b[A\n",
      "Validation DataLoader 0:   0%|          | 0/1 [00:00<?, ?it/s]\u001b[A\n",
      "\u001b[36m(train_linevd pid=14937)\u001b[0m \n",
      "Validation DataLoader 0: 100%|██████████| 1/1 [00:00<00:00, 13.26it/s]\u001b[A\n"
     ]
    },
    {
     "name": "stderr",
     "output_type": "stream",
     "text": [
      "\u001b[36m(train_linevd pid=14937)\u001b[0m Checkpoint successfully created at: Checkpoint(filesystem=local, path=/home/ubuntu/linevd/storage/processed/raytune_best_-1/202401100409_1fca96a_update_get_data.sh/tune_linevd/train_linevd_541e2_00000_0_batch_size=1024,embtype=codebert,gatdropout=0.2000,gnntype=gcn,gtype=pdg_raw,hdropout=0.3000,hfeat=512,_2024-01-10_04-09-08/checkpoint_000001)\n"
     ]
    },
    {
     "name": "stdout",
     "output_type": "stream",
     "text": [
      "\u001b[36m(train_linevd pid=14937)\u001b[0m \n",
      "Epoch 1: 100%|██████████| 4/4 [00:03<00:00,  1.20it/s, v_num=0, train_loss_step=1.090, train_acc=0.974, train_acc_func=0.382, train_mcc=0.226, val_loss_step=1.040, val_loss_epoch=1.040, val_auroc=0.777, val_acc=0.996, val_mcc=0.703, train_loss_epoch=1.190]\n",
      "Epoch 2:   0%|          | 0/4 [00:00<?, ?it/s, v_num=0, train_loss_step=1.090, train_acc=0.974, train_acc_func=0.382, train_mcc=0.226, val_loss_step=1.040, val_loss_epoch=1.040, val_auroc=0.777, val_acc=0.996, val_mcc=0.703, train_loss_epoch=1.190]        \n",
      "Epoch 2:  25%|██▌       | 1/4 [00:00<00:02,  1.26it/s, v_num=0, train_loss_step=1.010, train_acc=0.978, train_acc_func=0.375, train_mcc=0.201, val_loss_step=1.040, val_loss_epoch=1.040, val_auroc=0.777, val_acc=0.996, val_mcc=0.703, train_loss_epoch=1.190]\n",
      "Epoch 2:  50%|█████     | 2/4 [00:01<00:01,  1.47it/s, v_num=0, train_loss_step=0.936, train_acc=0.972, train_acc_func=0.405, train_mcc=0.178, val_loss_step=1.040, val_loss_epoch=1.040, val_auroc=0.777, val_acc=0.996, val_mcc=0.703, train_loss_epoch=1.190]\n",
      "Epoch 2:  75%|███████▌  | 3/4 [00:02<00:00,  1.13it/s, v_num=0, train_loss_step=0.859, train_acc=0.969, train_acc_func=0.369, train_mcc=0.168, val_loss_step=1.040, val_loss_epoch=1.040, val_auroc=0.777, val_acc=0.996, val_mcc=0.703, train_loss_epoch=1.190]\n",
      "Epoch 2: 100%|██████████| 4/4 [00:03<00:00,  1.01it/s, v_num=0, train_loss_step=0.850, train_acc=0.969, train_acc_func=0.426, train_mcc=0.208, val_loss_step=1.040, val_loss_epoch=1.040, val_auroc=0.777, val_acc=0.996, val_mcc=0.703, train_loss_epoch=1.190]\n",
      "Validation: |          | 0/? [00:00<?, ?it/s]\u001b[A\n",
      "\u001b[36m(train_linevd pid=14937)\u001b[0m \n",
      "Validation:   0%|          | 0/1 [00:00<?, ?it/s]\u001b[A\n",
      "Validation DataLoader 0:   0%|          | 0/1 [00:00<?, ?it/s]\u001b[A\n",
      "\u001b[36m(train_linevd pid=14937)\u001b[0m \n",
      "Validation DataLoader 0: 100%|██████████| 1/1 [00:00<00:00, 14.74it/s]\u001b[A\n"
     ]
    },
    {
     "name": "stderr",
     "output_type": "stream",
     "text": [
      "\u001b[36m(train_linevd pid=14937)\u001b[0m Checkpoint successfully created at: Checkpoint(filesystem=local, path=/home/ubuntu/linevd/storage/processed/raytune_best_-1/202401100409_1fca96a_update_get_data.sh/tune_linevd/train_linevd_541e2_00000_0_batch_size=1024,embtype=codebert,gatdropout=0.2000,gnntype=gcn,gtype=pdg_raw,hdropout=0.3000,hfeat=512,_2024-01-10_04-09-08/checkpoint_000002)\n"
     ]
    },
    {
     "name": "stdout",
     "output_type": "stream",
     "text": [
      "\u001b[36m(train_linevd pid=14937)\u001b[0m \n",
      "Epoch 2: 100%|██████████| 4/4 [00:04<00:00,  0.89it/s, v_num=0, train_loss_step=0.850, train_acc=0.969, train_acc_func=0.426, train_mcc=0.208, val_loss_step=0.960, val_loss_epoch=0.960, val_auroc=0.777, val_acc=0.996, val_mcc=0.703, train_loss_epoch=0.914]\n",
      "Epoch 3:   0%|          | 0/4 [00:00<?, ?it/s, v_num=0, train_loss_step=0.850, train_acc=0.969, train_acc_func=0.426, train_mcc=0.208, val_loss_step=0.960, val_loss_epoch=0.960, val_auroc=0.777, val_acc=0.996, val_mcc=0.703, train_loss_epoch=0.914]        \n",
      "Epoch 3:  25%|██▌       | 1/4 [00:00<00:02,  1.11it/s, v_num=0, train_loss_step=0.829, train_acc=0.976, train_acc_func=0.397, train_mcc=0.193, val_loss_step=0.960, val_loss_epoch=0.960, val_auroc=0.777, val_acc=0.996, val_mcc=0.703, train_loss_epoch=0.914]\n",
      "Epoch 3:  50%|█████     | 2/4 [00:01<00:01,  1.45it/s, v_num=0, train_loss_step=0.860, train_acc=0.970, train_acc_func=0.391, train_mcc=0.171, val_loss_step=0.960, val_loss_epoch=0.960, val_auroc=0.777, val_acc=0.996, val_mcc=0.703, train_loss_epoch=0.914]\n",
      "Epoch 3:  75%|███████▌  | 3/4 [00:01<00:00,  1.65it/s, v_num=0, train_loss_step=0.855, train_acc=0.971, train_acc_func=0.384, train_mcc=0.174, val_loss_step=0.960, val_loss_epoch=0.960, val_auroc=0.777, val_acc=0.996, val_mcc=0.703, train_loss_epoch=0.914]\n",
      "Epoch 3: 100%|██████████| 4/4 [00:02<00:00,  1.85it/s, v_num=0, train_loss_step=0.846, train_acc=0.972, train_acc_func=0.392, train_mcc=0.220, val_loss_step=0.960, val_loss_epoch=0.960, val_auroc=0.777, val_acc=0.996, val_mcc=0.703, train_loss_epoch=0.914]\n",
      "\u001b[36m(train_linevd pid=14937)\u001b[0m \n",
      "Validation: |          | 0/? [00:00<?, ?it/s]\u001b[A\n",
      "\u001b[36m(train_linevd pid=14937)\u001b[0m \n",
      "Validation:   0%|          | 0/1 [00:00<?, ?it/s]\u001b[A\n",
      "Validation DataLoader 0:   0%|          | 0/1 [00:00<?, ?it/s]\u001b[A\n",
      "\u001b[36m(train_linevd pid=14937)\u001b[0m \n",
      "Validation DataLoader 0: 100%|██████████| 1/1 [00:00<00:00,  1.80it/s]\u001b[A\n"
     ]
    },
    {
     "name": "stderr",
     "output_type": "stream",
     "text": [
      "\u001b[36m(train_linevd pid=14937)\u001b[0m Checkpoint successfully created at: Checkpoint(filesystem=local, path=/home/ubuntu/linevd/storage/processed/raytune_best_-1/202401100409_1fca96a_update_get_data.sh/tune_linevd/train_linevd_541e2_00000_0_batch_size=1024,embtype=codebert,gatdropout=0.2000,gnntype=gcn,gtype=pdg_raw,hdropout=0.3000,hfeat=512,_2024-01-10_04-09-08/checkpoint_000003)\n"
     ]
    },
    {
     "name": "stdout",
     "output_type": "stream",
     "text": [
      "\u001b[36m(train_linevd pid=14937)\u001b[0m \n",
      "Epoch 3: 100%|██████████| 4/4 [00:04<00:00,  0.91it/s, v_num=0, train_loss_step=0.846, train_acc=0.972, train_acc_func=0.392, train_mcc=0.220, val_loss_step=0.878, val_loss_epoch=0.878, val_auroc=0.777, val_acc=0.996, val_mcc=0.703, train_loss_epoch=0.847]\n",
      "Epoch 4:   0%|          | 0/4 [00:00<?, ?it/s, v_num=0, train_loss_step=0.846, train_acc=0.972, train_acc_func=0.392, train_mcc=0.220, val_loss_step=0.878, val_loss_epoch=0.878, val_auroc=0.777, val_acc=0.996, val_mcc=0.703, train_loss_epoch=0.847]        \n",
      "Epoch 4:  25%|██▌       | 1/4 [00:00<00:02,  1.14it/s, v_num=0, train_loss_step=0.793, train_acc=0.977, train_acc_func=0.385, train_mcc=0.197, val_loss_step=0.878, val_loss_epoch=0.878, val_auroc=0.777, val_acc=0.996, val_mcc=0.703, train_loss_epoch=0.847]\n",
      "Epoch 4:  50%|█████     | 2/4 [00:01<00:01,  1.47it/s, v_num=0, train_loss_step=0.821, train_acc=0.971, train_acc_func=0.393, train_mcc=0.174, val_loss_step=0.878, val_loss_epoch=0.878, val_auroc=0.777, val_acc=0.996, val_mcc=0.703, train_loss_epoch=0.847]\n",
      "Epoch 4:  75%|███████▌  | 3/4 [00:01<00:00,  1.64it/s, v_num=0, train_loss_step=0.806, train_acc=0.973, train_acc_func=0.396, train_mcc=0.181, val_loss_step=0.878, val_loss_epoch=0.878, val_auroc=0.777, val_acc=0.996, val_mcc=0.703, train_loss_epoch=0.847]\n",
      "Epoch 4: 100%|██████████| 4/4 [00:02<00:00,  1.83it/s, v_num=0, train_loss_step=0.856, train_acc=0.966, train_acc_func=0.391, train_mcc=0.198, val_loss_step=0.878, val_loss_epoch=0.878, val_auroc=0.777, val_acc=0.996, val_mcc=0.703, train_loss_epoch=0.847]\n",
      "\u001b[36m(train_linevd pid=14937)\u001b[0m \n",
      "Validation: |          | 0/? [00:00<?, ?it/s]\u001b[A\n",
      "\u001b[36m(train_linevd pid=14937)\u001b[0m \n",
      "Validation:   0%|          | 0/1 [00:00<?, ?it/s]\u001b[A\n",
      "Validation DataLoader 0:   0%|          | 0/1 [00:00<?, ?it/s]\u001b[A\n",
      "\u001b[36m(train_linevd pid=14937)\u001b[0m \n",
      "Validation DataLoader 0: 100%|██████████| 1/1 [00:00<00:00, 11.78it/s]\u001b[A\n"
     ]
    },
    {
     "name": "stderr",
     "output_type": "stream",
     "text": [
      "\u001b[36m(train_linevd pid=14937)\u001b[0m Checkpoint successfully created at: Checkpoint(filesystem=local, path=/home/ubuntu/linevd/storage/processed/raytune_best_-1/202401100409_1fca96a_update_get_data.sh/tune_linevd/train_linevd_541e2_00000_0_batch_size=1024,embtype=codebert,gatdropout=0.2000,gnntype=gcn,gtype=pdg_raw,hdropout=0.3000,hfeat=512,_2024-01-10_04-09-08/checkpoint_000004)\n"
     ]
    },
    {
     "name": "stdout",
     "output_type": "stream",
     "text": [
      "\u001b[36m(train_linevd pid=14937)\u001b[0m \n",
      "Epoch 4: 100%|██████████| 4/4 [00:02<00:00,  1.48it/s, v_num=0, train_loss_step=0.856, train_acc=0.966, train_acc_func=0.391, train_mcc=0.198, val_loss_step=0.733, val_loss_epoch=0.733, val_auroc=0.777, val_acc=0.996, val_mcc=0.703, train_loss_epoch=0.819]\n",
      "Epoch 5:   0%|          | 0/4 [00:00<?, ?it/s, v_num=0, train_loss_step=0.856, train_acc=0.966, train_acc_func=0.391, train_mcc=0.198, val_loss_step=0.733, val_loss_epoch=0.733, val_auroc=0.777, val_acc=0.996, val_mcc=0.703, train_loss_epoch=0.819]        \n",
      "Epoch 5:  25%|██▌       | 1/4 [00:00<00:02,  1.21it/s, v_num=0, train_loss_step=0.868, train_acc=0.964, train_acc_func=0.387, train_mcc=0.155, val_loss_step=0.733, val_loss_epoch=0.733, val_auroc=0.777, val_acc=0.996, val_mcc=0.703, train_loss_epoch=0.819]\n",
      "Epoch 5:  50%|█████     | 2/4 [00:01<00:01,  1.56it/s, v_num=0, train_loss_step=0.826, train_acc=0.974, train_acc_func=0.387, train_mcc=0.185, val_loss_step=0.733, val_loss_epoch=0.733, val_auroc=0.777, val_acc=0.996, val_mcc=0.703, train_loss_epoch=0.819]\n",
      "Epoch 5:  75%|███████▌  | 3/4 [00:01<00:00,  1.68it/s, v_num=0, train_loss_step=0.791, train_acc=0.979, train_acc_func=0.391, train_mcc=0.206, val_loss_step=0.733, val_loss_epoch=0.733, val_auroc=0.777, val_acc=0.996, val_mcc=0.703, train_loss_epoch=0.819]\n",
      "Epoch 5: 100%|██████████| 4/4 [00:03<00:00,  1.26it/s, v_num=0, train_loss_step=0.804, train_acc=0.972, train_acc_func=0.404, train_mcc=0.220, val_loss_step=0.733, val_loss_epoch=0.733, val_auroc=0.777, val_acc=0.996, val_mcc=0.703, train_loss_epoch=0.819]\n",
      "\u001b[36m(train_linevd pid=14937)\u001b[0m \n",
      "Validation: |          | 0/? [00:00<?, ?it/s]\u001b[A\n",
      "\u001b[36m(train_linevd pid=14937)\u001b[0m \n",
      "Validation:   0%|          | 0/1 [00:00<?, ?it/s]\u001b[A\n",
      "Validation DataLoader 0:   0%|          | 0/1 [00:00<?, ?it/s]\u001b[A\n",
      "\u001b[36m(train_linevd pid=14937)\u001b[0m \n",
      "Validation DataLoader 0: 100%|██████████| 1/1 [00:00<00:00,  4.58it/s]\u001b[A\n"
     ]
    },
    {
     "name": "stderr",
     "output_type": "stream",
     "text": [
      "\u001b[36m(train_linevd pid=14937)\u001b[0m Checkpoint successfully created at: Checkpoint(filesystem=local, path=/home/ubuntu/linevd/storage/processed/raytune_best_-1/202401100409_1fca96a_update_get_data.sh/tune_linevd/train_linevd_541e2_00000_0_batch_size=1024,embtype=codebert,gatdropout=0.2000,gnntype=gcn,gtype=pdg_raw,hdropout=0.3000,hfeat=512,_2024-01-10_04-09-08/checkpoint_000005)\n"
     ]
    },
    {
     "name": "stdout",
     "output_type": "stream",
     "text": [
      "\u001b[36m(train_linevd pid=14937)\u001b[0m \n",
      "Epoch 6:   0%|          | 0/4 [00:00<?, ?it/s, v_num=0, train_loss_step=0.804, train_acc=0.972, train_acc_func=0.404, train_mcc=0.220, val_loss_step=0.762, val_loss_epoch=0.762, val_auroc=0.777, val_acc=0.996, val_mcc=0.703, train_loss_epoch=0.822]        \n",
      "Epoch 6:  25%|██▌       | 1/4 [00:01<00:03,  0.99it/s, v_num=0, train_loss_step=0.765, train_acc=0.980, train_acc_func=0.399, train_mcc=0.217, val_loss_step=0.762, val_loss_epoch=0.762, val_auroc=0.777, val_acc=0.996, val_mcc=0.703, train_loss_epoch=0.822]\n",
      "Epoch 6:  50%|█████     | 2/4 [00:01<00:01,  1.32it/s, v_num=0, train_loss_step=0.819, train_acc=0.967, train_acc_func=0.396, train_mcc=0.163, val_loss_step=0.762, val_loss_epoch=0.762, val_auroc=0.777, val_acc=0.996, val_mcc=0.703, train_loss_epoch=0.822]\n",
      "Epoch 6:  75%|███████▌  | 3/4 [00:02<00:00,  1.48it/s, v_num=0, train_loss_step=0.805, train_acc=0.968, train_acc_func=0.378, train_mcc=0.166, val_loss_step=0.762, val_loss_epoch=0.762, val_auroc=0.777, val_acc=0.996, val_mcc=0.703, train_loss_epoch=0.822]\n",
      "Epoch 6: 100%|██████████| 4/4 [00:02<00:00,  1.67it/s, v_num=0, train_loss_step=0.782, train_acc=0.974, train_acc_func=0.389, train_mcc=0.226, val_loss_step=0.762, val_loss_epoch=0.762, val_auroc=0.777, val_acc=0.996, val_mcc=0.703, train_loss_epoch=0.822]\n",
      "\u001b[36m(train_linevd pid=14937)\u001b[0m \n",
      "Validation: |          | 0/? [00:00<?, ?it/s]\u001b[A\n",
      "\u001b[36m(train_linevd pid=14937)\u001b[0m \n",
      "Validation:   0%|          | 0/1 [00:00<?, ?it/s]\u001b[A\n",
      "Validation DataLoader 0:   0%|          | 0/1 [00:00<?, ?it/s]\u001b[A\n",
      "\u001b[36m(train_linevd pid=14937)\u001b[0m \n",
      "Validation DataLoader 0: 100%|██████████| 1/1 [00:00<00:00, 12.66it/s]\u001b[A\n"
     ]
    },
    {
     "name": "stderr",
     "output_type": "stream",
     "text": [
      "\u001b[36m(train_linevd pid=14937)\u001b[0m Checkpoint successfully created at: Checkpoint(filesystem=local, path=/home/ubuntu/linevd/storage/processed/raytune_best_-1/202401100409_1fca96a_update_get_data.sh/tune_linevd/train_linevd_541e2_00000_0_batch_size=1024,embtype=codebert,gatdropout=0.2000,gnntype=gcn,gtype=pdg_raw,hdropout=0.3000,hfeat=512,_2024-01-10_04-09-08/checkpoint_000006)\n"
     ]
    },
    {
     "name": "stdout",
     "output_type": "stream",
     "text": [
      "\u001b[36m(train_linevd pid=14937)\u001b[0m \n",
      "Epoch 7:   0%|          | 0/4 [00:00<?, ?it/s, v_num=0, train_loss_step=0.782, train_acc=0.974, train_acc_func=0.389, train_mcc=0.226, val_loss_step=0.834, val_loss_epoch=0.834, val_auroc=0.777, val_acc=0.996, val_mcc=0.703, train_loss_epoch=0.793]        \n",
      "Epoch 7:  25%|██▌       | 1/4 [00:00<00:02,  1.11it/s, v_num=0, train_loss_step=0.796, train_acc=0.970, train_acc_func=0.377, train_mcc=0.171, val_loss_step=0.834, val_loss_epoch=0.834, val_auroc=0.777, val_acc=0.996, val_mcc=0.703, train_loss_epoch=0.793]\n",
      "Epoch 7:  50%|█████     | 2/4 [00:01<00:01,  1.36it/s, v_num=0, train_loss_step=0.803, train_acc=0.974, train_acc_func=0.416, train_mcc=0.185, val_loss_step=0.834, val_loss_epoch=0.834, val_auroc=0.777, val_acc=0.996, val_mcc=0.703, train_loss_epoch=0.793]\n",
      "Epoch 7:  75%|███████▌  | 3/4 [00:02<00:00,  1.47it/s, v_num=0, train_loss_step=0.780, train_acc=0.974, train_acc_func=0.374, train_mcc=0.185, val_loss_step=0.834, val_loss_epoch=0.834, val_auroc=0.777, val_acc=0.996, val_mcc=0.703, train_loss_epoch=0.793]\n",
      "Epoch 7: 100%|██████████| 4/4 [00:03<00:00,  1.00it/s, v_num=0, train_loss_step=0.802, train_acc=0.971, train_acc_func=0.400, train_mcc=0.214, val_loss_step=0.834, val_loss_epoch=0.834, val_auroc=0.777, val_acc=0.996, val_mcc=0.703, train_loss_epoch=0.793]\n",
      "\u001b[36m(train_linevd pid=14937)\u001b[0m \n",
      "Validation: |          | 0/? [00:00<?, ?it/s]\u001b[A\n",
      "\u001b[36m(train_linevd pid=14937)\u001b[0m \n",
      "Validation:   0%|          | 0/1 [00:00<?, ?it/s]\u001b[A\n",
      "Validation DataLoader 0:   0%|          | 0/1 [00:00<?, ?it/s]\u001b[A\n",
      "\u001b[36m(train_linevd pid=14937)\u001b[0m \n",
      "Validation DataLoader 0: 100%|██████████| 1/1 [00:00<00:00,  7.66it/s]\u001b[A\n"
     ]
    },
    {
     "name": "stderr",
     "output_type": "stream",
     "text": [
      "\u001b[36m(train_linevd pid=14937)\u001b[0m Checkpoint successfully created at: Checkpoint(filesystem=local, path=/home/ubuntu/linevd/storage/processed/raytune_best_-1/202401100409_1fca96a_update_get_data.sh/tune_linevd/train_linevd_541e2_00000_0_batch_size=1024,embtype=codebert,gatdropout=0.2000,gnntype=gcn,gtype=pdg_raw,hdropout=0.3000,hfeat=512,_2024-01-10_04-09-08/checkpoint_000007)\n"
     ]
    },
    {
     "name": "stdout",
     "output_type": "stream",
     "text": [
      "\u001b[36m(train_linevd pid=14937)\u001b[0m \n",
      "Epoch 8:   0%|          | 0/4 [00:00<?, ?it/s, v_num=0, train_loss_step=0.802, train_acc=0.971, train_acc_func=0.400, train_mcc=0.214, val_loss_step=0.851, val_loss_epoch=0.851, val_auroc=0.777, val_acc=0.996, val_mcc=0.703, train_loss_epoch=0.795]        \n",
      "Epoch 8:  25%|██▌       | 1/4 [00:01<00:03,  0.94it/s, v_num=0, train_loss_step=0.804, train_acc=0.970, train_acc_func=0.403, train_mcc=0.171, val_loss_step=0.851, val_loss_epoch=0.851, val_auroc=0.777, val_acc=0.996, val_mcc=0.703, train_loss_epoch=0.795]\n",
      "Epoch 8:  50%|█████     | 2/4 [00:01<00:01,  1.30it/s, v_num=0, train_loss_step=0.792, train_acc=0.973, train_acc_func=0.396, train_mcc=0.181, val_loss_step=0.851, val_loss_epoch=0.851, val_auroc=0.777, val_acc=0.996, val_mcc=0.703, train_loss_epoch=0.795]\n",
      "Epoch 8:  75%|███████▌  | 3/4 [00:01<00:00,  1.52it/s, v_num=0, train_loss_step=0.780, train_acc=0.974, train_acc_func=0.386, train_mcc=0.185, val_loss_step=0.851, val_loss_epoch=0.851, val_auroc=0.777, val_acc=0.996, val_mcc=0.703, train_loss_epoch=0.795]\n",
      "Epoch 8: 100%|██████████| 4/4 [00:02<00:00,  1.46it/s, v_num=0, train_loss_step=0.782, train_acc=0.972, train_acc_func=0.372, train_mcc=0.220, val_loss_step=0.851, val_loss_epoch=0.851, val_auroc=0.777, val_acc=0.996, val_mcc=0.703, train_loss_epoch=0.795]\n",
      "\u001b[36m(train_linevd pid=14937)\u001b[0m \n",
      "Validation: |          | 0/? [00:00<?, ?it/s]\u001b[A\n",
      "\u001b[36m(train_linevd pid=14937)\u001b[0m \n",
      "Validation:   0%|          | 0/1 [00:00<?, ?it/s]\u001b[A\n",
      "Validation DataLoader 0:   0%|          | 0/1 [00:00<?, ?it/s]\u001b[A\n",
      "\u001b[36m(train_linevd pid=14937)\u001b[0m \n",
      "Validation DataLoader 0: 100%|██████████| 1/1 [00:00<00:00,  2.19it/s]\u001b[A\n"
     ]
    },
    {
     "name": "stderr",
     "output_type": "stream",
     "text": [
      "\u001b[36m(train_linevd pid=14937)\u001b[0m Checkpoint successfully created at: Checkpoint(filesystem=local, path=/home/ubuntu/linevd/storage/processed/raytune_best_-1/202401100409_1fca96a_update_get_data.sh/tune_linevd/train_linevd_541e2_00000_0_batch_size=1024,embtype=codebert,gatdropout=0.2000,gnntype=gcn,gtype=pdg_raw,hdropout=0.3000,hfeat=512,_2024-01-10_04-09-08/checkpoint_000008)\n"
     ]
    },
    {
     "name": "stdout",
     "output_type": "stream",
     "text": [
      "\u001b[36m(train_linevd pid=14937)\u001b[0m \n",
      "Epoch 9:   0%|          | 0/4 [00:00<?, ?it/s, v_num=0, train_loss_step=0.782, train_acc=0.972, train_acc_func=0.372, train_mcc=0.220, val_loss_step=0.828, val_loss_epoch=0.828, val_auroc=0.777, val_acc=0.996, val_mcc=0.703, train_loss_epoch=0.790]        \n",
      "Epoch 9:  25%|██▌       | 1/4 [00:00<00:02,  1.09it/s, v_num=0, train_loss_step=0.782, train_acc=0.973, train_acc_func=0.381, train_mcc=0.181, val_loss_step=0.828, val_loss_epoch=0.828, val_auroc=0.777, val_acc=0.996, val_mcc=0.703, train_loss_epoch=0.790]\n",
      "Epoch 9:  50%|█████     | 2/4 [00:01<00:01,  1.46it/s, v_num=0, train_loss_step=0.783, train_acc=0.975, train_acc_func=0.392, train_mcc=0.189, val_loss_step=0.828, val_loss_epoch=0.828, val_auroc=0.777, val_acc=0.996, val_mcc=0.703, train_loss_epoch=0.790]\n",
      "Epoch 9:  75%|███████▌  | 3/4 [00:01<00:00,  1.66it/s, v_num=0, train_loss_step=0.805, train_acc=0.969, train_acc_func=0.413, train_mcc=0.168, val_loss_step=0.828, val_loss_epoch=0.828, val_auroc=0.777, val_acc=0.996, val_mcc=0.703, train_loss_epoch=0.790]\n",
      "Epoch 9: 100%|██████████| 4/4 [00:02<00:00,  1.86it/s, v_num=0, train_loss_step=0.771, train_acc=0.972, train_acc_func=0.372, train_mcc=0.220, val_loss_step=0.828, val_loss_epoch=0.828, val_auroc=0.777, val_acc=0.996, val_mcc=0.703, train_loss_epoch=0.790]\n",
      "\u001b[36m(train_linevd pid=14937)\u001b[0m \n",
      "Validation: |          | 0/? [00:00<?, ?it/s]\u001b[A\n",
      "\u001b[36m(train_linevd pid=14937)\u001b[0m \n",
      "Validation:   0%|          | 0/1 [00:00<?, ?it/s]\u001b[A\n",
      "Validation DataLoader 0:   0%|          | 0/1 [00:00<?, ?it/s]\u001b[A\n",
      "\u001b[36m(train_linevd pid=14937)\u001b[0m \n",
      "Validation DataLoader 0: 100%|██████████| 1/1 [00:00<00:00, 12.29it/s]\u001b[A\n"
     ]
    },
    {
     "name": "stderr",
     "output_type": "stream",
     "text": [
      "\u001b[36m(train_linevd pid=14937)\u001b[0m Checkpoint successfully created at: Checkpoint(filesystem=local, path=/home/ubuntu/linevd/storage/processed/raytune_best_-1/202401100409_1fca96a_update_get_data.sh/tune_linevd/train_linevd_541e2_00000_0_batch_size=1024,embtype=codebert,gatdropout=0.2000,gnntype=gcn,gtype=pdg_raw,hdropout=0.3000,hfeat=512,_2024-01-10_04-09-08/checkpoint_000009)\n"
     ]
    },
    {
     "name": "stdout",
     "output_type": "stream",
     "text": [
      "\u001b[36m(train_linevd pid=14937)\u001b[0m \n",
      "Epoch 10:   0%|          | 0/4 [00:00<?, ?it/s, v_num=0, train_loss_step=0.771, train_acc=0.972, train_acc_func=0.372, train_mcc=0.220, val_loss_step=0.817, val_loss_epoch=0.817, val_auroc=0.777, val_acc=0.996, val_mcc=0.703, train_loss_epoch=0.785]       \n",
      "Epoch 10:  25%|██▌       | 1/4 [00:00<00:02,  1.15it/s, v_num=0, train_loss_step=0.775, train_acc=0.972, train_acc_func=0.380, train_mcc=0.178, val_loss_step=0.817, val_loss_epoch=0.817, val_auroc=0.777, val_acc=0.996, val_mcc=0.703, train_loss_epoch=0.785]\n",
      "Epoch 10:  50%|█████     | 2/4 [00:01<00:01,  1.51it/s, v_num=0, train_loss_step=0.763, train_acc=0.978, train_acc_func=0.405, train_mcc=0.201, val_loss_step=0.817, val_loss_epoch=0.817, val_auroc=0.777, val_acc=0.996, val_mcc=0.703, train_loss_epoch=0.785]\n",
      "Epoch 10:  75%|███████▌  | 3/4 [00:01<00:00,  1.66it/s, v_num=0, train_loss_step=0.792, train_acc=0.967, train_acc_func=0.384, train_mcc=0.163, val_loss_step=0.817, val_loss_epoch=0.817, val_auroc=0.777, val_acc=0.996, val_mcc=0.703, train_loss_epoch=0.785]\n",
      "Epoch 10: 100%|██████████| 4/4 [00:02<00:00,  1.82it/s, v_num=0, train_loss_step=0.782, train_acc=0.972, train_acc_func=0.397, train_mcc=0.220, val_loss_step=0.817, val_loss_epoch=0.817, val_auroc=0.777, val_acc=0.996, val_mcc=0.703, train_loss_epoch=0.785]\n",
      "\u001b[36m(train_linevd pid=14937)\u001b[0m \n",
      "Validation: |          | 0/? [00:00<?, ?it/s]\u001b[A\n",
      "\u001b[36m(train_linevd pid=14937)\u001b[0m \n",
      "Validation:   0%|          | 0/1 [00:00<?, ?it/s]\u001b[A\n",
      "Validation DataLoader 0:   0%|          | 0/1 [00:00<?, ?it/s]\u001b[A\n",
      "\u001b[36m(train_linevd pid=14937)\u001b[0m \n",
      "Validation DataLoader 0: 100%|██████████| 1/1 [00:00<00:00,  1.36it/s]\u001b[A\n"
     ]
    },
    {
     "name": "stderr",
     "output_type": "stream",
     "text": [
      "\u001b[36m(train_linevd pid=14937)\u001b[0m Checkpoint successfully created at: Checkpoint(filesystem=local, path=/home/ubuntu/linevd/storage/processed/raytune_best_-1/202401100409_1fca96a_update_get_data.sh/tune_linevd/train_linevd_541e2_00000_0_batch_size=1024,embtype=codebert,gatdropout=0.2000,gnntype=gcn,gtype=pdg_raw,hdropout=0.3000,hfeat=512,_2024-01-10_04-09-08/checkpoint_000010)\n"
     ]
    },
    {
     "name": "stdout",
     "output_type": "stream",
     "text": [
      "\u001b[36m(train_linevd pid=14937)\u001b[0m \n",
      "Epoch 11:   0%|          | 0/4 [00:00<?, ?it/s, v_num=0, train_loss_step=0.782, train_acc=0.972, train_acc_func=0.397, train_mcc=0.220, val_loss_step=0.810, val_loss_epoch=0.810, val_auroc=0.777, val_acc=0.996, val_mcc=0.703, train_loss_epoch=0.778]        \n",
      "Epoch 11:  25%|██▌       | 1/4 [00:00<00:02,  1.19it/s, v_num=0, train_loss_step=0.787, train_acc=0.967, train_acc_func=0.378, train_mcc=0.163, val_loss_step=0.810, val_loss_epoch=0.810, val_auroc=0.777, val_acc=0.996, val_mcc=0.703, train_loss_epoch=0.778]\n",
      "Epoch 11:  50%|█████     | 2/4 [00:01<00:01,  1.49it/s, v_num=0, train_loss_step=0.775, train_acc=0.972, train_acc_func=0.399, train_mcc=0.178, val_loss_step=0.810, val_loss_epoch=0.810, val_auroc=0.777, val_acc=0.996, val_mcc=0.703, train_loss_epoch=0.778]\n",
      "Epoch 11:  75%|███████▌  | 3/4 [00:01<00:00,  1.63it/s, v_num=0, train_loss_step=0.763, train_acc=0.971, train_acc_func=0.393, train_mcc=0.174, val_loss_step=0.810, val_loss_epoch=0.810, val_auroc=0.777, val_acc=0.996, val_mcc=0.703, train_loss_epoch=0.778]\n",
      "Epoch 11: 100%|██████████| 4/4 [00:02<00:00,  1.81it/s, v_num=0, train_loss_step=0.728, train_acc=0.982, train_acc_func=0.395, train_mcc=0.281, val_loss_step=0.810, val_loss_epoch=0.810, val_auroc=0.777, val_acc=0.996, val_mcc=0.703, train_loss_epoch=0.778]\n",
      "\u001b[36m(train_linevd pid=14937)\u001b[0m \n",
      "Validation: |          | 0/? [00:00<?, ?it/s]\u001b[A\n",
      "\u001b[36m(train_linevd pid=14937)\u001b[0m \n",
      "Validation:   0%|          | 0/1 [00:00<?, ?it/s]\u001b[A\n",
      "Validation DataLoader 0:   0%|          | 0/1 [00:00<?, ?it/s]\u001b[A\n",
      "Validation DataLoader 0: 100%|██████████| 1/1 [00:00<00:00, 13.66it/s]\u001b[A\n"
     ]
    },
    {
     "name": "stderr",
     "output_type": "stream",
     "text": [
      "\u001b[36m(train_linevd pid=14937)\u001b[0m Checkpoint successfully created at: Checkpoint(filesystem=local, path=/home/ubuntu/linevd/storage/processed/raytune_best_-1/202401100409_1fca96a_update_get_data.sh/tune_linevd/train_linevd_541e2_00000_0_batch_size=1024,embtype=codebert,gatdropout=0.2000,gnntype=gcn,gtype=pdg_raw,hdropout=0.3000,hfeat=512,_2024-01-10_04-09-08/checkpoint_000011)\n"
     ]
    },
    {
     "name": "stdout",
     "output_type": "stream",
     "text": [
      "\u001b[36m(train_linevd pid=14937)\u001b[0m \n",
      "Epoch 12:   0%|          | 0/4 [00:00<?, ?it/s, v_num=0, train_loss_step=0.728, train_acc=0.982, train_acc_func=0.395, train_mcc=0.281, val_loss_step=0.789, val_loss_epoch=0.789, val_auroc=0.777, val_acc=0.996, val_mcc=0.703, train_loss_epoch=0.763]        \n",
      "Epoch 12:  25%|██▌       | 1/4 [00:00<00:02,  1.13it/s, v_num=0, train_loss_step=0.757, train_acc=0.973, train_acc_func=0.404, train_mcc=0.181, val_loss_step=0.789, val_loss_epoch=0.789, val_auroc=0.777, val_acc=0.996, val_mcc=0.703, train_loss_epoch=0.763]\n",
      "Epoch 12:  50%|█████     | 2/4 [00:01<00:01,  1.28it/s, v_num=0, train_loss_step=0.784, train_acc=0.965, train_acc_func=0.396, train_mcc=0.158, val_loss_step=0.789, val_loss_epoch=0.789, val_auroc=0.777, val_acc=0.996, val_mcc=0.703, train_loss_epoch=0.763]\n",
      "Epoch 12:  75%|███████▌  | 3/4 [00:03<00:01,  0.84it/s, v_num=0, train_loss_step=0.734, train_acc=0.975, train_acc_func=0.368, train_mcc=0.189, val_loss_step=0.789, val_loss_epoch=0.789, val_auroc=0.777, val_acc=0.996, val_mcc=0.703, train_loss_epoch=0.763]\n",
      "Epoch 12: 100%|██████████| 4/4 [00:03<00:00,  1.02it/s, v_num=0, train_loss_step=0.715, train_acc=0.978, train_acc_func=0.398, train_mcc=0.250, val_loss_step=0.789, val_loss_epoch=0.789, val_auroc=0.777, val_acc=0.996, val_mcc=0.703, train_loss_epoch=0.763]\n",
      "Validation: |          | 0/? [00:00<?, ?it/s]\u001b[A\n",
      "\u001b[36m(train_linevd pid=14937)\u001b[0m \n",
      "Validation:   0%|          | 0/1 [00:00<?, ?it/s]\u001b[A\n",
      "Validation DataLoader 0:   0%|          | 0/1 [00:00<?, ?it/s]\u001b[A\n",
      "\u001b[36m(train_linevd pid=14937)\u001b[0m \n",
      "Validation DataLoader 0: 100%|██████████| 1/1 [00:00<00:00, 14.26it/s]\u001b[A\n"
     ]
    },
    {
     "name": "stderr",
     "output_type": "stream",
     "text": [
      "\u001b[36m(train_linevd pid=14937)\u001b[0m Checkpoint successfully created at: Checkpoint(filesystem=local, path=/home/ubuntu/linevd/storage/processed/raytune_best_-1/202401100409_1fca96a_update_get_data.sh/tune_linevd/train_linevd_541e2_00000_0_batch_size=1024,embtype=codebert,gatdropout=0.2000,gnntype=gcn,gtype=pdg_raw,hdropout=0.3000,hfeat=512,_2024-01-10_04-09-08/checkpoint_000012)\n"
     ]
    },
    {
     "name": "stdout",
     "output_type": "stream",
     "text": [
      "\u001b[36m(train_linevd pid=14937)\u001b[0m \n",
      "Epoch 13:   0%|          | 0/4 [00:00<?, ?it/s, v_num=0, train_loss_step=0.715, train_acc=0.978, train_acc_func=0.398, train_mcc=0.250, val_loss_step=0.794, val_loss_epoch=0.794, val_auroc=0.777, val_acc=0.996, val_mcc=0.703, train_loss_epoch=0.747]        \n",
      "Epoch 13:  25%|██▌       | 1/4 [00:00<00:02,  1.25it/s, v_num=0, train_loss_step=0.727, train_acc=0.974, train_acc_func=0.396, train_mcc=0.185, val_loss_step=0.794, val_loss_epoch=0.794, val_auroc=0.777, val_acc=0.996, val_mcc=0.703, train_loss_epoch=0.747]\n",
      "Epoch 13:  50%|█████     | 2/4 [00:01<00:01,  1.58it/s, v_num=0, train_loss_step=0.708, train_acc=0.978, train_acc_func=0.401, train_mcc=0.201, val_loss_step=0.794, val_loss_epoch=0.794, val_auroc=0.777, val_acc=0.996, val_mcc=0.703, train_loss_epoch=0.747]\n",
      "Epoch 13:  75%|███████▌  | 3/4 [00:01<00:00,  1.71it/s, v_num=0, train_loss_step=0.714, train_acc=0.973, train_acc_func=0.374, train_mcc=0.181, val_loss_step=0.794, val_loss_epoch=0.794, val_auroc=0.777, val_acc=0.996, val_mcc=0.703, train_loss_epoch=0.747]\n",
      "Epoch 13: 100%|██████████| 4/4 [00:02<00:00,  1.85it/s, v_num=0, train_loss_step=0.771, train_acc=0.960, train_acc_func=0.392, train_mcc=0.181, val_loss_step=0.794, val_loss_epoch=0.794, val_auroc=0.777, val_acc=0.996, val_mcc=0.703, train_loss_epoch=0.747]\n",
      "Validation: |          | 0/? [00:00<?, ?it/s]\u001b[A\n",
      "\u001b[36m(train_linevd pid=14937)\u001b[0m \n",
      "Validation:   0%|          | 0/1 [00:00<?, ?it/s]\u001b[A\n",
      "Validation DataLoader 0:   0%|          | 0/1 [00:00<?, ?it/s]\u001b[A\n",
      "Validation DataLoader 0: 100%|██████████| 1/1 [00:00<00:00, 11.47it/s]\u001b[A\n"
     ]
    },
    {
     "name": "stderr",
     "output_type": "stream",
     "text": [
      "\u001b[36m(train_linevd pid=14937)\u001b[0m Checkpoint successfully created at: Checkpoint(filesystem=local, path=/home/ubuntu/linevd/storage/processed/raytune_best_-1/202401100409_1fca96a_update_get_data.sh/tune_linevd/train_linevd_541e2_00000_0_batch_size=1024,embtype=codebert,gatdropout=0.2000,gnntype=gcn,gtype=pdg_raw,hdropout=0.3000,hfeat=512,_2024-01-10_04-09-08/checkpoint_000013)\n"
     ]
    },
    {
     "name": "stdout",
     "output_type": "stream",
     "text": [
      "\u001b[36m(train_linevd pid=14937)\u001b[0m \n",
      "Epoch 14:   0%|          | 0/4 [00:00<?, ?it/s, v_num=0, train_loss_step=0.771, train_acc=0.960, train_acc_func=0.392, train_mcc=0.181, val_loss_step=0.828, val_loss_epoch=0.828, val_auroc=0.777, val_acc=0.996, val_mcc=0.703, train_loss_epoch=0.730]        \n",
      "Epoch 14:  25%|██▌       | 1/4 [00:02<00:08,  0.37it/s, v_num=0, train_loss_step=0.723, train_acc=0.965, train_acc_func=0.382, train_mcc=0.158, val_loss_step=0.828, val_loss_epoch=0.828, val_auroc=0.777, val_acc=0.996, val_mcc=0.703, train_loss_epoch=0.730]\n",
      "Epoch 14:  50%|█████     | 2/4 [00:03<00:03,  0.64it/s, v_num=0, train_loss_step=0.674, train_acc=0.975, train_acc_func=0.380, train_mcc=0.189, val_loss_step=0.828, val_loss_epoch=0.828, val_auroc=0.777, val_acc=0.996, val_mcc=0.703, train_loss_epoch=0.730]\n",
      "Epoch 14:  75%|███████▌  | 3/4 [00:03<00:01,  0.84it/s, v_num=0, train_loss_step=0.670, train_acc=0.975, train_acc_func=0.395, train_mcc=0.189, val_loss_step=0.828, val_loss_epoch=0.828, val_auroc=0.777, val_acc=0.996, val_mcc=0.703, train_loss_epoch=0.730]\n",
      "Epoch 14: 100%|██████████| 4/4 [00:03<00:00,  1.02it/s, v_num=0, train_loss_step=0.652, train_acc=0.975, train_acc_func=0.416, train_mcc=0.233, val_loss_step=0.828, val_loss_epoch=0.828, val_auroc=0.777, val_acc=0.996, val_mcc=0.703, train_loss_epoch=0.730]\n",
      "\u001b[36m(train_linevd pid=14937)\u001b[0m \n",
      "Validation: |          | 0/? [00:00<?, ?it/s]\u001b[A\n",
      "\u001b[36m(train_linevd pid=14937)\u001b[0m \n",
      "Validation:   0%|          | 0/1 [00:00<?, ?it/s]\u001b[A\n",
      "Validation DataLoader 0:   0%|          | 0/1 [00:00<?, ?it/s]\u001b[A\n",
      "\u001b[36m(train_linevd pid=14937)\u001b[0m \n",
      "Validation DataLoader 0: 100%|██████████| 1/1 [00:00<00:00, 14.32it/s]\u001b[A\n"
     ]
    },
    {
     "name": "stderr",
     "output_type": "stream",
     "text": [
      "\u001b[36m(train_linevd pid=14937)\u001b[0m Checkpoint successfully created at: Checkpoint(filesystem=local, path=/home/ubuntu/linevd/storage/processed/raytune_best_-1/202401100409_1fca96a_update_get_data.sh/tune_linevd/train_linevd_541e2_00000_0_batch_size=1024,embtype=codebert,gatdropout=0.2000,gnntype=gcn,gtype=pdg_raw,hdropout=0.3000,hfeat=512,_2024-01-10_04-09-08/checkpoint_000014)\n"
     ]
    },
    {
     "name": "stdout",
     "output_type": "stream",
     "text": [
      "\u001b[36m(train_linevd pid=14937)\u001b[0m \n",
      "Epoch 15:   0%|          | 0/4 [00:00<?, ?it/s, v_num=0, train_loss_step=0.652, train_acc=0.975, train_acc_func=0.416, train_mcc=0.233, val_loss_step=0.838, val_loss_epoch=0.838, val_auroc=0.777, val_acc=0.996, val_mcc=0.703, train_loss_epoch=0.680]        \n",
      "Epoch 15:  25%|██▌       | 1/4 [00:00<00:02,  1.27it/s, v_num=0, train_loss_step=0.636, train_acc=0.974, train_acc_func=0.404, train_mcc=0.185, val_loss_step=0.838, val_loss_epoch=0.838, val_auroc=0.777, val_acc=0.996, val_mcc=0.703, train_loss_epoch=0.680]\n",
      "Epoch 15:  50%|█████     | 2/4 [00:01<00:01,  1.60it/s, v_num=0, train_loss_step=0.572, train_acc=0.980, train_acc_func=0.386, train_mcc=0.217, val_loss_step=0.838, val_loss_epoch=0.838, val_auroc=0.777, val_acc=0.996, val_mcc=0.703, train_loss_epoch=0.680]\n",
      "Epoch 15:  75%|███████▌  | 3/4 [00:01<00:00,  1.79it/s, v_num=0, train_loss_step=0.614, train_acc=0.971, train_acc_func=0.373, train_mcc=0.174, val_loss_step=0.838, val_loss_epoch=0.838, val_auroc=0.777, val_acc=0.996, val_mcc=0.703, train_loss_epoch=0.680]\n",
      "Epoch 15: 100%|██████████| 4/4 [00:02<00:00,  2.00it/s, v_num=0, train_loss_step=0.663, train_acc=0.959, train_acc_func=0.406, train_mcc=0.177, val_loss_step=0.838, val_loss_epoch=0.838, val_auroc=0.777, val_acc=0.996, val_mcc=0.703, train_loss_epoch=0.680]\n",
      "\u001b[36m(train_linevd pid=14937)\u001b[0m \n",
      "Validation: |          | 0/? [00:00<?, ?it/s]\u001b[A\n",
      "\u001b[36m(train_linevd pid=14937)\u001b[0m \n",
      "Validation:   0%|          | 0/1 [00:00<?, ?it/s]\u001b[A\n",
      "Validation DataLoader 0:   0%|          | 0/1 [00:00<?, ?it/s]\u001b[A\n",
      "\u001b[36m(train_linevd pid=14937)\u001b[0m \n",
      "Validation DataLoader 0: 100%|██████████| 1/1 [00:00<00:00,  3.01it/s]\u001b[A\n"
     ]
    },
    {
     "name": "stderr",
     "output_type": "stream",
     "text": [
      "\u001b[36m(train_linevd pid=14937)\u001b[0m Checkpoint successfully created at: Checkpoint(filesystem=local, path=/home/ubuntu/linevd/storage/processed/raytune_best_-1/202401100409_1fca96a_update_get_data.sh/tune_linevd/train_linevd_541e2_00000_0_batch_size=1024,embtype=codebert,gatdropout=0.2000,gnntype=gcn,gtype=pdg_raw,hdropout=0.3000,hfeat=512,_2024-01-10_04-09-08/checkpoint_000015)\n"
     ]
    },
    {
     "name": "stdout",
     "output_type": "stream",
     "text": [
      "\u001b[36m(train_linevd pid=14937)\u001b[0m \n",
      "Epoch 16:   0%|          | 0/4 [00:00<?, ?it/s, v_num=0, train_loss_step=0.663, train_acc=0.959, train_acc_func=0.406, train_mcc=0.177, val_loss_step=0.963, val_loss_epoch=0.963, val_auroc=0.777, val_acc=0.996, val_mcc=0.703, train_loss_epoch=0.621]        \n",
      "Epoch 16:  25%|██▌       | 1/4 [00:01<00:03,  0.87it/s, v_num=0, train_loss_step=0.583, train_acc=0.967, train_acc_func=0.402, train_mcc=0.163, val_loss_step=0.963, val_loss_epoch=0.963, val_auroc=0.777, val_acc=0.996, val_mcc=0.703, train_loss_epoch=0.621]\n",
      "Epoch 16:  50%|█████     | 2/4 [00:01<00:01,  1.24it/s, v_num=0, train_loss_step=0.570, train_acc=0.971, train_acc_func=0.390, train_mcc=0.174, val_loss_step=0.963, val_loss_epoch=0.963, val_auroc=0.777, val_acc=0.996, val_mcc=0.703, train_loss_epoch=0.621]\n",
      "Epoch 16:  75%|███████▌  | 3/4 [00:02<00:00,  1.47it/s, v_num=0, train_loss_step=0.586, train_acc=0.968, train_acc_func=0.391, train_mcc=0.166, val_loss_step=0.963, val_loss_epoch=0.963, val_auroc=0.777, val_acc=0.996, val_mcc=0.703, train_loss_epoch=0.621]\n",
      "Epoch 16: 100%|██████████| 4/4 [00:02<00:00,  1.69it/s, v_num=0, train_loss_step=0.406, train_acc=0.988, train_acc_func=0.376, train_mcc=0.347, val_loss_step=0.963, val_loss_epoch=0.963, val_auroc=0.777, val_acc=0.996, val_mcc=0.703, train_loss_epoch=0.621]\n",
      "\u001b[36m(train_linevd pid=14937)\u001b[0m \n",
      "Validation: |          | 0/? [00:00<?, ?it/s]\u001b[A\n",
      "\u001b[36m(train_linevd pid=14937)\u001b[0m \n",
      "Validation:   0%|          | 0/1 [00:00<?, ?it/s]\u001b[A\n",
      "Validation DataLoader 0:   0%|          | 0/1 [00:00<?, ?it/s]\u001b[A\n",
      "Validation DataLoader 0: 100%|██████████| 1/1 [00:00<00:00, 14.85it/s]\u001b[A\n"
     ]
    },
    {
     "name": "stderr",
     "output_type": "stream",
     "text": [
      "\u001b[36m(train_linevd pid=14937)\u001b[0m Checkpoint successfully created at: Checkpoint(filesystem=local, path=/home/ubuntu/linevd/storage/processed/raytune_best_-1/202401100409_1fca96a_update_get_data.sh/tune_linevd/train_linevd_541e2_00000_0_batch_size=1024,embtype=codebert,gatdropout=0.2000,gnntype=gcn,gtype=pdg_raw,hdropout=0.3000,hfeat=512,_2024-01-10_04-09-08/checkpoint_000016)\n"
     ]
    },
    {
     "name": "stdout",
     "output_type": "stream",
     "text": [
      "\u001b[36m(train_linevd pid=14937)\u001b[0m \n",
      "Epoch 17:   0%|          | 0/4 [00:00<?, ?it/s, v_num=0, train_loss_step=0.406, train_acc=0.988, train_acc_func=0.376, train_mcc=0.347, val_loss_step=1.230, val_loss_epoch=1.230, val_auroc=0.777, val_acc=0.996, val_mcc=0.703, train_loss_epoch=0.536]        \n",
      "Epoch 17:  25%|██▌       | 1/4 [00:00<00:02,  1.07it/s, v_num=0, train_loss_step=0.510, train_acc=0.970, train_acc_func=0.373, train_mcc=0.171, val_loss_step=1.230, val_loss_epoch=1.230, val_auroc=0.777, val_acc=0.996, val_mcc=0.703, train_loss_epoch=0.536]\n",
      "Epoch 17:  50%|█████     | 2/4 [00:02<00:02,  0.69it/s, v_num=0, train_loss_step=0.455, train_acc=0.977, train_acc_func=0.416, train_mcc=0.197, val_loss_step=1.230, val_loss_epoch=1.230, val_auroc=0.777, val_acc=0.996, val_mcc=0.703, train_loss_epoch=0.536]\n",
      "Epoch 17:  75%|███████▌  | 3/4 [00:03<00:01,  0.91it/s, v_num=0, train_loss_step=0.476, train_acc=0.970, train_acc_func=0.380, train_mcc=0.171, val_loss_step=1.230, val_loss_epoch=1.230, val_auroc=0.777, val_acc=0.996, val_mcc=0.703, train_loss_epoch=0.536]\n",
      "Epoch 17: 100%|██████████| 4/4 [00:03<00:00,  1.09it/s, v_num=0, train_loss_step=0.467, train_acc=0.972, train_acc_func=0.397, train_mcc=0.220, val_loss_step=1.230, val_loss_epoch=1.230, val_auroc=0.777, val_acc=0.996, val_mcc=0.703, train_loss_epoch=0.536]\n",
      "Validation: |          | 0/? [00:00<?, ?it/s]\u001b[A\n",
      "\u001b[36m(train_linevd pid=14937)\u001b[0m \n",
      "Validation:   0%|          | 0/1 [00:00<?, ?it/s]\u001b[A\n",
      "Validation DataLoader 0:   0%|          | 0/1 [00:00<?, ?it/s]\u001b[A\n",
      "\u001b[36m(train_linevd pid=14937)\u001b[0m \n",
      "Validation DataLoader 0: 100%|██████████| 1/1 [00:00<00:00, 12.29it/s]\u001b[A\n"
     ]
    },
    {
     "name": "stderr",
     "output_type": "stream",
     "text": [
      "\u001b[36m(train_linevd pid=14937)\u001b[0m Checkpoint successfully created at: Checkpoint(filesystem=local, path=/home/ubuntu/linevd/storage/processed/raytune_best_-1/202401100409_1fca96a_update_get_data.sh/tune_linevd/train_linevd_541e2_00000_0_batch_size=1024,embtype=codebert,gatdropout=0.2000,gnntype=gcn,gtype=pdg_raw,hdropout=0.3000,hfeat=512,_2024-01-10_04-09-08/checkpoint_000017)\n"
     ]
    },
    {
     "name": "stdout",
     "output_type": "stream",
     "text": [
      "\u001b[36m(train_linevd pid=14937)\u001b[0m \n",
      "Epoch 18:   0%|          | 0/4 [00:00<?, ?it/s, v_num=0, train_loss_step=0.467, train_acc=0.972, train_acc_func=0.397, train_mcc=0.220, val_loss_step=1.500, val_loss_epoch=1.500, val_auroc=0.773, val_acc=0.996, val_mcc=0.703, train_loss_epoch=0.477]        \n",
      "Epoch 18:  25%|██▌       | 1/4 [00:00<00:02,  1.12it/s, v_num=0, train_loss_step=0.400, train_acc=0.978, train_acc_func=0.386, train_mcc=0.201, val_loss_step=1.500, val_loss_epoch=1.500, val_auroc=0.773, val_acc=0.996, val_mcc=0.703, train_loss_epoch=0.477]\n",
      "Epoch 18:  50%|█████     | 2/4 [00:01<00:01,  1.46it/s, v_num=0, train_loss_step=0.478, train_acc=0.968, train_acc_func=0.377, train_mcc=0.166, val_loss_step=1.500, val_loss_epoch=1.500, val_auroc=0.773, val_acc=0.996, val_mcc=0.703, train_loss_epoch=0.477]\n",
      "Epoch 18:  75%|███████▌  | 3/4 [00:01<00:00,  1.65it/s, v_num=0, train_loss_step=0.410, train_acc=0.970, train_acc_func=0.411, train_mcc=0.171, val_loss_step=1.500, val_loss_epoch=1.500, val_auroc=0.773, val_acc=0.996, val_mcc=0.703, train_loss_epoch=0.477]\n",
      "Epoch 18: 100%|██████████| 4/4 [00:02<00:00,  1.80it/s, v_num=0, train_loss_step=0.409, train_acc=0.974, train_acc_func=0.389, train_mcc=0.226, val_loss_step=1.500, val_loss_epoch=1.500, val_auroc=0.773, val_acc=0.996, val_mcc=0.703, train_loss_epoch=0.477]\n",
      "Validation: |          | 0/? [00:00<?, ?it/s]\u001b[A\n",
      "\u001b[36m(train_linevd pid=14937)\u001b[0m \n",
      "Validation:   0%|          | 0/1 [00:00<?, ?it/s]\u001b[A\n",
      "Validation DataLoader 0:   0%|          | 0/1 [00:00<?, ?it/s]\u001b[A\n",
      "\u001b[36m(train_linevd pid=14937)\u001b[0m \n",
      "Validation DataLoader 0: 100%|██████████| 1/1 [00:00<00:00, 12.60it/s]\u001b[A\n"
     ]
    },
    {
     "name": "stderr",
     "output_type": "stream",
     "text": [
      "\u001b[36m(train_linevd pid=14937)\u001b[0m Checkpoint successfully created at: Checkpoint(filesystem=local, path=/home/ubuntu/linevd/storage/processed/raytune_best_-1/202401100409_1fca96a_update_get_data.sh/tune_linevd/train_linevd_541e2_00000_0_batch_size=1024,embtype=codebert,gatdropout=0.2000,gnntype=gcn,gtype=pdg_raw,hdropout=0.3000,hfeat=512,_2024-01-10_04-09-08/checkpoint_000018)\n"
     ]
    },
    {
     "name": "stdout",
     "output_type": "stream",
     "text": [
      "\u001b[36m(train_linevd pid=14937)\u001b[0m \n",
      "Epoch 19:   0%|          | 0/4 [00:00<?, ?it/s, v_num=0, train_loss_step=0.409, train_acc=0.974, train_acc_func=0.389, train_mcc=0.226, val_loss_step=2.000, val_loss_epoch=2.000, val_auroc=0.448, val_acc=0.996, val_mcc=0.703, train_loss_epoch=0.424]        \n",
      "Epoch 19:  25%|██▌       | 1/4 [00:02<00:07,  0.38it/s, v_num=0, train_loss_step=0.378, train_acc=0.971, train_acc_func=0.396, train_mcc=0.174, val_loss_step=2.000, val_loss_epoch=2.000, val_auroc=0.448, val_acc=0.996, val_mcc=0.703, train_loss_epoch=0.424]\n",
      "Epoch 19:  50%|█████     | 2/4 [00:03<00:03,  0.65it/s, v_num=0, train_loss_step=0.340, train_acc=0.979, train_acc_func=0.382, train_mcc=0.211, val_loss_step=2.000, val_loss_epoch=2.000, val_auroc=0.448, val_acc=0.996, val_mcc=0.703, train_loss_epoch=0.424]\n",
      "Epoch 19:  75%|███████▌  | 3/4 [00:03<00:01,  0.85it/s, v_num=0, train_loss_step=0.373, train_acc=0.969, train_acc_func=0.393, train_mcc=0.168, val_loss_step=2.000, val_loss_epoch=2.000, val_auroc=0.448, val_acc=0.996, val_mcc=0.703, train_loss_epoch=0.424]\n",
      "Epoch 19: 100%|██████████| 4/4 [00:03<00:00,  1.03it/s, v_num=0, train_loss_step=0.380, train_acc=0.968, train_acc_func=0.395, train_mcc=0.203, val_loss_step=2.000, val_loss_epoch=2.000, val_auroc=0.448, val_acc=0.996, val_mcc=0.703, train_loss_epoch=0.424]\n",
      "\u001b[36m(train_linevd pid=14937)\u001b[0m \n",
      "Validation: |          | 0/? [00:00<?, ?it/s]\u001b[A\n",
      "\u001b[36m(train_linevd pid=14937)\u001b[0m \n",
      "Validation:   0%|          | 0/1 [00:00<?, ?it/s]\u001b[A\n",
      "Validation DataLoader 0:   0%|          | 0/1 [00:00<?, ?it/s]\u001b[A\n",
      "\u001b[36m(train_linevd pid=14937)\u001b[0m \n",
      "Validation DataLoader 0: 100%|██████████| 1/1 [00:00<00:00, 10.35it/s]\u001b[A\n"
     ]
    },
    {
     "name": "stderr",
     "output_type": "stream",
     "text": [
      "\u001b[36m(train_linevd pid=14937)\u001b[0m Checkpoint successfully created at: Checkpoint(filesystem=local, path=/home/ubuntu/linevd/storage/processed/raytune_best_-1/202401100409_1fca96a_update_get_data.sh/tune_linevd/train_linevd_541e2_00000_0_batch_size=1024,embtype=codebert,gatdropout=0.2000,gnntype=gcn,gtype=pdg_raw,hdropout=0.3000,hfeat=512,_2024-01-10_04-09-08/checkpoint_000019)\n"
     ]
    },
    {
     "name": "stdout",
     "output_type": "stream",
     "text": [
      "\u001b[36m(train_linevd pid=14937)\u001b[0m \n",
      "Epoch 20:   0%|          | 0/4 [00:00<?, ?it/s, v_num=0, train_loss_step=0.380, train_acc=0.968, train_acc_func=0.395, train_mcc=0.203, val_loss_step=2.380, val_loss_epoch=2.380, val_auroc=0.220, val_acc=0.996, val_mcc=0.703, train_loss_epoch=0.368]        \n",
      "Epoch 20:  25%|██▌       | 1/4 [00:00<00:02,  1.11it/s, v_num=0, train_loss_step=0.334, train_acc=0.975, train_acc_func=0.379, train_mcc=0.189, val_loss_step=2.380, val_loss_epoch=2.380, val_auroc=0.220, val_acc=0.996, val_mcc=0.703, train_loss_epoch=0.368]\n",
      "Epoch 20:  50%|█████     | 2/4 [00:01<00:01,  1.43it/s, v_num=0, train_loss_step=0.318, train_acc=0.974, train_acc_func=0.402, train_mcc=0.185, val_loss_step=2.380, val_loss_epoch=2.380, val_auroc=0.220, val_acc=0.996, val_mcc=0.703, train_loss_epoch=0.368]\n",
      "Epoch 20:  75%|███████▌  | 3/4 [00:01<00:00,  1.58it/s, v_num=0, train_loss_step=0.368, train_acc=0.975, train_acc_func=0.397, train_mcc=0.189, val_loss_step=2.380, val_loss_epoch=2.380, val_auroc=0.220, val_acc=0.996, val_mcc=0.703, train_loss_epoch=0.368]\n",
      "Epoch 20: 100%|██████████| 4/4 [00:02<00:00,  1.74it/s, v_num=0, train_loss_step=0.322, train_acc=0.962, train_acc_func=0.382, train_mcc=0.185, val_loss_step=2.380, val_loss_epoch=2.380, val_auroc=0.220, val_acc=0.996, val_mcc=0.703, train_loss_epoch=0.368]\n",
      "Validation: |          | 0/? [00:00<?, ?it/s]\u001b[A\n",
      "\u001b[36m(train_linevd pid=14937)\u001b[0m \n",
      "Validation:   0%|          | 0/1 [00:00<?, ?it/s]\u001b[A\n",
      "Validation DataLoader 0:   0%|          | 0/1 [00:00<?, ?it/s]\u001b[A\n",
      "\u001b[36m(train_linevd pid=14937)\u001b[0m \n",
      "Validation DataLoader 0: 100%|██████████| 1/1 [00:00<00:00, 10.42it/s]\u001b[A\n"
     ]
    },
    {
     "name": "stderr",
     "output_type": "stream",
     "text": [
      "\u001b[36m(train_linevd pid=14937)\u001b[0m Checkpoint successfully created at: Checkpoint(filesystem=local, path=/home/ubuntu/linevd/storage/processed/raytune_best_-1/202401100409_1fca96a_update_get_data.sh/tune_linevd/train_linevd_541e2_00000_0_batch_size=1024,embtype=codebert,gatdropout=0.2000,gnntype=gcn,gtype=pdg_raw,hdropout=0.3000,hfeat=512,_2024-01-10_04-09-08/checkpoint_000020)\n"
     ]
    },
    {
     "name": "stdout",
     "output_type": "stream",
     "text": [
      "\u001b[36m(train_linevd pid=14937)\u001b[0m \n",
      "Epoch 21:   0%|          | 0/4 [00:00<?, ?it/s, v_num=0, train_loss_step=0.322, train_acc=0.962, train_acc_func=0.382, train_mcc=0.185, val_loss_step=3.290, val_loss_epoch=3.290, val_auroc=0.235, val_acc=0.996, val_mcc=0.703, train_loss_epoch=0.335]        \n",
      "Epoch 21:  25%|██▌       | 1/4 [00:02<00:08,  0.37it/s, v_num=0, train_loss_step=0.413, train_acc=0.970, train_acc_func=0.401, train_mcc=0.171, val_loss_step=3.290, val_loss_epoch=3.290, val_auroc=0.235, val_acc=0.996, val_mcc=0.703, train_loss_epoch=0.335]\n",
      "Epoch 21:  50%|█████     | 2/4 [00:03<00:03,  0.60it/s, v_num=0, train_loss_step=0.295, train_acc=0.968, train_acc_func=0.372, train_mcc=0.166, val_loss_step=3.290, val_loss_epoch=3.290, val_auroc=0.235, val_acc=0.996, val_mcc=0.703, train_loss_epoch=0.335]\n",
      "Epoch 21:  75%|███████▌  | 3/4 [00:03<00:01,  0.78it/s, v_num=0, train_loss_step=0.278, train_acc=0.979, train_acc_func=0.408, train_mcc=-.00608, val_loss_step=3.290, val_loss_epoch=3.290, val_auroc=0.235, val_acc=0.996, val_mcc=0.703, train_loss_epoch=0.335]\n",
      "Epoch 21: 100%|██████████| 4/4 [00:04<00:00,  0.95it/s, v_num=0, train_loss_step=0.305, train_acc=0.968, train_acc_func=0.381, train_mcc=0.203, val_loss_step=3.290, val_loss_epoch=3.290, val_auroc=0.235, val_acc=0.996, val_mcc=0.703, train_loss_epoch=0.335]  \n",
      "Validation: |          | 0/? [00:00<?, ?it/s]\u001b[A\n",
      "\u001b[36m(train_linevd pid=14937)\u001b[0m \n",
      "Validation:   0%|          | 0/1 [00:00<?, ?it/s]\u001b[A\n",
      "Validation DataLoader 0:   0%|          | 0/1 [00:00<?, ?it/s]\u001b[A\n",
      "\u001b[36m(train_linevd pid=14937)\u001b[0m \n",
      "Validation DataLoader 0: 100%|██████████| 1/1 [00:00<00:00, 13.09it/s]\u001b[A\n"
     ]
    },
    {
     "name": "stderr",
     "output_type": "stream",
     "text": [
      "\u001b[36m(train_linevd pid=14937)\u001b[0m Checkpoint successfully created at: Checkpoint(filesystem=local, path=/home/ubuntu/linevd/storage/processed/raytune_best_-1/202401100409_1fca96a_update_get_data.sh/tune_linevd/train_linevd_541e2_00000_0_batch_size=1024,embtype=codebert,gatdropout=0.2000,gnntype=gcn,gtype=pdg_raw,hdropout=0.3000,hfeat=512,_2024-01-10_04-09-08/checkpoint_000021)\n"
     ]
    },
    {
     "name": "stdout",
     "output_type": "stream",
     "text": [
      "\u001b[36m(train_linevd pid=14937)\u001b[0m \n",
      "Epoch 22:   0%|          | 0/4 [00:00<?, ?it/s, v_num=0, train_loss_step=0.305, train_acc=0.968, train_acc_func=0.381, train_mcc=0.203, val_loss_step=3.450, val_loss_epoch=3.450, val_auroc=0.206, val_acc=0.996, val_mcc=0.703, train_loss_epoch=0.323]        \n",
      "Epoch 22:  25%|██▌       | 1/4 [00:02<00:07,  0.38it/s, v_num=0, train_loss_step=0.322, train_acc=0.972, train_acc_func=0.382, train_mcc=0.178, val_loss_step=3.450, val_loss_epoch=3.450, val_auroc=0.206, val_acc=0.996, val_mcc=0.703, train_loss_epoch=0.323]\n",
      "Epoch 22:  50%|█████     | 2/4 [00:03<00:03,  0.65it/s, v_num=0, train_loss_step=0.240, train_acc=0.978, train_acc_func=0.416, train_mcc=0.201, val_loss_step=3.450, val_loss_epoch=3.450, val_auroc=0.206, val_acc=0.996, val_mcc=0.703, train_loss_epoch=0.323]\n",
      "Epoch 22:  75%|███████▌  | 3/4 [00:03<00:01,  0.85it/s, v_num=0, train_loss_step=0.329, train_acc=0.970, train_acc_func=0.380, train_mcc=0.171, val_loss_step=3.450, val_loss_epoch=3.450, val_auroc=0.206, val_acc=0.996, val_mcc=0.703, train_loss_epoch=0.323]\n",
      "Epoch 22: 100%|██████████| 4/4 [00:03<00:00,  1.03it/s, v_num=0, train_loss_step=0.250, train_acc=0.968, train_acc_func=0.384, train_mcc=0.203, val_loss_step=3.450, val_loss_epoch=3.450, val_auroc=0.206, val_acc=0.996, val_mcc=0.703, train_loss_epoch=0.323]\n",
      "Validation: |          | 0/? [00:00<?, ?it/s]\u001b[A\n",
      "\u001b[36m(train_linevd pid=14937)\u001b[0m \n",
      "Validation:   0%|          | 0/1 [00:00<?, ?it/s]\u001b[A\n",
      "Validation DataLoader 0:   0%|          | 0/1 [00:00<?, ?it/s]\u001b[A\n",
      "\u001b[36m(train_linevd pid=14937)\u001b[0m \n",
      "Validation DataLoader 0: 100%|██████████| 1/1 [00:00<00:00, 14.14it/s]\u001b[A\n"
     ]
    },
    {
     "name": "stderr",
     "output_type": "stream",
     "text": [
      "\u001b[36m(train_linevd pid=14937)\u001b[0m Checkpoint successfully created at: Checkpoint(filesystem=local, path=/home/ubuntu/linevd/storage/processed/raytune_best_-1/202401100409_1fca96a_update_get_data.sh/tune_linevd/train_linevd_541e2_00000_0_batch_size=1024,embtype=codebert,gatdropout=0.2000,gnntype=gcn,gtype=pdg_raw,hdropout=0.3000,hfeat=512,_2024-01-10_04-09-08/checkpoint_000022)\n"
     ]
    },
    {
     "name": "stdout",
     "output_type": "stream",
     "text": [
      "\u001b[36m(train_linevd pid=14937)\u001b[0m \n",
      "Epoch 23:   0%|          | 0/4 [00:00<?, ?it/s, v_num=0, train_loss_step=0.250, train_acc=0.968, train_acc_func=0.384, train_mcc=0.203, val_loss_step=3.740, val_loss_epoch=3.740, val_auroc=0.221, val_acc=0.996, val_mcc=0.703, train_loss_epoch=0.285]        \n",
      "Epoch 23:  25%|██▌       | 1/4 [00:00<00:02,  1.23it/s, v_num=0, train_loss_step=0.289, train_acc=0.975, train_acc_func=0.388, train_mcc=0.189, val_loss_step=3.740, val_loss_epoch=3.740, val_auroc=0.221, val_acc=0.996, val_mcc=0.703, train_loss_epoch=0.285]\n",
      "Epoch 23:  50%|█████     | 2/4 [00:01<00:01,  1.46it/s, v_num=0, train_loss_step=0.299, train_acc=0.972, train_acc_func=0.391, train_mcc=0.178, val_loss_step=3.740, val_loss_epoch=3.740, val_auroc=0.221, val_acc=0.996, val_mcc=0.703, train_loss_epoch=0.285]\n",
      "Epoch 23:  75%|███████▌  | 3/4 [00:03<00:01,  0.87it/s, v_num=0, train_loss_step=0.268, train_acc=0.972, train_acc_func=0.386, train_mcc=0.178, val_loss_step=3.740, val_loss_epoch=3.740, val_auroc=0.221, val_acc=0.996, val_mcc=0.703, train_loss_epoch=0.285]\n",
      "Epoch 23: 100%|██████████| 4/4 [00:03<00:00,  1.03it/s, v_num=0, train_loss_step=0.269, train_acc=0.969, train_acc_func=0.404, train_mcc=0.208, val_loss_step=3.740, val_loss_epoch=3.740, val_auroc=0.221, val_acc=0.996, val_mcc=0.703, train_loss_epoch=0.285]\n",
      "Validation: |          | 0/? [00:00<?, ?it/s]\u001b[A\n",
      "\u001b[36m(train_linevd pid=14937)\u001b[0m \n",
      "Validation:   0%|          | 0/1 [00:00<?, ?it/s]\u001b[A\n",
      "Validation DataLoader 0:   0%|          | 0/1 [00:00<?, ?it/s]\u001b[A\n",
      "\u001b[36m(train_linevd pid=14937)\u001b[0m \n",
      "Validation DataLoader 0: 100%|██████████| 1/1 [00:00<00:00, 10.25it/s]\u001b[A\n"
     ]
    },
    {
     "name": "stderr",
     "output_type": "stream",
     "text": [
      "\u001b[36m(train_linevd pid=14937)\u001b[0m Checkpoint successfully created at: Checkpoint(filesystem=local, path=/home/ubuntu/linevd/storage/processed/raytune_best_-1/202401100409_1fca96a_update_get_data.sh/tune_linevd/train_linevd_541e2_00000_0_batch_size=1024,embtype=codebert,gatdropout=0.2000,gnntype=gcn,gtype=pdg_raw,hdropout=0.3000,hfeat=512,_2024-01-10_04-09-08/checkpoint_000023)\n"
     ]
    },
    {
     "name": "stdout",
     "output_type": "stream",
     "text": [
      "\u001b[36m(train_linevd pid=14937)\u001b[0m \n",
      "Epoch 24:   0%|          | 0/4 [00:00<?, ?it/s, v_num=0, train_loss_step=0.269, train_acc=0.969, train_acc_func=0.404, train_mcc=0.208, val_loss_step=3.380, val_loss_epoch=3.380, val_auroc=0.221, val_acc=0.996, val_mcc=0.703, train_loss_epoch=0.281]        \n",
      "Epoch 24:  25%|██▌       | 1/4 [00:00<00:02,  1.30it/s, v_num=0, train_loss_step=0.290, train_acc=0.962, train_acc_func=0.416, train_mcc=0.151, val_loss_step=3.380, val_loss_epoch=3.380, val_auroc=0.221, val_acc=0.996, val_mcc=0.703, train_loss_epoch=0.281]\n",
      "Epoch 24:  50%|█████     | 2/4 [00:01<00:01,  1.60it/s, v_num=0, train_loss_step=0.233, train_acc=0.978, train_acc_func=0.360, train_mcc=0.201, val_loss_step=3.380, val_loss_epoch=3.380, val_auroc=0.221, val_acc=0.996, val_mcc=0.703, train_loss_epoch=0.281]\n",
      "Epoch 24:  75%|███████▌  | 3/4 [00:01<00:00,  1.74it/s, v_num=0, train_loss_step=0.250, train_acc=0.976, train_acc_func=0.417, train_mcc=0.193, val_loss_step=3.380, val_loss_epoch=3.380, val_auroc=0.221, val_acc=0.996, val_mcc=0.703, train_loss_epoch=0.281]\n",
      "Epoch 24: 100%|██████████| 4/4 [00:02<00:00,  1.93it/s, v_num=0, train_loss_step=0.253, train_acc=0.974, train_acc_func=0.360, train_mcc=0.226, val_loss_step=3.380, val_loss_epoch=3.380, val_auroc=0.221, val_acc=0.996, val_mcc=0.703, train_loss_epoch=0.281]\n",
      "\u001b[36m(train_linevd pid=14937)\u001b[0m \n",
      "Validation: |          | 0/? [00:00<?, ?it/s]\u001b[A\n",
      "\u001b[36m(train_linevd pid=14937)\u001b[0m \n",
      "Validation:   0%|          | 0/1 [00:00<?, ?it/s]\u001b[A\n",
      "Validation DataLoader 0:   0%|          | 0/1 [00:00<?, ?it/s]\u001b[A\n",
      "\u001b[36m(train_linevd pid=14937)\u001b[0m \n",
      "Validation DataLoader 0: 100%|██████████| 1/1 [00:00<00:00, 12.10it/s]\u001b[A\n"
     ]
    },
    {
     "name": "stderr",
     "output_type": "stream",
     "text": [
      "\u001b[36m(train_linevd pid=14937)\u001b[0m Checkpoint successfully created at: Checkpoint(filesystem=local, path=/home/ubuntu/linevd/storage/processed/raytune_best_-1/202401100409_1fca96a_update_get_data.sh/tune_linevd/train_linevd_541e2_00000_0_batch_size=1024,embtype=codebert,gatdropout=0.2000,gnntype=gcn,gtype=pdg_raw,hdropout=0.3000,hfeat=512,_2024-01-10_04-09-08/checkpoint_000024)\n"
     ]
    },
    {
     "name": "stdout",
     "output_type": "stream",
     "text": [
      "\u001b[36m(train_linevd pid=14937)\u001b[0m \n",
      "Epoch 24: 100%|██████████| 4/4 [00:02<00:00,  1.55it/s, v_num=0, train_loss_step=0.253, train_acc=0.974, train_acc_func=0.360, train_mcc=0.226, val_loss_step=3.270, val_loss_epoch=3.270, val_auroc=0.221, val_acc=0.996, val_mcc=0.703, train_loss_epoch=0.256]\n",
      "Epoch 25:   0%|          | 0/4 [00:00<?, ?it/s, v_num=0, train_loss_step=0.253, train_acc=0.974, train_acc_func=0.360, train_mcc=0.226, val_loss_step=3.270, val_loss_epoch=3.270, val_auroc=0.221, val_acc=0.996, val_mcc=0.703, train_loss_epoch=0.256]        \n",
      "Epoch 25:  25%|██▌       | 1/4 [00:02<00:07,  0.40it/s, v_num=0, train_loss_step=0.248, train_acc=0.973, train_acc_func=0.389, train_mcc=0.181, val_loss_step=3.270, val_loss_epoch=3.270, val_auroc=0.221, val_acc=0.996, val_mcc=0.703, train_loss_epoch=0.256]\n",
      "Epoch 25:  50%|█████     | 2/4 [00:02<00:02,  0.68it/s, v_num=0, train_loss_step=0.250, train_acc=0.973, train_acc_func=0.383, train_mcc=0.181, val_loss_step=3.270, val_loss_epoch=3.270, val_auroc=0.221, val_acc=0.996, val_mcc=0.703, train_loss_epoch=0.256]\n",
      "Epoch 25:  75%|███████▌  | 3/4 [00:03<00:01,  0.89it/s, v_num=0, train_loss_step=0.218, train_acc=0.978, train_acc_func=0.393, train_mcc=0.201, val_loss_step=3.270, val_loss_epoch=3.270, val_auroc=0.221, val_acc=0.996, val_mcc=0.703, train_loss_epoch=0.256]\n",
      "Epoch 25: 100%|██████████| 4/4 [00:03<00:00,  1.08it/s, v_num=0, train_loss_step=0.292, train_acc=0.962, train_acc_func=0.404, train_mcc=0.185, val_loss_step=3.270, val_loss_epoch=3.270, val_auroc=0.221, val_acc=0.996, val_mcc=0.703, train_loss_epoch=0.256]\n",
      "\u001b[36m(train_linevd pid=14937)\u001b[0m \n",
      "Validation: |          | 0/? [00:00<?, ?it/s]\u001b[A\n",
      "\u001b[36m(train_linevd pid=14937)\u001b[0m \n",
      "Validation:   0%|          | 0/1 [00:00<?, ?it/s]\u001b[A\n",
      "Validation DataLoader 0:   0%|          | 0/1 [00:00<?, ?it/s]\u001b[A\n",
      "\u001b[36m(train_linevd pid=14937)\u001b[0m \n",
      "Validation DataLoader 0: 100%|██████████| 1/1 [00:00<00:00, 13.08it/s]\u001b[A\n"
     ]
    },
    {
     "name": "stderr",
     "output_type": "stream",
     "text": [
      "\u001b[36m(train_linevd pid=14937)\u001b[0m Checkpoint successfully created at: Checkpoint(filesystem=local, path=/home/ubuntu/linevd/storage/processed/raytune_best_-1/202401100409_1fca96a_update_get_data.sh/tune_linevd/train_linevd_541e2_00000_0_batch_size=1024,embtype=codebert,gatdropout=0.2000,gnntype=gcn,gtype=pdg_raw,hdropout=0.3000,hfeat=512,_2024-01-10_04-09-08/checkpoint_000025)\n"
     ]
    },
    {
     "name": "stdout",
     "output_type": "stream",
     "text": [
      "\u001b[36m(train_linevd pid=14937)\u001b[0m \n",
      "Epoch 26:   0%|          | 0/4 [00:00<?, ?it/s, v_num=0, train_loss_step=0.292, train_acc=0.962, train_acc_func=0.404, train_mcc=0.185, val_loss_step=3.520, val_loss_epoch=3.520, val_auroc=0.221, val_acc=0.996, val_mcc=0.703, train_loss_epoch=0.252]        \n",
      "Epoch 26:  25%|██▌       | 1/4 [00:00<00:02,  1.24it/s, v_num=0, train_loss_step=0.241, train_acc=0.972, train_acc_func=0.396, train_mcc=0.178, val_loss_step=3.520, val_loss_epoch=3.520, val_auroc=0.221, val_acc=0.996, val_mcc=0.703, train_loss_epoch=0.252]\n",
      "Epoch 26:  50%|█████     | 2/4 [00:01<00:01,  1.58it/s, v_num=0, train_loss_step=0.245, train_acc=0.973, train_acc_func=0.372, train_mcc=0.181, val_loss_step=3.520, val_loss_epoch=3.520, val_auroc=0.221, val_acc=0.996, val_mcc=0.703, train_loss_epoch=0.252]\n",
      "Epoch 26:  75%|███████▌  | 3/4 [00:02<00:00,  1.10it/s, v_num=0, train_loss_step=0.220, train_acc=0.974, train_acc_func=0.386, train_mcc=0.185, val_loss_step=3.520, val_loss_epoch=3.520, val_auroc=0.221, val_acc=0.996, val_mcc=0.703, train_loss_epoch=0.252]\n",
      "Epoch 26: 100%|██████████| 4/4 [00:03<00:00,  1.11it/s, v_num=0, train_loss_step=0.236, train_acc=0.969, train_acc_func=0.420, train_mcc=0.208, val_loss_step=3.520, val_loss_epoch=3.520, val_auroc=0.221, val_acc=0.996, val_mcc=0.703, train_loss_epoch=0.252]\n",
      "Validation: |          | 0/? [00:00<?, ?it/s]\u001b[A\n",
      "\u001b[36m(train_linevd pid=14937)\u001b[0m \n",
      "Validation:   0%|          | 0/1 [00:00<?, ?it/s]\u001b[A\n",
      "Validation DataLoader 0:   0%|          | 0/1 [00:00<?, ?it/s]\u001b[A\n",
      "\u001b[36m(train_linevd pid=14937)\u001b[0m \n",
      "Validation DataLoader 0: 100%|██████████| 1/1 [00:00<00:00, 13.02it/s]\u001b[A\n"
     ]
    },
    {
     "name": "stderr",
     "output_type": "stream",
     "text": [
      "\u001b[36m(train_linevd pid=14937)\u001b[0m Checkpoint successfully created at: Checkpoint(filesystem=local, path=/home/ubuntu/linevd/storage/processed/raytune_best_-1/202401100409_1fca96a_update_get_data.sh/tune_linevd/train_linevd_541e2_00000_0_batch_size=1024,embtype=codebert,gatdropout=0.2000,gnntype=gcn,gtype=pdg_raw,hdropout=0.3000,hfeat=512,_2024-01-10_04-09-08/checkpoint_000026)\n"
     ]
    },
    {
     "name": "stdout",
     "output_type": "stream",
     "text": [
      "\u001b[36m(train_linevd pid=14937)\u001b[0m \n",
      "Epoch 27:   0%|          | 0/4 [00:00<?, ?it/s, v_num=0, train_loss_step=0.236, train_acc=0.969, train_acc_func=0.420, train_mcc=0.208, val_loss_step=3.420, val_loss_epoch=3.420, val_auroc=0.221, val_acc=0.996, val_mcc=0.703, train_loss_epoch=0.236]        \n",
      "Epoch 27:  25%|██▌       | 1/4 [00:00<00:02,  1.20it/s, v_num=0, train_loss_step=0.241, train_acc=0.969, train_acc_func=0.415, train_mcc=0.168, val_loss_step=3.420, val_loss_epoch=3.420, val_auroc=0.221, val_acc=0.996, val_mcc=0.703, train_loss_epoch=0.236]\n",
      "Epoch 27:  50%|█████     | 2/4 [00:01<00:01,  1.58it/s, v_num=0, train_loss_step=0.219, train_acc=0.977, train_acc_func=0.393, train_mcc=0.197, val_loss_step=3.420, val_loss_epoch=3.420, val_auroc=0.221, val_acc=0.996, val_mcc=0.703, train_loss_epoch=0.236]\n",
      "Epoch 27:  75%|███████▌  | 3/4 [00:01<00:00,  1.77it/s, v_num=0, train_loss_step=0.254, train_acc=0.969, train_acc_func=0.376, train_mcc=0.168, val_loss_step=3.420, val_loss_epoch=3.420, val_auroc=0.221, val_acc=0.996, val_mcc=0.703, train_loss_epoch=0.236]\n",
      "Epoch 27: 100%|██████████| 4/4 [00:02<00:00,  1.97it/s, v_num=0, train_loss_step=0.210, train_acc=0.975, train_acc_func=0.375, train_mcc=0.233, val_loss_step=3.420, val_loss_epoch=3.420, val_auroc=0.221, val_acc=0.996, val_mcc=0.703, train_loss_epoch=0.236]\n",
      "\u001b[36m(train_linevd pid=14937)\u001b[0m \n",
      "Validation: |          | 0/? [00:00<?, ?it/s]\u001b[A\n",
      "\u001b[36m(train_linevd pid=14937)\u001b[0m \n",
      "Validation:   0%|          | 0/1 [00:00<?, ?it/s]\u001b[A\n",
      "Validation DataLoader 0:   0%|          | 0/1 [00:00<?, ?it/s]\u001b[A\n",
      "Validation DataLoader 0: 100%|██████████| 1/1 [00:00<00:00, 15.20it/s]\u001b[A\n"
     ]
    },
    {
     "name": "stderr",
     "output_type": "stream",
     "text": [
      "\u001b[36m(train_linevd pid=14937)\u001b[0m Checkpoint successfully created at: Checkpoint(filesystem=local, path=/home/ubuntu/linevd/storage/processed/raytune_best_-1/202401100409_1fca96a_update_get_data.sh/tune_linevd/train_linevd_541e2_00000_0_batch_size=1024,embtype=codebert,gatdropout=0.2000,gnntype=gcn,gtype=pdg_raw,hdropout=0.3000,hfeat=512,_2024-01-10_04-09-08/checkpoint_000027)\n"
     ]
    },
    {
     "name": "stdout",
     "output_type": "stream",
     "text": [
      "\u001b[36m(train_linevd pid=14937)\u001b[0m \n",
      "Epoch 27: 100%|██████████| 4/4 [00:02<00:00,  1.62it/s, v_num=0, train_loss_step=0.210, train_acc=0.975, train_acc_func=0.375, train_mcc=0.233, val_loss_step=3.570, val_loss_epoch=3.570, val_auroc=0.221, val_acc=0.996, val_mcc=0.703, train_loss_epoch=0.231]\n",
      "Epoch 28:   0%|          | 0/4 [00:00<?, ?it/s, v_num=0, train_loss_step=0.210, train_acc=0.975, train_acc_func=0.375, train_mcc=0.233, val_loss_step=3.570, val_loss_epoch=3.570, val_auroc=0.221, val_acc=0.996, val_mcc=0.703, train_loss_epoch=0.231]        \n",
      "Epoch 28:  25%|██▌       | 1/4 [00:00<00:02,  1.30it/s, v_num=0, train_loss_step=0.244, train_acc=0.970, train_acc_func=0.406, train_mcc=0.171, val_loss_step=3.570, val_loss_epoch=3.570, val_auroc=0.221, val_acc=0.996, val_mcc=0.703, train_loss_epoch=0.231]\n",
      "Epoch 28:  50%|█████     | 2/4 [00:01<00:01,  1.04it/s, v_num=0, train_loss_step=0.247, train_acc=0.971, train_acc_func=0.376, train_mcc=0.174, val_loss_step=3.570, val_loss_epoch=3.570, val_auroc=0.221, val_acc=0.996, val_mcc=0.703, train_loss_epoch=0.231]\n",
      "Epoch 28:  75%|███████▌  | 3/4 [00:03<00:01,  0.91it/s, v_num=0, train_loss_step=0.230, train_acc=0.973, train_acc_func=0.392, train_mcc=0.181, val_loss_step=3.570, val_loss_epoch=3.570, val_auroc=0.221, val_acc=0.996, val_mcc=0.703, train_loss_epoch=0.231]\n",
      "Epoch 28: 100%|██████████| 4/4 [00:03<00:00,  1.08it/s, v_num=0, train_loss_step=0.224, train_acc=0.977, train_acc_func=0.389, train_mcc=0.241, val_loss_step=3.570, val_loss_epoch=3.570, val_auroc=0.221, val_acc=0.996, val_mcc=0.703, train_loss_epoch=0.231]\n",
      "\u001b[36m(train_linevd pid=14937)\u001b[0m \n",
      "Validation: |          | 0/? [00:00<?, ?it/s]\u001b[A\n",
      "\u001b[36m(train_linevd pid=14937)\u001b[0m \n",
      "Validation:   0%|          | 0/1 [00:00<?, ?it/s]\u001b[A\n",
      "Validation DataLoader 0:   0%|          | 0/1 [00:00<?, ?it/s]\u001b[A\n",
      "\u001b[36m(train_linevd pid=14937)\u001b[0m \n",
      "Validation DataLoader 0: 100%|██████████| 1/1 [00:00<00:00, 11.41it/s]\u001b[A\n"
     ]
    },
    {
     "name": "stderr",
     "output_type": "stream",
     "text": [
      "\u001b[36m(train_linevd pid=14937)\u001b[0m Checkpoint successfully created at: Checkpoint(filesystem=local, path=/home/ubuntu/linevd/storage/processed/raytune_best_-1/202401100409_1fca96a_update_get_data.sh/tune_linevd/train_linevd_541e2_00000_0_batch_size=1024,embtype=codebert,gatdropout=0.2000,gnntype=gcn,gtype=pdg_raw,hdropout=0.3000,hfeat=512,_2024-01-10_04-09-08/checkpoint_000028)\n"
     ]
    },
    {
     "name": "stdout",
     "output_type": "stream",
     "text": [
      "\u001b[36m(train_linevd pid=14937)\u001b[0m \n",
      "Epoch 29:   0%|          | 0/4 [00:00<?, ?it/s, v_num=0, train_loss_step=0.224, train_acc=0.977, train_acc_func=0.389, train_mcc=0.241, val_loss_step=3.320, val_loss_epoch=3.320, val_auroc=0.221, val_acc=0.996, val_mcc=0.703, train_loss_epoch=0.236]        \n",
      "Epoch 29:  25%|██▌       | 1/4 [00:00<00:02,  1.10it/s, v_num=0, train_loss_step=0.212, train_acc=0.977, train_acc_func=0.395, train_mcc=0.197, val_loss_step=3.320, val_loss_epoch=3.320, val_auroc=0.221, val_acc=0.996, val_mcc=0.703, train_loss_epoch=0.236]\n",
      "Epoch 29:  50%|█████     | 2/4 [00:01<00:01,  1.45it/s, v_num=0, train_loss_step=0.234, train_acc=0.970, train_acc_func=0.386, train_mcc=0.171, val_loss_step=3.320, val_loss_epoch=3.320, val_auroc=0.221, val_acc=0.996, val_mcc=0.703, train_loss_epoch=0.236]\n",
      "Epoch 29:  75%|███████▌  | 3/4 [00:01<00:00,  1.66it/s, v_num=0, train_loss_step=0.233, train_acc=0.973, train_acc_func=0.396, train_mcc=0.181, val_loss_step=3.320, val_loss_epoch=3.320, val_auroc=0.221, val_acc=0.996, val_mcc=0.703, train_loss_epoch=0.236]\n",
      "Epoch 29: 100%|██████████| 4/4 [00:02<00:00,  1.87it/s, v_num=0, train_loss_step=0.232, train_acc=0.968, train_acc_func=0.387, train_mcc=0.203, val_loss_step=3.320, val_loss_epoch=3.320, val_auroc=0.221, val_acc=0.996, val_mcc=0.703, train_loss_epoch=0.236]\n",
      "\u001b[36m(train_linevd pid=14937)\u001b[0m \n",
      "Validation: |          | 0/? [00:00<?, ?it/s]\u001b[A\n",
      "\u001b[36m(train_linevd pid=14937)\u001b[0m \n",
      "Validation:   0%|          | 0/1 [00:00<?, ?it/s]\u001b[A\n",
      "Validation DataLoader 0:   0%|          | 0/1 [00:00<?, ?it/s]\u001b[A\n",
      "Validation DataLoader 0: 100%|██████████| 1/1 [00:00<00:00, 14.26it/s]\u001b[A\n"
     ]
    },
    {
     "name": "stderr",
     "output_type": "stream",
     "text": [
      "\u001b[36m(train_linevd pid=14937)\u001b[0m Checkpoint successfully created at: Checkpoint(filesystem=local, path=/home/ubuntu/linevd/storage/processed/raytune_best_-1/202401100409_1fca96a_update_get_data.sh/tune_linevd/train_linevd_541e2_00000_0_batch_size=1024,embtype=codebert,gatdropout=0.2000,gnntype=gcn,gtype=pdg_raw,hdropout=0.3000,hfeat=512,_2024-01-10_04-09-08/checkpoint_000029)\n"
     ]
    },
    {
     "name": "stdout",
     "output_type": "stream",
     "text": [
      "\u001b[36m(train_linevd pid=14937)\u001b[0m \n",
      "Epoch 30:   0%|          | 0/4 [00:00<?, ?it/s, v_num=0, train_loss_step=0.232, train_acc=0.968, train_acc_func=0.387, train_mcc=0.203, val_loss_step=2.910, val_loss_epoch=2.910, val_auroc=0.221, val_acc=0.996, val_mcc=0.703, train_loss_epoch=0.228]        \n",
      "Epoch 30:  25%|██▌       | 1/4 [00:02<00:07,  0.39it/s, v_num=0, train_loss_step=0.216, train_acc=0.973, train_acc_func=0.384, train_mcc=0.181, val_loss_step=2.910, val_loss_epoch=2.910, val_auroc=0.221, val_acc=0.996, val_mcc=0.703, train_loss_epoch=0.228]\n",
      "Epoch 30:  50%|█████     | 2/4 [00:03<00:03,  0.66it/s, v_num=0, train_loss_step=0.241, train_acc=0.966, train_acc_func=0.365, train_mcc=0.160, val_loss_step=2.910, val_loss_epoch=2.910, val_auroc=0.221, val_acc=0.996, val_mcc=0.703, train_loss_epoch=0.228]\n",
      "Epoch 30:  75%|███████▌  | 3/4 [00:03<00:01,  0.86it/s, v_num=0, train_loss_step=0.209, train_acc=0.975, train_acc_func=0.421, train_mcc=0.189, val_loss_step=2.910, val_loss_epoch=2.910, val_auroc=0.221, val_acc=0.996, val_mcc=0.703, train_loss_epoch=0.228]\n",
      "Epoch 30: 100%|██████████| 4/4 [00:03<00:00,  1.05it/s, v_num=0, train_loss_step=0.221, train_acc=0.977, train_acc_func=0.395, train_mcc=0.241, val_loss_step=2.910, val_loss_epoch=2.910, val_auroc=0.221, val_acc=0.996, val_mcc=0.703, train_loss_epoch=0.228]\n",
      "Validation: |          | 0/? [00:00<?, ?it/s]\u001b[A\n",
      "\u001b[36m(train_linevd pid=14937)\u001b[0m \n",
      "Validation:   0%|          | 0/1 [00:00<?, ?it/s]\u001b[A\n",
      "Validation DataLoader 0:   0%|          | 0/1 [00:00<?, ?it/s]\u001b[A\n",
      "\u001b[36m(train_linevd pid=14937)\u001b[0m \n",
      "Validation DataLoader 0: 100%|██████████| 1/1 [00:00<00:00, 12.45it/s]\u001b[A\n"
     ]
    },
    {
     "name": "stderr",
     "output_type": "stream",
     "text": [
      "\u001b[36m(train_linevd pid=14937)\u001b[0m Checkpoint successfully created at: Checkpoint(filesystem=local, path=/home/ubuntu/linevd/storage/processed/raytune_best_-1/202401100409_1fca96a_update_get_data.sh/tune_linevd/train_linevd_541e2_00000_0_batch_size=1024,embtype=codebert,gatdropout=0.2000,gnntype=gcn,gtype=pdg_raw,hdropout=0.3000,hfeat=512,_2024-01-10_04-09-08/checkpoint_000030)\n"
     ]
    },
    {
     "name": "stdout",
     "output_type": "stream",
     "text": [
      "\u001b[36m(train_linevd pid=14937)\u001b[0m \n",
      "Epoch 31:   0%|          | 0/4 [00:00<?, ?it/s, v_num=0, train_loss_step=0.221, train_acc=0.977, train_acc_func=0.395, train_mcc=0.241, val_loss_step=3.280, val_loss_epoch=3.280, val_auroc=0.221, val_acc=0.996, val_mcc=0.703, train_loss_epoch=0.222]        \n",
      "Epoch 31:  25%|██▌       | 1/4 [00:00<00:02,  1.19it/s, v_num=0, train_loss_step=0.212, train_acc=0.971, train_acc_func=0.394, train_mcc=0.174, val_loss_step=3.280, val_loss_epoch=3.280, val_auroc=0.221, val_acc=0.996, val_mcc=0.703, train_loss_epoch=0.222]\n",
      "Epoch 31:  50%|█████     | 2/4 [00:02<00:02,  0.71it/s, v_num=0, train_loss_step=0.228, train_acc=0.970, train_acc_func=0.399, train_mcc=0.171, val_loss_step=3.280, val_loss_epoch=3.280, val_auroc=0.221, val_acc=0.996, val_mcc=0.703, train_loss_epoch=0.222]\n",
      "Epoch 31:  75%|███████▌  | 3/4 [00:03<00:01,  0.83it/s, v_num=0, train_loss_step=0.197, train_acc=0.975, train_acc_func=0.392, train_mcc=0.189, val_loss_step=3.280, val_loss_epoch=3.280, val_auroc=0.221, val_acc=0.996, val_mcc=0.703, train_loss_epoch=0.222]\n",
      "Epoch 31: 100%|██████████| 4/4 [00:03<00:00,  1.01it/s, v_num=0, train_loss_step=0.200, train_acc=0.974, train_acc_func=0.373, train_mcc=0.226, val_loss_step=3.280, val_loss_epoch=3.280, val_auroc=0.221, val_acc=0.996, val_mcc=0.703, train_loss_epoch=0.222]\n",
      "\u001b[36m(train_linevd pid=14937)\u001b[0m \n",
      "Validation: |          | 0/? [00:00<?, ?it/s]\u001b[A\n",
      "\u001b[36m(train_linevd pid=14937)\u001b[0m \n",
      "Validation:   0%|          | 0/1 [00:00<?, ?it/s]\u001b[A\n",
      "Validation DataLoader 0:   0%|          | 0/1 [00:00<?, ?it/s]\u001b[A\n",
      "\u001b[36m(train_linevd pid=14937)\u001b[0m \n",
      "Validation DataLoader 0: 100%|██████████| 1/1 [00:00<00:00, 10.76it/s]\u001b[A\n"
     ]
    },
    {
     "name": "stderr",
     "output_type": "stream",
     "text": [
      "\u001b[36m(train_linevd pid=14937)\u001b[0m Checkpoint successfully created at: Checkpoint(filesystem=local, path=/home/ubuntu/linevd/storage/processed/raytune_best_-1/202401100409_1fca96a_update_get_data.sh/tune_linevd/train_linevd_541e2_00000_0_batch_size=1024,embtype=codebert,gatdropout=0.2000,gnntype=gcn,gtype=pdg_raw,hdropout=0.3000,hfeat=512,_2024-01-10_04-09-08/checkpoint_000031)\n"
     ]
    },
    {
     "name": "stdout",
     "output_type": "stream",
     "text": [
      "\u001b[36m(train_linevd pid=14937)\u001b[0m \n",
      "Epoch 32:   0%|          | 0/4 [00:00<?, ?it/s, v_num=0, train_loss_step=0.200, train_acc=0.974, train_acc_func=0.373, train_mcc=0.226, val_loss_step=3.650, val_loss_epoch=3.650, val_auroc=0.221, val_acc=0.996, val_mcc=0.703, train_loss_epoch=0.209]        \n",
      "Epoch 32:  25%|██▌       | 1/4 [00:00<00:02,  1.17it/s, v_num=0, train_loss_step=0.198, train_acc=0.972, train_acc_func=0.394, train_mcc=0.178, val_loss_step=3.650, val_loss_epoch=3.650, val_auroc=0.221, val_acc=0.996, val_mcc=0.703, train_loss_epoch=0.209]\n",
      "Epoch 32:  50%|█████     | 2/4 [00:01<00:01,  1.42it/s, v_num=0, train_loss_step=0.202, train_acc=0.973, train_acc_func=0.394, train_mcc=0.181, val_loss_step=3.650, val_loss_epoch=3.650, val_auroc=0.221, val_acc=0.996, val_mcc=0.703, train_loss_epoch=0.209]\n",
      "Epoch 32:  75%|███████▌  | 3/4 [00:02<00:00,  1.21it/s, v_num=0, train_loss_step=0.225, train_acc=0.970, train_acc_func=0.388, train_mcc=0.171, val_loss_step=3.650, val_loss_epoch=3.650, val_auroc=0.221, val_acc=0.996, val_mcc=0.703, train_loss_epoch=0.209]\n",
      "Epoch 32: 100%|██████████| 4/4 [00:03<00:00,  1.03it/s, v_num=0, train_loss_step=0.187, train_acc=0.975, train_acc_func=0.388, train_mcc=0.233, val_loss_step=3.650, val_loss_epoch=3.650, val_auroc=0.221, val_acc=0.996, val_mcc=0.703, train_loss_epoch=0.209]\n",
      "\u001b[36m(train_linevd pid=14937)\u001b[0m \n",
      "Validation: |          | 0/? [00:00<?, ?it/s]\u001b[A\n",
      "\u001b[36m(train_linevd pid=14937)\u001b[0m \n",
      "Validation:   0%|          | 0/1 [00:00<?, ?it/s]\u001b[A\n",
      "Validation DataLoader 0:   0%|          | 0/1 [00:00<?, ?it/s]\u001b[A\n",
      "Validation DataLoader 0: 100%|██████████| 1/1 [00:00<00:00, 13.54it/s]\u001b[A\n"
     ]
    },
    {
     "name": "stderr",
     "output_type": "stream",
     "text": [
      "\u001b[36m(train_linevd pid=14937)\u001b[0m Checkpoint successfully created at: Checkpoint(filesystem=local, path=/home/ubuntu/linevd/storage/processed/raytune_best_-1/202401100409_1fca96a_update_get_data.sh/tune_linevd/train_linevd_541e2_00000_0_batch_size=1024,embtype=codebert,gatdropout=0.2000,gnntype=gcn,gtype=pdg_raw,hdropout=0.3000,hfeat=512,_2024-01-10_04-09-08/checkpoint_000032)\n"
     ]
    },
    {
     "name": "stdout",
     "output_type": "stream",
     "text": [
      "\u001b[36m(train_linevd pid=14937)\u001b[0m \n",
      "Epoch 33:   0%|          | 0/4 [00:00<?, ?it/s, v_num=0, train_loss_step=0.187, train_acc=0.975, train_acc_func=0.388, train_mcc=0.233, val_loss_step=3.490, val_loss_epoch=3.490, val_auroc=0.222, val_acc=0.996, val_mcc=0.703, train_loss_epoch=0.203]        \n",
      "Epoch 33:  25%|██▌       | 1/4 [00:00<00:02,  1.04it/s, v_num=0, train_loss_step=0.172, train_acc=0.979, train_acc_func=0.377, train_mcc=0.206, val_loss_step=3.490, val_loss_epoch=3.490, val_auroc=0.222, val_acc=0.996, val_mcc=0.703, train_loss_epoch=0.203]\n",
      "Epoch 33:  50%|█████     | 2/4 [00:01<00:01,  1.38it/s, v_num=0, train_loss_step=0.222, train_acc=0.967, train_acc_func=0.399, train_mcc=0.163, val_loss_step=3.490, val_loss_epoch=3.490, val_auroc=0.222, val_acc=0.996, val_mcc=0.703, train_loss_epoch=0.203]\n",
      "Epoch 33:  75%|███████▌  | 3/4 [00:01<00:00,  1.60it/s, v_num=0, train_loss_step=0.205, train_acc=0.968, train_acc_func=0.377, train_mcc=0.166, val_loss_step=3.490, val_loss_epoch=3.490, val_auroc=0.222, val_acc=0.996, val_mcc=0.703, train_loss_epoch=0.203]\n",
      "Epoch 33: 100%|██████████| 4/4 [00:02<00:00,  1.79it/s, v_num=0, train_loss_step=0.184, train_acc=0.977, train_acc_func=0.420, train_mcc=0.241, val_loss_step=3.490, val_loss_epoch=3.490, val_auroc=0.222, val_acc=0.996, val_mcc=0.703, train_loss_epoch=0.203]\n",
      "\u001b[36m(train_linevd pid=14937)\u001b[0m \n",
      "Validation: |          | 0/? [00:00<?, ?it/s]\u001b[A\n",
      "\u001b[36m(train_linevd pid=14937)\u001b[0m \n",
      "Validation:   0%|          | 0/1 [00:00<?, ?it/s]\u001b[A\n",
      "Validation DataLoader 0:   0%|          | 0/1 [00:00<?, ?it/s]\u001b[A\n",
      "\u001b[36m(train_linevd pid=14937)\u001b[0m \n",
      "Validation DataLoader 0: 100%|██████████| 1/1 [00:00<00:00,  7.05it/s]\u001b[A\n"
     ]
    },
    {
     "name": "stderr",
     "output_type": "stream",
     "text": [
      "\u001b[36m(train_linevd pid=14937)\u001b[0m Checkpoint successfully created at: Checkpoint(filesystem=local, path=/home/ubuntu/linevd/storage/processed/raytune_best_-1/202401100409_1fca96a_update_get_data.sh/tune_linevd/train_linevd_541e2_00000_0_batch_size=1024,embtype=codebert,gatdropout=0.2000,gnntype=gcn,gtype=pdg_raw,hdropout=0.3000,hfeat=512,_2024-01-10_04-09-08/checkpoint_000033)\n"
     ]
    },
    {
     "name": "stdout",
     "output_type": "stream",
     "text": [
      "\u001b[36m(train_linevd pid=14937)\u001b[0m \n",
      "Epoch 34:   0%|          | 0/4 [00:00<?, ?it/s, v_num=0, train_loss_step=0.184, train_acc=0.977, train_acc_func=0.420, train_mcc=0.241, val_loss_step=3.450, val_loss_epoch=3.450, val_auroc=0.223, val_acc=0.996, val_mcc=0.703, train_loss_epoch=0.196]        \n",
      "Epoch 34:  25%|██▌       | 1/4 [00:02<00:07,  0.41it/s, v_num=0, train_loss_step=0.209, train_acc=0.969, train_acc_func=0.393, train_mcc=0.168, val_loss_step=3.450, val_loss_epoch=3.450, val_auroc=0.223, val_acc=0.996, val_mcc=0.703, train_loss_epoch=0.196]\n",
      "Epoch 34:  50%|█████     | 2/4 [00:03<00:03,  0.64it/s, v_num=0, train_loss_step=0.215, train_acc=0.968, train_acc_func=0.396, train_mcc=0.166, val_loss_step=3.450, val_loss_epoch=3.450, val_auroc=0.223, val_acc=0.996, val_mcc=0.703, train_loss_epoch=0.196]\n",
      "Epoch 34:  75%|███████▌  | 3/4 [00:03<00:01,  0.85it/s, v_num=0, train_loss_step=0.169, train_acc=0.977, train_acc_func=0.383, train_mcc=0.197, val_loss_step=3.450, val_loss_epoch=3.450, val_auroc=0.223, val_acc=0.996, val_mcc=0.703, train_loss_epoch=0.196]\n",
      "Epoch 34: 100%|██████████| 4/4 [00:03<00:00,  1.03it/s, v_num=0, train_loss_step=0.183, train_acc=0.977, train_acc_func=0.392, train_mcc=0.241, val_loss_step=3.450, val_loss_epoch=3.450, val_auroc=0.223, val_acc=0.996, val_mcc=0.703, train_loss_epoch=0.196]\n",
      "Validation: |          | 0/? [00:00<?, ?it/s]\u001b[A\n",
      "\u001b[36m(train_linevd pid=14937)\u001b[0m \n",
      "Validation:   0%|          | 0/1 [00:00<?, ?it/s]\u001b[A\n",
      "Validation DataLoader 0:   0%|          | 0/1 [00:00<?, ?it/s]\u001b[A\n",
      "\u001b[36m(train_linevd pid=14937)\u001b[0m \n",
      "Validation DataLoader 0: 100%|██████████| 1/1 [00:00<00:00, 12.10it/s]\u001b[A\n"
     ]
    },
    {
     "name": "stderr",
     "output_type": "stream",
     "text": [
      "\u001b[36m(train_linevd pid=14937)\u001b[0m Checkpoint successfully created at: Checkpoint(filesystem=local, path=/home/ubuntu/linevd/storage/processed/raytune_best_-1/202401100409_1fca96a_update_get_data.sh/tune_linevd/train_linevd_541e2_00000_0_batch_size=1024,embtype=codebert,gatdropout=0.2000,gnntype=gcn,gtype=pdg_raw,hdropout=0.3000,hfeat=512,_2024-01-10_04-09-08/checkpoint_000034)\n"
     ]
    },
    {
     "name": "stdout",
     "output_type": "stream",
     "text": [
      "\u001b[36m(train_linevd pid=14937)\u001b[0m \n",
      "Epoch 35:   0%|          | 0/4 [00:00<?, ?it/s, v_num=0, train_loss_step=0.183, train_acc=0.977, train_acc_func=0.392, train_mcc=0.241, val_loss_step=3.600, val_loss_epoch=3.600, val_auroc=0.223, val_acc=0.996, val_mcc=0.703, train_loss_epoch=0.194]        \n",
      "Epoch 35:  25%|██▌       | 1/4 [00:00<00:02,  1.09it/s, v_num=0, train_loss_step=0.185, train_acc=0.974, train_acc_func=0.404, train_mcc=0.185, val_loss_step=3.600, val_loss_epoch=3.600, val_auroc=0.223, val_acc=0.996, val_mcc=0.703, train_loss_epoch=0.194]\n",
      "Epoch 35:  50%|█████     | 2/4 [00:01<00:01,  1.47it/s, v_num=0, train_loss_step=0.212, train_acc=0.969, train_acc_func=0.384, train_mcc=0.168, val_loss_step=3.600, val_loss_epoch=3.600, val_auroc=0.223, val_acc=0.996, val_mcc=0.703, train_loss_epoch=0.194]\n",
      "Epoch 35:  75%|███████▌  | 3/4 [00:03<00:01,  0.85it/s, v_num=0, train_loss_step=0.145, train_acc=0.979, train_acc_func=0.405, train_mcc=0.206, val_loss_step=3.600, val_loss_epoch=3.600, val_auroc=0.223, val_acc=0.996, val_mcc=0.703, train_loss_epoch=0.194]\n",
      "Epoch 35: 100%|██████████| 4/4 [00:03<00:00,  1.03it/s, v_num=0, train_loss_step=0.179, train_acc=0.965, train_acc_func=0.360, train_mcc=0.193, val_loss_step=3.600, val_loss_epoch=3.600, val_auroc=0.223, val_acc=0.996, val_mcc=0.703, train_loss_epoch=0.194]\n",
      "Validation: |          | 0/? [00:00<?, ?it/s]\u001b[A\n",
      "\u001b[36m(train_linevd pid=14937)\u001b[0m \n",
      "Validation:   0%|          | 0/1 [00:00<?, ?it/s]\u001b[A\n",
      "Validation DataLoader 0:   0%|          | 0/1 [00:00<?, ?it/s]\u001b[A\n",
      "\u001b[36m(train_linevd pid=14937)\u001b[0m \n",
      "Validation DataLoader 0: 100%|██████████| 1/1 [00:00<00:00, 10.25it/s]\u001b[A\n"
     ]
    },
    {
     "name": "stderr",
     "output_type": "stream",
     "text": [
      "\u001b[36m(train_linevd pid=14937)\u001b[0m Checkpoint successfully created at: Checkpoint(filesystem=local, path=/home/ubuntu/linevd/storage/processed/raytune_best_-1/202401100409_1fca96a_update_get_data.sh/tune_linevd/train_linevd_541e2_00000_0_batch_size=1024,embtype=codebert,gatdropout=0.2000,gnntype=gcn,gtype=pdg_raw,hdropout=0.3000,hfeat=512,_2024-01-10_04-09-08/checkpoint_000035)\n"
     ]
    },
    {
     "name": "stdout",
     "output_type": "stream",
     "text": [
      "\u001b[36m(train_linevd pid=14937)\u001b[0m \n",
      "Epoch 36:   0%|          | 0/4 [00:00<?, ?it/s, v_num=0, train_loss_step=0.179, train_acc=0.965, train_acc_func=0.360, train_mcc=0.193, val_loss_step=4.140, val_loss_epoch=4.140, val_auroc=0.223, val_acc=0.996, val_mcc=0.703, train_loss_epoch=0.180]        \n",
      "Epoch 36:  25%|██▌       | 1/4 [00:00<00:02,  1.12it/s, v_num=0, train_loss_step=0.199, train_acc=0.969, train_acc_func=0.379, train_mcc=0.168, val_loss_step=4.140, val_loss_epoch=4.140, val_auroc=0.223, val_acc=0.996, val_mcc=0.703, train_loss_epoch=0.180]\n",
      "Epoch 36:  50%|█████     | 2/4 [00:01<00:01,  1.44it/s, v_num=0, train_loss_step=0.153, train_acc=0.979, train_acc_func=0.401, train_mcc=0.206, val_loss_step=4.140, val_loss_epoch=4.140, val_auroc=0.223, val_acc=0.996, val_mcc=0.703, train_loss_epoch=0.180]\n",
      "Epoch 36:  75%|███████▌  | 3/4 [00:01<00:00,  1.64it/s, v_num=0, train_loss_step=0.164, train_acc=0.975, train_acc_func=0.398, train_mcc=0.189, val_loss_step=4.140, val_loss_epoch=4.140, val_auroc=0.223, val_acc=0.996, val_mcc=0.703, train_loss_epoch=0.180]\n",
      "Epoch 36: 100%|██████████| 4/4 [00:02<00:00,  1.49it/s, v_num=0, train_loss_step=0.223, train_acc=0.963, train_acc_func=0.382, train_mcc=0.189, val_loss_step=4.140, val_loss_epoch=4.140, val_auroc=0.223, val_acc=0.996, val_mcc=0.703, train_loss_epoch=0.180]\n",
      "\u001b[36m(train_linevd pid=14937)\u001b[0m \n",
      "Validation: |          | 0/? [00:00<?, ?it/s]\u001b[A\n",
      "\u001b[36m(train_linevd pid=14937)\u001b[0m \n",
      "Validation:   0%|          | 0/1 [00:00<?, ?it/s]\u001b[A\n",
      "Validation DataLoader 0:   0%|          | 0/1 [00:00<?, ?it/s]\u001b[A\n",
      "\u001b[36m(train_linevd pid=14937)\u001b[0m \n",
      "Validation DataLoader 0: 100%|██████████| 1/1 [00:00<00:00,  1.53it/s]\u001b[A\n"
     ]
    },
    {
     "name": "stderr",
     "output_type": "stream",
     "text": [
      "\u001b[36m(train_linevd pid=14937)\u001b[0m Checkpoint successfully created at: Checkpoint(filesystem=local, path=/home/ubuntu/linevd/storage/processed/raytune_best_-1/202401100409_1fca96a_update_get_data.sh/tune_linevd/train_linevd_541e2_00000_0_batch_size=1024,embtype=codebert,gatdropout=0.2000,gnntype=gcn,gtype=pdg_raw,hdropout=0.3000,hfeat=512,_2024-01-10_04-09-08/checkpoint_000036)\n"
     ]
    },
    {
     "name": "stdout",
     "output_type": "stream",
     "text": [
      "\u001b[36m(train_linevd pid=14937)\u001b[0m \n",
      "Epoch 37:   0%|          | 0/4 [00:00<?, ?it/s, v_num=0, train_loss_step=0.223, train_acc=0.963, train_acc_func=0.382, train_mcc=0.189, val_loss_step=4.140, val_loss_epoch=4.140, val_auroc=0.223, val_acc=0.996, val_mcc=0.703, train_loss_epoch=0.185]        \n",
      "Epoch 37:  25%|██▌       | 1/4 [00:00<00:02,  1.20it/s, v_num=0, train_loss_step=0.170, train_acc=0.970, train_acc_func=0.404, train_mcc=0.171, val_loss_step=4.140, val_loss_epoch=4.140, val_auroc=0.223, val_acc=0.996, val_mcc=0.703, train_loss_epoch=0.185]\n",
      "Epoch 37:  50%|█████     | 2/4 [00:01<00:01,  1.55it/s, v_num=0, train_loss_step=0.185, train_acc=0.969, train_acc_func=0.377, train_mcc=0.168, val_loss_step=4.140, val_loss_epoch=4.140, val_auroc=0.223, val_acc=0.996, val_mcc=0.703, train_loss_epoch=0.185]\n",
      "Epoch 37:  75%|███████▌  | 3/4 [00:01<00:00,  1.72it/s, v_num=0, train_loss_step=0.178, train_acc=0.973, train_acc_func=0.388, train_mcc=0.181, val_loss_step=4.140, val_loss_epoch=4.140, val_auroc=0.223, val_acc=0.996, val_mcc=0.703, train_loss_epoch=0.185]\n",
      "Epoch 37: 100%|██████████| 4/4 [00:02<00:00,  1.94it/s, v_num=0, train_loss_step=0.159, train_acc=0.980, train_acc_func=0.397, train_mcc=0.259, val_loss_step=4.140, val_loss_epoch=4.140, val_auroc=0.223, val_acc=0.996, val_mcc=0.703, train_loss_epoch=0.185]\n",
      "\u001b[36m(train_linevd pid=14937)\u001b[0m \n",
      "Validation: |          | 0/? [00:00<?, ?it/s]\u001b[A\n",
      "\u001b[36m(train_linevd pid=14937)\u001b[0m \n",
      "Validation:   0%|          | 0/1 [00:00<?, ?it/s]\u001b[A\n",
      "Validation DataLoader 0:   0%|          | 0/1 [00:00<?, ?it/s]\u001b[A\n",
      "\u001b[36m(train_linevd pid=14937)\u001b[0m \n",
      "Validation DataLoader 0: 100%|██████████| 1/1 [00:00<00:00, 13.25it/s]\u001b[A\n"
     ]
    },
    {
     "name": "stderr",
     "output_type": "stream",
     "text": [
      "\u001b[36m(train_linevd pid=14937)\u001b[0m Checkpoint successfully created at: Checkpoint(filesystem=local, path=/home/ubuntu/linevd/storage/processed/raytune_best_-1/202401100409_1fca96a_update_get_data.sh/tune_linevd/train_linevd_541e2_00000_0_batch_size=1024,embtype=codebert,gatdropout=0.2000,gnntype=gcn,gtype=pdg_raw,hdropout=0.3000,hfeat=512,_2024-01-10_04-09-08/checkpoint_000037)\n"
     ]
    },
    {
     "name": "stdout",
     "output_type": "stream",
     "text": [
      "\u001b[36m(train_linevd pid=14937)\u001b[0m \n",
      "Epoch 38:   0%|          | 0/4 [00:00<?, ?it/s, v_num=0, train_loss_step=0.159, train_acc=0.980, train_acc_func=0.397, train_mcc=0.259, val_loss_step=4.030, val_loss_epoch=4.030, val_auroc=0.223, val_acc=0.996, val_mcc=0.703, train_loss_epoch=0.173]        \n",
      "Epoch 38:  25%|██▌       | 1/4 [00:00<00:02,  1.20it/s, v_num=0, train_loss_step=0.126, train_acc=0.979, train_acc_func=0.403, train_mcc=0.211, val_loss_step=4.030, val_loss_epoch=4.030, val_auroc=0.223, val_acc=0.996, val_mcc=0.703, train_loss_epoch=0.173]\n",
      "Epoch 38:  50%|█████     | 2/4 [00:01<00:01,  1.55it/s, v_num=0, train_loss_step=0.211, train_acc=0.971, train_acc_func=0.395, train_mcc=0.174, val_loss_step=4.030, val_loss_epoch=4.030, val_auroc=0.223, val_acc=0.996, val_mcc=0.703, train_loss_epoch=0.173]\n",
      "Epoch 38:  75%|███████▌  | 3/4 [00:01<00:00,  1.73it/s, v_num=0, train_loss_step=0.197, train_acc=0.972, train_acc_func=0.397, train_mcc=0.178, val_loss_step=4.030, val_loss_epoch=4.030, val_auroc=0.223, val_acc=0.996, val_mcc=0.703, train_loss_epoch=0.173]\n",
      "Epoch 38: 100%|██████████| 4/4 [00:02<00:00,  1.94it/s, v_num=0, train_loss_step=0.214, train_acc=0.963, train_acc_func=0.357, train_mcc=0.189, val_loss_step=4.030, val_loss_epoch=4.030, val_auroc=0.223, val_acc=0.996, val_mcc=0.703, train_loss_epoch=0.173]\n",
      "\u001b[36m(train_linevd pid=14937)\u001b[0m \n",
      "Validation: |          | 0/? [00:00<?, ?it/s]\u001b[A\n",
      "\u001b[36m(train_linevd pid=14937)\u001b[0m \n",
      "Validation:   0%|          | 0/1 [00:00<?, ?it/s]\u001b[A\n",
      "Validation DataLoader 0:   0%|          | 0/1 [00:00<?, ?it/s]\u001b[A\n",
      "\u001b[36m(train_linevd pid=14937)\u001b[0m \n",
      "Validation DataLoader 0: 100%|██████████| 1/1 [00:00<00:00,  5.52it/s]\u001b[A\n"
     ]
    },
    {
     "name": "stderr",
     "output_type": "stream",
     "text": [
      "\u001b[36m(train_linevd pid=14937)\u001b[0m Checkpoint successfully created at: Checkpoint(filesystem=local, path=/home/ubuntu/linevd/storage/processed/raytune_best_-1/202401100409_1fca96a_update_get_data.sh/tune_linevd/train_linevd_541e2_00000_0_batch_size=1024,embtype=codebert,gatdropout=0.2000,gnntype=gcn,gtype=pdg_raw,hdropout=0.3000,hfeat=512,_2024-01-10_04-09-08/checkpoint_000038)\n"
     ]
    },
    {
     "name": "stdout",
     "output_type": "stream",
     "text": [
      "\u001b[36m(train_linevd pid=14937)\u001b[0m \n",
      "Epoch 39:   0%|          | 0/4 [00:00<?, ?it/s, v_num=0, train_loss_step=0.214, train_acc=0.963, train_acc_func=0.357, train_mcc=0.189, val_loss_step=4.290, val_loss_epoch=4.290, val_auroc=0.223, val_acc=0.996, val_mcc=0.703, train_loss_epoch=0.187]        \n",
      "Epoch 39:  25%|██▌       | 1/4 [00:01<00:04,  0.67it/s, v_num=0, train_loss_step=0.163, train_acc=0.969, train_acc_func=0.383, train_mcc=0.168, val_loss_step=4.290, val_loss_epoch=4.290, val_auroc=0.223, val_acc=0.996, val_mcc=0.703, train_loss_epoch=0.187]\n",
      "Epoch 39:  50%|█████     | 2/4 [00:02<00:02,  0.99it/s, v_num=0, train_loss_step=0.197, train_acc=0.973, train_acc_func=0.386, train_mcc=0.181, val_loss_step=4.290, val_loss_epoch=4.290, val_auroc=0.223, val_acc=0.996, val_mcc=0.703, train_loss_epoch=0.187]\n",
      "Epoch 39:  75%|███████▌  | 3/4 [00:02<00:00,  1.21it/s, v_num=0, train_loss_step=0.201, train_acc=0.971, train_acc_func=0.405, train_mcc=0.174, val_loss_step=4.290, val_loss_epoch=4.290, val_auroc=0.223, val_acc=0.996, val_mcc=0.703, train_loss_epoch=0.187]\n",
      "Epoch 39: 100%|██████████| 4/4 [00:02<00:00,  1.41it/s, v_num=0, train_loss_step=0.148, train_acc=0.978, train_acc_func=0.389, train_mcc=0.250, val_loss_step=4.290, val_loss_epoch=4.290, val_auroc=0.223, val_acc=0.996, val_mcc=0.703, train_loss_epoch=0.187]\n",
      "Validation: |          | 0/? [00:00<?, ?it/s]\u001b[A\n",
      "\u001b[36m(train_linevd pid=14937)\u001b[0m \n",
      "Validation:   0%|          | 0/1 [00:00<?, ?it/s]\u001b[A\n",
      "Validation DataLoader 0:   0%|          | 0/1 [00:00<?, ?it/s]\u001b[A\n",
      "\u001b[36m(train_linevd pid=14937)\u001b[0m \n",
      "Validation DataLoader 0: 100%|██████████| 1/1 [00:00<00:00, 13.53it/s]\u001b[A\n"
     ]
    },
    {
     "name": "stderr",
     "output_type": "stream",
     "text": [
      "\u001b[36m(train_linevd pid=14937)\u001b[0m Checkpoint successfully created at: Checkpoint(filesystem=local, path=/home/ubuntu/linevd/storage/processed/raytune_best_-1/202401100409_1fca96a_update_get_data.sh/tune_linevd/train_linevd_541e2_00000_0_batch_size=1024,embtype=codebert,gatdropout=0.2000,gnntype=gcn,gtype=pdg_raw,hdropout=0.3000,hfeat=512,_2024-01-10_04-09-08/checkpoint_000039)\n"
     ]
    },
    {
     "name": "stdout",
     "output_type": "stream",
     "text": [
      "\u001b[36m(train_linevd pid=14937)\u001b[0m \n",
      "Epoch 40:   0%|          | 0/4 [00:00<?, ?it/s, v_num=0, train_loss_step=0.148, train_acc=0.978, train_acc_func=0.389, train_mcc=0.250, val_loss_step=4.470, val_loss_epoch=4.470, val_auroc=0.223, val_acc=0.996, val_mcc=0.703, train_loss_epoch=0.177]        \n",
      "Epoch 40:  25%|██▌       | 1/4 [00:02<00:06,  0.45it/s, v_num=0, train_loss_step=0.175, train_acc=0.966, train_acc_func=0.387, train_mcc=0.160, val_loss_step=4.470, val_loss_epoch=4.470, val_auroc=0.223, val_acc=0.996, val_mcc=0.703, train_loss_epoch=0.177]\n",
      "Epoch 40:  50%|█████     | 2/4 [00:03<00:03,  0.64it/s, v_num=0, train_loss_step=0.171, train_acc=0.970, train_acc_func=0.396, train_mcc=0.171, val_loss_step=4.470, val_loss_epoch=4.470, val_auroc=0.223, val_acc=0.996, val_mcc=0.703, train_loss_epoch=0.177]\n",
      "Epoch 40:  75%|███████▌  | 3/4 [00:03<00:01,  0.82it/s, v_num=0, train_loss_step=0.146, train_acc=0.975, train_acc_func=0.384, train_mcc=0.189, val_loss_step=4.470, val_loss_epoch=4.470, val_auroc=0.223, val_acc=0.996, val_mcc=0.703, train_loss_epoch=0.177]\n",
      "Epoch 40: 100%|██████████| 4/4 [00:04<00:00,  0.98it/s, v_num=0, train_loss_step=0.123, train_acc=0.981, train_acc_func=0.401, train_mcc=0.269, val_loss_step=4.470, val_loss_epoch=4.470, val_auroc=0.223, val_acc=0.996, val_mcc=0.703, train_loss_epoch=0.177]\n",
      "Validation: |          | 0/? [00:00<?, ?it/s]\u001b[A\n",
      "\u001b[36m(train_linevd pid=14937)\u001b[0m \n",
      "Validation:   0%|          | 0/1 [00:00<?, ?it/s]\u001b[A\n",
      "Validation DataLoader 0:   0%|          | 0/1 [00:00<?, ?it/s]\u001b[A\n",
      "\u001b[36m(train_linevd pid=14937)\u001b[0m \n",
      "Validation DataLoader 0: 100%|██████████| 1/1 [00:00<00:00,  9.94it/s]\u001b[A\n"
     ]
    },
    {
     "name": "stderr",
     "output_type": "stream",
     "text": [
      "\u001b[36m(train_linevd pid=14937)\u001b[0m Checkpoint successfully created at: Checkpoint(filesystem=local, path=/home/ubuntu/linevd/storage/processed/raytune_best_-1/202401100409_1fca96a_update_get_data.sh/tune_linevd/train_linevd_541e2_00000_0_batch_size=1024,embtype=codebert,gatdropout=0.2000,gnntype=gcn,gtype=pdg_raw,hdropout=0.3000,hfeat=512,_2024-01-10_04-09-08/checkpoint_000040)\n"
     ]
    },
    {
     "name": "stdout",
     "output_type": "stream",
     "text": [
      "\u001b[36m(train_linevd pid=14937)\u001b[0m \n",
      "Epoch 41:   0%|          | 0/4 [00:00<?, ?it/s, v_num=0, train_loss_step=0.123, train_acc=0.981, train_acc_func=0.401, train_mcc=0.269, val_loss_step=4.870, val_loss_epoch=4.870, val_auroc=0.223, val_acc=0.996, val_mcc=0.703, train_loss_epoch=0.154]        \n",
      "Epoch 41:  25%|██▌       | 1/4 [00:00<00:02,  1.08it/s, v_num=0, train_loss_step=0.194, train_acc=0.962, train_acc_func=0.391, train_mcc=0.151, val_loss_step=4.870, val_loss_epoch=4.870, val_auroc=0.223, val_acc=0.996, val_mcc=0.703, train_loss_epoch=0.154]\n",
      "Epoch 41:  50%|█████     | 2/4 [00:03<00:03,  0.64it/s, v_num=0, train_loss_step=0.168, train_acc=0.971, train_acc_func=0.392, train_mcc=0.174, val_loss_step=4.870, val_loss_epoch=4.870, val_auroc=0.223, val_acc=0.996, val_mcc=0.703, train_loss_epoch=0.154]\n",
      "Epoch 41:  75%|███████▌  | 3/4 [00:03<00:01,  0.84it/s, v_num=0, train_loss_step=0.112, train_acc=0.982, train_acc_func=0.393, train_mcc=0.229, val_loss_step=4.870, val_loss_epoch=4.870, val_auroc=0.223, val_acc=0.996, val_mcc=0.703, train_loss_epoch=0.154]\n",
      "Epoch 41: 100%|██████████| 4/4 [00:03<00:00,  1.01it/s, v_num=0, train_loss_step=0.144, train_acc=0.974, train_acc_func=0.388, train_mcc=0.226, val_loss_step=4.870, val_loss_epoch=4.870, val_auroc=0.223, val_acc=0.996, val_mcc=0.703, train_loss_epoch=0.154]\n",
      "\u001b[36m(train_linevd pid=14937)\u001b[0m \n",
      "Validation: |          | 0/? [00:00<?, ?it/s]\u001b[A\n",
      "\u001b[36m(train_linevd pid=14937)\u001b[0m \n",
      "Validation:   0%|          | 0/1 [00:00<?, ?it/s]\u001b[A\n",
      "Validation DataLoader 0:   0%|          | 0/1 [00:00<?, ?it/s]\u001b[A\n",
      "\u001b[36m(train_linevd pid=14937)\u001b[0m \n",
      "Validation DataLoader 0: 100%|██████████| 1/1 [00:00<00:00, 11.45it/s]\u001b[A\n"
     ]
    },
    {
     "name": "stderr",
     "output_type": "stream",
     "text": [
      "\u001b[36m(train_linevd pid=14937)\u001b[0m Checkpoint successfully created at: Checkpoint(filesystem=local, path=/home/ubuntu/linevd/storage/processed/raytune_best_-1/202401100409_1fca96a_update_get_data.sh/tune_linevd/train_linevd_541e2_00000_0_batch_size=1024,embtype=codebert,gatdropout=0.2000,gnntype=gcn,gtype=pdg_raw,hdropout=0.3000,hfeat=512,_2024-01-10_04-09-08/checkpoint_000041)\n"
     ]
    },
    {
     "name": "stdout",
     "output_type": "stream",
     "text": [
      "\u001b[36m(train_linevd pid=14937)\u001b[0m \n",
      "Epoch 42:   0%|          | 0/4 [00:00<?, ?it/s, v_num=0, train_loss_step=0.144, train_acc=0.974, train_acc_func=0.388, train_mcc=0.226, val_loss_step=4.930, val_loss_epoch=4.930, val_auroc=0.223, val_acc=0.996, val_mcc=0.703, train_loss_epoch=0.154]        \n",
      "Epoch 42:  25%|██▌       | 1/4 [00:00<00:02,  1.03it/s, v_num=0, train_loss_step=0.136, train_acc=0.978, train_acc_func=0.404, train_mcc=0.201, val_loss_step=4.930, val_loss_epoch=4.930, val_auroc=0.223, val_acc=0.996, val_mcc=0.703, train_loss_epoch=0.154]\n",
      "Epoch 42:  50%|█████     | 2/4 [00:01<00:01,  1.35it/s, v_num=0, train_loss_step=0.182, train_acc=0.962, train_acc_func=0.394, train_mcc=0.151, val_loss_step=4.930, val_loss_epoch=4.930, val_auroc=0.223, val_acc=0.996, val_mcc=0.703, train_loss_epoch=0.154]\n",
      "Epoch 42:  75%|███████▌  | 3/4 [00:02<00:00,  1.05it/s, v_num=0, train_loss_step=0.159, train_acc=0.973, train_acc_func=0.368, train_mcc=0.181, val_loss_step=4.930, val_loss_epoch=4.930, val_auroc=0.223, val_acc=0.996, val_mcc=0.703, train_loss_epoch=0.154]\n",
      "Epoch 42: 100%|██████████| 4/4 [00:03<00:00,  1.01it/s, v_num=0, train_loss_step=0.139, train_acc=0.978, train_acc_func=0.401, train_mcc=0.250, val_loss_step=4.930, val_loss_epoch=4.930, val_auroc=0.223, val_acc=0.996, val_mcc=0.703, train_loss_epoch=0.154]\n",
      "\u001b[36m(train_linevd pid=14937)\u001b[0m \n",
      "Validation: |          | 0/? [00:00<?, ?it/s]\u001b[A\n",
      "\u001b[36m(train_linevd pid=14937)\u001b[0m \n",
      "Validation:   0%|          | 0/1 [00:00<?, ?it/s]\u001b[A\n",
      "Validation DataLoader 0:   0%|          | 0/1 [00:00<?, ?it/s]\u001b[A\n",
      "Validation DataLoader 0: 100%|██████████| 1/1 [00:00<00:00, 13.89it/s]\u001b[A\n"
     ]
    },
    {
     "name": "stderr",
     "output_type": "stream",
     "text": [
      "\u001b[36m(train_linevd pid=14937)\u001b[0m Checkpoint successfully created at: Checkpoint(filesystem=local, path=/home/ubuntu/linevd/storage/processed/raytune_best_-1/202401100409_1fca96a_update_get_data.sh/tune_linevd/train_linevd_541e2_00000_0_batch_size=1024,embtype=codebert,gatdropout=0.2000,gnntype=gcn,gtype=pdg_raw,hdropout=0.3000,hfeat=512,_2024-01-10_04-09-08/checkpoint_000042)\n"
     ]
    },
    {
     "name": "stdout",
     "output_type": "stream",
     "text": [
      "\u001b[36m(train_linevd pid=14937)\u001b[0m \n",
      "Epoch 43:   0%|          | 0/4 [00:00<?, ?it/s, v_num=0, train_loss_step=0.139, train_acc=0.978, train_acc_func=0.401, train_mcc=0.250, val_loss_step=5.000, val_loss_epoch=5.000, val_auroc=0.223, val_acc=0.996, val_mcc=0.703, train_loss_epoch=0.154]        \n",
      "Epoch 43:  25%|██▌       | 1/4 [00:00<00:02,  1.18it/s, v_num=0, train_loss_step=0.127, train_acc=0.977, train_acc_func=0.397, train_mcc=0.197, val_loss_step=5.000, val_loss_epoch=5.000, val_auroc=0.223, val_acc=0.996, val_mcc=0.703, train_loss_epoch=0.154]\n",
      "Epoch 43:  50%|█████     | 2/4 [00:01<00:01,  1.51it/s, v_num=0, train_loss_step=0.117, train_acc=0.979, train_acc_func=0.393, train_mcc=0.206, val_loss_step=5.000, val_loss_epoch=5.000, val_auroc=0.223, val_acc=0.996, val_mcc=0.703, train_loss_epoch=0.154]\n",
      "Epoch 43:  75%|███████▌  | 3/4 [00:01<00:00,  1.68it/s, v_num=0, train_loss_step=0.169, train_acc=0.968, train_acc_func=0.394, train_mcc=0.166, val_loss_step=5.000, val_loss_epoch=5.000, val_auroc=0.223, val_acc=0.996, val_mcc=0.703, train_loss_epoch=0.154]\n",
      "Epoch 43: 100%|██████████| 4/4 [00:02<00:00,  1.86it/s, v_num=0, train_loss_step=0.207, train_acc=0.962, train_acc_func=0.375, train_mcc=0.185, val_loss_step=5.000, val_loss_epoch=5.000, val_auroc=0.223, val_acc=0.996, val_mcc=0.703, train_loss_epoch=0.154]\n",
      "\u001b[36m(train_linevd pid=14937)\u001b[0m \n",
      "Validation: |          | 0/? [00:00<?, ?it/s]\u001b[A\n",
      "\u001b[36m(train_linevd pid=14937)\u001b[0m \n",
      "Validation:   0%|          | 0/1 [00:00<?, ?it/s]\u001b[A\n",
      "Validation DataLoader 0:   0%|          | 0/1 [00:00<?, ?it/s]\u001b[A\n",
      "\u001b[36m(train_linevd pid=14937)\u001b[0m \n",
      "Validation DataLoader 0: 100%|██████████| 1/1 [00:00<00:00,  2.99it/s]\u001b[A\n"
     ]
    },
    {
     "name": "stderr",
     "output_type": "stream",
     "text": [
      "\u001b[36m(train_linevd pid=14937)\u001b[0m Checkpoint successfully created at: Checkpoint(filesystem=local, path=/home/ubuntu/linevd/storage/processed/raytune_best_-1/202401100409_1fca96a_update_get_data.sh/tune_linevd/train_linevd_541e2_00000_0_batch_size=1024,embtype=codebert,gatdropout=0.2000,gnntype=gcn,gtype=pdg_raw,hdropout=0.3000,hfeat=512,_2024-01-10_04-09-08/checkpoint_000043)\n"
     ]
    },
    {
     "name": "stdout",
     "output_type": "stream",
     "text": [
      "\u001b[36m(train_linevd pid=14937)\u001b[0m \n",
      "Epoch 44:   0%|          | 0/4 [00:00<?, ?it/s, v_num=0, train_loss_step=0.207, train_acc=0.962, train_acc_func=0.375, train_mcc=0.185, val_loss_step=4.810, val_loss_epoch=4.810, val_auroc=0.222, val_acc=0.996, val_mcc=0.703, train_loss_epoch=0.155]        \n",
      "Epoch 44:  25%|██▌       | 1/4 [00:01<00:04,  0.75it/s, v_num=0, train_loss_step=0.127, train_acc=0.977, train_acc_func=0.412, train_mcc=0.197, val_loss_step=4.810, val_loss_epoch=4.810, val_auroc=0.222, val_acc=0.996, val_mcc=0.703, train_loss_epoch=0.155]\n",
      "Epoch 44:  50%|█████     | 2/4 [00:01<00:01,  1.09it/s, v_num=0, train_loss_step=0.152, train_acc=0.971, train_acc_func=0.384, train_mcc=0.174, val_loss_step=4.810, val_loss_epoch=4.810, val_auroc=0.222, val_acc=0.996, val_mcc=0.703, train_loss_epoch=0.155]\n",
      "Epoch 44:  75%|███████▌  | 3/4 [00:02<00:00,  1.32it/s, v_num=0, train_loss_step=0.175, train_acc=0.965, train_acc_func=0.376, train_mcc=0.158, val_loss_step=4.810, val_loss_epoch=4.810, val_auroc=0.222, val_acc=0.996, val_mcc=0.703, train_loss_epoch=0.155]\n",
      "Epoch 44: 100%|██████████| 4/4 [00:02<00:00,  1.54it/s, v_num=0, train_loss_step=0.132, train_acc=0.978, train_acc_func=0.392, train_mcc=0.250, val_loss_step=4.810, val_loss_epoch=4.810, val_auroc=0.222, val_acc=0.996, val_mcc=0.703, train_loss_epoch=0.155]\n",
      "\u001b[36m(train_linevd pid=14937)\u001b[0m \n",
      "Validation: |          | 0/? [00:00<?, ?it/s]\u001b[A\n",
      "\u001b[36m(train_linevd pid=14937)\u001b[0m \n",
      "Validation:   0%|          | 0/1 [00:00<?, ?it/s]\u001b[A\n",
      "Validation DataLoader 0:   0%|          | 0/1 [00:00<?, ?it/s]\u001b[A\n",
      "\u001b[36m(train_linevd pid=14937)\u001b[0m \n",
      "Validation DataLoader 0: 100%|██████████| 1/1 [00:00<00:00, 13.12it/s]\u001b[A\n"
     ]
    },
    {
     "name": "stderr",
     "output_type": "stream",
     "text": [
      "\u001b[36m(train_linevd pid=14937)\u001b[0m Checkpoint successfully created at: Checkpoint(filesystem=local, path=/home/ubuntu/linevd/storage/processed/raytune_best_-1/202401100409_1fca96a_update_get_data.sh/tune_linevd/train_linevd_541e2_00000_0_batch_size=1024,embtype=codebert,gatdropout=0.2000,gnntype=gcn,gtype=pdg_raw,hdropout=0.3000,hfeat=512,_2024-01-10_04-09-08/checkpoint_000044)\n"
     ]
    },
    {
     "name": "stdout",
     "output_type": "stream",
     "text": [
      "\u001b[36m(train_linevd pid=14937)\u001b[0m \n",
      "Epoch 45:   0%|          | 0/4 [00:00<?, ?it/s, v_num=0, train_loss_step=0.132, train_acc=0.978, train_acc_func=0.392, train_mcc=0.250, val_loss_step=5.390, val_loss_epoch=5.390, val_auroc=0.222, val_acc=0.996, val_mcc=0.703, train_loss_epoch=0.147]        \n",
      "Epoch 45:  25%|██▌       | 1/4 [00:02<00:06,  0.43it/s, v_num=0, train_loss_step=0.127, train_acc=0.978, train_acc_func=0.396, train_mcc=0.201, val_loss_step=5.390, val_loss_epoch=5.390, val_auroc=0.222, val_acc=0.996, val_mcc=0.703, train_loss_epoch=0.147]\n",
      "Epoch 45:  50%|█████     | 2/4 [00:02<00:02,  0.68it/s, v_num=0, train_loss_step=0.151, train_acc=0.971, train_acc_func=0.384, train_mcc=0.174, val_loss_step=5.390, val_loss_epoch=5.390, val_auroc=0.222, val_acc=0.996, val_mcc=0.703, train_loss_epoch=0.147]\n",
      "Epoch 45:  75%|███████▌  | 3/4 [00:03<00:01,  0.89it/s, v_num=0, train_loss_step=0.164, train_acc=0.968, train_acc_func=0.398, train_mcc=0.166, val_loss_step=5.390, val_loss_epoch=5.390, val_auroc=0.222, val_acc=0.996, val_mcc=0.703, train_loss_epoch=0.147]\n",
      "Epoch 45: 100%|██████████| 4/4 [00:03<00:00,  1.08it/s, v_num=0, train_loss_step=0.153, train_acc=0.972, train_acc_func=0.382, train_mcc=0.220, val_loss_step=5.390, val_loss_epoch=5.390, val_auroc=0.222, val_acc=0.996, val_mcc=0.703, train_loss_epoch=0.147]\n",
      "Validation: |          | 0/? [00:00<?, ?it/s]\u001b[A\n",
      "\u001b[36m(train_linevd pid=14937)\u001b[0m \n",
      "Validation:   0%|          | 0/1 [00:00<?, ?it/s]\u001b[A\n",
      "Validation DataLoader 0:   0%|          | 0/1 [00:00<?, ?it/s]\u001b[A\n",
      "\u001b[36m(train_linevd pid=14937)\u001b[0m \n",
      "Validation DataLoader 0: 100%|██████████| 1/1 [00:00<00:00, 15.43it/s]\u001b[A\n"
     ]
    },
    {
     "name": "stderr",
     "output_type": "stream",
     "text": [
      "\u001b[36m(train_linevd pid=14937)\u001b[0m Checkpoint successfully created at: Checkpoint(filesystem=local, path=/home/ubuntu/linevd/storage/processed/raytune_best_-1/202401100409_1fca96a_update_get_data.sh/tune_linevd/train_linevd_541e2_00000_0_batch_size=1024,embtype=codebert,gatdropout=0.2000,gnntype=gcn,gtype=pdg_raw,hdropout=0.3000,hfeat=512,_2024-01-10_04-09-08/checkpoint_000045)\n"
     ]
    },
    {
     "name": "stdout",
     "output_type": "stream",
     "text": [
      "\u001b[36m(train_linevd pid=14937)\u001b[0m \n",
      "Epoch 46:   0%|          | 0/4 [00:00<?, ?it/s, v_num=0, train_loss_step=0.153, train_acc=0.972, train_acc_func=0.382, train_mcc=0.220, val_loss_step=5.150, val_loss_epoch=5.150, val_auroc=0.222, val_acc=0.996, val_mcc=0.703, train_loss_epoch=0.149]        \n",
      "Epoch 46:  25%|██▌       | 1/4 [00:00<00:02,  1.05it/s, v_num=0, train_loss_step=0.137, train_acc=0.977, train_acc_func=0.394, train_mcc=0.197, val_loss_step=5.150, val_loss_epoch=5.150, val_auroc=0.222, val_acc=0.996, val_mcc=0.703, train_loss_epoch=0.149]\n",
      "Epoch 46:  50%|█████     | 2/4 [00:01<00:01,  1.41it/s, v_num=0, train_loss_step=0.132, train_acc=0.975, train_acc_func=0.398, train_mcc=0.189, val_loss_step=5.150, val_loss_epoch=5.150, val_auroc=0.222, val_acc=0.996, val_mcc=0.703, train_loss_epoch=0.149]\n",
      "Epoch 46:  75%|███████▌  | 3/4 [00:03<00:01,  0.86it/s, v_num=0, train_loss_step=0.168, train_acc=0.967, train_acc_func=0.378, train_mcc=0.163, val_loss_step=5.150, val_loss_epoch=5.150, val_auroc=0.222, val_acc=0.996, val_mcc=0.703, train_loss_epoch=0.149]\n",
      "Epoch 46: 100%|██████████| 4/4 [00:03<00:00,  1.04it/s, v_num=0, train_loss_step=0.169, train_acc=0.969, train_acc_func=0.395, train_mcc=0.208, val_loss_step=5.150, val_loss_epoch=5.150, val_auroc=0.222, val_acc=0.996, val_mcc=0.703, train_loss_epoch=0.149]\n",
      "Validation: |          | 0/? [00:00<?, ?it/s]\u001b[A\n",
      "\u001b[36m(train_linevd pid=14937)\u001b[0m \n",
      "Validation:   0%|          | 0/1 [00:00<?, ?it/s]\u001b[A\n",
      "Validation DataLoader 0:   0%|          | 0/1 [00:00<?, ?it/s]\u001b[A\n",
      "\u001b[36m(train_linevd pid=14937)\u001b[0m \n",
      "Validation DataLoader 0: 100%|██████████| 1/1 [00:00<00:00, 14.37it/s]\u001b[A\n"
     ]
    },
    {
     "name": "stderr",
     "output_type": "stream",
     "text": [
      "\u001b[36m(train_linevd pid=14937)\u001b[0m Checkpoint successfully created at: Checkpoint(filesystem=local, path=/home/ubuntu/linevd/storage/processed/raytune_best_-1/202401100409_1fca96a_update_get_data.sh/tune_linevd/train_linevd_541e2_00000_0_batch_size=1024,embtype=codebert,gatdropout=0.2000,gnntype=gcn,gtype=pdg_raw,hdropout=0.3000,hfeat=512,_2024-01-10_04-09-08/checkpoint_000046)\n"
     ]
    },
    {
     "name": "stdout",
     "output_type": "stream",
     "text": [
      "\u001b[36m(train_linevd pid=14937)\u001b[0m \n",
      "Epoch 47:   0%|          | 0/4 [00:00<?, ?it/s, v_num=0, train_loss_step=0.169, train_acc=0.969, train_acc_func=0.395, train_mcc=0.208, val_loss_step=5.280, val_loss_epoch=5.280, val_auroc=0.222, val_acc=0.996, val_mcc=0.703, train_loss_epoch=0.151]        \n",
      "Epoch 47:  25%|██▌       | 1/4 [00:00<00:02,  1.14it/s, v_num=0, train_loss_step=0.143, train_acc=0.972, train_acc_func=0.391, train_mcc=0.178, val_loss_step=5.280, val_loss_epoch=5.280, val_auroc=0.222, val_acc=0.996, val_mcc=0.703, train_loss_epoch=0.151]\n",
      "Epoch 47:  50%|█████     | 2/4 [00:01<00:01,  1.43it/s, v_num=0, train_loss_step=0.162, train_acc=0.971, train_acc_func=0.375, train_mcc=0.174, val_loss_step=5.280, val_loss_epoch=5.280, val_auroc=0.222, val_acc=0.996, val_mcc=0.703, train_loss_epoch=0.151]\n",
      "Epoch 47:  75%|███████▌  | 3/4 [00:01<00:00,  1.64it/s, v_num=0, train_loss_step=0.154, train_acc=0.971, train_acc_func=0.403, train_mcc=0.174, val_loss_step=5.280, val_loss_epoch=5.280, val_auroc=0.222, val_acc=0.996, val_mcc=0.703, train_loss_epoch=0.151]\n",
      "Epoch 47: 100%|██████████| 4/4 [00:02<00:00,  1.86it/s, v_num=0, train_loss_step=0.136, train_acc=0.977, train_acc_func=0.397, train_mcc=0.241, val_loss_step=5.280, val_loss_epoch=5.280, val_auroc=0.222, val_acc=0.996, val_mcc=0.703, train_loss_epoch=0.151]\n",
      "\u001b[36m(train_linevd pid=14937)\u001b[0m \n",
      "Validation: |          | 0/? [00:00<?, ?it/s]\u001b[A\n",
      "\u001b[36m(train_linevd pid=14937)\u001b[0m \n",
      "Validation:   0%|          | 0/1 [00:00<?, ?it/s]\u001b[A\n",
      "Validation DataLoader 0:   0%|          | 0/1 [00:00<?, ?it/s]\u001b[A\n",
      "\u001b[36m(train_linevd pid=14937)\u001b[0m \n",
      "Validation DataLoader 0: 100%|██████████| 1/1 [00:00<00:00, 13.23it/s]\u001b[A\n"
     ]
    },
    {
     "name": "stderr",
     "output_type": "stream",
     "text": [
      "\u001b[36m(train_linevd pid=14937)\u001b[0m Checkpoint successfully created at: Checkpoint(filesystem=local, path=/home/ubuntu/linevd/storage/processed/raytune_best_-1/202401100409_1fca96a_update_get_data.sh/tune_linevd/train_linevd_541e2_00000_0_batch_size=1024,embtype=codebert,gatdropout=0.2000,gnntype=gcn,gtype=pdg_raw,hdropout=0.3000,hfeat=512,_2024-01-10_04-09-08/checkpoint_000047)\n"
     ]
    },
    {
     "name": "stdout",
     "output_type": "stream",
     "text": [
      "\u001b[36m(train_linevd pid=14937)\u001b[0m \n",
      "Epoch 48:   0%|          | 0/4 [00:00<?, ?it/s, v_num=0, train_loss_step=0.136, train_acc=0.977, train_acc_func=0.397, train_mcc=0.241, val_loss_step=5.580, val_loss_epoch=5.580, val_auroc=0.222, val_acc=0.996, val_mcc=0.703, train_loss_epoch=0.149]        \n",
      "Epoch 48:  25%|██▌       | 1/4 [00:00<00:02,  1.04it/s, v_num=0, train_loss_step=0.129, train_acc=0.974, train_acc_func=0.385, train_mcc=0.185, val_loss_step=5.580, val_loss_epoch=5.580, val_auroc=0.222, val_acc=0.996, val_mcc=0.703, train_loss_epoch=0.149]\n",
      "Epoch 48:  50%|█████     | 2/4 [00:01<00:01,  1.37it/s, v_num=0, train_loss_step=0.164, train_acc=0.968, train_acc_func=0.393, train_mcc=0.166, val_loss_step=5.580, val_loss_epoch=5.580, val_auroc=0.222, val_acc=0.996, val_mcc=0.703, train_loss_epoch=0.149]\n",
      "Epoch 48:  75%|███████▌  | 3/4 [00:01<00:00,  1.59it/s, v_num=0, train_loss_step=0.158, train_acc=0.969, train_acc_func=0.382, train_mcc=0.168, val_loss_step=5.580, val_loss_epoch=5.580, val_auroc=0.222, val_acc=0.996, val_mcc=0.703, train_loss_epoch=0.149]\n",
      "Epoch 48: 100%|██████████| 4/4 [00:02<00:00,  1.81it/s, v_num=0, train_loss_step=0.133, train_acc=0.981, train_acc_func=0.411, train_mcc=0.269, val_loss_step=5.580, val_loss_epoch=5.580, val_auroc=0.222, val_acc=0.996, val_mcc=0.703, train_loss_epoch=0.149]\n",
      "Validation: |          | 0/? [00:00<?, ?it/s]\u001b[A\n",
      "\u001b[36m(train_linevd pid=14937)\u001b[0m \n",
      "Validation:   0%|          | 0/1 [00:00<?, ?it/s]\u001b[A\n",
      "Validation DataLoader 0:   0%|          | 0/1 [00:00<?, ?it/s]\u001b[A\n",
      "\u001b[36m(train_linevd pid=14937)\u001b[0m \n",
      "Validation DataLoader 0: 100%|██████████| 1/1 [00:00<00:00, 12.09it/s]\u001b[A\n"
     ]
    },
    {
     "name": "stderr",
     "output_type": "stream",
     "text": [
      "\u001b[36m(train_linevd pid=14937)\u001b[0m Checkpoint successfully created at: Checkpoint(filesystem=local, path=/home/ubuntu/linevd/storage/processed/raytune_best_-1/202401100409_1fca96a_update_get_data.sh/tune_linevd/train_linevd_541e2_00000_0_batch_size=1024,embtype=codebert,gatdropout=0.2000,gnntype=gcn,gtype=pdg_raw,hdropout=0.3000,hfeat=512,_2024-01-10_04-09-08/checkpoint_000048)\n"
     ]
    },
    {
     "name": "stdout",
     "output_type": "stream",
     "text": [
      "\u001b[36m(train_linevd pid=14937)\u001b[0m \n",
      "Epoch 49:   0%|          | 0/4 [00:00<?, ?it/s, v_num=0, train_loss_step=0.133, train_acc=0.981, train_acc_func=0.411, train_mcc=0.269, val_loss_step=4.650, val_loss_epoch=4.650, val_auroc=0.223, val_acc=0.996, val_mcc=0.703, train_loss_epoch=0.146]        \n",
      "Epoch 49:  25%|██▌       | 1/4 [00:00<00:02,  1.08it/s, v_num=0, train_loss_step=0.212, train_acc=0.970, train_acc_func=0.395, train_mcc=0.171, val_loss_step=4.650, val_loss_epoch=4.650, val_auroc=0.223, val_acc=0.996, val_mcc=0.703, train_loss_epoch=0.146]\n",
      "Epoch 49:  50%|█████     | 2/4 [00:02<00:02,  0.84it/s, v_num=0, train_loss_step=0.131, train_acc=0.976, train_acc_func=0.399, train_mcc=0.193, val_loss_step=4.650, val_loss_epoch=4.650, val_auroc=0.223, val_acc=0.996, val_mcc=0.703, train_loss_epoch=0.146]\n",
      "Epoch 49:  75%|███████▌  | 3/4 [00:03<00:01,  0.88it/s, v_num=0, train_loss_step=0.199, train_acc=0.967, train_acc_func=0.378, train_mcc=0.163, val_loss_step=4.650, val_loss_epoch=4.650, val_auroc=0.223, val_acc=0.996, val_mcc=0.703, train_loss_epoch=0.146]\n",
      "Epoch 49: 100%|██████████| 4/4 [00:03<00:00,  1.07it/s, v_num=0, train_loss_step=0.199, train_acc=0.967, train_acc_func=0.378, train_mcc=0.163, val_loss_step=4.650, val_loss_epoch=4.650, val_auroc=0.223, val_acc=0.996, val_mcc=0.703, train_loss_epoch=0.146]\n",
      "Epoch 49: 100%|██████████| 4/4 [00:03<00:00,  1.07it/s, v_num=0, train_loss_step=0.123, train_acc=0.978, train_acc_func=0.392, train_mcc=0.250, val_loss_step=4.650, val_loss_epoch=4.650, val_auroc=0.223, val_acc=0.996, val_mcc=0.703, train_loss_epoch=0.146]\n",
      "\u001b[36m(train_linevd pid=14937)\u001b[0m \n",
      "Validation: |          | 0/? [00:00<?, ?it/s]\u001b[A\n",
      "\u001b[36m(train_linevd pid=14937)\u001b[0m \n",
      "Validation:   0%|          | 0/1 [00:00<?, ?it/s]\u001b[A\n",
      "Validation DataLoader 0:   0%|          | 0/1 [00:00<?, ?it/s]\u001b[A\n",
      "\u001b[36m(train_linevd pid=14937)\u001b[0m \n",
      "Validation DataLoader 0: 100%|██████████| 1/1 [00:00<00:00, 12.56it/s]\u001b[A\n"
     ]
    },
    {
     "name": "stderr",
     "output_type": "stream",
     "text": [
      "\u001b[36m(train_linevd pid=14937)\u001b[0m Checkpoint successfully created at: Checkpoint(filesystem=local, path=/home/ubuntu/linevd/storage/processed/raytune_best_-1/202401100409_1fca96a_update_get_data.sh/tune_linevd/train_linevd_541e2_00000_0_batch_size=1024,embtype=codebert,gatdropout=0.2000,gnntype=gcn,gtype=pdg_raw,hdropout=0.3000,hfeat=512,_2024-01-10_04-09-08/checkpoint_000049)\n"
     ]
    },
    {
     "name": "stdout",
     "output_type": "stream",
     "text": [
      "\u001b[36m(train_linevd pid=14937)\u001b[0m \n",
      "Epoch 50:   0%|          | 0/4 [00:00<?, ?it/s, v_num=0, train_loss_step=0.123, train_acc=0.978, train_acc_func=0.392, train_mcc=0.250, val_loss_step=5.190, val_loss_epoch=5.190, val_auroc=0.223, val_acc=0.996, val_mcc=0.703, train_loss_epoch=0.166]        \n",
      "Epoch 50:  25%|██▌       | 1/4 [00:01<00:03,  0.95it/s, v_num=0, train_loss_step=0.154, train_acc=0.974, train_acc_func=0.375, train_mcc=0.185, val_loss_step=5.190, val_loss_epoch=5.190, val_auroc=0.223, val_acc=0.996, val_mcc=0.703, train_loss_epoch=0.166]\n",
      "Epoch 50:  50%|█████     | 2/4 [00:01<00:01,  1.25it/s, v_num=0, train_loss_step=0.159, train_acc=0.969, train_acc_func=0.380, train_mcc=0.168, val_loss_step=5.190, val_loss_epoch=5.190, val_auroc=0.223, val_acc=0.996, val_mcc=0.703, train_loss_epoch=0.166]\n",
      "Epoch 50:  75%|███████▌  | 3/4 [00:02<00:00,  1.25it/s, v_num=0, train_loss_step=0.133, train_acc=0.975, train_acc_func=0.425, train_mcc=0.189, val_loss_step=5.190, val_loss_epoch=5.190, val_auroc=0.223, val_acc=0.996, val_mcc=0.703, train_loss_epoch=0.166]\n",
      "Epoch 50: 100%|██████████| 4/4 [00:04<00:00,  0.99it/s, v_num=0, train_loss_step=0.148, train_acc=0.971, train_acc_func=0.381, train_mcc=0.214, val_loss_step=5.190, val_loss_epoch=5.190, val_auroc=0.223, val_acc=0.996, val_mcc=0.703, train_loss_epoch=0.166]\n",
      "\u001b[36m(train_linevd pid=14937)\u001b[0m \n",
      "Validation: |          | 0/? [00:00<?, ?it/s]\u001b[A\n",
      "\u001b[36m(train_linevd pid=14937)\u001b[0m \n",
      "Validation:   0%|          | 0/1 [00:00<?, ?it/s]\u001b[A\n",
      "Validation DataLoader 0:   0%|          | 0/1 [00:00<?, ?it/s]\u001b[A\n",
      "Validation DataLoader 0: 100%|██████████| 1/1 [00:00<00:00, 12.88it/s]\u001b[A\n"
     ]
    },
    {
     "name": "stderr",
     "output_type": "stream",
     "text": [
      "\u001b[36m(train_linevd pid=14937)\u001b[0m Checkpoint successfully created at: Checkpoint(filesystem=local, path=/home/ubuntu/linevd/storage/processed/raytune_best_-1/202401100409_1fca96a_update_get_data.sh/tune_linevd/train_linevd_541e2_00000_0_batch_size=1024,embtype=codebert,gatdropout=0.2000,gnntype=gcn,gtype=pdg_raw,hdropout=0.3000,hfeat=512,_2024-01-10_04-09-08/checkpoint_000050)\n"
     ]
    },
    {
     "name": "stdout",
     "output_type": "stream",
     "text": [
      "\u001b[36m(train_linevd pid=14937)\u001b[0m \n",
      "Epoch 51:   0%|          | 0/4 [00:00<?, ?it/s, v_num=0, train_loss_step=0.148, train_acc=0.971, train_acc_func=0.381, train_mcc=0.214, val_loss_step=6.650, val_loss_epoch=6.650, val_auroc=0.223, val_acc=0.996, val_mcc=0.703, train_loss_epoch=0.148]        \n",
      "Epoch 51:  25%|██▌       | 1/4 [00:00<00:02,  1.02it/s, v_num=0, train_loss_step=0.110, train_acc=0.983, train_acc_func=0.404, train_mcc=0.236, val_loss_step=6.650, val_loss_epoch=6.650, val_auroc=0.223, val_acc=0.996, val_mcc=0.703, train_loss_epoch=0.148]\n",
      "Epoch 51:  50%|█████     | 2/4 [00:01<00:01,  1.37it/s, v_num=0, train_loss_step=0.198, train_acc=0.958, train_acc_func=0.392, train_mcc=0.143, val_loss_step=6.650, val_loss_epoch=6.650, val_auroc=0.223, val_acc=0.996, val_mcc=0.703, train_loss_epoch=0.148]\n",
      "Epoch 51:  75%|███████▌  | 3/4 [00:01<00:00,  1.58it/s, v_num=0, train_loss_step=0.155, train_acc=0.977, train_acc_func=0.384, train_mcc=0.197, val_loss_step=6.650, val_loss_epoch=6.650, val_auroc=0.223, val_acc=0.996, val_mcc=0.703, train_loss_epoch=0.148]\n",
      "Epoch 51: 100%|██████████| 4/4 [00:02<00:00,  1.79it/s, v_num=0, train_loss_step=0.146, train_acc=0.969, train_acc_func=0.381, train_mcc=0.208, val_loss_step=6.650, val_loss_epoch=6.650, val_auroc=0.223, val_acc=0.996, val_mcc=0.703, train_loss_epoch=0.148]\n",
      "Validation: |          | 0/? [00:00<?, ?it/s]\u001b[A\n",
      "\u001b[36m(train_linevd pid=14937)\u001b[0m \n",
      "Validation:   0%|          | 0/1 [00:00<?, ?it/s]\u001b[A\n",
      "Validation DataLoader 0:   0%|          | 0/1 [00:00<?, ?it/s]\u001b[A\n",
      "\u001b[36m(train_linevd pid=14937)\u001b[0m \n",
      "Validation DataLoader 0: 100%|██████████| 1/1 [00:00<00:00, 13.17it/s]\u001b[A\n"
     ]
    },
    {
     "name": "stderr",
     "output_type": "stream",
     "text": [
      "\u001b[36m(train_linevd pid=14937)\u001b[0m Checkpoint successfully created at: Checkpoint(filesystem=local, path=/home/ubuntu/linevd/storage/processed/raytune_best_-1/202401100409_1fca96a_update_get_data.sh/tune_linevd/train_linevd_541e2_00000_0_batch_size=1024,embtype=codebert,gatdropout=0.2000,gnntype=gcn,gtype=pdg_raw,hdropout=0.3000,hfeat=512,_2024-01-10_04-09-08/checkpoint_000051)\n"
     ]
    },
    {
     "name": "stdout",
     "output_type": "stream",
     "text": [
      "\u001b[36m(train_linevd pid=14937)\u001b[0m \n",
      "Epoch 52:   0%|          | 0/4 [00:00<?, ?it/s, v_num=0, train_loss_step=0.146, train_acc=0.969, train_acc_func=0.381, train_mcc=0.208, val_loss_step=6.630, val_loss_epoch=6.630, val_auroc=0.223, val_acc=0.996, val_mcc=0.703, train_loss_epoch=0.152]        \n",
      "Epoch 52:  25%|██▌       | 1/4 [00:00<00:02,  1.12it/s, v_num=0, train_loss_step=0.142, train_acc=0.975, train_acc_func=0.387, train_mcc=0.189, val_loss_step=6.630, val_loss_epoch=6.630, val_auroc=0.223, val_acc=0.996, val_mcc=0.703, train_loss_epoch=0.152]\n",
      "Epoch 52:  50%|█████     | 2/4 [00:01<00:01,  1.39it/s, v_num=0, train_loss_step=0.161, train_acc=0.969, train_acc_func=0.382, train_mcc=0.168, val_loss_step=6.630, val_loss_epoch=6.630, val_auroc=0.223, val_acc=0.996, val_mcc=0.703, train_loss_epoch=0.152]\n",
      "Epoch 52:  75%|███████▌  | 3/4 [00:01<00:00,  1.58it/s, v_num=0, train_loss_step=0.142, train_acc=0.972, train_acc_func=0.390, train_mcc=0.178, val_loss_step=6.630, val_loss_epoch=6.630, val_auroc=0.223, val_acc=0.996, val_mcc=0.703, train_loss_epoch=0.152]\n",
      "Epoch 52: 100%|██████████| 4/4 [00:02<00:00,  1.76it/s, v_num=0, train_loss_step=0.132, train_acc=0.974, train_acc_func=0.413, train_mcc=0.226, val_loss_step=6.630, val_loss_epoch=6.630, val_auroc=0.223, val_acc=0.996, val_mcc=0.703, train_loss_epoch=0.152]\n",
      "Validation: |          | 0/? [00:00<?, ?it/s]\u001b[A\n",
      "\u001b[36m(train_linevd pid=14937)\u001b[0m \n",
      "Validation:   0%|          | 0/1 [00:00<?, ?it/s]\u001b[A\n",
      "Validation DataLoader 0:   0%|          | 0/1 [00:00<?, ?it/s]\u001b[A\n",
      "\u001b[36m(train_linevd pid=14937)\u001b[0m \n",
      "Validation DataLoader 0: 100%|██████████| 1/1 [00:00<00:00, 13.67it/s]\u001b[A\n"
     ]
    },
    {
     "name": "stderr",
     "output_type": "stream",
     "text": [
      "\u001b[36m(train_linevd pid=14937)\u001b[0m Checkpoint successfully created at: Checkpoint(filesystem=local, path=/home/ubuntu/linevd/storage/processed/raytune_best_-1/202401100409_1fca96a_update_get_data.sh/tune_linevd/train_linevd_541e2_00000_0_batch_size=1024,embtype=codebert,gatdropout=0.2000,gnntype=gcn,gtype=pdg_raw,hdropout=0.3000,hfeat=512,_2024-01-10_04-09-08/checkpoint_000052)\n"
     ]
    },
    {
     "name": "stdout",
     "output_type": "stream",
     "text": [
      "\u001b[36m(train_linevd pid=14937)\u001b[0m \n",
      "Epoch 53:   0%|          | 0/4 [00:00<?, ?it/s, v_num=0, train_loss_step=0.132, train_acc=0.974, train_acc_func=0.413, train_mcc=0.226, val_loss_step=5.490, val_loss_epoch=5.490, val_auroc=0.223, val_acc=0.996, val_mcc=0.703, train_loss_epoch=0.144]        \n",
      "Epoch 53:  25%|██▌       | 1/4 [00:01<00:03,  0.98it/s, v_num=0, train_loss_step=0.142, train_acc=0.973, train_acc_func=0.380, train_mcc=0.181, val_loss_step=5.490, val_loss_epoch=5.490, val_auroc=0.223, val_acc=0.996, val_mcc=0.703, train_loss_epoch=0.144]\n",
      "Epoch 53:  50%|█████     | 2/4 [00:02<00:02,  0.85it/s, v_num=0, train_loss_step=0.132, train_acc=0.974, train_acc_func=0.420, train_mcc=0.185, val_loss_step=5.490, val_loss_epoch=5.490, val_auroc=0.223, val_acc=0.996, val_mcc=0.703, train_loss_epoch=0.144]\n",
      "Epoch 53:  75%|███████▌  | 3/4 [00:03<00:01,  0.86it/s, v_num=0, train_loss_step=0.141, train_acc=0.975, train_acc_func=0.369, train_mcc=0.189, val_loss_step=5.490, val_loss_epoch=5.490, val_auroc=0.223, val_acc=0.996, val_mcc=0.703, train_loss_epoch=0.144]\n",
      "Epoch 53: 100%|██████████| 4/4 [00:03<00:00,  1.03it/s, v_num=0, train_loss_step=0.166, train_acc=0.965, train_acc_func=0.397, train_mcc=0.193, val_loss_step=5.490, val_loss_epoch=5.490, val_auroc=0.223, val_acc=0.996, val_mcc=0.703, train_loss_epoch=0.144]\n",
      "Validation: |          | 0/? [00:00<?, ?it/s]\u001b[A\n",
      "\u001b[36m(train_linevd pid=14937)\u001b[0m \n",
      "Validation:   0%|          | 0/1 [00:00<?, ?it/s]\u001b[A\n",
      "Validation DataLoader 0:   0%|          | 0/1 [00:00<?, ?it/s]\u001b[A\n",
      "Validation DataLoader 0: 100%|██████████| 1/1 [00:00<00:00, 13.18it/s]\u001b[A\n"
     ]
    },
    {
     "name": "stderr",
     "output_type": "stream",
     "text": [
      "\u001b[36m(train_linevd pid=14937)\u001b[0m Checkpoint successfully created at: Checkpoint(filesystem=local, path=/home/ubuntu/linevd/storage/processed/raytune_best_-1/202401100409_1fca96a_update_get_data.sh/tune_linevd/train_linevd_541e2_00000_0_batch_size=1024,embtype=codebert,gatdropout=0.2000,gnntype=gcn,gtype=pdg_raw,hdropout=0.3000,hfeat=512,_2024-01-10_04-09-08/checkpoint_000053)\n"
     ]
    },
    {
     "name": "stdout",
     "output_type": "stream",
     "text": [
      "\u001b[36m(train_linevd pid=14937)\u001b[0m \n",
      "Epoch 54:   0%|          | 0/4 [00:00<?, ?it/s, v_num=0, train_loss_step=0.166, train_acc=0.965, train_acc_func=0.397, train_mcc=0.193, val_loss_step=5.830, val_loss_epoch=5.830, val_auroc=0.223, val_acc=0.996, val_mcc=0.703, train_loss_epoch=0.145]        \n",
      "Epoch 54:  25%|██▌       | 1/4 [00:00<00:02,  1.20it/s, v_num=0, train_loss_step=0.163, train_acc=0.968, train_acc_func=0.371, train_mcc=0.166, val_loss_step=5.830, val_loss_epoch=5.830, val_auroc=0.223, val_acc=0.996, val_mcc=0.703, train_loss_epoch=0.145]\n",
      "Epoch 54:  50%|█████     | 2/4 [00:01<00:01,  1.40it/s, v_num=0, train_loss_step=0.124, train_acc=0.976, train_acc_func=0.383, train_mcc=0.193, val_loss_step=5.830, val_loss_epoch=5.830, val_auroc=0.223, val_acc=0.996, val_mcc=0.703, train_loss_epoch=0.145]\n",
      "Epoch 54:  75%|███████▌  | 3/4 [00:01<00:00,  1.59it/s, v_num=0, train_loss_step=0.136, train_acc=0.974, train_acc_func=0.414, train_mcc=0.185, val_loss_step=5.830, val_loss_epoch=5.830, val_auroc=0.223, val_acc=0.996, val_mcc=0.703, train_loss_epoch=0.145]\n",
      "Epoch 54: 100%|██████████| 4/4 [00:03<00:00,  1.29it/s, v_num=0, train_loss_step=0.145, train_acc=0.971, train_acc_func=0.398, train_mcc=0.214, val_loss_step=5.830, val_loss_epoch=5.830, val_auroc=0.223, val_acc=0.996, val_mcc=0.703, train_loss_epoch=0.145]\n",
      "\u001b[36m(train_linevd pid=14937)\u001b[0m \n",
      "Validation: |          | 0/? [00:00<?, ?it/s]\u001b[A\n",
      "\u001b[36m(train_linevd pid=14937)\u001b[0m \n",
      "Validation:   0%|          | 0/1 [00:00<?, ?it/s]\u001b[A\n",
      "Validation DataLoader 0:   0%|          | 0/1 [00:00<?, ?it/s]\u001b[A\n",
      "\u001b[36m(train_linevd pid=14937)\u001b[0m \n",
      "Validation DataLoader 0: 100%|██████████| 1/1 [00:00<00:00,  3.49it/s]\u001b[A\n"
     ]
    },
    {
     "name": "stderr",
     "output_type": "stream",
     "text": [
      "\u001b[36m(train_linevd pid=14937)\u001b[0m Checkpoint successfully created at: Checkpoint(filesystem=local, path=/home/ubuntu/linevd/storage/processed/raytune_best_-1/202401100409_1fca96a_update_get_data.sh/tune_linevd/train_linevd_541e2_00000_0_batch_size=1024,embtype=codebert,gatdropout=0.2000,gnntype=gcn,gtype=pdg_raw,hdropout=0.3000,hfeat=512,_2024-01-10_04-09-08/checkpoint_000054)\n"
     ]
    },
    {
     "name": "stdout",
     "output_type": "stream",
     "text": [
      "\u001b[36m(train_linevd pid=14937)\u001b[0m \n",
      "Epoch 55:   0%|          | 0/4 [00:00<?, ?it/s, v_num=0, train_loss_step=0.145, train_acc=0.971, train_acc_func=0.398, train_mcc=0.214, val_loss_step=6.230, val_loss_epoch=6.230, val_auroc=0.223, val_acc=0.996, val_mcc=0.703, train_loss_epoch=0.142]        \n",
      "Epoch 55:  25%|██▌       | 1/4 [00:00<00:02,  1.10it/s, v_num=0, train_loss_step=0.169, train_acc=0.964, train_acc_func=0.388, train_mcc=0.155, val_loss_step=6.230, val_loss_epoch=6.230, val_auroc=0.223, val_acc=0.996, val_mcc=0.703, train_loss_epoch=0.142]\n",
      "Epoch 55:  50%|█████     | 2/4 [00:01<00:01,  1.37it/s, v_num=0, train_loss_step=0.131, train_acc=0.975, train_acc_func=0.392, train_mcc=0.189, val_loss_step=6.230, val_loss_epoch=6.230, val_auroc=0.223, val_acc=0.996, val_mcc=0.703, train_loss_epoch=0.142]\n",
      "Epoch 55:  75%|███████▌  | 3/4 [00:01<00:00,  1.58it/s, v_num=0, train_loss_step=0.155, train_acc=0.967, train_acc_func=0.391, train_mcc=0.163, val_loss_step=6.230, val_loss_epoch=6.230, val_auroc=0.223, val_acc=0.996, val_mcc=0.703, train_loss_epoch=0.142]\n",
      "Epoch 55: 100%|██████████| 4/4 [00:02<00:00,  1.77it/s, v_num=0, train_loss_step=0.0772, train_acc=0.988, train_acc_func=0.395, train_mcc=0.347, val_loss_step=6.230, val_loss_epoch=6.230, val_auroc=0.223, val_acc=0.996, val_mcc=0.703, train_loss_epoch=0.142]\n",
      "\u001b[36m(train_linevd pid=14937)\u001b[0m \n",
      "Validation: |          | 0/? [00:00<?, ?it/s]\u001b[A\n",
      "\u001b[36m(train_linevd pid=14937)\u001b[0m \n",
      "Validation:   0%|          | 0/1 [00:00<?, ?it/s]\u001b[A\n",
      "Validation DataLoader 0:   0%|          | 0/1 [00:00<?, ?it/s]\u001b[A\n",
      "\u001b[36m(train_linevd pid=14937)\u001b[0m \n",
      "Validation DataLoader 0: 100%|██████████| 1/1 [00:00<00:00, 11.47it/s]\u001b[A\n"
     ]
    },
    {
     "name": "stderr",
     "output_type": "stream",
     "text": [
      "\u001b[36m(train_linevd pid=14937)\u001b[0m Checkpoint successfully created at: Checkpoint(filesystem=local, path=/home/ubuntu/linevd/storage/processed/raytune_best_-1/202401100409_1fca96a_update_get_data.sh/tune_linevd/train_linevd_541e2_00000_0_batch_size=1024,embtype=codebert,gatdropout=0.2000,gnntype=gcn,gtype=pdg_raw,hdropout=0.3000,hfeat=512,_2024-01-10_04-09-08/checkpoint_000055)\n"
     ]
    },
    {
     "name": "stdout",
     "output_type": "stream",
     "text": [
      "\u001b[36m(train_linevd pid=14937)\u001b[0m \n",
      "Epoch 56:   0%|          | 0/4 [00:00<?, ?it/s, v_num=0, train_loss_step=0.0772, train_acc=0.988, train_acc_func=0.395, train_mcc=0.347, val_loss_step=6.260, val_loss_epoch=6.260, val_auroc=0.223, val_acc=0.996, val_mcc=0.703, train_loss_epoch=0.133]        \n",
      "Epoch 56:  25%|██▌       | 1/4 [00:00<00:02,  1.15it/s, v_num=0, train_loss_step=0.134, train_acc=0.973, train_acc_func=0.396, train_mcc=0.181, val_loss_step=6.260, val_loss_epoch=6.260, val_auroc=0.223, val_acc=0.996, val_mcc=0.703, train_loss_epoch=0.133] \n",
      "Epoch 56:  50%|█████     | 2/4 [00:03<00:03,  0.64it/s, v_num=0, train_loss_step=0.145, train_acc=0.970, train_acc_func=0.387, train_mcc=0.171, val_loss_step=6.260, val_loss_epoch=6.260, val_auroc=0.223, val_acc=0.996, val_mcc=0.703, train_loss_epoch=0.133]\n",
      "Epoch 56:  75%|███████▌  | 3/4 [00:03<00:01,  0.84it/s, v_num=0, train_loss_step=0.140, train_acc=0.973, train_acc_func=0.386, train_mcc=0.181, val_loss_step=6.260, val_loss_epoch=6.260, val_auroc=0.223, val_acc=0.996, val_mcc=0.703, train_loss_epoch=0.133]\n",
      "Epoch 56: 100%|██████████| 4/4 [00:03<00:00,  1.01it/s, v_num=0, train_loss_step=0.144, train_acc=0.974, train_acc_func=0.398, train_mcc=0.226, val_loss_step=6.260, val_loss_epoch=6.260, val_auroc=0.223, val_acc=0.996, val_mcc=0.703, train_loss_epoch=0.133]\n",
      "\u001b[36m(train_linevd pid=14937)\u001b[0m \n",
      "Validation: |          | 0/? [00:00<?, ?it/s]\u001b[A\n",
      "\u001b[36m(train_linevd pid=14937)\u001b[0m \n",
      "Validation:   0%|          | 0/1 [00:00<?, ?it/s]\u001b[A\n",
      "Validation DataLoader 0:   0%|          | 0/1 [00:00<?, ?it/s]\u001b[A\n",
      "\u001b[36m(train_linevd pid=14937)\u001b[0m \n",
      "Validation DataLoader 0: 100%|██████████| 1/1 [00:00<00:00, 11.23it/s]\u001b[A\n"
     ]
    },
    {
     "name": "stderr",
     "output_type": "stream",
     "text": [
      "\u001b[36m(train_linevd pid=14937)\u001b[0m Checkpoint successfully created at: Checkpoint(filesystem=local, path=/home/ubuntu/linevd/storage/processed/raytune_best_-1/202401100409_1fca96a_update_get_data.sh/tune_linevd/train_linevd_541e2_00000_0_batch_size=1024,embtype=codebert,gatdropout=0.2000,gnntype=gcn,gtype=pdg_raw,hdropout=0.3000,hfeat=512,_2024-01-10_04-09-08/checkpoint_000056)\n"
     ]
    },
    {
     "name": "stdout",
     "output_type": "stream",
     "text": [
      "\u001b[36m(train_linevd pid=14937)\u001b[0m \n",
      "Epoch 57:   0%|          | 0/4 [00:00<?, ?it/s, v_num=0, train_loss_step=0.144, train_acc=0.974, train_acc_func=0.398, train_mcc=0.226, val_loss_step=6.080, val_loss_epoch=6.080, val_auroc=0.223, val_acc=0.996, val_mcc=0.703, train_loss_epoch=0.141]        \n",
      "Epoch 57:  25%|██▌       | 1/4 [00:00<00:02,  1.06it/s, v_num=0, train_loss_step=0.147, train_acc=0.971, train_acc_func=0.420, train_mcc=0.174, val_loss_step=6.080, val_loss_epoch=6.080, val_auroc=0.223, val_acc=0.996, val_mcc=0.703, train_loss_epoch=0.141]\n",
      "Epoch 57:  50%|█████     | 2/4 [00:01<00:01,  1.42it/s, v_num=0, train_loss_step=0.135, train_acc=0.973, train_acc_func=0.378, train_mcc=0.181, val_loss_step=6.080, val_loss_epoch=6.080, val_auroc=0.223, val_acc=0.996, val_mcc=0.703, train_loss_epoch=0.141]\n",
      "Epoch 57:  75%|███████▌  | 3/4 [00:02<00:00,  1.11it/s, v_num=0, train_loss_step=0.145, train_acc=0.969, train_acc_func=0.381, train_mcc=0.168, val_loss_step=6.080, val_loss_epoch=6.080, val_auroc=0.223, val_acc=0.996, val_mcc=0.703, train_loss_epoch=0.141]\n",
      "Epoch 57: 100%|██████████| 4/4 [00:03<00:00,  1.03it/s, v_num=0, train_loss_step=0.121, train_acc=0.978, train_acc_func=0.382, train_mcc=0.250, val_loss_step=6.080, val_loss_epoch=6.080, val_auroc=0.223, val_acc=0.996, val_mcc=0.703, train_loss_epoch=0.141]\n",
      "\u001b[36m(train_linevd pid=14937)\u001b[0m \n",
      "Validation: |          | 0/? [00:00<?, ?it/s]\u001b[A\n",
      "\u001b[36m(train_linevd pid=14937)\u001b[0m \n",
      "Validation:   0%|          | 0/1 [00:00<?, ?it/s]\u001b[A\n",
      "Validation DataLoader 0:   0%|          | 0/1 [00:00<?, ?it/s]\u001b[A\n",
      "\u001b[36m(train_linevd pid=14937)\u001b[0m \n",
      "Validation DataLoader 0: 100%|██████████| 1/1 [00:00<00:00, 12.60it/s]\u001b[A\n"
     ]
    },
    {
     "name": "stderr",
     "output_type": "stream",
     "text": [
      "\u001b[36m(train_linevd pid=14937)\u001b[0m Checkpoint successfully created at: Checkpoint(filesystem=local, path=/home/ubuntu/linevd/storage/processed/raytune_best_-1/202401100409_1fca96a_update_get_data.sh/tune_linevd/train_linevd_541e2_00000_0_batch_size=1024,embtype=codebert,gatdropout=0.2000,gnntype=gcn,gtype=pdg_raw,hdropout=0.3000,hfeat=512,_2024-01-10_04-09-08/checkpoint_000057)\n"
     ]
    },
    {
     "name": "stdout",
     "output_type": "stream",
     "text": [
      "\u001b[36m(train_linevd pid=14937)\u001b[0m \n",
      "Epoch 58:   0%|          | 0/4 [00:00<?, ?it/s, v_num=0, train_loss_step=0.121, train_acc=0.978, train_acc_func=0.382, train_mcc=0.250, val_loss_step=6.600, val_loss_epoch=6.600, val_auroc=0.223, val_acc=0.996, val_mcc=0.703, train_loss_epoch=0.137]        \n",
      "Epoch 58:  25%|██▌       | 1/4 [00:00<00:02,  1.03it/s, v_num=0, train_loss_step=0.125, train_acc=0.976, train_acc_func=0.396, train_mcc=0.193, val_loss_step=6.600, val_loss_epoch=6.600, val_auroc=0.223, val_acc=0.996, val_mcc=0.703, train_loss_epoch=0.137]\n",
      "Epoch 58:  50%|█████     | 2/4 [00:01<00:01,  1.36it/s, v_num=0, train_loss_step=0.143, train_acc=0.969, train_acc_func=0.409, train_mcc=0.168, val_loss_step=6.600, val_loss_epoch=6.600, val_auroc=0.223, val_acc=0.996, val_mcc=0.703, train_loss_epoch=0.137]\n",
      "Epoch 58:  75%|███████▌  | 3/4 [00:01<00:00,  1.54it/s, v_num=0, train_loss_step=0.134, train_acc=0.974, train_acc_func=0.394, train_mcc=0.185, val_loss_step=6.600, val_loss_epoch=6.600, val_auroc=0.223, val_acc=0.996, val_mcc=0.703, train_loss_epoch=0.137]\n",
      "Epoch 58: 100%|██████████| 4/4 [00:02<00:00,  1.73it/s, v_num=0, train_loss_step=0.144, train_acc=0.969, train_acc_func=0.353, train_mcc=0.208, val_loss_step=6.600, val_loss_epoch=6.600, val_auroc=0.223, val_acc=0.996, val_mcc=0.703, train_loss_epoch=0.137]\n",
      "Validation: |          | 0/? [00:00<?, ?it/s]\u001b[A\n",
      "\u001b[36m(train_linevd pid=14937)\u001b[0m \n",
      "Validation:   0%|          | 0/1 [00:00<?, ?it/s]\u001b[A\n",
      "Validation DataLoader 0:   0%|          | 0/1 [00:00<?, ?it/s]\u001b[A\n",
      "\u001b[36m(train_linevd pid=14937)\u001b[0m \n",
      "Validation DataLoader 0: 100%|██████████| 1/1 [00:00<00:00,  2.11it/s]\u001b[A\n"
     ]
    },
    {
     "name": "stderr",
     "output_type": "stream",
     "text": [
      "\u001b[36m(train_linevd pid=14937)\u001b[0m Checkpoint successfully created at: Checkpoint(filesystem=local, path=/home/ubuntu/linevd/storage/processed/raytune_best_-1/202401100409_1fca96a_update_get_data.sh/tune_linevd/train_linevd_541e2_00000_0_batch_size=1024,embtype=codebert,gatdropout=0.2000,gnntype=gcn,gtype=pdg_raw,hdropout=0.3000,hfeat=512,_2024-01-10_04-09-08/checkpoint_000058)\n"
     ]
    },
    {
     "name": "stdout",
     "output_type": "stream",
     "text": [
      "\u001b[36m(train_linevd pid=14937)\u001b[0m \n",
      "Epoch 59:   0%|          | 0/4 [00:00<?, ?it/s, v_num=0, train_loss_step=0.144, train_acc=0.969, train_acc_func=0.353, train_mcc=0.208, val_loss_step=6.310, val_loss_epoch=6.310, val_auroc=0.223, val_acc=0.996, val_mcc=0.703, train_loss_epoch=0.137]        \n",
      "Epoch 59:  25%|██▌       | 1/4 [00:00<00:02,  1.04it/s, v_num=0, train_loss_step=0.125, train_acc=0.976, train_acc_func=0.404, train_mcc=0.193, val_loss_step=6.310, val_loss_epoch=6.310, val_auroc=0.223, val_acc=0.996, val_mcc=0.703, train_loss_epoch=0.137]\n",
      "Epoch 59:  50%|█████     | 2/4 [00:01<00:01,  1.34it/s, v_num=0, train_loss_step=0.185, train_acc=0.961, train_acc_func=0.381, train_mcc=0.149, val_loss_step=6.310, val_loss_epoch=6.310, val_auroc=0.223, val_acc=0.996, val_mcc=0.703, train_loss_epoch=0.137]\n",
      "Epoch 59:  75%|███████▌  | 3/4 [00:01<00:00,  1.54it/s, v_num=0, train_loss_step=0.106, train_acc=0.979, train_acc_func=0.394, train_mcc=0.206, val_loss_step=6.310, val_loss_epoch=6.310, val_auroc=0.223, val_acc=0.996, val_mcc=0.703, train_loss_epoch=0.137]\n",
      "Epoch 59: 100%|██████████| 4/4 [00:02<00:00,  1.74it/s, v_num=0, train_loss_step=0.133, train_acc=0.974, train_acc_func=0.382, train_mcc=0.226, val_loss_step=6.310, val_loss_epoch=6.310, val_auroc=0.223, val_acc=0.996, val_mcc=0.703, train_loss_epoch=0.137]\n",
      "Validation: |          | 0/? [00:00<?, ?it/s]\u001b[A\n",
      "\u001b[36m(train_linevd pid=14937)\u001b[0m \n",
      "Validation:   0%|          | 0/1 [00:00<?, ?it/s]\u001b[A\n",
      "Validation DataLoader 0:   0%|          | 0/1 [00:00<?, ?it/s]\u001b[A\n",
      "\u001b[36m(train_linevd pid=14937)\u001b[0m \n",
      "Validation DataLoader 0: 100%|██████████| 1/1 [00:00<00:00, 12.18it/s]\u001b[A\n"
     ]
    },
    {
     "name": "stderr",
     "output_type": "stream",
     "text": [
      "\u001b[36m(train_linevd pid=14937)\u001b[0m Checkpoint successfully created at: Checkpoint(filesystem=local, path=/home/ubuntu/linevd/storage/processed/raytune_best_-1/202401100409_1fca96a_update_get_data.sh/tune_linevd/train_linevd_541e2_00000_0_batch_size=1024,embtype=codebert,gatdropout=0.2000,gnntype=gcn,gtype=pdg_raw,hdropout=0.3000,hfeat=512,_2024-01-10_04-09-08/checkpoint_000059)\n"
     ]
    },
    {
     "name": "stdout",
     "output_type": "stream",
     "text": [
      "\u001b[36m(train_linevd pid=14937)\u001b[0m \n",
      "Epoch 60:   0%|          | 0/4 [00:00<?, ?it/s, v_num=0, train_loss_step=0.133, train_acc=0.974, train_acc_func=0.382, train_mcc=0.226, val_loss_step=6.840, val_loss_epoch=6.840, val_auroc=0.223, val_acc=0.996, val_mcc=0.703, train_loss_epoch=0.137]        \n",
      "Epoch 60:  25%|██▌       | 1/4 [00:00<00:02,  1.07it/s, v_num=0, train_loss_step=0.188, train_acc=0.959, train_acc_func=0.374, train_mcc=0.145, val_loss_step=6.840, val_loss_epoch=6.840, val_auroc=0.223, val_acc=0.996, val_mcc=0.703, train_loss_epoch=0.137]\n",
      "Epoch 60:  50%|█████     | 2/4 [00:01<00:01,  1.07it/s, v_num=0, train_loss_step=0.0919, train_acc=0.983, train_acc_func=0.385, train_mcc=0.236, val_loss_step=6.840, val_loss_epoch=6.840, val_auroc=0.223, val_acc=0.996, val_mcc=0.703, train_loss_epoch=0.137]\n",
      "Epoch 60:  75%|███████▌  | 3/4 [00:03<00:01,  0.87it/s, v_num=0, train_loss_step=0.148, train_acc=0.967, train_acc_func=0.407, train_mcc=0.163, val_loss_step=6.840, val_loss_epoch=6.840, val_auroc=0.223, val_acc=0.996, val_mcc=0.703, train_loss_epoch=0.137] \n",
      "Epoch 60: 100%|██████████| 4/4 [00:03<00:00,  1.06it/s, v_num=0, train_loss_step=0.0995, train_acc=0.982, train_acc_func=0.401, train_mcc=0.281, val_loss_step=6.840, val_loss_epoch=6.840, val_auroc=0.223, val_acc=0.996, val_mcc=0.703, train_loss_epoch=0.137]\n",
      "Validation: |          | 0/? [00:00<?, ?it/s]\u001b[A\n",
      "\u001b[36m(train_linevd pid=14937)\u001b[0m \n",
      "Validation:   0%|          | 0/1 [00:00<?, ?it/s]\u001b[A\n",
      "Validation DataLoader 0:   0%|          | 0/1 [00:00<?, ?it/s]\u001b[A\n",
      "\u001b[36m(train_linevd pid=14937)\u001b[0m \n",
      "Validation DataLoader 0: 100%|██████████| 1/1 [00:00<00:00, 13.07it/s]\u001b[A\n"
     ]
    },
    {
     "name": "stderr",
     "output_type": "stream",
     "text": [
      "\u001b[36m(train_linevd pid=14937)\u001b[0m Checkpoint successfully created at: Checkpoint(filesystem=local, path=/home/ubuntu/linevd/storage/processed/raytune_best_-1/202401100409_1fca96a_update_get_data.sh/tune_linevd/train_linevd_541e2_00000_0_batch_size=1024,embtype=codebert,gatdropout=0.2000,gnntype=gcn,gtype=pdg_raw,hdropout=0.3000,hfeat=512,_2024-01-10_04-09-08/checkpoint_000060)\n"
     ]
    },
    {
     "name": "stdout",
     "output_type": "stream",
     "text": [
      "\u001b[36m(train_linevd pid=14937)\u001b[0m \n",
      "Epoch 61:   0%|          | 0/4 [00:00<?, ?it/s, v_num=0, train_loss_step=0.0995, train_acc=0.982, train_acc_func=0.401, train_mcc=0.281, val_loss_step=6.790, val_loss_epoch=6.790, val_auroc=0.223, val_acc=0.996, val_mcc=0.703, train_loss_epoch=0.132]        \n",
      "Epoch 61:  25%|██▌       | 1/4 [00:01<00:03,  1.00it/s, v_num=0, train_loss_step=0.0995, train_acc=0.982, train_acc_func=0.401, train_mcc=0.281, val_loss_step=6.790, val_loss_epoch=6.790, val_auroc=0.223, val_acc=0.996, val_mcc=0.703, train_loss_epoch=0.132]\n",
      "Epoch 61:  25%|██▌       | 1/4 [00:01<00:03,  1.00it/s, v_num=0, train_loss_step=0.150, train_acc=0.966, train_acc_func=0.365, train_mcc=0.160, val_loss_step=6.790, val_loss_epoch=6.790, val_auroc=0.223, val_acc=0.996, val_mcc=0.703, train_loss_epoch=0.132] \n",
      "Epoch 61:  50%|█████     | 2/4 [00:01<00:01,  1.40it/s, v_num=0, train_loss_step=0.133, train_acc=0.971, train_acc_func=0.389, train_mcc=0.174, val_loss_step=6.790, val_loss_epoch=6.790, val_auroc=0.223, val_acc=0.996, val_mcc=0.703, train_loss_epoch=0.132]\n",
      "Epoch 61:  75%|███████▌  | 3/4 [00:01<00:00,  1.57it/s, v_num=0, train_loss_step=0.109, train_acc=0.979, train_acc_func=0.399, train_mcc=0.206, val_loss_step=6.790, val_loss_epoch=6.790, val_auroc=0.223, val_acc=0.996, val_mcc=0.703, train_loss_epoch=0.132]\n",
      "Epoch 61: 100%|██████████| 4/4 [00:02<00:00,  1.48it/s, v_num=0, train_loss_step=0.135, train_acc=0.974, train_acc_func=0.420, train_mcc=0.226, val_loss_step=6.790, val_loss_epoch=6.790, val_auroc=0.223, val_acc=0.996, val_mcc=0.703, train_loss_epoch=0.132]\n",
      "\u001b[36m(train_linevd pid=14937)\u001b[0m \n",
      "Validation: |          | 0/? [00:00<?, ?it/s]\u001b[A\n",
      "\u001b[36m(train_linevd pid=14937)\u001b[0m \n",
      "Validation:   0%|          | 0/1 [00:00<?, ?it/s]\u001b[A\n",
      "Validation DataLoader 0:   0%|          | 0/1 [00:00<?, ?it/s]\u001b[A\n",
      "\u001b[36m(train_linevd pid=14937)\u001b[0m \n",
      "Validation DataLoader 0: 100%|██████████| 1/1 [00:00<00:00,  1.50it/s]\u001b[A\n"
     ]
    },
    {
     "name": "stderr",
     "output_type": "stream",
     "text": [
      "\u001b[36m(train_linevd pid=14937)\u001b[0m Checkpoint successfully created at: Checkpoint(filesystem=local, path=/home/ubuntu/linevd/storage/processed/raytune_best_-1/202401100409_1fca96a_update_get_data.sh/tune_linevd/train_linevd_541e2_00000_0_batch_size=1024,embtype=codebert,gatdropout=0.2000,gnntype=gcn,gtype=pdg_raw,hdropout=0.3000,hfeat=512,_2024-01-10_04-09-08/checkpoint_000061)\n"
     ]
    },
    {
     "name": "stdout",
     "output_type": "stream",
     "text": [
      "\u001b[36m(train_linevd pid=14937)\u001b[0m \n",
      "Epoch 62:   0%|          | 0/4 [00:00<?, ?it/s, v_num=0, train_loss_step=0.135, train_acc=0.974, train_acc_func=0.420, train_mcc=0.226, val_loss_step=7.190, val_loss_epoch=7.190, val_auroc=0.223, val_acc=0.996, val_mcc=0.703, train_loss_epoch=0.132]        \n",
      "Epoch 62:  25%|██▌       | 1/4 [00:00<00:02,  1.09it/s, v_num=0, train_loss_step=0.122, train_acc=0.976, train_acc_func=0.373, train_mcc=0.193, val_loss_step=7.190, val_loss_epoch=7.190, val_auroc=0.223, val_acc=0.996, val_mcc=0.703, train_loss_epoch=0.132]\n",
      "Epoch 62:  50%|█████     | 2/4 [00:01<00:01,  1.45it/s, v_num=0, train_loss_step=0.135, train_acc=0.973, train_acc_func=0.429, train_mcc=0.181, val_loss_step=7.190, val_loss_epoch=7.190, val_auroc=0.223, val_acc=0.996, val_mcc=0.703, train_loss_epoch=0.132]\n",
      "Epoch 62:  75%|███████▌  | 3/4 [00:01<00:00,  1.64it/s, v_num=0, train_loss_step=0.141, train_acc=0.972, train_acc_func=0.384, train_mcc=0.178, val_loss_step=7.190, val_loss_epoch=7.190, val_auroc=0.223, val_acc=0.996, val_mcc=0.703, train_loss_epoch=0.132]\n",
      "Epoch 62: 100%|██████████| 4/4 [00:02<00:00,  1.84it/s, v_num=0, train_loss_step=0.159, train_acc=0.966, train_acc_func=0.372, train_mcc=0.198, val_loss_step=7.190, val_loss_epoch=7.190, val_auroc=0.223, val_acc=0.996, val_mcc=0.703, train_loss_epoch=0.132]\n",
      "Validation: |          | 0/? [00:00<?, ?it/s]\u001b[A\n",
      "\u001b[36m(train_linevd pid=14937)\u001b[0m \n",
      "Validation:   0%|          | 0/1 [00:00<?, ?it/s]\u001b[A\n",
      "Validation DataLoader 0:   0%|          | 0/1 [00:00<?, ?it/s]\u001b[A\n",
      "\u001b[36m(train_linevd pid=14937)\u001b[0m \n",
      "Validation DataLoader 0: 100%|██████████| 1/1 [00:00<00:00, 12.55it/s]\u001b[A\n"
     ]
    },
    {
     "name": "stderr",
     "output_type": "stream",
     "text": [
      "\u001b[36m(train_linevd pid=14937)\u001b[0m Checkpoint successfully created at: Checkpoint(filesystem=local, path=/home/ubuntu/linevd/storage/processed/raytune_best_-1/202401100409_1fca96a_update_get_data.sh/tune_linevd/train_linevd_541e2_00000_0_batch_size=1024,embtype=codebert,gatdropout=0.2000,gnntype=gcn,gtype=pdg_raw,hdropout=0.3000,hfeat=512,_2024-01-10_04-09-08/checkpoint_000062)\n"
     ]
    },
    {
     "name": "stdout",
     "output_type": "stream",
     "text": [
      "\u001b[36m(train_linevd pid=14937)\u001b[0m \n",
      "Epoch 63:   0%|          | 0/4 [00:00<?, ?it/s, v_num=0, train_loss_step=0.159, train_acc=0.966, train_acc_func=0.372, train_mcc=0.198, val_loss_step=7.100, val_loss_epoch=7.100, val_auroc=0.223, val_acc=0.996, val_mcc=0.703, train_loss_epoch=0.139]        \n",
      "Epoch 63:  25%|██▌       | 1/4 [00:00<00:02,  1.02it/s, v_num=0, train_loss_step=0.143, train_acc=0.969, train_acc_func=0.376, train_mcc=0.168, val_loss_step=7.100, val_loss_epoch=7.100, val_auroc=0.223, val_acc=0.996, val_mcc=0.703, train_loss_epoch=0.139]\n",
      "Epoch 63:  50%|█████     | 2/4 [00:02<00:02,  0.72it/s, v_num=0, train_loss_step=0.124, train_acc=0.974, train_acc_func=0.407, train_mcc=0.185, val_loss_step=7.100, val_loss_epoch=7.100, val_auroc=0.223, val_acc=0.996, val_mcc=0.703, train_loss_epoch=0.139]\n",
      "Epoch 63:  75%|███████▌  | 3/4 [00:03<00:01,  0.87it/s, v_num=0, train_loss_step=0.159, train_acc=0.968, train_acc_func=0.404, train_mcc=0.166, val_loss_step=7.100, val_loss_epoch=7.100, val_auroc=0.223, val_acc=0.996, val_mcc=0.703, train_loss_epoch=0.139]\n",
      "Epoch 63: 100%|██████████| 4/4 [00:03<00:00,  1.06it/s, v_num=0, train_loss_step=0.104, train_acc=0.981, train_acc_func=0.369, train_mcc=0.269, val_loss_step=7.100, val_loss_epoch=7.100, val_auroc=0.223, val_acc=0.996, val_mcc=0.703, train_loss_epoch=0.139]\n",
      "Validation: |          | 0/? [00:00<?, ?it/s]\u001b[A\n",
      "\u001b[36m(train_linevd pid=14937)\u001b[0m \n",
      "Validation:   0%|          | 0/1 [00:00<?, ?it/s]\u001b[A\n",
      "Validation DataLoader 0:   0%|          | 0/1 [00:00<?, ?it/s]\u001b[A\n",
      "\u001b[36m(train_linevd pid=14937)\u001b[0m \n",
      "Validation DataLoader 0: 100%|██████████| 1/1 [00:00<00:00, 13.81it/s]\u001b[A\n"
     ]
    },
    {
     "name": "stderr",
     "output_type": "stream",
     "text": [
      "\u001b[36m(train_linevd pid=14937)\u001b[0m Checkpoint successfully created at: Checkpoint(filesystem=local, path=/home/ubuntu/linevd/storage/processed/raytune_best_-1/202401100409_1fca96a_update_get_data.sh/tune_linevd/train_linevd_541e2_00000_0_batch_size=1024,embtype=codebert,gatdropout=0.2000,gnntype=gcn,gtype=pdg_raw,hdropout=0.3000,hfeat=512,_2024-01-10_04-09-08/checkpoint_000063)\n"
     ]
    },
    {
     "name": "stdout",
     "output_type": "stream",
     "text": [
      "\u001b[36m(train_linevd pid=14937)\u001b[0m \n",
      "Epoch 64:   0%|          | 0/4 [00:00<?, ?it/s, v_num=0, train_loss_step=0.104, train_acc=0.981, train_acc_func=0.369, train_mcc=0.269, val_loss_step=7.090, val_loss_epoch=7.090, val_auroc=0.223, val_acc=0.996, val_mcc=0.703, train_loss_epoch=0.132]        \n",
      "Epoch 64:  25%|██▌       | 1/4 [00:00<00:02,  1.12it/s, v_num=0, train_loss_step=0.111, train_acc=0.978, train_acc_func=0.414, train_mcc=0.201, val_loss_step=7.090, val_loss_epoch=7.090, val_auroc=0.223, val_acc=0.996, val_mcc=0.703, train_loss_epoch=0.132]\n",
      "Epoch 64:  50%|█████     | 2/4 [00:01<00:01,  1.48it/s, v_num=0, train_loss_step=0.111, train_acc=0.978, train_acc_func=0.414, train_mcc=0.201, val_loss_step=7.090, val_loss_epoch=7.090, val_auroc=0.223, val_acc=0.996, val_mcc=0.703, train_loss_epoch=0.132]\n",
      "Epoch 64:  50%|█████     | 2/4 [00:01<00:01,  1.48it/s, v_num=0, train_loss_step=0.129, train_acc=0.974, train_acc_func=0.394, train_mcc=0.185, val_loss_step=7.090, val_loss_epoch=7.090, val_auroc=0.223, val_acc=0.996, val_mcc=0.703, train_loss_epoch=0.132]\n",
      "Epoch 64:  75%|███████▌  | 3/4 [00:01<00:00,  1.67it/s, v_num=0, train_loss_step=0.157, train_acc=0.968, train_acc_func=0.371, train_mcc=0.166, val_loss_step=7.090, val_loss_epoch=7.090, val_auroc=0.223, val_acc=0.996, val_mcc=0.703, train_loss_epoch=0.132]\n",
      "Epoch 64: 100%|██████████| 4/4 [00:02<00:00,  1.87it/s, v_num=0, train_loss_step=0.154, train_acc=0.968, train_acc_func=0.382, train_mcc=0.203, val_loss_step=7.090, val_loss_epoch=7.090, val_auroc=0.223, val_acc=0.996, val_mcc=0.703, train_loss_epoch=0.132]\n",
      "\u001b[36m(train_linevd pid=14937)\u001b[0m \n",
      "Validation: |          | 0/? [00:00<?, ?it/s]\u001b[A\n",
      "\u001b[36m(train_linevd pid=14937)\u001b[0m \n",
      "Validation:   0%|          | 0/1 [00:00<?, ?it/s]\u001b[A\n",
      "Validation DataLoader 0:   0%|          | 0/1 [00:00<?, ?it/s]\u001b[A\n",
      "\u001b[36m(train_linevd pid=14937)\u001b[0m \n",
      "Validation DataLoader 0: 100%|██████████| 1/1 [00:00<00:00,  9.90it/s]\u001b[A\n"
     ]
    },
    {
     "name": "stderr",
     "output_type": "stream",
     "text": [
      "\u001b[36m(train_linevd pid=14937)\u001b[0m Checkpoint successfully created at: Checkpoint(filesystem=local, path=/home/ubuntu/linevd/storage/processed/raytune_best_-1/202401100409_1fca96a_update_get_data.sh/tune_linevd/train_linevd_541e2_00000_0_batch_size=1024,embtype=codebert,gatdropout=0.2000,gnntype=gcn,gtype=pdg_raw,hdropout=0.3000,hfeat=512,_2024-01-10_04-09-08/checkpoint_000064)\n"
     ]
    },
    {
     "name": "stdout",
     "output_type": "stream",
     "text": [
      "\u001b[36m(train_linevd pid=14937)\u001b[0m \n",
      "Epoch 64: 100%|██████████| 4/4 [00:02<00:00,  1.50it/s, v_num=0, train_loss_step=0.154, train_acc=0.968, train_acc_func=0.382, train_mcc=0.203, val_loss_step=7.390, val_loss_epoch=7.390, val_auroc=0.223, val_acc=0.996, val_mcc=0.703, train_loss_epoch=0.132]\n",
      "Epoch 65:   0%|          | 0/4 [00:00<?, ?it/s, v_num=0, train_loss_step=0.154, train_acc=0.968, train_acc_func=0.382, train_mcc=0.203, val_loss_step=7.390, val_loss_epoch=7.390, val_auroc=0.223, val_acc=0.996, val_mcc=0.703, train_loss_epoch=0.138]        \n",
      "Epoch 65:  25%|██▌       | 1/4 [00:00<00:02,  1.14it/s, v_num=0, train_loss_step=0.140, train_acc=0.970, train_acc_func=0.387, train_mcc=0.171, val_loss_step=7.390, val_loss_epoch=7.390, val_auroc=0.223, val_acc=0.996, val_mcc=0.703, train_loss_epoch=0.138]\n",
      "Epoch 65:  50%|█████     | 2/4 [00:01<00:01,  1.25it/s, v_num=0, train_loss_step=0.149, train_acc=0.969, train_acc_func=0.402, train_mcc=0.168, val_loss_step=7.390, val_loss_epoch=7.390, val_auroc=0.223, val_acc=0.996, val_mcc=0.703, train_loss_epoch=0.138]\n",
      "Epoch 65:  75%|███████▌  | 3/4 [00:03<00:01,  0.88it/s, v_num=0, train_loss_step=0.119, train_acc=0.976, train_acc_func=0.395, train_mcc=0.193, val_loss_step=7.390, val_loss_epoch=7.390, val_auroc=0.223, val_acc=0.996, val_mcc=0.703, train_loss_epoch=0.138]\n",
      "Epoch 65: 100%|██████████| 4/4 [00:03<00:00,  1.08it/s, v_num=0, train_loss_step=0.125, train_acc=0.975, train_acc_func=0.375, train_mcc=0.233, val_loss_step=7.390, val_loss_epoch=7.390, val_auroc=0.223, val_acc=0.996, val_mcc=0.703, train_loss_epoch=0.138]\n",
      "Validation: |          | 0/? [00:00<?, ?it/s]\u001b[A\n",
      "\u001b[36m(train_linevd pid=14937)\u001b[0m \n",
      "Validation:   0%|          | 0/1 [00:00<?, ?it/s]\u001b[A\n",
      "Validation DataLoader 0:   0%|          | 0/1 [00:00<?, ?it/s]\u001b[A\n",
      "Validation DataLoader 0: 100%|██████████| 1/1 [00:00<00:00, 13.28it/s]\u001b[A\n"
     ]
    },
    {
     "name": "stderr",
     "output_type": "stream",
     "text": [
      "\u001b[36m(train_linevd pid=14937)\u001b[0m Checkpoint successfully created at: Checkpoint(filesystem=local, path=/home/ubuntu/linevd/storage/processed/raytune_best_-1/202401100409_1fca96a_update_get_data.sh/tune_linevd/train_linevd_541e2_00000_0_batch_size=1024,embtype=codebert,gatdropout=0.2000,gnntype=gcn,gtype=pdg_raw,hdropout=0.3000,hfeat=512,_2024-01-10_04-09-08/checkpoint_000065)\n"
     ]
    },
    {
     "name": "stdout",
     "output_type": "stream",
     "text": [
      "\u001b[36m(train_linevd pid=14937)\u001b[0m \n",
      "Epoch 66:   0%|          | 0/4 [00:00<?, ?it/s, v_num=0, train_loss_step=0.125, train_acc=0.975, train_acc_func=0.375, train_mcc=0.233, val_loss_step=7.170, val_loss_epoch=7.170, val_auroc=0.223, val_acc=0.996, val_mcc=0.703, train_loss_epoch=0.133]        \n",
      "Epoch 66:  25%|██▌       | 1/4 [00:00<00:02,  1.03it/s, v_num=0, train_loss_step=0.149, train_acc=0.968, train_acc_func=0.391, train_mcc=0.166, val_loss_step=7.170, val_loss_epoch=7.170, val_auroc=0.223, val_acc=0.996, val_mcc=0.703, train_loss_epoch=0.133]\n",
      "Epoch 66:  50%|█████     | 2/4 [00:01<00:01,  1.33it/s, v_num=0, train_loss_step=0.150, train_acc=0.970, train_acc_func=0.381, train_mcc=0.171, val_loss_step=7.170, val_loss_epoch=7.170, val_auroc=0.223, val_acc=0.996, val_mcc=0.703, train_loss_epoch=0.133]\n",
      "Epoch 66:  75%|███████▌  | 3/4 [00:01<00:00,  1.55it/s, v_num=0, train_loss_step=0.119, train_acc=0.977, train_acc_func=0.413, train_mcc=0.197, val_loss_step=7.170, val_loss_epoch=7.170, val_auroc=0.223, val_acc=0.996, val_mcc=0.703, train_loss_epoch=0.133]\n",
      "Epoch 66: 100%|██████████| 4/4 [00:02<00:00,  1.77it/s, v_num=0, train_loss_step=0.121, train_acc=0.975, train_acc_func=0.373, train_mcc=0.233, val_loss_step=7.170, val_loss_epoch=7.170, val_auroc=0.223, val_acc=0.996, val_mcc=0.703, train_loss_epoch=0.133]\n",
      "Validation: |          | 0/? [00:00<?, ?it/s]\u001b[A\n",
      "\u001b[36m(train_linevd pid=14937)\u001b[0m \n",
      "Validation:   0%|          | 0/1 [00:00<?, ?it/s]\u001b[A\n",
      "Validation DataLoader 0:   0%|          | 0/1 [00:00<?, ?it/s]\u001b[A\n",
      "\u001b[36m(train_linevd pid=14937)\u001b[0m \n",
      "Validation DataLoader 0: 100%|██████████| 1/1 [00:00<00:00, 14.07it/s]\u001b[A\n"
     ]
    },
    {
     "name": "stderr",
     "output_type": "stream",
     "text": [
      "\u001b[36m(train_linevd pid=14937)\u001b[0m Checkpoint successfully created at: Checkpoint(filesystem=local, path=/home/ubuntu/linevd/storage/processed/raytune_best_-1/202401100409_1fca96a_update_get_data.sh/tune_linevd/train_linevd_541e2_00000_0_batch_size=1024,embtype=codebert,gatdropout=0.2000,gnntype=gcn,gtype=pdg_raw,hdropout=0.3000,hfeat=512,_2024-01-10_04-09-08/checkpoint_000066)\n"
     ]
    },
    {
     "name": "stdout",
     "output_type": "stream",
     "text": [
      "\u001b[36m(train_linevd pid=14937)\u001b[0m \n",
      "Epoch 67:   0%|          | 0/4 [00:00<?, ?it/s, v_num=0, train_loss_step=0.121, train_acc=0.975, train_acc_func=0.373, train_mcc=0.233, val_loss_step=8.050, val_loss_epoch=8.050, val_auroc=0.223, val_acc=0.996, val_mcc=0.703, train_loss_epoch=0.135]        \n",
      "Epoch 67:  25%|██▌       | 1/4 [00:01<00:05,  0.51it/s, v_num=0, train_loss_step=0.114, train_acc=0.977, train_acc_func=0.397, train_mcc=0.197, val_loss_step=8.050, val_loss_epoch=8.050, val_auroc=0.223, val_acc=0.996, val_mcc=0.703, train_loss_epoch=0.135]\n",
      "Epoch 67:  50%|█████     | 2/4 [00:02<00:02,  0.68it/s, v_num=0, train_loss_step=0.145, train_acc=0.970, train_acc_func=0.416, train_mcc=0.171, val_loss_step=8.050, val_loss_epoch=8.050, val_auroc=0.223, val_acc=0.996, val_mcc=0.703, train_loss_epoch=0.135]\n",
      "Epoch 67:  75%|███████▌  | 3/4 [00:03<00:01,  0.89it/s, v_num=0, train_loss_step=0.138, train_acc=0.972, train_acc_func=0.370, train_mcc=0.178, val_loss_step=8.050, val_loss_epoch=8.050, val_auroc=0.223, val_acc=0.996, val_mcc=0.703, train_loss_epoch=0.135]\n",
      "Epoch 67: 100%|██████████| 4/4 [00:03<00:00,  1.08it/s, v_num=0, train_loss_step=0.154, train_acc=0.969, train_acc_func=0.375, train_mcc=0.208, val_loss_step=8.050, val_loss_epoch=8.050, val_auroc=0.223, val_acc=0.996, val_mcc=0.703, train_loss_epoch=0.135]\n",
      "Validation: |          | 0/? [00:00<?, ?it/s]\u001b[A\n",
      "\u001b[36m(train_linevd pid=14937)\u001b[0m \n",
      "Validation:   0%|          | 0/1 [00:00<?, ?it/s]\u001b[A\n",
      "Validation DataLoader 0:   0%|          | 0/1 [00:00<?, ?it/s]\u001b[A\n",
      "\u001b[36m(train_linevd pid=14937)\u001b[0m \n",
      "Validation DataLoader 0: 100%|██████████| 1/1 [00:00<00:00, 13.84it/s]\u001b[A\n"
     ]
    },
    {
     "name": "stderr",
     "output_type": "stream",
     "text": [
      "\u001b[36m(train_linevd pid=14937)\u001b[0m Checkpoint successfully created at: Checkpoint(filesystem=local, path=/home/ubuntu/linevd/storage/processed/raytune_best_-1/202401100409_1fca96a_update_get_data.sh/tune_linevd/train_linevd_541e2_00000_0_batch_size=1024,embtype=codebert,gatdropout=0.2000,gnntype=gcn,gtype=pdg_raw,hdropout=0.3000,hfeat=512,_2024-01-10_04-09-08/checkpoint_000067)\n"
     ]
    },
    {
     "name": "stdout",
     "output_type": "stream",
     "text": [
      "\u001b[36m(train_linevd pid=14937)\u001b[0m \n",
      "Epoch 68:   0%|          | 0/4 [00:00<?, ?it/s, v_num=0, train_loss_step=0.154, train_acc=0.969, train_acc_func=0.375, train_mcc=0.208, val_loss_step=6.800, val_loss_epoch=6.800, val_auroc=0.223, val_acc=0.996, val_mcc=0.703, train_loss_epoch=0.138]        \n",
      "Epoch 68:  25%|██▌       | 1/4 [00:00<00:02,  1.03it/s, v_num=0, train_loss_step=0.160, train_acc=0.968, train_acc_func=0.405, train_mcc=0.166, val_loss_step=6.800, val_loss_epoch=6.800, val_auroc=0.223, val_acc=0.996, val_mcc=0.703, train_loss_epoch=0.138]\n",
      "Epoch 68:  50%|█████     | 2/4 [00:01<00:01,  1.39it/s, v_num=0, train_loss_step=0.140, train_acc=0.971, train_acc_func=0.364, train_mcc=0.174, val_loss_step=6.800, val_loss_epoch=6.800, val_auroc=0.223, val_acc=0.996, val_mcc=0.703, train_loss_epoch=0.138]\n",
      "Epoch 68:  75%|███████▌  | 3/4 [00:01<00:00,  1.59it/s, v_num=0, train_loss_step=0.122, train_acc=0.978, train_acc_func=0.396, train_mcc=0.201, val_loss_step=6.800, val_loss_epoch=6.800, val_auroc=0.223, val_acc=0.996, val_mcc=0.703, train_loss_epoch=0.138]\n",
      "Epoch 68: 100%|██████████| 4/4 [00:02<00:00,  1.79it/s, v_num=0, train_loss_step=0.130, train_acc=0.972, train_acc_func=0.401, train_mcc=0.220, val_loss_step=6.800, val_loss_epoch=6.800, val_auroc=0.223, val_acc=0.996, val_mcc=0.703, train_loss_epoch=0.138]\n",
      "\u001b[36m(train_linevd pid=14937)\u001b[0m \n",
      "Validation: |          | 0/? [00:00<?, ?it/s]\u001b[A\n",
      "\u001b[36m(train_linevd pid=14937)\u001b[0m \n",
      "Validation:   0%|          | 0/1 [00:00<?, ?it/s]\u001b[A\n",
      "Validation DataLoader 0:   0%|          | 0/1 [00:00<?, ?it/s]\u001b[A\n",
      "\u001b[36m(train_linevd pid=14937)\u001b[0m \n",
      "Validation DataLoader 0: 100%|██████████| 1/1 [00:00<00:00, 13.49it/s]\u001b[A\n",
      "\u001b[36m(train_linevd pid=14937)\u001b[0m \n",
      "Epoch 69:   0%|          | 0/4 [00:00<?, ?it/s, v_num=0, train_loss_step=0.130, train_acc=0.972, train_acc_func=0.401, train_mcc=0.220, val_loss_step=7.260, val_loss_epoch=7.260, val_auroc=0.223, val_acc=0.996, val_mcc=0.703, train_loss_epoch=0.138]        \n"
     ]
    },
    {
     "name": "stderr",
     "output_type": "stream",
     "text": [
      "\u001b[36m(train_linevd pid=14937)\u001b[0m Checkpoint successfully created at: Checkpoint(filesystem=local, path=/home/ubuntu/linevd/storage/processed/raytune_best_-1/202401100409_1fca96a_update_get_data.sh/tune_linevd/train_linevd_541e2_00000_0_batch_size=1024,embtype=codebert,gatdropout=0.2000,gnntype=gcn,gtype=pdg_raw,hdropout=0.3000,hfeat=512,_2024-01-10_04-09-08/checkpoint_000068)\n"
     ]
    },
    {
     "name": "stdout",
     "output_type": "stream",
     "text": [
      "Epoch 69:  25%|██▌       | 1/4 [00:01<00:03,  0.99it/s, v_num=0, train_loss_step=0.156, train_acc=0.968, train_acc_func=0.368, train_mcc=0.166, val_loss_step=7.260, val_loss_epoch=7.260, val_auroc=0.223, val_acc=0.996, val_mcc=0.703, train_loss_epoch=0.138]\n",
      "Epoch 69:  50%|█████     | 2/4 [00:01<00:01,  1.31it/s, v_num=0, train_loss_step=0.121, train_acc=0.979, train_acc_func=0.405, train_mcc=0.206, val_loss_step=7.260, val_loss_epoch=7.260, val_auroc=0.223, val_acc=0.996, val_mcc=0.703, train_loss_epoch=0.138]\n",
      "Epoch 69:  75%|███████▌  | 3/4 [00:02<00:00,  1.28it/s, v_num=0, train_loss_step=0.147, train_acc=0.969, train_acc_func=0.394, train_mcc=0.168, val_loss_step=7.260, val_loss_epoch=7.260, val_auroc=0.223, val_acc=0.996, val_mcc=0.703, train_loss_epoch=0.138]\n",
      "Epoch 69: 100%|██████████| 4/4 [00:03<00:00,  1.07it/s, v_num=0, train_loss_step=0.148, train_acc=0.974, train_acc_func=0.400, train_mcc=0.226, val_loss_step=7.260, val_loss_epoch=7.260, val_auroc=0.223, val_acc=0.996, val_mcc=0.703, train_loss_epoch=0.138]\n",
      "\u001b[36m(train_linevd pid=14937)\u001b[0m \n",
      "Validation: |          | 0/? [00:00<?, ?it/s]\u001b[A\n",
      "\u001b[36m(train_linevd pid=14937)\u001b[0m \n",
      "Validation:   0%|          | 0/1 [00:00<?, ?it/s]\u001b[A\n",
      "Validation DataLoader 0:   0%|          | 0/1 [00:00<?, ?it/s]\u001b[A\n",
      "\u001b[36m(train_linevd pid=14937)\u001b[0m \n",
      "Validation DataLoader 0: 100%|██████████| 1/1 [00:00<00:00, 14.54it/s]\u001b[A\n"
     ]
    },
    {
     "name": "stderr",
     "output_type": "stream",
     "text": [
      "\u001b[36m(train_linevd pid=14937)\u001b[0m Checkpoint successfully created at: Checkpoint(filesystem=local, path=/home/ubuntu/linevd/storage/processed/raytune_best_-1/202401100409_1fca96a_update_get_data.sh/tune_linevd/train_linevd_541e2_00000_0_batch_size=1024,embtype=codebert,gatdropout=0.2000,gnntype=gcn,gtype=pdg_raw,hdropout=0.3000,hfeat=512,_2024-01-10_04-09-08/checkpoint_000069)\n"
     ]
    },
    {
     "name": "stdout",
     "output_type": "stream",
     "text": [
      "\u001b[36m(train_linevd pid=14937)\u001b[0m \n",
      "Epoch 70:   0%|          | 0/4 [00:00<?, ?it/s, v_num=0, train_loss_step=0.148, train_acc=0.974, train_acc_func=0.400, train_mcc=0.226, val_loss_step=8.070, val_loss_epoch=8.070, val_auroc=0.223, val_acc=0.996, val_mcc=0.703, train_loss_epoch=0.143]        \n",
      "Epoch 70:  25%|██▌       | 1/4 [00:00<00:02,  1.12it/s, v_num=0, train_loss_step=0.153, train_acc=0.968, train_acc_func=0.396, train_mcc=0.166, val_loss_step=8.070, val_loss_epoch=8.070, val_auroc=0.223, val_acc=0.996, val_mcc=0.703, train_loss_epoch=0.143]\n",
      "Epoch 70:  50%|█████     | 2/4 [00:01<00:01,  1.43it/s, v_num=0, train_loss_step=0.117, train_acc=0.978, train_acc_func=0.385, train_mcc=0.201, val_loss_step=8.070, val_loss_epoch=8.070, val_auroc=0.223, val_acc=0.996, val_mcc=0.703, train_loss_epoch=0.143]\n",
      "Epoch 70:  75%|███████▌  | 3/4 [00:01<00:00,  1.62it/s, v_num=0, train_loss_step=0.137, train_acc=0.972, train_acc_func=0.392, train_mcc=0.178, val_loss_step=8.070, val_loss_epoch=8.070, val_auroc=0.223, val_acc=0.996, val_mcc=0.703, train_loss_epoch=0.143]\n",
      "Epoch 70: 100%|██████████| 4/4 [00:02<00:00,  1.82it/s, v_num=0, train_loss_step=0.138, train_acc=0.971, train_acc_func=0.392, train_mcc=0.214, val_loss_step=8.070, val_loss_epoch=8.070, val_auroc=0.223, val_acc=0.996, val_mcc=0.703, train_loss_epoch=0.143]\n",
      "\u001b[36m(train_linevd pid=14937)\u001b[0m \n",
      "Validation: |          | 0/? [00:00<?, ?it/s]\u001b[A\n",
      "\u001b[36m(train_linevd pid=14937)\u001b[0m \n",
      "Validation:   0%|          | 0/1 [00:00<?, ?it/s]\u001b[A\n",
      "Validation DataLoader 0:   0%|          | 0/1 [00:00<?, ?it/s]\u001b[A\n",
      "\u001b[36m(train_linevd pid=14937)\u001b[0m \n",
      "Validation DataLoader 0: 100%|██████████| 1/1 [00:00<00:00,  9.79it/s]\u001b[A\n"
     ]
    },
    {
     "name": "stderr",
     "output_type": "stream",
     "text": [
      "\u001b[36m(train_linevd pid=14937)\u001b[0m Checkpoint successfully created at: Checkpoint(filesystem=local, path=/home/ubuntu/linevd/storage/processed/raytune_best_-1/202401100409_1fca96a_update_get_data.sh/tune_linevd/train_linevd_541e2_00000_0_batch_size=1024,embtype=codebert,gatdropout=0.2000,gnntype=gcn,gtype=pdg_raw,hdropout=0.3000,hfeat=512,_2024-01-10_04-09-08/checkpoint_000070)\n"
     ]
    },
    {
     "name": "stdout",
     "output_type": "stream",
     "text": [
      "\u001b[36m(train_linevd pid=14937)\u001b[0m \n",
      "Epoch 70: 100%|██████████| 4/4 [00:02<00:00,  1.47it/s, v_num=0, train_loss_step=0.138, train_acc=0.971, train_acc_func=0.392, train_mcc=0.214, val_loss_step=8.300, val_loss_epoch=8.300, val_auroc=0.223, val_acc=0.996, val_mcc=0.703, train_loss_epoch=0.143]\n",
      "Epoch 71:   0%|          | 0/4 [00:00<?, ?it/s, v_num=0, train_loss_step=0.138, train_acc=0.971, train_acc_func=0.392, train_mcc=0.214, val_loss_step=8.300, val_loss_epoch=8.300, val_auroc=0.223, val_acc=0.996, val_mcc=0.703, train_loss_epoch=0.136]        \n",
      "Epoch 71:  25%|██▌       | 1/4 [00:01<00:03,  0.95it/s, v_num=0, train_loss_step=0.170, train_acc=0.964, train_acc_func=0.386, train_mcc=0.155, val_loss_step=8.300, val_loss_epoch=8.300, val_auroc=0.223, val_acc=0.996, val_mcc=0.703, train_loss_epoch=0.136]\n",
      "Epoch 71:  50%|█████     | 2/4 [00:01<00:01,  1.25it/s, v_num=0, train_loss_step=0.105, train_acc=0.979, train_acc_func=0.394, train_mcc=0.206, val_loss_step=8.300, val_loss_epoch=8.300, val_auroc=0.223, val_acc=0.996, val_mcc=0.703, train_loss_epoch=0.136]\n",
      "Epoch 71:  75%|███████▌  | 3/4 [00:02<00:00,  1.18it/s, v_num=0, train_loss_step=0.125, train_acc=0.975, train_acc_func=0.412, train_mcc=0.189, val_loss_step=8.300, val_loss_epoch=8.300, val_auroc=0.223, val_acc=0.996, val_mcc=0.703, train_loss_epoch=0.136]\n",
      "Epoch 71: 100%|██████████| 4/4 [00:04<00:00,  0.99it/s, v_num=0, train_loss_step=0.147, train_acc=0.971, train_acc_func=0.363, train_mcc=0.214, val_loss_step=8.300, val_loss_epoch=8.300, val_auroc=0.223, val_acc=0.996, val_mcc=0.703, train_loss_epoch=0.136]\n",
      "\u001b[36m(train_linevd pid=14937)\u001b[0m \n",
      "Validation: |          | 0/? [00:00<?, ?it/s]\u001b[A\n",
      "\u001b[36m(train_linevd pid=14937)\u001b[0m \n",
      "Validation:   0%|          | 0/1 [00:00<?, ?it/s]\u001b[A\n",
      "Validation DataLoader 0:   0%|          | 0/1 [00:00<?, ?it/s]\u001b[A\n",
      "\u001b[36m(train_linevd pid=14937)\u001b[0m \n",
      "Validation DataLoader 0: 100%|██████████| 1/1 [00:00<00:00, 11.04it/s]\u001b[A\n"
     ]
    },
    {
     "name": "stderr",
     "output_type": "stream",
     "text": [
      "\u001b[36m(train_linevd pid=14937)\u001b[0m Checkpoint successfully created at: Checkpoint(filesystem=local, path=/home/ubuntu/linevd/storage/processed/raytune_best_-1/202401100409_1fca96a_update_get_data.sh/tune_linevd/train_linevd_541e2_00000_0_batch_size=1024,embtype=codebert,gatdropout=0.2000,gnntype=gcn,gtype=pdg_raw,hdropout=0.3000,hfeat=512,_2024-01-10_04-09-08/checkpoint_000071)\n"
     ]
    },
    {
     "name": "stdout",
     "output_type": "stream",
     "text": [
      "\u001b[36m(train_linevd pid=14937)\u001b[0m \n",
      "Epoch 72:   0%|          | 0/4 [00:00<?, ?it/s, v_num=0, train_loss_step=0.147, train_acc=0.971, train_acc_func=0.363, train_mcc=0.214, val_loss_step=6.920, val_loss_epoch=6.920, val_auroc=0.223, val_acc=0.996, val_mcc=0.703, train_loss_epoch=0.136]        \n",
      "Epoch 72:  25%|██▌       | 1/4 [00:00<00:02,  1.11it/s, v_num=0, train_loss_step=0.140, train_acc=0.971, train_acc_func=0.386, train_mcc=0.174, val_loss_step=6.920, val_loss_epoch=6.920, val_auroc=0.223, val_acc=0.996, val_mcc=0.703, train_loss_epoch=0.136]\n",
      "Epoch 72:  50%|█████     | 2/4 [00:01<00:01,  1.43it/s, v_num=0, train_loss_step=0.136, train_acc=0.973, train_acc_func=0.376, train_mcc=0.181, val_loss_step=6.920, val_loss_epoch=6.920, val_auroc=0.223, val_acc=0.996, val_mcc=0.703, train_loss_epoch=0.136]\n",
      "Epoch 72:  75%|███████▌  | 3/4 [00:01<00:00,  1.63it/s, v_num=0, train_loss_step=0.130, train_acc=0.973, train_acc_func=0.409, train_mcc=0.181, val_loss_step=6.920, val_loss_epoch=6.920, val_auroc=0.223, val_acc=0.996, val_mcc=0.703, train_loss_epoch=0.136]\n",
      "Epoch 72: 100%|██████████| 4/4 [00:02<00:00,  1.86it/s, v_num=0, train_loss_step=0.133, train_acc=0.972, train_acc_func=0.394, train_mcc=0.220, val_loss_step=6.920, val_loss_epoch=6.920, val_auroc=0.223, val_acc=0.996, val_mcc=0.703, train_loss_epoch=0.136]\n",
      "Validation: |          | 0/? [00:00<?, ?it/s]\u001b[A\n",
      "\u001b[36m(train_linevd pid=14937)\u001b[0m \n",
      "Validation:   0%|          | 0/1 [00:00<?, ?it/s]\u001b[A\n",
      "Validation DataLoader 0:   0%|          | 0/1 [00:00<?, ?it/s]\u001b[A\n",
      "\u001b[36m(train_linevd pid=14937)\u001b[0m \n",
      "Validation DataLoader 0: 100%|██████████| 1/1 [00:00<00:00, 13.76it/s]\u001b[A\n"
     ]
    },
    {
     "name": "stderr",
     "output_type": "stream",
     "text": [
      "\u001b[36m(train_linevd pid=14937)\u001b[0m Checkpoint successfully created at: Checkpoint(filesystem=local, path=/home/ubuntu/linevd/storage/processed/raytune_best_-1/202401100409_1fca96a_update_get_data.sh/tune_linevd/train_linevd_541e2_00000_0_batch_size=1024,embtype=codebert,gatdropout=0.2000,gnntype=gcn,gtype=pdg_raw,hdropout=0.3000,hfeat=512,_2024-01-10_04-09-08/checkpoint_000072)\n"
     ]
    },
    {
     "name": "stdout",
     "output_type": "stream",
     "text": [
      "\u001b[36m(train_linevd pid=14937)\u001b[0m \n",
      "Epoch 73:   0%|          | 0/4 [00:00<?, ?it/s, v_num=0, train_loss_step=0.133, train_acc=0.972, train_acc_func=0.394, train_mcc=0.220, val_loss_step=8.500, val_loss_epoch=8.500, val_auroc=0.223, val_acc=0.996, val_mcc=0.703, train_loss_epoch=0.135]        \n",
      "Epoch 73:  25%|██▌       | 1/4 [00:00<00:02,  1.09it/s, v_num=0, train_loss_step=0.105, train_acc=0.979, train_acc_func=0.385, train_mcc=0.211, val_loss_step=8.500, val_loss_epoch=8.500, val_auroc=0.223, val_acc=0.996, val_mcc=0.703, train_loss_epoch=0.135]\n",
      "Epoch 73:  50%|█████     | 2/4 [00:01<00:01,  1.24it/s, v_num=0, train_loss_step=0.174, train_acc=0.963, train_acc_func=0.382, train_mcc=0.153, val_loss_step=8.500, val_loss_epoch=8.500, val_auroc=0.223, val_acc=0.996, val_mcc=0.703, train_loss_epoch=0.135]\n",
      "Epoch 73:  75%|███████▌  | 3/4 [00:02<00:00,  1.25it/s, v_num=0, train_loss_step=0.140, train_acc=0.971, train_acc_func=0.395, train_mcc=0.174, val_loss_step=8.500, val_loss_epoch=8.500, val_auroc=0.223, val_acc=0.996, val_mcc=0.703, train_loss_epoch=0.135]\n",
      "Epoch 73: 100%|██████████| 4/4 [00:02<00:00,  1.46it/s, v_num=0, train_loss_step=0.118, train_acc=0.977, train_acc_func=0.408, train_mcc=0.241, val_loss_step=8.500, val_loss_epoch=8.500, val_auroc=0.223, val_acc=0.996, val_mcc=0.703, train_loss_epoch=0.135]\n",
      "Validation: |          | 0/? [00:00<?, ?it/s]\u001b[A\n",
      "\u001b[36m(train_linevd pid=14937)\u001b[0m \n",
      "Validation:   0%|          | 0/1 [00:00<?, ?it/s]\u001b[A\n",
      "Validation DataLoader 0:   0%|          | 0/1 [00:00<?, ?it/s]\u001b[A\n",
      "\u001b[36m(train_linevd pid=14937)\u001b[0m \n",
      "Validation DataLoader 0: 100%|██████████| 1/1 [00:00<00:00, 15.12it/s]\u001b[A\n"
     ]
    },
    {
     "name": "stderr",
     "output_type": "stream",
     "text": [
      "\u001b[36m(train_linevd pid=14937)\u001b[0m Checkpoint successfully created at: Checkpoint(filesystem=local, path=/home/ubuntu/linevd/storage/processed/raytune_best_-1/202401100409_1fca96a_update_get_data.sh/tune_linevd/train_linevd_541e2_00000_0_batch_size=1024,embtype=codebert,gatdropout=0.2000,gnntype=gcn,gtype=pdg_raw,hdropout=0.3000,hfeat=512,_2024-01-10_04-09-08/checkpoint_000073)\n"
     ]
    },
    {
     "name": "stdout",
     "output_type": "stream",
     "text": [
      "\u001b[36m(train_linevd pid=14937)\u001b[0m \n",
      "Epoch 74:   0%|          | 0/4 [00:00<?, ?it/s, v_num=0, train_loss_step=0.118, train_acc=0.977, train_acc_func=0.408, train_mcc=0.241, val_loss_step=7.860, val_loss_epoch=7.860, val_auroc=0.223, val_acc=0.996, val_mcc=0.703, train_loss_epoch=0.134]        \n",
      "Epoch 74:  25%|██▌       | 1/4 [00:01<00:05,  0.53it/s, v_num=0, train_loss_step=0.164, train_acc=0.963, train_acc_func=0.394, train_mcc=0.153, val_loss_step=7.860, val_loss_epoch=7.860, val_auroc=0.223, val_acc=0.996, val_mcc=0.703, train_loss_epoch=0.134]\n",
      "Epoch 74:  50%|█████     | 2/4 [00:03<00:03,  0.62it/s, v_num=0, train_loss_step=0.110, train_acc=0.977, train_acc_func=0.393, train_mcc=0.197, val_loss_step=7.860, val_loss_epoch=7.860, val_auroc=0.223, val_acc=0.996, val_mcc=0.703, train_loss_epoch=0.134]\n",
      "Epoch 74:  75%|███████▌  | 3/4 [00:03<00:01,  0.80it/s, v_num=0, train_loss_step=0.127, train_acc=0.973, train_acc_func=0.367, train_mcc=0.181, val_loss_step=7.860, val_loss_epoch=7.860, val_auroc=0.223, val_acc=0.996, val_mcc=0.703, train_loss_epoch=0.134]\n",
      "Epoch 74: 100%|██████████| 4/4 [00:04<00:00,  0.98it/s, v_num=0, train_loss_step=0.118, train_acc=0.978, train_acc_func=0.420, train_mcc=0.250, val_loss_step=7.860, val_loss_epoch=7.860, val_auroc=0.223, val_acc=0.996, val_mcc=0.703, train_loss_epoch=0.134]\n",
      "\u001b[36m(train_linevd pid=14937)\u001b[0m \n",
      "Validation: |          | 0/? [00:00<?, ?it/s]\u001b[A\n",
      "\u001b[36m(train_linevd pid=14937)\u001b[0m \n",
      "Validation:   0%|          | 0/1 [00:00<?, ?it/s]\u001b[A\n",
      "\u001b[36m(train_linevd pid=14937)\u001b[0m \n",
      "Validation DataLoader 0:   0%|          | 0/1 [00:00<?, ?it/s]\u001b[A\n",
      "\u001b[36m(train_linevd pid=14937)\u001b[0m \n",
      "Validation DataLoader 0: 100%|██████████| 1/1 [00:00<00:00, 13.94it/s]\u001b[A\n"
     ]
    },
    {
     "name": "stderr",
     "output_type": "stream",
     "text": [
      "\u001b[36m(train_linevd pid=14937)\u001b[0m Checkpoint successfully created at: Checkpoint(filesystem=local, path=/home/ubuntu/linevd/storage/processed/raytune_best_-1/202401100409_1fca96a_update_get_data.sh/tune_linevd/train_linevd_541e2_00000_0_batch_size=1024,embtype=codebert,gatdropout=0.2000,gnntype=gcn,gtype=pdg_raw,hdropout=0.3000,hfeat=512,_2024-01-10_04-09-08/checkpoint_000074)\n"
     ]
    },
    {
     "name": "stdout",
     "output_type": "stream",
     "text": [
      "\u001b[36m(train_linevd pid=14937)\u001b[0m \n",
      "Epoch 74: 100%|██████████| 4/4 [00:04<00:00,  0.88it/s, v_num=0, train_loss_step=0.118, train_acc=0.978, train_acc_func=0.420, train_mcc=0.250, val_loss_step=7.860, val_loss_epoch=7.860, val_auroc=0.223, val_acc=0.996, val_mcc=0.703, train_loss_epoch=0.130]\n",
      "Epoch 75:   0%|          | 0/4 [00:00<?, ?it/s, v_num=0, train_loss_step=0.118, train_acc=0.978, train_acc_func=0.420, train_mcc=0.250, val_loss_step=7.860, val_loss_epoch=7.860, val_auroc=0.223, val_acc=0.996, val_mcc=0.703, train_loss_epoch=0.130]        \n",
      "Epoch 75:  25%|██▌       | 1/4 [00:00<00:02,  1.04it/s, v_num=0, train_loss_step=0.138, train_acc=0.971, train_acc_func=0.392, train_mcc=0.174, val_loss_step=7.860, val_loss_epoch=7.860, val_auroc=0.223, val_acc=0.996, val_mcc=0.703, train_loss_epoch=0.130]\n",
      "Epoch 75:  50%|█████     | 2/4 [00:01<00:01,  1.10it/s, v_num=0, train_loss_step=0.158, train_acc=0.966, train_acc_func=0.391, train_mcc=0.160, val_loss_step=7.860, val_loss_epoch=7.860, val_auroc=0.223, val_acc=0.996, val_mcc=0.703, train_loss_epoch=0.130]\n",
      "Epoch 75:  75%|███████▌  | 3/4 [00:03<00:01,  0.86it/s, v_num=0, train_loss_step=0.116, train_acc=0.979, train_acc_func=0.399, train_mcc=0.206, val_loss_step=7.860, val_loss_epoch=7.860, val_auroc=0.223, val_acc=0.996, val_mcc=0.703, train_loss_epoch=0.130]\n",
      "Epoch 75: 100%|██████████| 4/4 [00:03<00:00,  1.04it/s, v_num=0, train_loss_step=0.127, train_acc=0.974, train_acc_func=0.378, train_mcc=0.226, val_loss_step=7.860, val_loss_epoch=7.860, val_auroc=0.223, val_acc=0.996, val_mcc=0.703, train_loss_epoch=0.130]\n",
      "Validation: |          | 0/? [00:00<?, ?it/s]\u001b[A\n",
      "\u001b[36m(train_linevd pid=14937)\u001b[0m \n",
      "Validation:   0%|          | 0/1 [00:00<?, ?it/s]\u001b[A\n",
      "Validation DataLoader 0:   0%|          | 0/1 [00:00<?, ?it/s]\u001b[A\n",
      "\u001b[36m(train_linevd pid=14937)\u001b[0m \n",
      "Validation DataLoader 0: 100%|██████████| 1/1 [00:00<00:00, 11.92it/s]\u001b[A\n"
     ]
    },
    {
     "name": "stderr",
     "output_type": "stream",
     "text": [
      "\u001b[36m(train_linevd pid=14937)\u001b[0m Checkpoint successfully created at: Checkpoint(filesystem=local, path=/home/ubuntu/linevd/storage/processed/raytune_best_-1/202401100409_1fca96a_update_get_data.sh/tune_linevd/train_linevd_541e2_00000_0_batch_size=1024,embtype=codebert,gatdropout=0.2000,gnntype=gcn,gtype=pdg_raw,hdropout=0.3000,hfeat=512,_2024-01-10_04-09-08/checkpoint_000075)\n"
     ]
    },
    {
     "name": "stdout",
     "output_type": "stream",
     "text": [
      "\u001b[36m(train_linevd pid=14937)\u001b[0m \n",
      "Epoch 76:   0%|          | 0/4 [00:00<?, ?it/s, v_num=0, train_loss_step=0.127, train_acc=0.974, train_acc_func=0.378, train_mcc=0.226, val_loss_step=9.780, val_loss_epoch=9.780, val_auroc=0.222, val_acc=0.996, val_mcc=0.703, train_loss_epoch=0.135]        \n",
      "Epoch 76:  25%|██▌       | 1/4 [00:00<00:02,  1.18it/s, v_num=0, train_loss_step=0.204, train_acc=0.969, train_acc_func=0.403, train_mcc=0.168, val_loss_step=9.780, val_loss_epoch=9.780, val_auroc=0.222, val_acc=0.996, val_mcc=0.703, train_loss_epoch=0.135]\n",
      "Epoch 76:  50%|█████     | 2/4 [00:01<00:01,  1.46it/s, v_num=0, train_loss_step=0.201, train_acc=0.970, train_acc_func=0.367, train_mcc=0.171, val_loss_step=9.780, val_loss_epoch=9.780, val_auroc=0.222, val_acc=0.996, val_mcc=0.703, train_loss_epoch=0.135]\n",
      "Epoch 76:  75%|███████▌  | 3/4 [00:01<00:00,  1.66it/s, v_num=0, train_loss_step=0.113, train_acc=0.979, train_acc_func=0.413, train_mcc=0.206, val_loss_step=9.780, val_loss_epoch=9.780, val_auroc=0.222, val_acc=0.996, val_mcc=0.703, train_loss_epoch=0.135]\n",
      "Epoch 76: 100%|██████████| 4/4 [00:02<00:00,  1.85it/s, v_num=0, train_loss_step=0.183, train_acc=0.971, train_acc_func=0.375, train_mcc=0.214, val_loss_step=9.780, val_loss_epoch=9.780, val_auroc=0.222, val_acc=0.996, val_mcc=0.703, train_loss_epoch=0.135]\n",
      "\u001b[36m(train_linevd pid=14937)\u001b[0m \n",
      "Validation: |          | 0/? [00:00<?, ?it/s]\u001b[A\n",
      "\u001b[36m(train_linevd pid=14937)\u001b[0m \n",
      "Validation:   0%|          | 0/1 [00:00<?, ?it/s]\u001b[A\n",
      "Validation DataLoader 0:   0%|          | 0/1 [00:00<?, ?it/s]\u001b[A\n",
      "\u001b[36m(train_linevd pid=14937)\u001b[0m \n",
      "Validation DataLoader 0: 100%|██████████| 1/1 [00:00<00:00,  2.69it/s]\u001b[A\n"
     ]
    },
    {
     "name": "stderr",
     "output_type": "stream",
     "text": [
      "\u001b[36m(train_linevd pid=14937)\u001b[0m Checkpoint successfully created at: Checkpoint(filesystem=local, path=/home/ubuntu/linevd/storage/processed/raytune_best_-1/202401100409_1fca96a_update_get_data.sh/tune_linevd/train_linevd_541e2_00000_0_batch_size=1024,embtype=codebert,gatdropout=0.2000,gnntype=gcn,gtype=pdg_raw,hdropout=0.3000,hfeat=512,_2024-01-10_04-09-08/checkpoint_000076)\n"
     ]
    },
    {
     "name": "stdout",
     "output_type": "stream",
     "text": [
      "\u001b[36m(train_linevd pid=14937)\u001b[0m \n",
      "Epoch 77:   0%|          | 0/4 [00:00<?, ?it/s, v_num=0, train_loss_step=0.183, train_acc=0.971, train_acc_func=0.375, train_mcc=0.214, val_loss_step=8.060, val_loss_epoch=8.060, val_auroc=0.222, val_acc=0.996, val_mcc=0.703, train_loss_epoch=0.175]        \n",
      "Epoch 77:  25%|██▌       | 1/4 [00:00<00:02,  1.09it/s, v_num=0, train_loss_step=0.152, train_acc=0.966, train_acc_func=0.396, train_mcc=0.160, val_loss_step=8.060, val_loss_epoch=8.060, val_auroc=0.222, val_acc=0.996, val_mcc=0.703, train_loss_epoch=0.175]\n",
      "Epoch 77:  50%|█████     | 2/4 [00:01<00:01,  1.40it/s, v_num=0, train_loss_step=0.124, train_acc=0.977, train_acc_func=0.397, train_mcc=0.197, val_loss_step=8.060, val_loss_epoch=8.060, val_auroc=0.222, val_acc=0.996, val_mcc=0.703, train_loss_epoch=0.175]\n",
      "Epoch 77:  75%|███████▌  | 3/4 [00:01<00:00,  1.61it/s, v_num=0, train_loss_step=0.158, train_acc=0.967, train_acc_func=0.381, train_mcc=0.163, val_loss_step=8.060, val_loss_epoch=8.060, val_auroc=0.222, val_acc=0.996, val_mcc=0.703, train_loss_epoch=0.175]\n",
      "Epoch 77: 100%|██████████| 4/4 [00:02<00:00,  1.82it/s, v_num=0, train_loss_step=0.0951, train_acc=0.982, train_acc_func=0.388, train_mcc=0.281, val_loss_step=8.060, val_loss_epoch=8.060, val_auroc=0.222, val_acc=0.996, val_mcc=0.703, train_loss_epoch=0.175]\n",
      "Validation: |          | 0/? [00:00<?, ?it/s]\u001b[A\n",
      "\u001b[36m(train_linevd pid=14937)\u001b[0m \n",
      "Validation:   0%|          | 0/1 [00:00<?, ?it/s]\u001b[A\n",
      "Validation DataLoader 0:   0%|          | 0/1 [00:00<?, ?it/s]\u001b[A\n",
      "\u001b[36m(train_linevd pid=14937)\u001b[0m \n",
      "Validation DataLoader 0: 100%|██████████| 1/1 [00:00<00:00, 14.11it/s]\u001b[A\n"
     ]
    },
    {
     "name": "stderr",
     "output_type": "stream",
     "text": [
      "\u001b[36m(train_linevd pid=14937)\u001b[0m Checkpoint successfully created at: Checkpoint(filesystem=local, path=/home/ubuntu/linevd/storage/processed/raytune_best_-1/202401100409_1fca96a_update_get_data.sh/tune_linevd/train_linevd_541e2_00000_0_batch_size=1024,embtype=codebert,gatdropout=0.2000,gnntype=gcn,gtype=pdg_raw,hdropout=0.3000,hfeat=512,_2024-01-10_04-09-08/checkpoint_000077)\n"
     ]
    },
    {
     "name": "stdout",
     "output_type": "stream",
     "text": [
      "\u001b[36m(train_linevd pid=14937)\u001b[0m \n",
      "Epoch 78:   0%|          | 0/4 [00:00<?, ?it/s, v_num=0, train_loss_step=0.0951, train_acc=0.982, train_acc_func=0.388, train_mcc=0.281, val_loss_step=8.880, val_loss_epoch=8.880, val_auroc=0.222, val_acc=0.996, val_mcc=0.703, train_loss_epoch=0.132]        \n",
      "Epoch 78:  25%|██▌       | 1/4 [00:00<00:02,  1.14it/s, v_num=0, train_loss_step=0.169, train_acc=0.972, train_acc_func=0.374, train_mcc=0.178, val_loss_step=8.880, val_loss_epoch=8.880, val_auroc=0.222, val_acc=0.996, val_mcc=0.703, train_loss_epoch=0.132] \n",
      "Epoch 78:  50%|█████     | 2/4 [00:01<00:01,  1.31it/s, v_num=0, train_loss_step=0.131, train_acc=0.973, train_acc_func=0.384, train_mcc=0.181, val_loss_step=8.880, val_loss_epoch=8.880, val_auroc=0.222, val_acc=0.996, val_mcc=0.703, train_loss_epoch=0.132]\n",
      "Epoch 78:  75%|███████▌  | 3/4 [00:03<00:01,  0.85it/s, v_num=0, train_loss_step=0.140, train_acc=0.975, train_acc_func=0.408, train_mcc=0.189, val_loss_step=8.880, val_loss_epoch=8.880, val_auroc=0.222, val_acc=0.996, val_mcc=0.703, train_loss_epoch=0.132]\n",
      "Epoch 78: 100%|██████████| 4/4 [00:03<00:00,  1.03it/s, v_num=0, train_loss_step=0.147, train_acc=0.968, train_acc_func=0.401, train_mcc=0.203, val_loss_step=8.880, val_loss_epoch=8.880, val_auroc=0.222, val_acc=0.996, val_mcc=0.703, train_loss_epoch=0.132]\n",
      "\u001b[36m(train_linevd pid=14937)\u001b[0m \n",
      "Validation: |          | 0/? [00:00<?, ?it/s]\u001b[A\n",
      "\u001b[36m(train_linevd pid=14937)\u001b[0m \n",
      "Validation:   0%|          | 0/1 [00:00<?, ?it/s]\u001b[A\n",
      "Validation DataLoader 0:   0%|          | 0/1 [00:00<?, ?it/s]\u001b[A\n",
      "\u001b[36m(train_linevd pid=14937)\u001b[0m \n",
      "Validation DataLoader 0: 100%|██████████| 1/1 [00:00<00:00, 10.00it/s]\u001b[A\n"
     ]
    },
    {
     "name": "stderr",
     "output_type": "stream",
     "text": [
      "\u001b[36m(train_linevd pid=14937)\u001b[0m Checkpoint successfully created at: Checkpoint(filesystem=local, path=/home/ubuntu/linevd/storage/processed/raytune_best_-1/202401100409_1fca96a_update_get_data.sh/tune_linevd/train_linevd_541e2_00000_0_batch_size=1024,embtype=codebert,gatdropout=0.2000,gnntype=gcn,gtype=pdg_raw,hdropout=0.3000,hfeat=512,_2024-01-10_04-09-08/checkpoint_000078)\n"
     ]
    },
    {
     "name": "stdout",
     "output_type": "stream",
     "text": [
      "\u001b[36m(train_linevd pid=14937)\u001b[0m \n",
      "Epoch 79:   0%|          | 0/4 [00:00<?, ?it/s, v_num=0, train_loss_step=0.147, train_acc=0.968, train_acc_func=0.401, train_mcc=0.203, val_loss_step=8.030, val_loss_epoch=8.030, val_auroc=0.222, val_acc=0.996, val_mcc=0.703, train_loss_epoch=0.147]        \n",
      "Epoch 79:  25%|██▌       | 1/4 [00:01<00:03,  0.98it/s, v_num=0, train_loss_step=0.120, train_acc=0.975, train_acc_func=0.395, train_mcc=0.189, val_loss_step=8.030, val_loss_epoch=8.030, val_auroc=0.222, val_acc=0.996, val_mcc=0.703, train_loss_epoch=0.147]\n",
      "Epoch 79:  50%|█████     | 2/4 [00:01<00:01,  1.33it/s, v_num=0, train_loss_step=0.163, train_acc=0.969, train_acc_func=0.389, train_mcc=0.168, val_loss_step=8.030, val_loss_epoch=8.030, val_auroc=0.222, val_acc=0.996, val_mcc=0.703, train_loss_epoch=0.147]\n",
      "Epoch 79:  75%|███████▌  | 3/4 [00:01<00:00,  1.54it/s, v_num=0, train_loss_step=0.151, train_acc=0.973, train_acc_func=0.395, train_mcc=0.181, val_loss_step=8.030, val_loss_epoch=8.030, val_auroc=0.222, val_acc=0.996, val_mcc=0.703, train_loss_epoch=0.147]\n",
      "Epoch 79: 100%|██████████| 4/4 [00:02<00:00,  1.72it/s, v_num=0, train_loss_step=0.137, train_acc=0.972, train_acc_func=0.384, train_mcc=0.220, val_loss_step=8.030, val_loss_epoch=8.030, val_auroc=0.222, val_acc=0.996, val_mcc=0.703, train_loss_epoch=0.147]\n",
      "\u001b[36m(train_linevd pid=14937)\u001b[0m \n",
      "Validation: |          | 0/? [00:00<?, ?it/s]\u001b[A\n",
      "\u001b[36m(train_linevd pid=14937)\u001b[0m \n",
      "Validation:   0%|          | 0/1 [00:00<?, ?it/s]\u001b[A\n",
      "Validation DataLoader 0:   0%|          | 0/1 [00:00<?, ?it/s]\u001b[A\n",
      "Validation DataLoader 0: 100%|██████████| 1/1 [00:00<00:00, 15.11it/s]\u001b[A\n",
      "\u001b[36m(train_linevd pid=14937)\u001b[0m \n",
      "Epoch 80:   0%|          | 0/4 [00:00<?, ?it/s, v_num=0, train_loss_step=0.137, train_acc=0.972, train_acc_func=0.384, train_mcc=0.220, val_loss_step=5.920, val_loss_epoch=5.920, val_auroc=0.222, val_acc=0.996, val_mcc=0.703, train_loss_epoch=0.143]        \n"
     ]
    },
    {
     "name": "stderr",
     "output_type": "stream",
     "text": [
      "\u001b[36m(train_linevd pid=14937)\u001b[0m Checkpoint successfully created at: Checkpoint(filesystem=local, path=/home/ubuntu/linevd/storage/processed/raytune_best_-1/202401100409_1fca96a_update_get_data.sh/tune_linevd/train_linevd_541e2_00000_0_batch_size=1024,embtype=codebert,gatdropout=0.2000,gnntype=gcn,gtype=pdg_raw,hdropout=0.3000,hfeat=512,_2024-01-10_04-09-08/checkpoint_000079)\n"
     ]
    },
    {
     "name": "stdout",
     "output_type": "stream",
     "text": [
      "Epoch 80:  25%|██▌       | 1/4 [00:02<00:07,  0.38it/s, v_num=0, train_loss_step=0.152, train_acc=0.971, train_acc_func=0.388, train_mcc=0.174, val_loss_step=5.920, val_loss_epoch=5.920, val_auroc=0.222, val_acc=0.996, val_mcc=0.703, train_loss_epoch=0.143]\n",
      "Epoch 80:  50%|█████     | 2/4 [00:03<00:03,  0.65it/s, v_num=0, train_loss_step=0.117, train_acc=0.976, train_acc_func=0.405, train_mcc=0.193, val_loss_step=5.920, val_loss_epoch=5.920, val_auroc=0.222, val_acc=0.996, val_mcc=0.703, train_loss_epoch=0.143]\n",
      "Epoch 80:  75%|███████▌  | 3/4 [00:03<00:01,  0.84it/s, v_num=0, train_loss_step=0.130, train_acc=0.974, train_acc_func=0.380, train_mcc=0.185, val_loss_step=5.920, val_loss_epoch=5.920, val_auroc=0.222, val_acc=0.996, val_mcc=0.703, train_loss_epoch=0.143]\n",
      "Epoch 80: 100%|██████████| 4/4 [00:03<00:00,  1.02it/s, v_num=0, train_loss_step=0.164, train_acc=0.966, train_acc_func=0.391, train_mcc=0.198, val_loss_step=5.920, val_loss_epoch=5.920, val_auroc=0.222, val_acc=0.996, val_mcc=0.703, train_loss_epoch=0.143]\n",
      "Validation: |          | 0/? [00:00<?, ?it/s]\u001b[A\n",
      "\u001b[36m(train_linevd pid=14937)\u001b[0m \n",
      "Validation:   0%|          | 0/1 [00:00<?, ?it/s]\u001b[A\n",
      "Validation DataLoader 0:   0%|          | 0/1 [00:00<?, ?it/s]\u001b[A\n",
      "Validation DataLoader 0: 100%|██████████| 1/1 [00:00<00:00, 11.64it/s]\u001b[A\n"
     ]
    },
    {
     "name": "stderr",
     "output_type": "stream",
     "text": [
      "\u001b[36m(train_linevd pid=14937)\u001b[0m Checkpoint successfully created at: Checkpoint(filesystem=local, path=/home/ubuntu/linevd/storage/processed/raytune_best_-1/202401100409_1fca96a_update_get_data.sh/tune_linevd/train_linevd_541e2_00000_0_batch_size=1024,embtype=codebert,gatdropout=0.2000,gnntype=gcn,gtype=pdg_raw,hdropout=0.3000,hfeat=512,_2024-01-10_04-09-08/checkpoint_000080)\n"
     ]
    },
    {
     "name": "stdout",
     "output_type": "stream",
     "text": [
      "\u001b[36m(train_linevd pid=14937)\u001b[0m \n",
      "Epoch 81:   0%|          | 0/4 [00:00<?, ?it/s, v_num=0, train_loss_step=0.164, train_acc=0.966, train_acc_func=0.391, train_mcc=0.198, val_loss_step=7.930, val_loss_epoch=7.930, val_auroc=0.222, val_acc=0.996, val_mcc=0.703, train_loss_epoch=0.141]        \n",
      "Epoch 81:  25%|██▌       | 1/4 [00:00<00:02,  1.07it/s, v_num=0, train_loss_step=0.141, train_acc=0.972, train_acc_func=0.385, train_mcc=0.178, val_loss_step=7.930, val_loss_epoch=7.930, val_auroc=0.222, val_acc=0.996, val_mcc=0.703, train_loss_epoch=0.141]\n",
      "Epoch 81:  50%|█████     | 2/4 [00:01<00:01,  1.42it/s, v_num=0, train_loss_step=0.140, train_acc=0.971, train_acc_func=0.387, train_mcc=0.174, val_loss_step=7.930, val_loss_epoch=7.930, val_auroc=0.222, val_acc=0.996, val_mcc=0.703, train_loss_epoch=0.141]\n",
      "Epoch 81:  75%|███████▌  | 3/4 [00:01<00:00,  1.60it/s, v_num=0, train_loss_step=0.132, train_acc=0.974, train_acc_func=0.380, train_mcc=0.185, val_loss_step=7.930, val_loss_epoch=7.930, val_auroc=0.222, val_acc=0.996, val_mcc=0.703, train_loss_epoch=0.141]\n",
      "Epoch 81: 100%|██████████| 4/4 [00:02<00:00,  1.75it/s, v_num=0, train_loss_step=0.134, train_acc=0.972, train_acc_func=0.423, train_mcc=0.220, val_loss_step=7.930, val_loss_epoch=7.930, val_auroc=0.222, val_acc=0.996, val_mcc=0.703, train_loss_epoch=0.141]\n",
      "\u001b[36m(train_linevd pid=14937)\u001b[0m \n",
      "Validation: |          | 0/? [00:00<?, ?it/s]\u001b[A\n",
      "\u001b[36m(train_linevd pid=14937)\u001b[0m \n",
      "Validation:   0%|          | 0/1 [00:00<?, ?it/s]\u001b[A\n",
      "Validation DataLoader 0:   0%|          | 0/1 [00:00<?, ?it/s]\u001b[A\n",
      "\u001b[36m(train_linevd pid=14937)\u001b[0m \n",
      "Validation DataLoader 0: 100%|██████████| 1/1 [00:00<00:00, 10.72it/s]\u001b[A\n"
     ]
    },
    {
     "name": "stderr",
     "output_type": "stream",
     "text": [
      "\u001b[36m(train_linevd pid=14937)\u001b[0m Checkpoint successfully created at: Checkpoint(filesystem=local, path=/home/ubuntu/linevd/storage/processed/raytune_best_-1/202401100409_1fca96a_update_get_data.sh/tune_linevd/train_linevd_541e2_00000_0_batch_size=1024,embtype=codebert,gatdropout=0.2000,gnntype=gcn,gtype=pdg_raw,hdropout=0.3000,hfeat=512,_2024-01-10_04-09-08/checkpoint_000081)\n"
     ]
    },
    {
     "name": "stdout",
     "output_type": "stream",
     "text": [
      "\u001b[36m(train_linevd pid=14937)\u001b[0m \n",
      "Epoch 82:   0%|          | 0/4 [00:00<?, ?it/s, v_num=0, train_loss_step=0.134, train_acc=0.972, train_acc_func=0.423, train_mcc=0.220, val_loss_step=6.720, val_loss_epoch=6.720, val_auroc=0.222, val_acc=0.996, val_mcc=0.703, train_loss_epoch=0.137]        \n",
      "Epoch 82:  25%|██▌       | 1/4 [00:02<00:07,  0.38it/s, v_num=0, train_loss_step=0.131, train_acc=0.973, train_acc_func=0.370, train_mcc=0.181, val_loss_step=6.720, val_loss_epoch=6.720, val_auroc=0.222, val_acc=0.996, val_mcc=0.703, train_loss_epoch=0.137]\n",
      "Epoch 82:  50%|█████     | 2/4 [00:03<00:03,  0.63it/s, v_num=0, train_loss_step=0.112, train_acc=0.979, train_acc_func=0.383, train_mcc=0.211, val_loss_step=6.720, val_loss_epoch=6.720, val_auroc=0.222, val_acc=0.996, val_mcc=0.703, train_loss_epoch=0.137]\n",
      "Epoch 82:  75%|███████▌  | 3/4 [00:03<00:01,  0.82it/s, v_num=0, train_loss_step=0.162, train_acc=0.966, train_acc_func=0.410, train_mcc=0.160, val_loss_step=6.720, val_loss_epoch=6.720, val_auroc=0.222, val_acc=0.996, val_mcc=0.703, train_loss_epoch=0.137]\n",
      "Epoch 82: 100%|██████████| 4/4 [00:03<00:00,  1.00it/s, v_num=0, train_loss_step=0.143, train_acc=0.969, train_acc_func=0.406, train_mcc=0.208, val_loss_step=6.720, val_loss_epoch=6.720, val_auroc=0.222, val_acc=0.996, val_mcc=0.703, train_loss_epoch=0.137]\n",
      "Validation: |          | 0/? [00:00<?, ?it/s]\u001b[A\n",
      "\u001b[36m(train_linevd pid=14937)\u001b[0m \n",
      "Validation:   0%|          | 0/1 [00:00<?, ?it/s]\u001b[A\n",
      "Validation DataLoader 0:   0%|          | 0/1 [00:00<?, ?it/s]\u001b[A\n",
      "\u001b[36m(train_linevd pid=14937)\u001b[0m \n",
      "Validation DataLoader 0: 100%|██████████| 1/1 [00:00<00:00,  9.79it/s]\u001b[A\n"
     ]
    },
    {
     "name": "stderr",
     "output_type": "stream",
     "text": [
      "\u001b[36m(train_linevd pid=14937)\u001b[0m Checkpoint successfully created at: Checkpoint(filesystem=local, path=/home/ubuntu/linevd/storage/processed/raytune_best_-1/202401100409_1fca96a_update_get_data.sh/tune_linevd/train_linevd_541e2_00000_0_batch_size=1024,embtype=codebert,gatdropout=0.2000,gnntype=gcn,gtype=pdg_raw,hdropout=0.3000,hfeat=512,_2024-01-10_04-09-08/checkpoint_000082)\n"
     ]
    },
    {
     "name": "stdout",
     "output_type": "stream",
     "text": [
      "\u001b[36m(train_linevd pid=14937)\u001b[0m \n",
      "Epoch 83:   0%|          | 0/4 [00:00<?, ?it/s, v_num=0, train_loss_step=0.143, train_acc=0.969, train_acc_func=0.406, train_mcc=0.208, val_loss_step=6.890, val_loss_epoch=6.890, val_auroc=0.221, val_acc=0.996, val_mcc=0.703, train_loss_epoch=0.137]        \n",
      "Epoch 83:  25%|██▌       | 1/4 [00:01<00:05,  0.60it/s, v_num=0, train_loss_step=0.146, train_acc=0.968, train_acc_func=0.384, train_mcc=0.166, val_loss_step=6.890, val_loss_epoch=6.890, val_auroc=0.221, val_acc=0.996, val_mcc=0.703, train_loss_epoch=0.137]\n",
      "Epoch 83:  50%|█████     | 2/4 [00:03<00:03,  0.66it/s, v_num=0, train_loss_step=0.0911, train_acc=0.984, train_acc_func=0.383, train_mcc=0.244, val_loss_step=6.890, val_loss_epoch=6.890, val_auroc=0.221, val_acc=0.996, val_mcc=0.703, train_loss_epoch=0.137]\n",
      "Epoch 83:  75%|███████▌  | 3/4 [00:03<00:01,  0.85it/s, v_num=0, train_loss_step=0.156, train_acc=0.968, train_acc_func=0.413, train_mcc=0.166, val_loss_step=6.890, val_loss_epoch=6.890, val_auroc=0.221, val_acc=0.996, val_mcc=0.703, train_loss_epoch=0.137] \n",
      "Epoch 83: 100%|██████████| 4/4 [00:03<00:00,  1.02it/s, v_num=0, train_loss_step=0.155, train_acc=0.966, train_acc_func=0.381, train_mcc=0.198, val_loss_step=6.890, val_loss_epoch=6.890, val_auroc=0.221, val_acc=0.996, val_mcc=0.703, train_loss_epoch=0.137]\n",
      "Validation: |          | 0/? [00:00<?, ?it/s]\u001b[A\n",
      "\u001b[36m(train_linevd pid=14937)\u001b[0m \n",
      "Validation:   0%|          | 0/1 [00:00<?, ?it/s]\u001b[A\n",
      "Validation DataLoader 0:   0%|          | 0/1 [00:00<?, ?it/s]\u001b[A\n",
      "\u001b[36m(train_linevd pid=14937)\u001b[0m \n",
      "Validation DataLoader 0: 100%|██████████| 1/1 [00:00<00:00, 12.54it/s]\u001b[A\n"
     ]
    },
    {
     "name": "stderr",
     "output_type": "stream",
     "text": [
      "\u001b[36m(train_linevd pid=14937)\u001b[0m Checkpoint successfully created at: Checkpoint(filesystem=local, path=/home/ubuntu/linevd/storage/processed/raytune_best_-1/202401100409_1fca96a_update_get_data.sh/tune_linevd/train_linevd_541e2_00000_0_batch_size=1024,embtype=codebert,gatdropout=0.2000,gnntype=gcn,gtype=pdg_raw,hdropout=0.3000,hfeat=512,_2024-01-10_04-09-08/checkpoint_000083)\n"
     ]
    },
    {
     "name": "stdout",
     "output_type": "stream",
     "text": [
      "\u001b[36m(train_linevd pid=14937)\u001b[0m \n",
      "Epoch 84:   0%|          | 0/4 [00:00<?, ?it/s, v_num=0, train_loss_step=0.155, train_acc=0.966, train_acc_func=0.381, train_mcc=0.198, val_loss_step=7.410, val_loss_epoch=7.410, val_auroc=0.221, val_acc=0.996, val_mcc=0.703, train_loss_epoch=0.137]        \n",
      "Epoch 84:  25%|██▌       | 1/4 [00:00<00:02,  1.06it/s, v_num=0, train_loss_step=0.133, train_acc=0.972, train_acc_func=0.384, train_mcc=0.178, val_loss_step=7.410, val_loss_epoch=7.410, val_auroc=0.221, val_acc=0.996, val_mcc=0.703, train_loss_epoch=0.137]\n",
      "Epoch 84:  50%|█████     | 2/4 [00:01<00:01,  1.35it/s, v_num=0, train_loss_step=0.134, train_acc=0.973, train_acc_func=0.384, train_mcc=0.181, val_loss_step=7.410, val_loss_epoch=7.410, val_auroc=0.221, val_acc=0.996, val_mcc=0.703, train_loss_epoch=0.137]\n",
      "Epoch 84:  75%|███████▌  | 3/4 [00:01<00:00,  1.55it/s, v_num=0, train_loss_step=0.153, train_acc=0.970, train_acc_func=0.403, train_mcc=0.171, val_loss_step=7.410, val_loss_epoch=7.410, val_auroc=0.221, val_acc=0.996, val_mcc=0.703, train_loss_epoch=0.137]\n",
      "Epoch 84: 100%|██████████| 4/4 [00:02<00:00,  1.72it/s, v_num=0, train_loss_step=0.111, train_acc=0.975, train_acc_func=0.394, train_mcc=0.233, val_loss_step=7.410, val_loss_epoch=7.410, val_auroc=0.221, val_acc=0.996, val_mcc=0.703, train_loss_epoch=0.137]\n",
      "\u001b[36m(train_linevd pid=14937)\u001b[0m \n",
      "Validation: |          | 0/? [00:00<?, ?it/s]\u001b[A\n",
      "\u001b[36m(train_linevd pid=14937)\u001b[0m \n",
      "Validation:   0%|          | 0/1 [00:00<?, ?it/s]\u001b[A\n",
      "Validation DataLoader 0:   0%|          | 0/1 [00:00<?, ?it/s]\u001b[A\n",
      "\u001b[36m(train_linevd pid=14937)\u001b[0m \n",
      "Validation DataLoader 0: 100%|██████████| 1/1 [00:00<00:00,  4.75it/s]\u001b[A\n"
     ]
    },
    {
     "name": "stderr",
     "output_type": "stream",
     "text": [
      "\u001b[36m(train_linevd pid=14937)\u001b[0m Checkpoint successfully created at: Checkpoint(filesystem=local, path=/home/ubuntu/linevd/storage/processed/raytune_best_-1/202401100409_1fca96a_update_get_data.sh/tune_linevd/train_linevd_541e2_00000_0_batch_size=1024,embtype=codebert,gatdropout=0.2000,gnntype=gcn,gtype=pdg_raw,hdropout=0.3000,hfeat=512,_2024-01-10_04-09-08/checkpoint_000084)\n"
     ]
    },
    {
     "name": "stdout",
     "output_type": "stream",
     "text": [
      "\u001b[36m(train_linevd pid=14937)\u001b[0m \n",
      "Epoch 85:   0%|          | 0/4 [00:00<?, ?it/s, v_num=0, train_loss_step=0.111, train_acc=0.975, train_acc_func=0.394, train_mcc=0.233, val_loss_step=6.550, val_loss_epoch=6.550, val_auroc=0.221, val_acc=0.996, val_mcc=0.703, train_loss_epoch=0.133]        \n",
      "Epoch 85:  25%|██▌       | 1/4 [00:01<00:04,  0.67it/s, v_num=0, train_loss_step=0.153, train_acc=0.967, train_acc_func=0.385, train_mcc=0.163, val_loss_step=6.550, val_loss_epoch=6.550, val_auroc=0.221, val_acc=0.996, val_mcc=0.703, train_loss_epoch=0.133]\n",
      "Epoch 85:  50%|█████     | 2/4 [00:02<00:02,  0.99it/s, v_num=0, train_loss_step=0.126, train_acc=0.977, train_acc_func=0.379, train_mcc=0.197, val_loss_step=6.550, val_loss_epoch=6.550, val_auroc=0.221, val_acc=0.996, val_mcc=0.703, train_loss_epoch=0.133]\n",
      "Epoch 85:  75%|███████▌  | 3/4 [00:02<00:00,  1.20it/s, v_num=0, train_loss_step=0.125, train_acc=0.974, train_acc_func=0.391, train_mcc=0.185, val_loss_step=6.550, val_loss_epoch=6.550, val_auroc=0.221, val_acc=0.996, val_mcc=0.703, train_loss_epoch=0.133]\n",
      "Epoch 85: 100%|██████████| 4/4 [00:02<00:00,  1.40it/s, v_num=0, train_loss_step=0.139, train_acc=0.971, train_acc_func=0.419, train_mcc=0.214, val_loss_step=6.550, val_loss_epoch=6.550, val_auroc=0.221, val_acc=0.996, val_mcc=0.703, train_loss_epoch=0.133]\n",
      "\u001b[36m(train_linevd pid=14937)\u001b[0m \n",
      "Validation: |          | 0/? [00:00<?, ?it/s]\u001b[A\n",
      "\u001b[36m(train_linevd pid=14937)\u001b[0m \n",
      "Validation:   0%|          | 0/1 [00:00<?, ?it/s]\u001b[A\n",
      "Validation DataLoader 0:   0%|          | 0/1 [00:00<?, ?it/s]\u001b[A\n",
      "Validation DataLoader 0: 100%|██████████| 1/1 [00:00<00:00, 15.61it/s]\u001b[A\n"
     ]
    },
    {
     "name": "stderr",
     "output_type": "stream",
     "text": [
      "\u001b[36m(train_linevd pid=14937)\u001b[0m Checkpoint successfully created at: Checkpoint(filesystem=local, path=/home/ubuntu/linevd/storage/processed/raytune_best_-1/202401100409_1fca96a_update_get_data.sh/tune_linevd/train_linevd_541e2_00000_0_batch_size=1024,embtype=codebert,gatdropout=0.2000,gnntype=gcn,gtype=pdg_raw,hdropout=0.3000,hfeat=512,_2024-01-10_04-09-08/checkpoint_000085)\n"
     ]
    },
    {
     "name": "stdout",
     "output_type": "stream",
     "text": [
      "\u001b[36m(train_linevd pid=14937)\u001b[0m \n",
      "Epoch 86:   0%|          | 0/4 [00:00<?, ?it/s, v_num=0, train_loss_step=0.139, train_acc=0.971, train_acc_func=0.419, train_mcc=0.214, val_loss_step=7.860, val_loss_epoch=7.860, val_auroc=0.221, val_acc=0.996, val_mcc=0.703, train_loss_epoch=0.136]        \n",
      "Epoch 86:  25%|██▌       | 1/4 [00:02<00:07,  0.41it/s, v_num=0, train_loss_step=0.144, train_acc=0.969, train_acc_func=0.385, train_mcc=0.168, val_loss_step=7.860, val_loss_epoch=7.860, val_auroc=0.221, val_acc=0.996, val_mcc=0.703, train_loss_epoch=0.136]\n",
      "Epoch 86:  50%|█████     | 2/4 [00:02<00:02,  0.68it/s, v_num=0, train_loss_step=0.125, train_acc=0.975, train_acc_func=0.391, train_mcc=0.189, val_loss_step=7.860, val_loss_epoch=7.860, val_auroc=0.221, val_acc=0.996, val_mcc=0.703, train_loss_epoch=0.136]\n",
      "Epoch 86:  75%|███████▌  | 3/4 [00:03<00:01,  0.88it/s, v_num=0, train_loss_step=0.129, train_acc=0.973, train_acc_func=0.392, train_mcc=0.181, val_loss_step=7.860, val_loss_epoch=7.860, val_auroc=0.221, val_acc=0.996, val_mcc=0.703, train_loss_epoch=0.136]\n",
      "Epoch 86: 100%|██████████| 4/4 [00:03<00:00,  1.06it/s, v_num=0, train_loss_step=0.140, train_acc=0.972, train_acc_func=0.400, train_mcc=0.220, val_loss_step=7.860, val_loss_epoch=7.860, val_auroc=0.221, val_acc=0.996, val_mcc=0.703, train_loss_epoch=0.136]\n",
      "\u001b[36m(train_linevd pid=14937)\u001b[0m \n",
      "Validation: |          | 0/? [00:00<?, ?it/s]\u001b[A\n",
      "\u001b[36m(train_linevd pid=14937)\u001b[0m \n",
      "Validation:   0%|          | 0/1 [00:00<?, ?it/s]\u001b[A\n",
      "Validation DataLoader 0:   0%|          | 0/1 [00:00<?, ?it/s]\u001b[A\n",
      "\u001b[36m(train_linevd pid=14937)\u001b[0m \n",
      "Validation DataLoader 0: 100%|██████████| 1/1 [00:00<00:00, 14.57it/s]\u001b[A\n"
     ]
    },
    {
     "name": "stderr",
     "output_type": "stream",
     "text": [
      "\u001b[36m(train_linevd pid=14937)\u001b[0m Checkpoint successfully created at: Checkpoint(filesystem=local, path=/home/ubuntu/linevd/storage/processed/raytune_best_-1/202401100409_1fca96a_update_get_data.sh/tune_linevd/train_linevd_541e2_00000_0_batch_size=1024,embtype=codebert,gatdropout=0.2000,gnntype=gcn,gtype=pdg_raw,hdropout=0.3000,hfeat=512,_2024-01-10_04-09-08/checkpoint_000086)\n"
     ]
    },
    {
     "name": "stdout",
     "output_type": "stream",
     "text": [
      "\u001b[36m(train_linevd pid=14937)\u001b[0m \n",
      "Epoch 87:   0%|          | 0/4 [00:00<?, ?it/s, v_num=0, train_loss_step=0.140, train_acc=0.972, train_acc_func=0.400, train_mcc=0.220, val_loss_step=6.590, val_loss_epoch=6.590, val_auroc=0.221, val_acc=0.996, val_mcc=0.703, train_loss_epoch=0.134]        \n",
      "Epoch 87:  25%|██▌       | 1/4 [00:00<00:02,  1.09it/s, v_num=0, train_loss_step=0.137, train_acc=0.972, train_acc_func=0.414, train_mcc=0.178, val_loss_step=6.590, val_loss_epoch=6.590, val_auroc=0.221, val_acc=0.996, val_mcc=0.703, train_loss_epoch=0.134]\n",
      "Epoch 87:  50%|█████     | 2/4 [00:01<00:01,  1.18it/s, v_num=0, train_loss_step=0.113, train_acc=0.979, train_acc_func=0.394, train_mcc=0.206, val_loss_step=6.590, val_loss_epoch=6.590, val_auroc=0.221, val_acc=0.996, val_mcc=0.703, train_loss_epoch=0.134]\n",
      "Epoch 87:  75%|███████▌  | 3/4 [00:03<00:01,  0.85it/s, v_num=0, train_loss_step=0.157, train_acc=0.966, train_acc_func=0.390, train_mcc=0.160, val_loss_step=6.590, val_loss_epoch=6.590, val_auroc=0.221, val_acc=0.996, val_mcc=0.703, train_loss_epoch=0.134]\n",
      "Epoch 87: 100%|██████████| 4/4 [00:03<00:00,  1.03it/s, v_num=0, train_loss_step=0.134, train_acc=0.972, train_acc_func=0.354, train_mcc=0.220, val_loss_step=6.590, val_loss_epoch=6.590, val_auroc=0.221, val_acc=0.996, val_mcc=0.703, train_loss_epoch=0.134]\n",
      "Validation: |          | 0/? [00:00<?, ?it/s]\u001b[A\n",
      "\u001b[36m(train_linevd pid=14937)\u001b[0m \n",
      "Validation:   0%|          | 0/1 [00:00<?, ?it/s]\u001b[A\n",
      "Validation DataLoader 0:   0%|          | 0/1 [00:00<?, ?it/s]\u001b[A\n",
      "\u001b[36m(train_linevd pid=14937)\u001b[0m \n",
      "Validation DataLoader 0: 100%|██████████| 1/1 [00:00<00:00, 12.78it/s]\u001b[A\n"
     ]
    },
    {
     "name": "stderr",
     "output_type": "stream",
     "text": [
      "\u001b[36m(train_linevd pid=14937)\u001b[0m Checkpoint successfully created at: Checkpoint(filesystem=local, path=/home/ubuntu/linevd/storage/processed/raytune_best_-1/202401100409_1fca96a_update_get_data.sh/tune_linevd/train_linevd_541e2_00000_0_batch_size=1024,embtype=codebert,gatdropout=0.2000,gnntype=gcn,gtype=pdg_raw,hdropout=0.3000,hfeat=512,_2024-01-10_04-09-08/checkpoint_000087)\n"
     ]
    },
    {
     "name": "stdout",
     "output_type": "stream",
     "text": [
      "\u001b[36m(train_linevd pid=14937)\u001b[0m \n",
      "Epoch 88:   0%|          | 0/4 [00:00<?, ?it/s, v_num=0, train_loss_step=0.134, train_acc=0.972, train_acc_func=0.354, train_mcc=0.220, val_loss_step=7.490, val_loss_epoch=7.490, val_auroc=0.221, val_acc=0.996, val_mcc=0.703, train_loss_epoch=0.135]        \n",
      "Epoch 88:  25%|██▌       | 1/4 [00:00<00:02,  1.10it/s, v_num=0, train_loss_step=0.152, train_acc=0.967, train_acc_func=0.384, train_mcc=0.163, val_loss_step=7.490, val_loss_epoch=7.490, val_auroc=0.221, val_acc=0.996, val_mcc=0.703, train_loss_epoch=0.135]\n",
      "Epoch 88:  50%|█████     | 2/4 [00:01<00:01,  1.43it/s, v_num=0, train_loss_step=0.113, train_acc=0.977, train_acc_func=0.390, train_mcc=0.197, val_loss_step=7.490, val_loss_epoch=7.490, val_auroc=0.221, val_acc=0.996, val_mcc=0.703, train_loss_epoch=0.135]\n",
      "Epoch 88:  75%|███████▌  | 3/4 [00:01<00:00,  1.59it/s, v_num=0, train_loss_step=0.136, train_acc=0.971, train_acc_func=0.401, train_mcc=0.174, val_loss_step=7.490, val_loss_epoch=7.490, val_auroc=0.221, val_acc=0.996, val_mcc=0.703, train_loss_epoch=0.135]\n",
      "Epoch 88: 100%|██████████| 4/4 [00:02<00:00,  1.77it/s, v_num=0, train_loss_step=0.122, train_acc=0.975, train_acc_func=0.388, train_mcc=0.233, val_loss_step=7.490, val_loss_epoch=7.490, val_auroc=0.221, val_acc=0.996, val_mcc=0.703, train_loss_epoch=0.135]\n",
      "Validation: |          | 0/? [00:00<?, ?it/s]\u001b[A\n",
      "\u001b[36m(train_linevd pid=14937)\u001b[0m \n",
      "Validation:   0%|          | 0/1 [00:00<?, ?it/s]\u001b[A\n",
      "Validation DataLoader 0:   0%|          | 0/1 [00:00<?, ?it/s]\u001b[A\n",
      "\u001b[36m(train_linevd pid=14937)\u001b[0m \n",
      "Validation DataLoader 0: 100%|██████████| 1/1 [00:00<00:00, 10.86it/s]\u001b[A\n"
     ]
    },
    {
     "name": "stderr",
     "output_type": "stream",
     "text": [
      "\u001b[36m(train_linevd pid=14937)\u001b[0m Checkpoint successfully created at: Checkpoint(filesystem=local, path=/home/ubuntu/linevd/storage/processed/raytune_best_-1/202401100409_1fca96a_update_get_data.sh/tune_linevd/train_linevd_541e2_00000_0_batch_size=1024,embtype=codebert,gatdropout=0.2000,gnntype=gcn,gtype=pdg_raw,hdropout=0.3000,hfeat=512,_2024-01-10_04-09-08/checkpoint_000088)\n"
     ]
    },
    {
     "name": "stdout",
     "output_type": "stream",
     "text": [
      "\u001b[36m(train_linevd pid=14937)\u001b[0m \n",
      "Epoch 89:   0%|          | 0/4 [00:00<?, ?it/s, v_num=0, train_loss_step=0.122, train_acc=0.975, train_acc_func=0.388, train_mcc=0.233, val_loss_step=6.960, val_loss_epoch=6.960, val_auroc=0.221, val_acc=0.996, val_mcc=0.703, train_loss_epoch=0.131]        \n",
      "Epoch 89:  25%|██▌       | 1/4 [00:02<00:08,  0.36it/s, v_num=0, train_loss_step=0.124, train_acc=0.974, train_acc_func=0.396, train_mcc=0.185, val_loss_step=6.960, val_loss_epoch=6.960, val_auroc=0.221, val_acc=0.996, val_mcc=0.703, train_loss_epoch=0.131]\n",
      "Epoch 89:  50%|█████     | 2/4 [00:03<00:03,  0.59it/s, v_num=0, train_loss_step=0.127, train_acc=0.974, train_acc_func=0.391, train_mcc=0.185, val_loss_step=6.960, val_loss_epoch=6.960, val_auroc=0.221, val_acc=0.996, val_mcc=0.703, train_loss_epoch=0.131]\n",
      "Epoch 89:  75%|███████▌  | 3/4 [00:03<00:01,  0.78it/s, v_num=0, train_loss_step=0.130, train_acc=0.973, train_acc_func=0.391, train_mcc=0.181, val_loss_step=6.960, val_loss_epoch=6.960, val_auroc=0.221, val_acc=0.996, val_mcc=0.703, train_loss_epoch=0.131]\n",
      "Epoch 89: 100%|██████████| 4/4 [00:04<00:00,  0.95it/s, v_num=0, train_loss_step=0.154, train_acc=0.966, train_acc_func=0.385, train_mcc=0.198, val_loss_step=6.960, val_loss_epoch=6.960, val_auroc=0.221, val_acc=0.996, val_mcc=0.703, train_loss_epoch=0.131]\n",
      "\u001b[36m(train_linevd pid=14937)\u001b[0m \n",
      "Validation: |          | 0/? [00:00<?, ?it/s]\u001b[A\n",
      "\u001b[36m(train_linevd pid=14937)\u001b[0m \n",
      "Validation:   0%|          | 0/1 [00:00<?, ?it/s]\u001b[A\n",
      "Validation DataLoader 0:   0%|          | 0/1 [00:00<?, ?it/s]\u001b[A\n",
      "\u001b[36m(train_linevd pid=14937)\u001b[0m \n",
      "Validation DataLoader 0: 100%|██████████| 1/1 [00:00<00:00, 10.52it/s]\u001b[A\n"
     ]
    },
    {
     "name": "stderr",
     "output_type": "stream",
     "text": [
      "\u001b[36m(train_linevd pid=14937)\u001b[0m Checkpoint successfully created at: Checkpoint(filesystem=local, path=/home/ubuntu/linevd/storage/processed/raytune_best_-1/202401100409_1fca96a_update_get_data.sh/tune_linevd/train_linevd_541e2_00000_0_batch_size=1024,embtype=codebert,gatdropout=0.2000,gnntype=gcn,gtype=pdg_raw,hdropout=0.3000,hfeat=512,_2024-01-10_04-09-08/checkpoint_000089)\n"
     ]
    },
    {
     "name": "stdout",
     "output_type": "stream",
     "text": [
      "\u001b[36m(train_linevd pid=14937)\u001b[0m \n",
      "Epoch 90:   0%|          | 0/4 [00:00<?, ?it/s, v_num=0, train_loss_step=0.154, train_acc=0.966, train_acc_func=0.385, train_mcc=0.198, val_loss_step=7.650, val_loss_epoch=7.650, val_auroc=0.221, val_acc=0.996, val_mcc=0.703, train_loss_epoch=0.134]        \n",
      "Epoch 90:  25%|██▌       | 1/4 [00:00<00:02,  1.18it/s, v_num=0, train_loss_step=0.135, train_acc=0.971, train_acc_func=0.397, train_mcc=0.174, val_loss_step=7.650, val_loss_epoch=7.650, val_auroc=0.221, val_acc=0.996, val_mcc=0.703, train_loss_epoch=0.134]\n",
      "Epoch 90:  50%|█████     | 2/4 [00:01<00:01,  1.47it/s, v_num=0, train_loss_step=0.134, train_acc=0.971, train_acc_func=0.377, train_mcc=0.174, val_loss_step=7.650, val_loss_epoch=7.650, val_auroc=0.221, val_acc=0.996, val_mcc=0.703, train_loss_epoch=0.134]\n",
      "Epoch 90:  75%|███████▌  | 3/4 [00:02<00:00,  1.36it/s, v_num=0, train_loss_step=0.124, train_acc=0.975, train_acc_func=0.399, train_mcc=0.189, val_loss_step=7.650, val_loss_epoch=7.650, val_auroc=0.221, val_acc=0.996, val_mcc=0.703, train_loss_epoch=0.134]\n",
      "Epoch 90: 100%|██████████| 4/4 [00:03<00:00,  1.04it/s, v_num=0, train_loss_step=0.135, train_acc=0.972, train_acc_func=0.389, train_mcc=0.220, val_loss_step=7.650, val_loss_epoch=7.650, val_auroc=0.221, val_acc=0.996, val_mcc=0.703, train_loss_epoch=0.134]\n",
      "\u001b[36m(train_linevd pid=14937)\u001b[0m \n",
      "Validation: |          | 0/? [00:00<?, ?it/s]\u001b[A\n",
      "\u001b[36m(train_linevd pid=14937)\u001b[0m \n",
      "Validation:   0%|          | 0/1 [00:00<?, ?it/s]\u001b[A\n",
      "Validation DataLoader 0:   0%|          | 0/1 [00:00<?, ?it/s]\u001b[A\n",
      "\u001b[36m(train_linevd pid=14937)\u001b[0m \n",
      "Validation DataLoader 0: 100%|██████████| 1/1 [00:00<00:00, 11.67it/s]\u001b[A\n"
     ]
    },
    {
     "name": "stderr",
     "output_type": "stream",
     "text": [
      "\u001b[36m(train_linevd pid=14937)\u001b[0m Checkpoint successfully created at: Checkpoint(filesystem=local, path=/home/ubuntu/linevd/storage/processed/raytune_best_-1/202401100409_1fca96a_update_get_data.sh/tune_linevd/train_linevd_541e2_00000_0_batch_size=1024,embtype=codebert,gatdropout=0.2000,gnntype=gcn,gtype=pdg_raw,hdropout=0.3000,hfeat=512,_2024-01-10_04-09-08/checkpoint_000090)\n"
     ]
    },
    {
     "name": "stdout",
     "output_type": "stream",
     "text": [
      "\u001b[36m(train_linevd pid=14937)\u001b[0m \n",
      "Epoch 91:   0%|          | 0/4 [00:00<?, ?it/s, v_num=0, train_loss_step=0.135, train_acc=0.972, train_acc_func=0.389, train_mcc=0.220, val_loss_step=7.830, val_loss_epoch=7.830, val_auroc=0.221, val_acc=0.996, val_mcc=0.703, train_loss_epoch=0.132]        \n",
      "Epoch 91:  25%|██▌       | 1/4 [00:00<00:02,  1.15it/s, v_num=0, train_loss_step=0.130, train_acc=0.973, train_acc_func=0.369, train_mcc=0.181, val_loss_step=7.830, val_loss_epoch=7.830, val_auroc=0.221, val_acc=0.996, val_mcc=0.703, train_loss_epoch=0.132]\n",
      "Epoch 91:  50%|█████     | 2/4 [00:01<00:01,  1.40it/s, v_num=0, train_loss_step=0.121, train_acc=0.975, train_acc_func=0.412, train_mcc=0.189, val_loss_step=7.830, val_loss_epoch=7.830, val_auroc=0.221, val_acc=0.996, val_mcc=0.703, train_loss_epoch=0.132]\n",
      "Epoch 91:  75%|███████▌  | 3/4 [00:02<00:00,  1.47it/s, v_num=0, train_loss_step=0.142, train_acc=0.970, train_acc_func=0.393, train_mcc=0.171, val_loss_step=7.830, val_loss_epoch=7.830, val_auroc=0.221, val_acc=0.996, val_mcc=0.703, train_loss_epoch=0.132]\n",
      "Epoch 91: 100%|██████████| 4/4 [00:02<00:00,  1.66it/s, v_num=0, train_loss_step=0.135, train_acc=0.971, train_acc_func=0.389, train_mcc=0.214, val_loss_step=7.830, val_loss_epoch=7.830, val_auroc=0.221, val_acc=0.996, val_mcc=0.703, train_loss_epoch=0.132]\n",
      "\u001b[36m(train_linevd pid=14937)\u001b[0m \n",
      "Validation: |          | 0/? [00:00<?, ?it/s]\u001b[A\n",
      "\u001b[36m(train_linevd pid=14937)\u001b[0m \n",
      "Validation:   0%|          | 0/1 [00:00<?, ?it/s]\u001b[A\n",
      "Validation DataLoader 0:   0%|          | 0/1 [00:00<?, ?it/s]\u001b[A\n",
      "\u001b[36m(train_linevd pid=14937)\u001b[0m \n",
      "Validation DataLoader 0: 100%|██████████| 1/1 [00:00<00:00, 12.81it/s]\u001b[A\n"
     ]
    },
    {
     "name": "stderr",
     "output_type": "stream",
     "text": [
      "\u001b[36m(train_linevd pid=14937)\u001b[0m Checkpoint successfully created at: Checkpoint(filesystem=local, path=/home/ubuntu/linevd/storage/processed/raytune_best_-1/202401100409_1fca96a_update_get_data.sh/tune_linevd/train_linevd_541e2_00000_0_batch_size=1024,embtype=codebert,gatdropout=0.2000,gnntype=gcn,gtype=pdg_raw,hdropout=0.3000,hfeat=512,_2024-01-10_04-09-08/checkpoint_000091)\n"
     ]
    },
    {
     "name": "stdout",
     "output_type": "stream",
     "text": [
      "\u001b[36m(train_linevd pid=14937)\u001b[0m \n",
      "Epoch 92:   0%|          | 0/4 [00:00<?, ?it/s, v_num=0, train_loss_step=0.135, train_acc=0.971, train_acc_func=0.389, train_mcc=0.214, val_loss_step=6.920, val_loss_epoch=6.920, val_auroc=0.221, val_acc=0.996, val_mcc=0.703, train_loss_epoch=0.132]        \n",
      "Epoch 92:  25%|██▌       | 1/4 [00:02<00:07,  0.38it/s, v_num=0, train_loss_step=0.138, train_acc=0.971, train_acc_func=0.396, train_mcc=0.174, val_loss_step=6.920, val_loss_epoch=6.920, val_auroc=0.221, val_acc=0.996, val_mcc=0.703, train_loss_epoch=0.132]\n",
      "Epoch 92:  50%|█████     | 2/4 [00:03<00:03,  0.65it/s, v_num=0, train_loss_step=0.121, train_acc=0.975, train_acc_func=0.396, train_mcc=0.189, val_loss_step=6.920, val_loss_epoch=6.920, val_auroc=0.221, val_acc=0.996, val_mcc=0.703, train_loss_epoch=0.132]\n",
      "Epoch 92:  75%|███████▌  | 3/4 [00:03<00:01,  0.85it/s, v_num=0, train_loss_step=0.131, train_acc=0.973, train_acc_func=0.396, train_mcc=0.181, val_loss_step=6.920, val_loss_epoch=6.920, val_auroc=0.221, val_acc=0.996, val_mcc=0.703, train_loss_epoch=0.132]\n",
      "Epoch 92: 100%|██████████| 4/4 [00:03<00:00,  1.03it/s, v_num=0, train_loss_step=0.149, train_acc=0.969, train_acc_func=0.369, train_mcc=0.208, val_loss_step=6.920, val_loss_epoch=6.920, val_auroc=0.221, val_acc=0.996, val_mcc=0.703, train_loss_epoch=0.132]\n",
      "\u001b[36m(train_linevd pid=14937)\u001b[0m \n",
      "Validation: |          | 0/? [00:00<?, ?it/s]\u001b[A\n",
      "Validation:   0%|          | 0/1 [00:00<?, ?it/s]\u001b[A\n",
      "Validation DataLoader 0:   0%|          | 0/1 [00:00<?, ?it/s]\u001b[A\n",
      "\u001b[36m(train_linevd pid=14937)\u001b[0m \n",
      "Validation DataLoader 0: 100%|██████████| 1/1 [00:00<00:00, 11.93it/s]\u001b[A\n"
     ]
    },
    {
     "name": "stderr",
     "output_type": "stream",
     "text": [
      "\u001b[36m(train_linevd pid=14937)\u001b[0m Checkpoint successfully created at: Checkpoint(filesystem=local, path=/home/ubuntu/linevd/storage/processed/raytune_best_-1/202401100409_1fca96a_update_get_data.sh/tune_linevd/train_linevd_541e2_00000_0_batch_size=1024,embtype=codebert,gatdropout=0.2000,gnntype=gcn,gtype=pdg_raw,hdropout=0.3000,hfeat=512,_2024-01-10_04-09-08/checkpoint_000092)\n"
     ]
    },
    {
     "name": "stdout",
     "output_type": "stream",
     "text": [
      "\u001b[36m(train_linevd pid=14937)\u001b[0m \n",
      "Epoch 93:   0%|          | 0/4 [00:00<?, ?it/s, v_num=0, train_loss_step=0.149, train_acc=0.969, train_acc_func=0.369, train_mcc=0.208, val_loss_step=7.960, val_loss_epoch=7.960, val_auroc=0.219, val_acc=0.996, val_mcc=0.703, train_loss_epoch=0.135]        \n",
      "Epoch 93:  25%|██▌       | 1/4 [00:00<00:02,  1.14it/s, v_num=0, train_loss_step=0.118, train_acc=0.976, train_acc_func=0.389, train_mcc=0.193, val_loss_step=7.960, val_loss_epoch=7.960, val_auroc=0.219, val_acc=0.996, val_mcc=0.703, train_loss_epoch=0.135]\n",
      "Epoch 93:  50%|█████     | 2/4 [00:01<00:01,  1.00it/s, v_num=0, train_loss_step=0.120, train_acc=0.977, train_acc_func=0.396, train_mcc=0.197, val_loss_step=7.960, val_loss_epoch=7.960, val_auroc=0.219, val_acc=0.996, val_mcc=0.703, train_loss_epoch=0.135]\n",
      "Epoch 93:  75%|███████▌  | 3/4 [00:03<00:01,  0.87it/s, v_num=0, train_loss_step=0.146, train_acc=0.969, train_acc_func=0.383, train_mcc=0.168, val_loss_step=7.960, val_loss_epoch=7.960, val_auroc=0.219, val_acc=0.996, val_mcc=0.703, train_loss_epoch=0.135]\n",
      "Epoch 93: 100%|██████████| 4/4 [00:03<00:00,  1.05it/s, v_num=0, train_loss_step=0.161, train_acc=0.965, train_acc_func=0.398, train_mcc=0.193, val_loss_step=7.960, val_loss_epoch=7.960, val_auroc=0.219, val_acc=0.996, val_mcc=0.703, train_loss_epoch=0.135]\n",
      "Validation: |          | 0/? [00:00<?, ?it/s]\n",
      "\u001b[36m(train_linevd pid=14937)\u001b[0m \u001b[A\n",
      "\u001b[36m(train_linevd pid=14937)\u001b[0m \n",
      "Validation:   0%|          | 0/1 [00:00<?, ?it/s]\u001b[A\n",
      "Validation DataLoader 0:   0%|          | 0/1 [00:00<?, ?it/s]\u001b[A\n",
      "\u001b[36m(train_linevd pid=14937)\u001b[0m \n",
      "Validation DataLoader 0: 100%|██████████| 1/1 [00:00<00:00, 11.68it/s]\u001b[A\n"
     ]
    },
    {
     "name": "stderr",
     "output_type": "stream",
     "text": [
      "\u001b[36m(train_linevd pid=14937)\u001b[0m Checkpoint successfully created at: Checkpoint(filesystem=local, path=/home/ubuntu/linevd/storage/processed/raytune_best_-1/202401100409_1fca96a_update_get_data.sh/tune_linevd/train_linevd_541e2_00000_0_batch_size=1024,embtype=codebert,gatdropout=0.2000,gnntype=gcn,gtype=pdg_raw,hdropout=0.3000,hfeat=512,_2024-01-10_04-09-08/checkpoint_000093)\n"
     ]
    },
    {
     "name": "stdout",
     "output_type": "stream",
     "text": [
      "\u001b[36m(train_linevd pid=14937)\u001b[0m \n",
      "Epoch 93: 100%|██████████| 4/4 [00:04<00:00,  0.93it/s, v_num=0, train_loss_step=0.161, train_acc=0.965, train_acc_func=0.398, train_mcc=0.193, val_loss_step=8.090, val_loss_epoch=8.090, val_auroc=0.219, val_acc=0.996, val_mcc=0.703, train_loss_epoch=0.136]\n",
      "Epoch 94:   0%|          | 0/4 [00:00<?, ?it/s, v_num=0, train_loss_step=0.161, train_acc=0.965, train_acc_func=0.398, train_mcc=0.193, val_loss_step=8.090, val_loss_epoch=8.090, val_auroc=0.219, val_acc=0.996, val_mcc=0.703, train_loss_epoch=0.136]        \n",
      "Epoch 94:  25%|██▌       | 1/4 [00:00<00:02,  1.09it/s, v_num=0, train_loss_step=0.136, train_acc=0.972, train_acc_func=0.401, train_mcc=0.178, val_loss_step=8.090, val_loss_epoch=8.090, val_auroc=0.219, val_acc=0.996, val_mcc=0.703, train_loss_epoch=0.136]\n",
      "Epoch 94:  50%|█████     | 2/4 [00:01<00:01,  1.41it/s, v_num=0, train_loss_step=0.108, train_acc=0.979, train_acc_func=0.390, train_mcc=0.206, val_loss_step=8.090, val_loss_epoch=8.090, val_auroc=0.219, val_acc=0.996, val_mcc=0.703, train_loss_epoch=0.136]\n",
      "Epoch 94:  75%|███████▌  | 3/4 [00:01<00:00,  1.56it/s, v_num=0, train_loss_step=0.136, train_acc=0.972, train_acc_func=0.374, train_mcc=0.178, val_loss_step=8.090, val_loss_epoch=8.090, val_auroc=0.219, val_acc=0.996, val_mcc=0.703, train_loss_epoch=0.136]\n",
      "Epoch 94: 100%|██████████| 4/4 [00:02<00:00,  1.75it/s, v_num=0, train_loss_step=0.159, train_acc=0.963, train_acc_func=0.403, train_mcc=0.189, val_loss_step=8.090, val_loss_epoch=8.090, val_auroc=0.219, val_acc=0.996, val_mcc=0.703, train_loss_epoch=0.136]\n",
      "\u001b[36m(train_linevd pid=14937)\u001b[0m \n",
      "Validation: |          | 0/? [00:00<?, ?it/s]\u001b[A\n",
      "\u001b[36m(train_linevd pid=14937)\u001b[0m \n",
      "Validation:   0%|          | 0/1 [00:00<?, ?it/s]\u001b[A\n",
      "Validation DataLoader 0:   0%|          | 0/1 [00:00<?, ?it/s]\u001b[A\n",
      "Validation DataLoader 0: 100%|██████████| 1/1 [00:00<00:00, 10.39it/s]\u001b[A\n"
     ]
    },
    {
     "name": "stderr",
     "output_type": "stream",
     "text": [
      "\u001b[36m(train_linevd pid=14937)\u001b[0m Checkpoint successfully created at: Checkpoint(filesystem=local, path=/home/ubuntu/linevd/storage/processed/raytune_best_-1/202401100409_1fca96a_update_get_data.sh/tune_linevd/train_linevd_541e2_00000_0_batch_size=1024,embtype=codebert,gatdropout=0.2000,gnntype=gcn,gtype=pdg_raw,hdropout=0.3000,hfeat=512,_2024-01-10_04-09-08/checkpoint_000094)\n"
     ]
    },
    {
     "name": "stdout",
     "output_type": "stream",
     "text": [
      "\u001b[36m(train_linevd pid=14937)\u001b[0m \n",
      "Epoch 95:   0%|          | 0/4 [00:00<?, ?it/s, v_num=0, train_loss_step=0.159, train_acc=0.963, train_acc_func=0.403, train_mcc=0.189, val_loss_step=7.620, val_loss_epoch=7.620, val_auroc=0.219, val_acc=0.996, val_mcc=0.703, train_loss_epoch=0.135]        \n",
      "Epoch 95:  25%|██▌       | 1/4 [00:02<00:07,  0.39it/s, v_num=0, train_loss_step=0.139, train_acc=0.970, train_acc_func=0.403, train_mcc=0.171, val_loss_step=7.620, val_loss_epoch=7.620, val_auroc=0.219, val_acc=0.996, val_mcc=0.703, train_loss_epoch=0.135]\n",
      "Epoch 95:  50%|█████     | 2/4 [00:02<00:02,  0.67it/s, v_num=0, train_loss_step=0.155, train_acc=0.967, train_acc_func=0.378, train_mcc=0.163, val_loss_step=7.620, val_loss_epoch=7.620, val_auroc=0.219, val_acc=0.996, val_mcc=0.703, train_loss_epoch=0.135]\n",
      "Epoch 95:  75%|███████▌  | 3/4 [00:03<00:01,  0.87it/s, v_num=0, train_loss_step=0.131, train_acc=0.972, train_acc_func=0.389, train_mcc=0.178, val_loss_step=7.620, val_loss_epoch=7.620, val_auroc=0.219, val_acc=0.996, val_mcc=0.703, train_loss_epoch=0.135]\n",
      "Epoch 95: 100%|██████████| 4/4 [00:03<00:00,  1.04it/s, v_num=0, train_loss_step=0.0914, train_acc=0.984, train_acc_func=0.395, train_mcc=0.294, val_loss_step=7.620, val_loss_epoch=7.620, val_auroc=0.219, val_acc=0.996, val_mcc=0.703, train_loss_epoch=0.135]\n",
      "Validation: |          | 0/? [00:00<?, ?it/s]\u001b[A\n",
      "\u001b[36m(train_linevd pid=14937)\u001b[0m \n",
      "Validation:   0%|          | 0/1 [00:00<?, ?it/s]\u001b[A\n",
      "Validation DataLoader 0:   0%|          | 0/1 [00:00<?, ?it/s]\u001b[A\n",
      "\u001b[36m(train_linevd pid=14937)\u001b[0m \n",
      "Validation DataLoader 0: 100%|██████████| 1/1 [00:00<00:00, 11.01it/s]\u001b[A\n"
     ]
    },
    {
     "name": "stderr",
     "output_type": "stream",
     "text": [
      "\u001b[36m(train_linevd pid=14937)\u001b[0m Checkpoint successfully created at: Checkpoint(filesystem=local, path=/home/ubuntu/linevd/storage/processed/raytune_best_-1/202401100409_1fca96a_update_get_data.sh/tune_linevd/train_linevd_541e2_00000_0_batch_size=1024,embtype=codebert,gatdropout=0.2000,gnntype=gcn,gtype=pdg_raw,hdropout=0.3000,hfeat=512,_2024-01-10_04-09-08/checkpoint_000095)\n"
     ]
    },
    {
     "name": "stdout",
     "output_type": "stream",
     "text": [
      "\u001b[36m(train_linevd pid=14937)\u001b[0m \n",
      "Epoch 96:   0%|          | 0/4 [00:00<?, ?it/s, v_num=0, train_loss_step=0.0914, train_acc=0.984, train_acc_func=0.395, train_mcc=0.294, val_loss_step=7.670, val_loss_epoch=7.670, val_auroc=0.219, val_acc=0.996, val_mcc=0.703, train_loss_epoch=0.129]        \n",
      "Epoch 96:  25%|██▌       | 1/4 [00:00<00:02,  1.02it/s, v_num=0, train_loss_step=0.123, train_acc=0.975, train_acc_func=0.405, train_mcc=0.189, val_loss_step=7.670, val_loss_epoch=7.670, val_auroc=0.219, val_acc=0.996, val_mcc=0.703, train_loss_epoch=0.129] \n",
      "Epoch 96:  50%|█████     | 2/4 [00:01<00:01,  1.34it/s, v_num=0, train_loss_step=0.120, train_acc=0.974, train_acc_func=0.399, train_mcc=0.185, val_loss_step=7.670, val_loss_epoch=7.670, val_auroc=0.219, val_acc=0.996, val_mcc=0.703, train_loss_epoch=0.129]\n",
      "Epoch 96:  75%|███████▌  | 3/4 [00:01<00:00,  1.52it/s, v_num=0, train_loss_step=0.150, train_acc=0.968, train_acc_func=0.384, train_mcc=0.166, val_loss_step=7.670, val_loss_epoch=7.670, val_auroc=0.219, val_acc=0.996, val_mcc=0.703, train_loss_epoch=0.129]\n",
      "Epoch 96: 100%|██████████| 4/4 [00:03<00:00,  1.16it/s, v_num=0, train_loss_step=0.129, train_acc=0.972, train_acc_func=0.367, train_mcc=0.220, val_loss_step=7.670, val_loss_epoch=7.670, val_auroc=0.219, val_acc=0.996, val_mcc=0.703, train_loss_epoch=0.129]\n",
      "\u001b[36m(train_linevd pid=14937)\u001b[0m \n",
      "Validation: |          | 0/? [00:00<?, ?it/s]\u001b[A\n",
      "\u001b[36m(train_linevd pid=14937)\u001b[0m \n",
      "Validation:   0%|          | 0/1 [00:00<?, ?it/s]\u001b[A\n",
      "Validation DataLoader 0:   0%|          | 0/1 [00:00<?, ?it/s]\u001b[A\n",
      "\u001b[36m(train_linevd pid=14937)\u001b[0m \n",
      "Validation DataLoader 0: 100%|██████████| 1/1 [00:00<00:00,  5.50it/s]\u001b[A\n"
     ]
    },
    {
     "name": "stderr",
     "output_type": "stream",
     "text": [
      "\u001b[36m(train_linevd pid=14937)\u001b[0m Checkpoint successfully created at: Checkpoint(filesystem=local, path=/home/ubuntu/linevd/storage/processed/raytune_best_-1/202401100409_1fca96a_update_get_data.sh/tune_linevd/train_linevd_541e2_00000_0_batch_size=1024,embtype=codebert,gatdropout=0.2000,gnntype=gcn,gtype=pdg_raw,hdropout=0.3000,hfeat=512,_2024-01-10_04-09-08/checkpoint_000096)\n"
     ]
    },
    {
     "name": "stdout",
     "output_type": "stream",
     "text": [
      "\u001b[36m(train_linevd pid=14937)\u001b[0m \n",
      "Epoch 97:   0%|          | 0/4 [00:00<?, ?it/s, v_num=0, train_loss_step=0.129, train_acc=0.972, train_acc_func=0.367, train_mcc=0.220, val_loss_step=7.930, val_loss_epoch=7.930, val_auroc=0.219, val_acc=0.996, val_mcc=0.703, train_loss_epoch=0.130]        \n",
      "Epoch 97:  25%|██▌       | 1/4 [00:00<00:02,  1.20it/s, v_num=0, train_loss_step=0.128, train_acc=0.974, train_acc_func=0.406, train_mcc=0.185, val_loss_step=7.930, val_loss_epoch=7.930, val_auroc=0.219, val_acc=0.996, val_mcc=0.703, train_loss_epoch=0.130]\n",
      "Epoch 97:  50%|█████     | 2/4 [00:01<00:01,  1.52it/s, v_num=0, train_loss_step=0.143, train_acc=0.969, train_acc_func=0.396, train_mcc=0.168, val_loss_step=7.930, val_loss_epoch=7.930, val_auroc=0.219, val_acc=0.996, val_mcc=0.703, train_loss_epoch=0.130]\n",
      "Epoch 97:  75%|███████▌  | 3/4 [00:01<00:00,  1.66it/s, v_num=0, train_loss_step=0.120, train_acc=0.976, train_acc_func=0.378, train_mcc=0.193, val_loss_step=7.930, val_loss_epoch=7.930, val_auroc=0.219, val_acc=0.996, val_mcc=0.703, train_loss_epoch=0.130]\n",
      "Epoch 97: 100%|██████████| 4/4 [00:02<00:00,  1.84it/s, v_num=0, train_loss_step=0.137, train_acc=0.969, train_acc_func=0.379, train_mcc=0.208, val_loss_step=7.930, val_loss_epoch=7.930, val_auroc=0.219, val_acc=0.996, val_mcc=0.703, train_loss_epoch=0.130]\n",
      "\u001b[36m(train_linevd pid=14937)\u001b[0m \n",
      "Validation: |          | 0/? [00:00<?, ?it/s]\u001b[A\n",
      "\u001b[36m(train_linevd pid=14937)\u001b[0m \n",
      "Validation:   0%|          | 0/1 [00:00<?, ?it/s]\u001b[A\n",
      "Validation DataLoader 0:   0%|          | 0/1 [00:00<?, ?it/s]\u001b[A\n",
      "\u001b[36m(train_linevd pid=14937)\u001b[0m \n",
      "Validation DataLoader 0: 100%|██████████| 1/1 [00:00<00:00, 11.43it/s]\u001b[A\n"
     ]
    },
    {
     "name": "stderr",
     "output_type": "stream",
     "text": [
      "\u001b[36m(train_linevd pid=14937)\u001b[0m Checkpoint successfully created at: Checkpoint(filesystem=local, path=/home/ubuntu/linevd/storage/processed/raytune_best_-1/202401100409_1fca96a_update_get_data.sh/tune_linevd/train_linevd_541e2_00000_0_batch_size=1024,embtype=codebert,gatdropout=0.2000,gnntype=gcn,gtype=pdg_raw,hdropout=0.3000,hfeat=512,_2024-01-10_04-09-08/checkpoint_000097)\n"
     ]
    },
    {
     "name": "stdout",
     "output_type": "stream",
     "text": [
      "\u001b[36m(train_linevd pid=14937)\u001b[0m \n",
      "Epoch 98:   0%|          | 0/4 [00:00<?, ?it/s, v_num=0, train_loss_step=0.137, train_acc=0.969, train_acc_func=0.379, train_mcc=0.208, val_loss_step=8.190, val_loss_epoch=8.190, val_auroc=0.219, val_acc=0.996, val_mcc=0.703, train_loss_epoch=0.132]        \n",
      "Epoch 98:  25%|██▌       | 1/4 [00:00<00:02,  1.04it/s, v_num=0, train_loss_step=0.158, train_acc=0.965, train_acc_func=0.380, train_mcc=0.158, val_loss_step=8.190, val_loss_epoch=8.190, val_auroc=0.219, val_acc=0.996, val_mcc=0.703, train_loss_epoch=0.132]\n",
      "Epoch 98:  50%|█████     | 2/4 [00:03<00:03,  0.64it/s, v_num=0, train_loss_step=0.118, train_acc=0.976, train_acc_func=0.392, train_mcc=0.193, val_loss_step=8.190, val_loss_epoch=8.190, val_auroc=0.219, val_acc=0.996, val_mcc=0.703, train_loss_epoch=0.132]\n",
      "Epoch 98:  75%|███████▌  | 3/4 [00:03<00:01,  0.80it/s, v_num=0, train_loss_step=0.102, train_acc=0.979, train_acc_func=0.397, train_mcc=0.211, val_loss_step=8.190, val_loss_epoch=8.190, val_auroc=0.219, val_acc=0.996, val_mcc=0.703, train_loss_epoch=0.132]\n",
      "Epoch 98: 100%|██████████| 4/4 [00:04<00:00,  0.98it/s, v_num=0, train_loss_step=0.153, train_acc=0.966, train_acc_func=0.397, train_mcc=0.198, val_loss_step=8.190, val_loss_epoch=8.190, val_auroc=0.219, val_acc=0.996, val_mcc=0.703, train_loss_epoch=0.132]\n",
      "\u001b[36m(train_linevd pid=14937)\u001b[0m \n",
      "Validation: |          | 0/? [00:00<?, ?it/s]\u001b[A\n",
      "\u001b[36m(train_linevd pid=14937)\u001b[0m \n",
      "Validation:   0%|          | 0/1 [00:00<?, ?it/s]\u001b[A\n",
      "Validation DataLoader 0:   0%|          | 0/1 [00:00<?, ?it/s]\u001b[A\n",
      "\u001b[36m(train_linevd pid=14937)\u001b[0m \n",
      "Validation DataLoader 0: 100%|██████████| 1/1 [00:00<00:00, 11.98it/s]\u001b[A\n"
     ]
    },
    {
     "name": "stderr",
     "output_type": "stream",
     "text": [
      "\u001b[36m(train_linevd pid=14937)\u001b[0m Checkpoint successfully created at: Checkpoint(filesystem=local, path=/home/ubuntu/linevd/storage/processed/raytune_best_-1/202401100409_1fca96a_update_get_data.sh/tune_linevd/train_linevd_541e2_00000_0_batch_size=1024,embtype=codebert,gatdropout=0.2000,gnntype=gcn,gtype=pdg_raw,hdropout=0.3000,hfeat=512,_2024-01-10_04-09-08/checkpoint_000098)\n"
     ]
    },
    {
     "name": "stdout",
     "output_type": "stream",
     "text": [
      "\u001b[36m(train_linevd pid=14937)\u001b[0m \n",
      "Epoch 99:   0%|          | 0/4 [00:00<?, ?it/s, v_num=0, train_loss_step=0.153, train_acc=0.966, train_acc_func=0.397, train_mcc=0.198, val_loss_step=8.240, val_loss_epoch=8.240, val_auroc=0.219, val_acc=0.996, val_mcc=0.703, train_loss_epoch=0.133]        \n",
      "Epoch 99:  25%|██▌       | 1/4 [00:00<00:02,  1.06it/s, v_num=0, train_loss_step=0.120, train_acc=0.976, train_acc_func=0.395, train_mcc=0.193, val_loss_step=8.240, val_loss_epoch=8.240, val_auroc=0.219, val_acc=0.996, val_mcc=0.703, train_loss_epoch=0.133]\n",
      "Epoch 99:  50%|█████     | 2/4 [00:01<00:01,  1.36it/s, v_num=0, train_loss_step=0.133, train_acc=0.972, train_acc_func=0.412, train_mcc=0.178, val_loss_step=8.240, val_loss_epoch=8.240, val_auroc=0.219, val_acc=0.996, val_mcc=0.703, train_loss_epoch=0.133]\n",
      "Epoch 99:  75%|███████▌  | 3/4 [00:01<00:00,  1.56it/s, v_num=0, train_loss_step=0.134, train_acc=0.972, train_acc_func=0.368, train_mcc=0.178, val_loss_step=8.240, val_loss_epoch=8.240, val_auroc=0.219, val_acc=0.996, val_mcc=0.703, train_loss_epoch=0.133]\n",
      "Epoch 99: 100%|██████████| 4/4 [00:02<00:00,  1.73it/s, v_num=0, train_loss_step=0.149, train_acc=0.968, train_acc_func=0.388, train_mcc=0.203, val_loss_step=8.240, val_loss_epoch=8.240, val_auroc=0.219, val_acc=0.996, val_mcc=0.703, train_loss_epoch=0.133]\n",
      "\u001b[36m(train_linevd pid=14937)\u001b[0m \n",
      "Validation: |          | 0/? [00:00<?, ?it/s]\u001b[A\n",
      "\u001b[36m(train_linevd pid=14937)\u001b[0m \n",
      "Validation:   0%|          | 0/1 [00:00<?, ?it/s]\u001b[A\n",
      "Validation DataLoader 0:   0%|          | 0/1 [00:00<?, ?it/s]\u001b[A\n",
      "\u001b[36m(train_linevd pid=14937)\u001b[0m \n",
      "Validation DataLoader 0: 100%|██████████| 1/1 [00:00<00:00, 13.42it/s]\u001b[A\n"
     ]
    },
    {
     "name": "stderr",
     "output_type": "stream",
     "text": [
      "\u001b[36m(train_linevd pid=14937)\u001b[0m Checkpoint successfully created at: Checkpoint(filesystem=local, path=/home/ubuntu/linevd/storage/processed/raytune_best_-1/202401100409_1fca96a_update_get_data.sh/tune_linevd/train_linevd_541e2_00000_0_batch_size=1024,embtype=codebert,gatdropout=0.2000,gnntype=gcn,gtype=pdg_raw,hdropout=0.3000,hfeat=512,_2024-01-10_04-09-08/checkpoint_000099)\n"
     ]
    },
    {
     "name": "stdout",
     "output_type": "stream",
     "text": [
      "\u001b[36m(train_linevd pid=14937)\u001b[0m \n",
      "Epoch 100:   0%|          | 0/4 [00:00<?, ?it/s, v_num=0, train_loss_step=0.149, train_acc=0.968, train_acc_func=0.388, train_mcc=0.203, val_loss_step=7.580, val_loss_epoch=7.580, val_auroc=0.219, val_acc=0.996, val_mcc=0.703, train_loss_epoch=0.134]       \n",
      "Epoch 100:  25%|██▌       | 1/4 [00:01<00:05,  0.52it/s, v_num=0, train_loss_step=0.143, train_acc=0.969, train_acc_func=0.396, train_mcc=0.168, val_loss_step=7.580, val_loss_epoch=7.580, val_auroc=0.219, val_acc=0.996, val_mcc=0.703, train_loss_epoch=0.134]\n",
      "Epoch 100:  50%|█████     | 2/4 [00:02<00:02,  0.82it/s, v_num=0, train_loss_step=0.106, train_acc=0.979, train_acc_func=0.397, train_mcc=0.206, val_loss_step=7.580, val_loss_epoch=7.580, val_auroc=0.219, val_acc=0.996, val_mcc=0.703, train_loss_epoch=0.134]\n",
      "Epoch 100:  75%|███████▌  | 3/4 [00:02<00:00,  1.03it/s, v_num=0, train_loss_step=0.133, train_acc=0.971, train_acc_func=0.404, train_mcc=0.174, val_loss_step=7.580, val_loss_epoch=7.580, val_auroc=0.219, val_acc=0.996, val_mcc=0.703, train_loss_epoch=0.134]\n",
      "Epoch 100: 100%|██████████| 4/4 [00:03<00:00,  1.22it/s, v_num=0, train_loss_step=0.146, train_acc=0.969, train_acc_func=0.354, train_mcc=0.208, val_loss_step=7.580, val_loss_epoch=7.580, val_auroc=0.219, val_acc=0.996, val_mcc=0.703, train_loss_epoch=0.134]\n",
      "\u001b[36m(train_linevd pid=14937)\u001b[0m \n",
      "Validation: |          | 0/? [00:00<?, ?it/s]\u001b[A\n",
      "Validation:   0%|          | 0/1 [00:00<?, ?it/s]\u001b[A\n",
      "Validation DataLoader 0:   0%|          | 0/1 [00:00<?, ?it/s]\u001b[A\n",
      "\u001b[36m(train_linevd pid=14937)\u001b[0m \n",
      "Validation DataLoader 0: 100%|██████████| 1/1 [00:00<00:00, 12.35it/s]\u001b[A\n"
     ]
    },
    {
     "name": "stderr",
     "output_type": "stream",
     "text": [
      "\u001b[36m(train_linevd pid=14937)\u001b[0m Checkpoint successfully created at: Checkpoint(filesystem=local, path=/home/ubuntu/linevd/storage/processed/raytune_best_-1/202401100409_1fca96a_update_get_data.sh/tune_linevd/train_linevd_541e2_00000_0_batch_size=1024,embtype=codebert,gatdropout=0.2000,gnntype=gcn,gtype=pdg_raw,hdropout=0.3000,hfeat=512,_2024-01-10_04-09-08/checkpoint_000100)\n"
     ]
    },
    {
     "name": "stdout",
     "output_type": "stream",
     "text": [
      "\u001b[36m(train_linevd pid=14937)\u001b[0m \n",
      "Epoch 100: 100%|██████████| 4/4 [00:03<00:00,  1.07it/s, v_num=0, train_loss_step=0.146, train_acc=0.969, train_acc_func=0.354, train_mcc=0.208, val_loss_step=8.220, val_loss_epoch=8.220, val_auroc=0.218, val_acc=0.996, val_mcc=0.703, train_loss_epoch=0.132]\n",
      "Epoch 101:   0%|          | 0/4 [00:00<?, ?it/s, v_num=0, train_loss_step=0.146, train_acc=0.969, train_acc_func=0.354, train_mcc=0.208, val_loss_step=8.220, val_loss_epoch=8.220, val_auroc=0.218, val_acc=0.996, val_mcc=0.703, train_loss_epoch=0.132]        \n",
      "Epoch 101:  25%|██▌       | 1/4 [00:00<00:02,  1.19it/s, v_num=0, train_loss_step=0.129, train_acc=0.972, train_acc_func=0.368, train_mcc=0.178, val_loss_step=8.220, val_loss_epoch=8.220, val_auroc=0.218, val_acc=0.996, val_mcc=0.703, train_loss_epoch=0.132]\n",
      "Epoch 101:  50%|█████     | 2/4 [00:01<00:01,  1.55it/s, v_num=0, train_loss_step=0.127, train_acc=0.974, train_acc_func=0.408, train_mcc=0.185, val_loss_step=8.220, val_loss_epoch=8.220, val_auroc=0.218, val_acc=0.996, val_mcc=0.703, train_loss_epoch=0.132]\n",
      "Epoch 101:  75%|███████▌  | 3/4 [00:01<00:00,  1.74it/s, v_num=0, train_loss_step=0.145, train_acc=0.969, train_acc_func=0.397, train_mcc=0.168, val_loss_step=8.220, val_loss_epoch=8.220, val_auroc=0.218, val_acc=0.996, val_mcc=0.703, train_loss_epoch=0.132]\n",
      "Epoch 101: 100%|██████████| 4/4 [00:02<00:00,  1.91it/s, v_num=0, train_loss_step=0.119, train_acc=0.975, train_acc_func=0.389, train_mcc=0.233, val_loss_step=8.220, val_loss_epoch=8.220, val_auroc=0.218, val_acc=0.996, val_mcc=0.703, train_loss_epoch=0.132]\n",
      "\u001b[36m(train_linevd pid=14937)\u001b[0m \n",
      "Validation: |          | 0/? [00:00<?, ?it/s]\u001b[A\n",
      "\u001b[36m(train_linevd pid=14937)\u001b[0m \n",
      "Validation:   0%|          | 0/1 [00:00<?, ?it/s]\u001b[A\n",
      "Validation DataLoader 0:   0%|          | 0/1 [00:00<?, ?it/s]\u001b[A\n",
      "Validation DataLoader 0: 100%|██████████| 1/1 [00:00<00:00, 12.77it/s]\u001b[A\n"
     ]
    },
    {
     "name": "stderr",
     "output_type": "stream",
     "text": [
      "\u001b[36m(train_linevd pid=14937)\u001b[0m Checkpoint successfully created at: Checkpoint(filesystem=local, path=/home/ubuntu/linevd/storage/processed/raytune_best_-1/202401100409_1fca96a_update_get_data.sh/tune_linevd/train_linevd_541e2_00000_0_batch_size=1024,embtype=codebert,gatdropout=0.2000,gnntype=gcn,gtype=pdg_raw,hdropout=0.3000,hfeat=512,_2024-01-10_04-09-08/checkpoint_000101)\n"
     ]
    },
    {
     "name": "stdout",
     "output_type": "stream",
     "text": [
      "\u001b[36m(train_linevd pid=14937)\u001b[0m \n",
      "Epoch 102:   0%|          | 0/4 [00:00<?, ?it/s, v_num=0, train_loss_step=0.119, train_acc=0.975, train_acc_func=0.389, train_mcc=0.233, val_loss_step=8.570, val_loss_epoch=8.570, val_auroc=0.218, val_acc=0.996, val_mcc=0.703, train_loss_epoch=0.130]        \n",
      "Epoch 102:  25%|██▌       | 1/4 [00:02<00:07,  0.40it/s, v_num=0, train_loss_step=0.116, train_acc=0.976, train_acc_func=0.405, train_mcc=0.193, val_loss_step=8.570, val_loss_epoch=8.570, val_auroc=0.218, val_acc=0.996, val_mcc=0.703, train_loss_epoch=0.130]\n",
      "Epoch 102:  50%|█████     | 2/4 [00:03<00:03,  0.66it/s, v_num=0, train_loss_step=0.152, train_acc=0.967, train_acc_func=0.384, train_mcc=0.163, val_loss_step=8.570, val_loss_epoch=8.570, val_auroc=0.218, val_acc=0.996, val_mcc=0.703, train_loss_epoch=0.130]\n",
      "Epoch 102:  75%|███████▌  | 3/4 [00:03<00:01,  0.86it/s, v_num=0, train_loss_step=0.125, train_acc=0.974, train_acc_func=0.380, train_mcc=0.185, val_loss_step=8.570, val_loss_epoch=8.570, val_auroc=0.218, val_acc=0.996, val_mcc=0.703, train_loss_epoch=0.130]\n",
      "Epoch 102: 100%|██████████| 4/4 [00:03<00:00,  1.04it/s, v_num=0, train_loss_step=0.130, train_acc=0.972, train_acc_func=0.397, train_mcc=0.220, val_loss_step=8.570, val_loss_epoch=8.570, val_auroc=0.218, val_acc=0.996, val_mcc=0.703, train_loss_epoch=0.130]\n",
      "\u001b[36m(train_linevd pid=14937)\u001b[0m \n",
      "Validation: |          | 0/? [00:00<?, ?it/s]\u001b[A\n",
      "\u001b[36m(train_linevd pid=14937)\u001b[0m \n",
      "Validation:   0%|          | 0/1 [00:00<?, ?it/s]\u001b[A\n",
      "Validation DataLoader 0:   0%|          | 0/1 [00:00<?, ?it/s]\u001b[A\n",
      "\u001b[36m(train_linevd pid=14937)\u001b[0m \n",
      "Validation DataLoader 0: 100%|██████████| 1/1 [00:00<00:00, 12.19it/s]\u001b[A\n"
     ]
    },
    {
     "name": "stderr",
     "output_type": "stream",
     "text": [
      "\u001b[36m(train_linevd pid=14937)\u001b[0m Checkpoint successfully created at: Checkpoint(filesystem=local, path=/home/ubuntu/linevd/storage/processed/raytune_best_-1/202401100409_1fca96a_update_get_data.sh/tune_linevd/train_linevd_541e2_00000_0_batch_size=1024,embtype=codebert,gatdropout=0.2000,gnntype=gcn,gtype=pdg_raw,hdropout=0.3000,hfeat=512,_2024-01-10_04-09-08/checkpoint_000102)\n"
     ]
    },
    {
     "name": "stdout",
     "output_type": "stream",
     "text": [
      "\u001b[36m(train_linevd pid=14937)\u001b[0m \n",
      "Epoch 103:   0%|          | 0/4 [00:00<?, ?it/s, v_num=0, train_loss_step=0.130, train_acc=0.972, train_acc_func=0.397, train_mcc=0.220, val_loss_step=7.780, val_loss_epoch=7.780, val_auroc=0.218, val_acc=0.996, val_mcc=0.703, train_loss_epoch=0.131]        \n",
      "Epoch 103:  25%|██▌       | 1/4 [00:00<00:02,  1.07it/s, v_num=0, train_loss_step=0.116, train_acc=0.976, train_acc_func=0.385, train_mcc=0.193, val_loss_step=7.780, val_loss_epoch=7.780, val_auroc=0.218, val_acc=0.996, val_mcc=0.703, train_loss_epoch=0.131]\n",
      "Epoch 103:  50%|█████     | 2/4 [00:01<00:01,  1.38it/s, v_num=0, train_loss_step=0.117, train_acc=0.976, train_acc_func=0.385, train_mcc=0.193, val_loss_step=7.780, val_loss_epoch=7.780, val_auroc=0.218, val_acc=0.996, val_mcc=0.703, train_loss_epoch=0.131]\n",
      "Epoch 103:  75%|███████▌  | 3/4 [00:02<00:00,  1.42it/s, v_num=0, train_loss_step=0.139, train_acc=0.969, train_acc_func=0.383, train_mcc=0.168, val_loss_step=7.780, val_loss_epoch=7.780, val_auroc=0.218, val_acc=0.996, val_mcc=0.703, train_loss_epoch=0.131]\n",
      "Epoch 103: 100%|██████████| 4/4 [00:03<00:00,  1.10it/s, v_num=0, train_loss_step=0.156, train_acc=0.966, train_acc_func=0.422, train_mcc=0.198, val_loss_step=7.780, val_loss_epoch=7.780, val_auroc=0.218, val_acc=0.996, val_mcc=0.703, train_loss_epoch=0.131]\n",
      "\u001b[36m(train_linevd pid=14937)\u001b[0m \n",
      "Validation: |          | 0/? [00:00<?, ?it/s]\u001b[A\n",
      "\u001b[36m(train_linevd pid=14937)\u001b[0m \n",
      "Validation:   0%|          | 0/1 [00:00<?, ?it/s]\u001b[A\n",
      "Validation DataLoader 0:   0%|          | 0/1 [00:00<?, ?it/s]\u001b[A\n",
      "\u001b[36m(train_linevd pid=14937)\u001b[0m \n",
      "Validation DataLoader 0: 100%|██████████| 1/1 [00:00<00:00, 13.02it/s]\u001b[A\n"
     ]
    },
    {
     "name": "stderr",
     "output_type": "stream",
     "text": [
      "\u001b[36m(train_linevd pid=14937)\u001b[0m Checkpoint successfully created at: Checkpoint(filesystem=local, path=/home/ubuntu/linevd/storage/processed/raytune_best_-1/202401100409_1fca96a_update_get_data.sh/tune_linevd/train_linevd_541e2_00000_0_batch_size=1024,embtype=codebert,gatdropout=0.2000,gnntype=gcn,gtype=pdg_raw,hdropout=0.3000,hfeat=512,_2024-01-10_04-09-08/checkpoint_000103)\n"
     ]
    },
    {
     "name": "stdout",
     "output_type": "stream",
     "text": [
      "\u001b[36m(train_linevd pid=14937)\u001b[0m \n",
      "Epoch 104:   0%|          | 0/4 [00:00<?, ?it/s, v_num=0, train_loss_step=0.156, train_acc=0.966, train_acc_func=0.422, train_mcc=0.198, val_loss_step=8.310, val_loss_epoch=8.310, val_auroc=0.218, val_acc=0.996, val_mcc=0.703, train_loss_epoch=0.132]        \n",
      "Epoch 104:  25%|██▌       | 1/4 [00:00<00:02,  1.09it/s, v_num=0, train_loss_step=0.116, train_acc=0.977, train_acc_func=0.403, train_mcc=0.197, val_loss_step=8.310, val_loss_epoch=8.310, val_auroc=0.218, val_acc=0.996, val_mcc=0.703, train_loss_epoch=0.132]\n",
      "Epoch 104:  50%|█████     | 2/4 [00:01<00:01,  1.44it/s, v_num=0, train_loss_step=0.161, train_acc=0.964, train_acc_func=0.395, train_mcc=0.155, val_loss_step=8.310, val_loss_epoch=8.310, val_auroc=0.218, val_acc=0.996, val_mcc=0.703, train_loss_epoch=0.132]\n",
      "Epoch 104:  75%|███████▌  | 3/4 [00:01<00:00,  1.64it/s, v_num=0, train_loss_step=0.152, train_acc=0.967, train_acc_func=0.387, train_mcc=0.163, val_loss_step=8.310, val_loss_epoch=8.310, val_auroc=0.218, val_acc=0.996, val_mcc=0.703, train_loss_epoch=0.132]\n",
      "Epoch 104: 100%|██████████| 4/4 [00:02<00:00,  1.81it/s, v_num=0, train_loss_step=0.0855, train_acc=0.985, train_acc_func=0.373, train_mcc=0.309, val_loss_step=8.310, val_loss_epoch=8.310, val_auroc=0.218, val_acc=0.996, val_mcc=0.703, train_loss_epoch=0.132]\n",
      "\u001b[36m(train_linevd pid=14937)\u001b[0m \n",
      "Validation: |          | 0/? [00:00<?, ?it/s]\u001b[A\n",
      "\u001b[36m(train_linevd pid=14937)\u001b[0m \n",
      "Validation:   0%|          | 0/1 [00:00<?, ?it/s]\u001b[A\n",
      "Validation DataLoader 0:   0%|          | 0/1 [00:00<?, ?it/s]\u001b[A\n",
      "\u001b[36m(train_linevd pid=14937)\u001b[0m \n",
      "Validation DataLoader 0: 100%|██████████| 1/1 [00:00<00:00,  8.97it/s]\u001b[A\n"
     ]
    },
    {
     "name": "stderr",
     "output_type": "stream",
     "text": [
      "\u001b[36m(train_linevd pid=14937)\u001b[0m Checkpoint successfully created at: Checkpoint(filesystem=local, path=/home/ubuntu/linevd/storage/processed/raytune_best_-1/202401100409_1fca96a_update_get_data.sh/tune_linevd/train_linevd_541e2_00000_0_batch_size=1024,embtype=codebert,gatdropout=0.2000,gnntype=gcn,gtype=pdg_raw,hdropout=0.3000,hfeat=512,_2024-01-10_04-09-08/checkpoint_000104)\n"
     ]
    },
    {
     "name": "stdout",
     "output_type": "stream",
     "text": [
      "\u001b[36m(train_linevd pid=14937)\u001b[0m \n",
      "Epoch 105:   0%|          | 0/4 [00:00<?, ?it/s, v_num=0, train_loss_step=0.0855, train_acc=0.985, train_acc_func=0.373, train_mcc=0.309, val_loss_step=8.850, val_loss_epoch=8.850, val_auroc=0.218, val_acc=0.996, val_mcc=0.703, train_loss_epoch=0.129]        \n",
      "Epoch 105:  25%|██▌       | 1/4 [00:02<00:06,  0.45it/s, v_num=0, train_loss_step=0.129, train_acc=0.974, train_acc_func=0.382, train_mcc=0.185, val_loss_step=8.850, val_loss_epoch=8.850, val_auroc=0.218, val_acc=0.996, val_mcc=0.703, train_loss_epoch=0.129] \n",
      "Epoch 105:  50%|█████     | 2/4 [00:02<00:02,  0.73it/s, v_num=0, train_loss_step=0.144, train_acc=0.969, train_acc_func=0.384, train_mcc=0.168, val_loss_step=8.850, val_loss_epoch=8.850, val_auroc=0.218, val_acc=0.996, val_mcc=0.703, train_loss_epoch=0.129]\n",
      "Epoch 105:  75%|███████▌  | 3/4 [00:03<00:01,  0.94it/s, v_num=0, train_loss_step=0.151, train_acc=0.967, train_acc_func=0.400, train_mcc=0.163, val_loss_step=8.850, val_loss_epoch=8.850, val_auroc=0.218, val_acc=0.996, val_mcc=0.703, train_loss_epoch=0.129]\n",
      "Epoch 105: 100%|██████████| 4/4 [00:03<00:00,  1.11it/s, v_num=0, train_loss_step=0.0905, train_acc=0.982, train_acc_func=0.401, train_mcc=0.281, val_loss_step=8.850, val_loss_epoch=8.850, val_auroc=0.218, val_acc=0.996, val_mcc=0.703, train_loss_epoch=0.129]\n",
      "\u001b[36m(train_linevd pid=14937)\u001b[0m \n",
      "Validation: |          | 0/? [00:00<?, ?it/s]\u001b[A\n",
      "\u001b[36m(train_linevd pid=14937)\u001b[0m \n",
      "Validation:   0%|          | 0/1 [00:00<?, ?it/s]\u001b[A\n",
      "Validation DataLoader 0:   0%|          | 0/1 [00:00<?, ?it/s]\u001b[A\n",
      "\u001b[36m(train_linevd pid=14937)\u001b[0m \n",
      "Validation DataLoader 0: 100%|██████████| 1/1 [00:00<00:00, 11.61it/s]\u001b[A\n"
     ]
    },
    {
     "name": "stderr",
     "output_type": "stream",
     "text": [
      "\u001b[36m(train_linevd pid=14937)\u001b[0m Checkpoint successfully created at: Checkpoint(filesystem=local, path=/home/ubuntu/linevd/storage/processed/raytune_best_-1/202401100409_1fca96a_update_get_data.sh/tune_linevd/train_linevd_541e2_00000_0_batch_size=1024,embtype=codebert,gatdropout=0.2000,gnntype=gcn,gtype=pdg_raw,hdropout=0.3000,hfeat=512,_2024-01-10_04-09-08/checkpoint_000105)\n"
     ]
    },
    {
     "name": "stdout",
     "output_type": "stream",
     "text": [
      "\u001b[36m(train_linevd pid=14937)\u001b[0m \n",
      "Epoch 106:   0%|          | 0/4 [00:00<?, ?it/s, v_num=0, train_loss_step=0.0905, train_acc=0.982, train_acc_func=0.401, train_mcc=0.281, val_loss_step=8.380, val_loss_epoch=8.380, val_auroc=0.218, val_acc=0.996, val_mcc=0.703, train_loss_epoch=0.129]        \n",
      "Epoch 106:  25%|██▌       | 1/4 [00:02<00:07,  0.40it/s, v_num=0, train_loss_step=0.143, train_acc=0.970, train_acc_func=0.403, train_mcc=0.171, val_loss_step=8.380, val_loss_epoch=8.380, val_auroc=0.218, val_acc=0.996, val_mcc=0.703, train_loss_epoch=0.129] \n",
      "Epoch 106:  50%|█████     | 2/4 [00:02<00:02,  0.67it/s, v_num=0, train_loss_step=0.135, train_acc=0.972, train_acc_func=0.394, train_mcc=0.178, val_loss_step=8.380, val_loss_epoch=8.380, val_auroc=0.218, val_acc=0.996, val_mcc=0.703, train_loss_epoch=0.129]\n",
      "Epoch 106:  75%|███████▌  | 3/4 [00:03<00:01,  0.87it/s, v_num=0, train_loss_step=0.140, train_acc=0.970, train_acc_func=0.390, train_mcc=0.171, val_loss_step=8.380, val_loss_epoch=8.380, val_auroc=0.218, val_acc=0.996, val_mcc=0.703, train_loss_epoch=0.129]\n",
      "Epoch 106: 100%|██████████| 4/4 [00:03<00:00,  1.05it/s, v_num=0, train_loss_step=0.105, train_acc=0.980, train_acc_func=0.370, train_mcc=0.259, val_loss_step=8.380, val_loss_epoch=8.380, val_auroc=0.218, val_acc=0.996, val_mcc=0.703, train_loss_epoch=0.129]\n",
      "\u001b[36m(train_linevd pid=14937)\u001b[0m \n",
      "Validation: |          | 0/? [00:00<?, ?it/s]\u001b[A\n",
      "\u001b[36m(train_linevd pid=14937)\u001b[0m \n",
      "Validation:   0%|          | 0/1 [00:00<?, ?it/s]\u001b[A\n",
      "Validation DataLoader 0:   0%|          | 0/1 [00:00<?, ?it/s]\u001b[A\n",
      "\u001b[36m(train_linevd pid=14937)\u001b[0m \n",
      "Validation DataLoader 0: 100%|██████████| 1/1 [00:00<00:00, 10.70it/s]\u001b[A\n"
     ]
    },
    {
     "name": "stderr",
     "output_type": "stream",
     "text": [
      "\u001b[36m(train_linevd pid=14937)\u001b[0m Checkpoint successfully created at: Checkpoint(filesystem=local, path=/home/ubuntu/linevd/storage/processed/raytune_best_-1/202401100409_1fca96a_update_get_data.sh/tune_linevd/train_linevd_541e2_00000_0_batch_size=1024,embtype=codebert,gatdropout=0.2000,gnntype=gcn,gtype=pdg_raw,hdropout=0.3000,hfeat=512,_2024-01-10_04-09-08/checkpoint_000106)\n"
     ]
    },
    {
     "name": "stdout",
     "output_type": "stream",
     "text": [
      "\u001b[36m(train_linevd pid=14937)\u001b[0m \n",
      "Epoch 107:   0%|          | 0/4 [00:00<?, ?it/s, v_num=0, train_loss_step=0.105, train_acc=0.980, train_acc_func=0.370, train_mcc=0.259, val_loss_step=8.360, val_loss_epoch=8.360, val_auroc=0.218, val_acc=0.996, val_mcc=0.703, train_loss_epoch=0.131]        \n",
      "Epoch 107:  25%|██▌       | 1/4 [00:00<00:02,  1.05it/s, v_num=0, train_loss_step=0.140, train_acc=0.971, train_acc_func=0.367, train_mcc=0.174, val_loss_step=8.360, val_loss_epoch=8.360, val_auroc=0.218, val_acc=0.996, val_mcc=0.703, train_loss_epoch=0.131]\n",
      "Epoch 107:  50%|█████     | 2/4 [00:02<00:02,  0.98it/s, v_num=0, train_loss_step=0.137, train_acc=0.971, train_acc_func=0.391, train_mcc=0.174, val_loss_step=8.360, val_loss_epoch=8.360, val_auroc=0.218, val_acc=0.996, val_mcc=0.703, train_loss_epoch=0.131]\n",
      "Epoch 107:  75%|███████▌  | 3/4 [00:03<00:01,  0.86it/s, v_num=0, train_loss_step=0.139, train_acc=0.970, train_acc_func=0.418, train_mcc=0.171, val_loss_step=8.360, val_loss_epoch=8.360, val_auroc=0.218, val_acc=0.996, val_mcc=0.703, train_loss_epoch=0.131]\n",
      "Epoch 107: 100%|██████████| 4/4 [00:03<00:00,  1.04it/s, v_num=0, train_loss_step=0.102, train_acc=0.980, train_acc_func=0.387, train_mcc=0.259, val_loss_step=8.360, val_loss_epoch=8.360, val_auroc=0.218, val_acc=0.996, val_mcc=0.703, train_loss_epoch=0.131]\n",
      "\u001b[36m(train_linevd pid=14937)\u001b[0m \n",
      "Validation: |          | 0/? [00:00<?, ?it/s]\u001b[A\n",
      "\u001b[36m(train_linevd pid=14937)\u001b[0m \n",
      "Validation:   0%|          | 0/1 [00:00<?, ?it/s]\u001b[A\n",
      "Validation DataLoader 0:   0%|          | 0/1 [00:00<?, ?it/s]\u001b[A\n",
      "\u001b[36m(train_linevd pid=14937)\u001b[0m \n",
      "Validation DataLoader 0: 100%|██████████| 1/1 [00:00<00:00, 12.22it/s]\u001b[A\n"
     ]
    },
    {
     "name": "stderr",
     "output_type": "stream",
     "text": [
      "\u001b[36m(train_linevd pid=14937)\u001b[0m Checkpoint successfully created at: Checkpoint(filesystem=local, path=/home/ubuntu/linevd/storage/processed/raytune_best_-1/202401100409_1fca96a_update_get_data.sh/tune_linevd/train_linevd_541e2_00000_0_batch_size=1024,embtype=codebert,gatdropout=0.2000,gnntype=gcn,gtype=pdg_raw,hdropout=0.3000,hfeat=512,_2024-01-10_04-09-08/checkpoint_000107)\n"
     ]
    },
    {
     "name": "stdout",
     "output_type": "stream",
     "text": [
      "\u001b[36m(train_linevd pid=14937)\u001b[0m \n",
      "Epoch 108:   0%|          | 0/4 [00:00<?, ?it/s, v_num=0, train_loss_step=0.102, train_acc=0.980, train_acc_func=0.387, train_mcc=0.259, val_loss_step=8.850, val_loss_epoch=8.850, val_auroc=0.218, val_acc=0.996, val_mcc=0.703, train_loss_epoch=0.129]        \n",
      "Epoch 108:  25%|██▌       | 1/4 [00:00<00:02,  1.02it/s, v_num=0, train_loss_step=0.129, train_acc=0.971, train_acc_func=0.396, train_mcc=0.174, val_loss_step=8.850, val_loss_epoch=8.850, val_auroc=0.218, val_acc=0.996, val_mcc=0.703, train_loss_epoch=0.129]\n",
      "Epoch 108:  50%|█████     | 2/4 [00:01<00:01,  1.36it/s, v_num=0, train_loss_step=0.123, train_acc=0.974, train_acc_func=0.404, train_mcc=0.185, val_loss_step=8.850, val_loss_epoch=8.850, val_auroc=0.218, val_acc=0.996, val_mcc=0.703, train_loss_epoch=0.129]\n",
      "Epoch 108:  75%|███████▌  | 3/4 [00:01<00:00,  1.54it/s, v_num=0, train_loss_step=0.149, train_acc=0.968, train_acc_func=0.370, train_mcc=0.166, val_loss_step=8.850, val_loss_epoch=8.850, val_auroc=0.218, val_acc=0.996, val_mcc=0.703, train_loss_epoch=0.129]\n",
      "Epoch 108: 100%|██████████| 4/4 [00:02<00:00,  1.74it/s, v_num=0, train_loss_step=0.108, train_acc=0.978, train_acc_func=0.394, train_mcc=0.250, val_loss_step=8.850, val_loss_epoch=8.850, val_auroc=0.218, val_acc=0.996, val_mcc=0.703, train_loss_epoch=0.129]\n",
      "Validation: |          | 0/? [00:00<?, ?it/s]\u001b[A\n",
      "\u001b[36m(train_linevd pid=14937)\u001b[0m \n",
      "Validation:   0%|          | 0/1 [00:00<?, ?it/s]\u001b[A\n",
      "Validation DataLoader 0:   0%|          | 0/1 [00:00<?, ?it/s]\u001b[A\n",
      "\u001b[36m(train_linevd pid=14937)\u001b[0m \n",
      "Validation DataLoader 0: 100%|██████████| 1/1 [00:00<00:00, 11.24it/s]\u001b[A\n"
     ]
    },
    {
     "name": "stderr",
     "output_type": "stream",
     "text": [
      "\u001b[36m(train_linevd pid=14937)\u001b[0m Checkpoint successfully created at: Checkpoint(filesystem=local, path=/home/ubuntu/linevd/storage/processed/raytune_best_-1/202401100409_1fca96a_update_get_data.sh/tune_linevd/train_linevd_541e2_00000_0_batch_size=1024,embtype=codebert,gatdropout=0.2000,gnntype=gcn,gtype=pdg_raw,hdropout=0.3000,hfeat=512,_2024-01-10_04-09-08/checkpoint_000108)\n"
     ]
    },
    {
     "name": "stdout",
     "output_type": "stream",
     "text": [
      "\u001b[36m(train_linevd pid=14937)\u001b[0m \n",
      "Epoch 109:   0%|          | 0/4 [00:00<?, ?it/s, v_num=0, train_loss_step=0.108, train_acc=0.978, train_acc_func=0.394, train_mcc=0.250, val_loss_step=9.010, val_loss_epoch=9.010, val_auroc=0.218, val_acc=0.996, val_mcc=0.703, train_loss_epoch=0.127]        \n",
      "Epoch 109:  25%|██▌       | 1/4 [00:02<00:07,  0.40it/s, v_num=0, train_loss_step=0.122, train_acc=0.974, train_acc_func=0.367, train_mcc=0.185, val_loss_step=9.010, val_loss_epoch=9.010, val_auroc=0.218, val_acc=0.996, val_mcc=0.703, train_loss_epoch=0.127]\n",
      "Epoch 109:  50%|█████     | 2/4 [00:03<00:03,  0.65it/s, v_num=0, train_loss_step=0.125, train_acc=0.974, train_acc_func=0.406, train_mcc=0.185, val_loss_step=9.010, val_loss_epoch=9.010, val_auroc=0.218, val_acc=0.996, val_mcc=0.703, train_loss_epoch=0.127]\n",
      "Epoch 109:  75%|███████▌  | 3/4 [00:03<00:01,  0.85it/s, v_num=0, train_loss_step=0.139, train_acc=0.970, train_acc_func=0.396, train_mcc=0.171, val_loss_step=9.010, val_loss_epoch=9.010, val_auroc=0.218, val_acc=0.996, val_mcc=0.703, train_loss_epoch=0.127]\n",
      "Epoch 109: 100%|██████████| 4/4 [00:03<00:00,  1.03it/s, v_num=0, train_loss_step=0.137, train_acc=0.971, train_acc_func=0.397, train_mcc=0.214, val_loss_step=9.010, val_loss_epoch=9.010, val_auroc=0.218, val_acc=0.996, val_mcc=0.703, train_loss_epoch=0.127]\n",
      "\u001b[36m(train_linevd pid=14937)\u001b[0m \n",
      "Validation: |          | 0/? [00:00<?, ?it/s]\u001b[A\n",
      "Validation:   0%|          | 0/1 [00:00<?, ?it/s]\u001b[A\n",
      "Validation DataLoader 0:   0%|          | 0/1 [00:00<?, ?it/s]\u001b[A\n",
      "\u001b[36m(train_linevd pid=14937)\u001b[0m \n",
      "Validation DataLoader 0: 100%|██████████| 1/1 [00:00<00:00,  9.80it/s]\u001b[A\n"
     ]
    },
    {
     "name": "stderr",
     "output_type": "stream",
     "text": [
      "\u001b[36m(train_linevd pid=14937)\u001b[0m Checkpoint successfully created at: Checkpoint(filesystem=local, path=/home/ubuntu/linevd/storage/processed/raytune_best_-1/202401100409_1fca96a_update_get_data.sh/tune_linevd/train_linevd_541e2_00000_0_batch_size=1024,embtype=codebert,gatdropout=0.2000,gnntype=gcn,gtype=pdg_raw,hdropout=0.3000,hfeat=512,_2024-01-10_04-09-08/checkpoint_000109)\n"
     ]
    },
    {
     "name": "stdout",
     "output_type": "stream",
     "text": [
      "\u001b[36m(train_linevd pid=14937)\u001b[0m \n",
      "Epoch 110:   0%|          | 0/4 [00:00<?, ?it/s, v_num=0, train_loss_step=0.137, train_acc=0.971, train_acc_func=0.397, train_mcc=0.214, val_loss_step=8.700, val_loss_epoch=8.700, val_auroc=0.215, val_acc=0.996, val_mcc=0.703, train_loss_epoch=0.131]        \n",
      "Epoch 110:  25%|██▌       | 1/4 [00:00<00:02,  1.11it/s, v_num=0, train_loss_step=0.132, train_acc=0.973, train_acc_func=0.390, train_mcc=0.181, val_loss_step=8.700, val_loss_epoch=8.700, val_auroc=0.215, val_acc=0.996, val_mcc=0.703, train_loss_epoch=0.131]\n",
      "Epoch 110:  50%|█████     | 2/4 [00:01<00:01,  1.44it/s, v_num=0, train_loss_step=0.147, train_acc=0.967, train_acc_func=0.411, train_mcc=0.163, val_loss_step=8.700, val_loss_epoch=8.700, val_auroc=0.215, val_acc=0.996, val_mcc=0.703, train_loss_epoch=0.131]\n",
      "Epoch 110:  75%|███████▌  | 3/4 [00:01<00:00,  1.56it/s, v_num=0, train_loss_step=0.130, train_acc=0.972, train_acc_func=0.390, train_mcc=0.178, val_loss_step=8.700, val_loss_epoch=8.700, val_auroc=0.215, val_acc=0.996, val_mcc=0.703, train_loss_epoch=0.131]\n",
      "Epoch 110: 100%|██████████| 4/4 [00:02<00:00,  1.74it/s, v_num=0, train_loss_step=0.103, train_acc=0.980, train_acc_func=0.365, train_mcc=0.259, val_loss_step=8.700, val_loss_epoch=8.700, val_auroc=0.215, val_acc=0.996, val_mcc=0.703, train_loss_epoch=0.131]\n",
      "\u001b[36m(train_linevd pid=14937)\u001b[0m \n",
      "Validation: |          | 0/? [00:00<?, ?it/s]\u001b[A\n",
      "\u001b[36m(train_linevd pid=14937)\u001b[0m \n",
      "Validation:   0%|          | 0/1 [00:00<?, ?it/s]\u001b[A\n",
      "Validation DataLoader 0:   0%|          | 0/1 [00:00<?, ?it/s]\u001b[A\n",
      "\u001b[36m(train_linevd pid=14937)\u001b[0m \n",
      "Validation DataLoader 0: 100%|██████████| 1/1 [00:00<00:00,  9.90it/s]\u001b[A\n"
     ]
    },
    {
     "name": "stderr",
     "output_type": "stream",
     "text": [
      "\u001b[36m(train_linevd pid=14937)\u001b[0m Checkpoint successfully created at: Checkpoint(filesystem=local, path=/home/ubuntu/linevd/storage/processed/raytune_best_-1/202401100409_1fca96a_update_get_data.sh/tune_linevd/train_linevd_541e2_00000_0_batch_size=1024,embtype=codebert,gatdropout=0.2000,gnntype=gcn,gtype=pdg_raw,hdropout=0.3000,hfeat=512,_2024-01-10_04-09-08/checkpoint_000110)\n"
     ]
    },
    {
     "name": "stdout",
     "output_type": "stream",
     "text": [
      "\u001b[36m(train_linevd pid=14937)\u001b[0m \n",
      "Epoch 111:   0%|          | 0/4 [00:00<?, ?it/s, v_num=0, train_loss_step=0.103, train_acc=0.980, train_acc_func=0.365, train_mcc=0.259, val_loss_step=8.480, val_loss_epoch=8.480, val_auroc=0.215, val_acc=0.996, val_mcc=0.703, train_loss_epoch=0.128]        \n",
      "Epoch 111:  25%|██▌       | 1/4 [00:02<00:07,  0.38it/s, v_num=0, train_loss_step=0.131, train_acc=0.973, train_acc_func=0.402, train_mcc=0.181, val_loss_step=8.480, val_loss_epoch=8.480, val_auroc=0.215, val_acc=0.996, val_mcc=0.703, train_loss_epoch=0.128]\n",
      "Epoch 111:  50%|█████     | 2/4 [00:03<00:03,  0.59it/s, v_num=0, train_loss_step=0.134, train_acc=0.971, train_acc_func=0.376, train_mcc=0.174, val_loss_step=8.480, val_loss_epoch=8.480, val_auroc=0.215, val_acc=0.996, val_mcc=0.703, train_loss_epoch=0.128]\n",
      "Epoch 111:  75%|███████▌  | 3/4 [00:03<00:01,  0.76it/s, v_num=0, train_loss_step=0.116, train_acc=0.976, train_acc_func=0.400, train_mcc=0.193, val_loss_step=8.480, val_loss_epoch=8.480, val_auroc=0.215, val_acc=0.996, val_mcc=0.703, train_loss_epoch=0.128]\n",
      "Epoch 111: 100%|██████████| 4/4 [00:04<00:00,  0.92it/s, v_num=0, train_loss_step=0.146, train_acc=0.968, train_acc_func=0.382, train_mcc=0.203, val_loss_step=8.480, val_loss_epoch=8.480, val_auroc=0.215, val_acc=0.996, val_mcc=0.703, train_loss_epoch=0.128]\n",
      "Validation: |          | 0/? [00:00<?, ?it/s]\u001b[A\n",
      "\u001b[36m(train_linevd pid=14937)\u001b[0m \n",
      "Validation:   0%|          | 0/1 [00:00<?, ?it/s]\u001b[A\n",
      "Validation DataLoader 0:   0%|          | 0/1 [00:00<?, ?it/s]\u001b[A\n",
      "\u001b[36m(train_linevd pid=14937)\u001b[0m \n",
      "Validation DataLoader 0: 100%|██████████| 1/1 [00:00<00:00,  8.47it/s]\u001b[A\n"
     ]
    },
    {
     "name": "stderr",
     "output_type": "stream",
     "text": [
      "\u001b[36m(train_linevd pid=14937)\u001b[0m Checkpoint successfully created at: Checkpoint(filesystem=local, path=/home/ubuntu/linevd/storage/processed/raytune_best_-1/202401100409_1fca96a_update_get_data.sh/tune_linevd/train_linevd_541e2_00000_0_batch_size=1024,embtype=codebert,gatdropout=0.2000,gnntype=gcn,gtype=pdg_raw,hdropout=0.3000,hfeat=512,_2024-01-10_04-09-08/checkpoint_000111)\n"
     ]
    },
    {
     "name": "stdout",
     "output_type": "stream",
     "text": [
      "\u001b[36m(train_linevd pid=14937)\u001b[0m \n",
      "Epoch 112:   0%|          | 0/4 [00:00<?, ?it/s, v_num=0, train_loss_step=0.146, train_acc=0.968, train_acc_func=0.382, train_mcc=0.203, val_loss_step=8.620, val_loss_epoch=8.620, val_auroc=0.215, val_acc=0.996, val_mcc=0.703, train_loss_epoch=0.132]        \n",
      "Epoch 112:  25%|██▌       | 1/4 [00:01<00:03,  0.92it/s, v_num=0, train_loss_step=0.114, train_acc=0.976, train_acc_func=0.384, train_mcc=0.193, val_loss_step=8.620, val_loss_epoch=8.620, val_auroc=0.215, val_acc=0.996, val_mcc=0.703, train_loss_epoch=0.132]\n",
      "Epoch 112:  50%|█████     | 2/4 [00:03<00:03,  0.65it/s, v_num=0, train_loss_step=0.124, train_acc=0.974, train_acc_func=0.417, train_mcc=0.185, val_loss_step=8.620, val_loss_epoch=8.620, val_auroc=0.215, val_acc=0.996, val_mcc=0.703, train_loss_epoch=0.132]\n",
      "Epoch 112:  75%|███████▌  | 3/4 [00:03<00:01,  0.80it/s, v_num=0, train_loss_step=0.142, train_acc=0.969, train_acc_func=0.384, train_mcc=0.168, val_loss_step=8.620, val_loss_epoch=8.620, val_auroc=0.215, val_acc=0.996, val_mcc=0.703, train_loss_epoch=0.132]\n",
      "Epoch 112: 100%|██████████| 4/4 [00:04<00:00,  0.96it/s, v_num=0, train_loss_step=0.146, train_acc=0.969, train_acc_func=0.373, train_mcc=0.208, val_loss_step=8.620, val_loss_epoch=8.620, val_auroc=0.215, val_acc=0.996, val_mcc=0.703, train_loss_epoch=0.132]\n",
      "Validation: |          | 0/? [00:00<?, ?it/s]\u001b[A\n",
      "\u001b[36m(train_linevd pid=14937)\u001b[0m \n",
      "Validation:   0%|          | 0/1 [00:00<?, ?it/s]\u001b[A\n",
      "Validation DataLoader 0:   0%|          | 0/1 [00:00<?, ?it/s]\u001b[A\n",
      "\u001b[36m(train_linevd pid=14937)\u001b[0m \n",
      "Validation DataLoader 0: 100%|██████████| 1/1 [00:00<00:00, 12.26it/s]\u001b[A\n"
     ]
    },
    {
     "name": "stderr",
     "output_type": "stream",
     "text": [
      "\u001b[36m(train_linevd pid=14937)\u001b[0m Checkpoint successfully created at: Checkpoint(filesystem=local, path=/home/ubuntu/linevd/storage/processed/raytune_best_-1/202401100409_1fca96a_update_get_data.sh/tune_linevd/train_linevd_541e2_00000_0_batch_size=1024,embtype=codebert,gatdropout=0.2000,gnntype=gcn,gtype=pdg_raw,hdropout=0.3000,hfeat=512,_2024-01-10_04-09-08/checkpoint_000112)\n"
     ]
    },
    {
     "name": "stdout",
     "output_type": "stream",
     "text": [
      "\u001b[36m(train_linevd pid=14937)\u001b[0m \n",
      "Epoch 113:   0%|          | 0/4 [00:00<?, ?it/s, v_num=0, train_loss_step=0.146, train_acc=0.969, train_acc_func=0.373, train_mcc=0.208, val_loss_step=8.790, val_loss_epoch=8.790, val_auroc=0.215, val_acc=0.996, val_mcc=0.703, train_loss_epoch=0.132]        \n",
      "Epoch 113:  25%|██▌       | 1/4 [00:00<00:02,  1.01it/s, v_num=0, train_loss_step=0.123, train_acc=0.975, train_acc_func=0.398, train_mcc=0.189, val_loss_step=8.790, val_loss_epoch=8.790, val_auroc=0.215, val_acc=0.996, val_mcc=0.703, train_loss_epoch=0.132]\n",
      "Epoch 113:  50%|█████     | 2/4 [00:01<00:01,  1.32it/s, v_num=0, train_loss_step=0.116, train_acc=0.976, train_acc_func=0.397, train_mcc=0.193, val_loss_step=8.790, val_loss_epoch=8.790, val_auroc=0.215, val_acc=0.996, val_mcc=0.703, train_loss_epoch=0.132]\n",
      "Epoch 113:  75%|███████▌  | 3/4 [00:03<00:01,  0.91it/s, v_num=0, train_loss_step=0.153, train_acc=0.966, train_acc_func=0.367, train_mcc=0.160, val_loss_step=8.790, val_loss_epoch=8.790, val_auroc=0.215, val_acc=0.996, val_mcc=0.703, train_loss_epoch=0.132]\n",
      "Epoch 113: 100%|██████████| 4/4 [00:04<00:00,  0.99it/s, v_num=0, train_loss_step=0.129, train_acc=0.972, train_acc_func=0.406, train_mcc=0.220, val_loss_step=8.790, val_loss_epoch=8.790, val_auroc=0.215, val_acc=0.996, val_mcc=0.703, train_loss_epoch=0.132]\n",
      "Validation: |          | 0/? [00:00<?, ?it/s]\u001b[A\n",
      "\u001b[36m(train_linevd pid=14937)\u001b[0m \n",
      "Validation:   0%|          | 0/1 [00:00<?, ?it/s]\u001b[A\n",
      "Validation DataLoader 0:   0%|          | 0/1 [00:00<?, ?it/s]\u001b[A\n",
      "\u001b[36m(train_linevd pid=14937)\u001b[0m \n",
      "Validation DataLoader 0: 100%|██████████| 1/1 [00:00<00:00,  9.18it/s]\u001b[A\n"
     ]
    },
    {
     "name": "stderr",
     "output_type": "stream",
     "text": [
      "\u001b[36m(train_linevd pid=14937)\u001b[0m Checkpoint successfully created at: Checkpoint(filesystem=local, path=/home/ubuntu/linevd/storage/processed/raytune_best_-1/202401100409_1fca96a_update_get_data.sh/tune_linevd/train_linevd_541e2_00000_0_batch_size=1024,embtype=codebert,gatdropout=0.2000,gnntype=gcn,gtype=pdg_raw,hdropout=0.3000,hfeat=512,_2024-01-10_04-09-08/checkpoint_000113)\n"
     ]
    },
    {
     "name": "stdout",
     "output_type": "stream",
     "text": [
      "\u001b[36m(train_linevd pid=14937)\u001b[0m \n",
      "Epoch 114:   0%|          | 0/4 [00:00<?, ?it/s, v_num=0, train_loss_step=0.129, train_acc=0.972, train_acc_func=0.406, train_mcc=0.220, val_loss_step=8.830, val_loss_epoch=8.830, val_auroc=0.214, val_acc=0.996, val_mcc=0.703, train_loss_epoch=0.130]        \n",
      "Epoch 114:  25%|██▌       | 1/4 [00:01<00:03,  1.00it/s, v_num=0, train_loss_step=0.130, train_acc=0.972, train_acc_func=0.402, train_mcc=0.178, val_loss_step=8.830, val_loss_epoch=8.830, val_auroc=0.214, val_acc=0.996, val_mcc=0.703, train_loss_epoch=0.130]\n",
      "Epoch 114:  50%|█████     | 2/4 [00:01<00:01,  1.35it/s, v_num=0, train_loss_step=0.123, train_acc=0.974, train_acc_func=0.393, train_mcc=0.185, val_loss_step=8.830, val_loss_epoch=8.830, val_auroc=0.214, val_acc=0.996, val_mcc=0.703, train_loss_epoch=0.130]\n",
      "Epoch 114:  75%|███████▌  | 3/4 [00:01<00:00,  1.57it/s, v_num=0, train_loss_step=0.110, train_acc=0.978, train_acc_func=0.394, train_mcc=0.201, val_loss_step=8.830, val_loss_epoch=8.830, val_auroc=0.214, val_acc=0.996, val_mcc=0.703, train_loss_epoch=0.130]\n",
      "Epoch 114: 100%|██████████| 4/4 [00:02<00:00,  1.75it/s, v_num=0, train_loss_step=0.169, train_acc=0.962, train_acc_func=0.367, train_mcc=0.185, val_loss_step=8.830, val_loss_epoch=8.830, val_auroc=0.214, val_acc=0.996, val_mcc=0.703, train_loss_epoch=0.130]\n",
      "Validation: |          | 0/? [00:00<?, ?it/s]\u001b[A\n",
      "\u001b[36m(train_linevd pid=14937)\u001b[0m \n",
      "Validation:   0%|          | 0/1 [00:00<?, ?it/s]\u001b[A\n",
      "Validation DataLoader 0:   0%|          | 0/1 [00:00<?, ?it/s]\u001b[A\n",
      "\u001b[36m(train_linevd pid=14937)\u001b[0m \n",
      "Validation DataLoader 0: 100%|██████████| 1/1 [00:00<00:00, 14.44it/s]\u001b[A\n",
      "\u001b[36m(train_linevd pid=14937)\u001b[0m \n",
      "Epoch 114: 100%|██████████| 4/4 [00:02<00:00,  1.40it/s, v_num=0, train_loss_step=0.169, train_acc=0.962, train_acc_func=0.367, train_mcc=0.185, val_loss_step=8.650, val_loss_epoch=8.650, val_auroc=0.212, val_acc=0.996, val_mcc=0.703, train_loss_epoch=0.130]\n",
      "Epoch 114: 100%|██████████| 4/4 [00:02<00:00,  1.40it/s, v_num=0, train_loss_step=0.169, train_acc=0.962, train_acc_func=0.367, train_mcc=0.185, val_loss_step=8.650, val_loss_epoch=8.650, val_auroc=0.212, val_acc=0.996, val_mcc=0.703, train_loss_epoch=0.133]\n"
     ]
    },
    {
     "name": "stderr",
     "output_type": "stream",
     "text": [
      "\u001b[36m(train_linevd pid=14937)\u001b[0m Checkpoint successfully created at: Checkpoint(filesystem=local, path=/home/ubuntu/linevd/storage/processed/raytune_best_-1/202401100409_1fca96a_update_get_data.sh/tune_linevd/train_linevd_541e2_00000_0_batch_size=1024,embtype=codebert,gatdropout=0.2000,gnntype=gcn,gtype=pdg_raw,hdropout=0.3000,hfeat=512,_2024-01-10_04-09-08/checkpoint_000114)\n"
     ]
    },
    {
     "name": "stdout",
     "output_type": "stream",
     "text": [
      "Epoch 115:   0%|          | 0/4 [00:00<?, ?it/s, v_num=0, train_loss_step=0.169, train_acc=0.962, train_acc_func=0.367, train_mcc=0.185, val_loss_step=8.650, val_loss_epoch=8.650, val_auroc=0.212, val_acc=0.996, val_mcc=0.703, train_loss_epoch=0.133]        \n",
      "Epoch 115:  25%|██▌       | 1/4 [00:00<00:02,  1.15it/s, v_num=0, train_loss_step=0.138, train_acc=0.971, train_acc_func=0.391, train_mcc=0.174, val_loss_step=8.650, val_loss_epoch=8.650, val_auroc=0.212, val_acc=0.996, val_mcc=0.703, train_loss_epoch=0.133]\n",
      "Epoch 115:  50%|█████     | 2/4 [00:02<00:02,  0.76it/s, v_num=0, train_loss_step=0.128, train_acc=0.972, train_acc_func=0.386, train_mcc=0.178, val_loss_step=8.650, val_loss_epoch=8.650, val_auroc=0.212, val_acc=0.996, val_mcc=0.703, train_loss_epoch=0.133]\n",
      "Epoch 115:  75%|███████▌  | 3/4 [00:04<00:01,  0.74it/s, v_num=0, train_loss_step=0.143, train_acc=0.969, train_acc_func=0.389, train_mcc=0.168, val_loss_step=8.650, val_loss_epoch=8.650, val_auroc=0.212, val_acc=0.996, val_mcc=0.703, train_loss_epoch=0.133]\n",
      "Epoch 115: 100%|██████████| 4/4 [00:04<00:00,  0.83it/s, v_num=0, train_loss_step=0.103, train_acc=0.980, train_acc_func=0.403, train_mcc=0.259, val_loss_step=8.650, val_loss_epoch=8.650, val_auroc=0.212, val_acc=0.996, val_mcc=0.703, train_loss_epoch=0.133]\n",
      "\u001b[36m(train_linevd pid=14937)\u001b[0m \n",
      "Validation: |          | 0/? [00:00<?, ?it/s]\u001b[A\n",
      "\u001b[36m(train_linevd pid=14937)\u001b[0m \n",
      "Validation:   0%|          | 0/1 [00:00<?, ?it/s]\u001b[A\n",
      "Validation DataLoader 0:   0%|          | 0/1 [00:00<?, ?it/s]\u001b[A\n",
      "\u001b[36m(train_linevd pid=14937)\u001b[0m \n",
      "Validation DataLoader 0: 100%|██████████| 1/1 [00:00<00:00,  5.80it/s]\u001b[A\n"
     ]
    },
    {
     "name": "stderr",
     "output_type": "stream",
     "text": [
      "\u001b[36m(train_linevd pid=14937)\u001b[0m Checkpoint successfully created at: Checkpoint(filesystem=local, path=/home/ubuntu/linevd/storage/processed/raytune_best_-1/202401100409_1fca96a_update_get_data.sh/tune_linevd/train_linevd_541e2_00000_0_batch_size=1024,embtype=codebert,gatdropout=0.2000,gnntype=gcn,gtype=pdg_raw,hdropout=0.3000,hfeat=512,_2024-01-10_04-09-08/checkpoint_000115)\n"
     ]
    },
    {
     "name": "stdout",
     "output_type": "stream",
     "text": [
      "\u001b[36m(train_linevd pid=14937)\u001b[0m \n",
      "Epoch 116:   0%|          | 0/4 [00:00<?, ?it/s, v_num=0, train_loss_step=0.103, train_acc=0.980, train_acc_func=0.403, train_mcc=0.259, val_loss_step=8.740, val_loss_epoch=8.740, val_auroc=0.214, val_acc=0.996, val_mcc=0.703, train_loss_epoch=0.128]        \n",
      "Epoch 116:  25%|██▌       | 1/4 [00:01<00:03,  0.94it/s, v_num=0, train_loss_step=0.130, train_acc=0.971, train_acc_func=0.396, train_mcc=0.174, val_loss_step=8.740, val_loss_epoch=8.740, val_auroc=0.214, val_acc=0.996, val_mcc=0.703, train_loss_epoch=0.128]\n",
      "Epoch 116:  50%|█████     | 2/4 [00:01<00:01,  1.25it/s, v_num=0, train_loss_step=0.110, train_acc=0.977, train_acc_func=0.392, train_mcc=0.197, val_loss_step=8.740, val_loss_epoch=8.740, val_auroc=0.214, val_acc=0.996, val_mcc=0.703, train_loss_epoch=0.128]\n",
      "Epoch 116:  75%|███████▌  | 3/4 [00:02<00:00,  1.00it/s, v_num=0, train_loss_step=0.129, train_acc=0.973, train_acc_func=0.372, train_mcc=0.181, val_loss_step=8.740, val_loss_epoch=8.740, val_auroc=0.214, val_acc=0.996, val_mcc=0.703, train_loss_epoch=0.128]\n",
      "Epoch 116: 100%|██████████| 4/4 [00:04<00:00,  0.97it/s, v_num=0, train_loss_step=0.149, train_acc=0.966, train_acc_func=0.411, train_mcc=0.198, val_loss_step=8.740, val_loss_epoch=8.740, val_auroc=0.214, val_acc=0.996, val_mcc=0.703, train_loss_epoch=0.128]\n",
      "Validation: |          | 0/? [00:00<?, ?it/s]\u001b[A\n",
      "\u001b[36m(train_linevd pid=14937)\u001b[0m \n",
      "Validation:   0%|          | 0/1 [00:00<?, ?it/s]\u001b[A\n",
      "Validation DataLoader 0:   0%|          | 0/1 [00:00<?, ?it/s]\u001b[A\n",
      "\u001b[36m(train_linevd pid=14937)\u001b[0m \n",
      "Validation DataLoader 0: 100%|██████████| 1/1 [00:00<00:00, 11.12it/s]\u001b[A\n"
     ]
    },
    {
     "name": "stderr",
     "output_type": "stream",
     "text": [
      "\u001b[36m(train_linevd pid=14937)\u001b[0m Checkpoint successfully created at: Checkpoint(filesystem=local, path=/home/ubuntu/linevd/storage/processed/raytune_best_-1/202401100409_1fca96a_update_get_data.sh/tune_linevd/train_linevd_541e2_00000_0_batch_size=1024,embtype=codebert,gatdropout=0.2000,gnntype=gcn,gtype=pdg_raw,hdropout=0.3000,hfeat=512,_2024-01-10_04-09-08/checkpoint_000116)\n"
     ]
    },
    {
     "name": "stdout",
     "output_type": "stream",
     "text": [
      "\u001b[36m(train_linevd pid=14937)\u001b[0m \n",
      "Epoch 117:   0%|          | 0/4 [00:00<?, ?it/s, v_num=0, train_loss_step=0.149, train_acc=0.966, train_acc_func=0.411, train_mcc=0.198, val_loss_step=8.980, val_loss_epoch=8.980, val_auroc=0.213, val_acc=0.996, val_mcc=0.703, train_loss_epoch=0.130]        \n",
      "Epoch 117:  25%|██▌       | 1/4 [00:00<00:02,  1.13it/s, v_num=0, train_loss_step=0.126, train_acc=0.973, train_acc_func=0.408, train_mcc=0.181, val_loss_step=8.980, val_loss_epoch=8.980, val_auroc=0.213, val_acc=0.996, val_mcc=0.703, train_loss_epoch=0.130]\n",
      "Epoch 117:  50%|█████     | 2/4 [00:01<00:01,  1.39it/s, v_num=0, train_loss_step=0.122, train_acc=0.975, train_acc_func=0.393, train_mcc=0.189, val_loss_step=8.980, val_loss_epoch=8.980, val_auroc=0.213, val_acc=0.996, val_mcc=0.703, train_loss_epoch=0.130]\n",
      "Epoch 117:  75%|███████▌  | 3/4 [00:01<00:00,  1.54it/s, v_num=0, train_loss_step=0.146, train_acc=0.968, train_acc_func=0.386, train_mcc=0.166, val_loss_step=8.980, val_loss_epoch=8.980, val_auroc=0.213, val_acc=0.996, val_mcc=0.703, train_loss_epoch=0.130]\n",
      "Epoch 117: 100%|██████████| 4/4 [00:02<00:00,  1.67it/s, v_num=0, train_loss_step=0.129, train_acc=0.974, train_acc_func=0.370, train_mcc=0.226, val_loss_step=8.980, val_loss_epoch=8.980, val_auroc=0.213, val_acc=0.996, val_mcc=0.703, train_loss_epoch=0.130]\n",
      "\u001b[36m(train_linevd pid=14937)\u001b[0m \n",
      "Validation: |          | 0/? [00:00<?, ?it/s]\u001b[A\n",
      "\u001b[36m(train_linevd pid=14937)\u001b[0m \n",
      "Validation:   0%|          | 0/1 [00:00<?, ?it/s]\u001b[A\n",
      "Validation DataLoader 0:   0%|          | 0/1 [00:00<?, ?it/s]\u001b[A\n",
      "\u001b[36m(train_linevd pid=14937)\u001b[0m \n",
      "Validation DataLoader 0: 100%|██████████| 1/1 [00:00<00:00,  2.14it/s]\u001b[A\n"
     ]
    },
    {
     "name": "stderr",
     "output_type": "stream",
     "text": [
      "\u001b[36m(train_linevd pid=14937)\u001b[0m Checkpoint successfully created at: Checkpoint(filesystem=local, path=/home/ubuntu/linevd/storage/processed/raytune_best_-1/202401100409_1fca96a_update_get_data.sh/tune_linevd/train_linevd_541e2_00000_0_batch_size=1024,embtype=codebert,gatdropout=0.2000,gnntype=gcn,gtype=pdg_raw,hdropout=0.3000,hfeat=512,_2024-01-10_04-09-08/checkpoint_000117)\n"
     ]
    },
    {
     "name": "stdout",
     "output_type": "stream",
     "text": [
      "\u001b[36m(train_linevd pid=14937)\u001b[0m \n",
      "Epoch 118:   0%|          | 0/4 [00:00<?, ?it/s, v_num=0, train_loss_step=0.129, train_acc=0.974, train_acc_func=0.370, train_mcc=0.226, val_loss_step=8.910, val_loss_epoch=8.910, val_auroc=0.213, val_acc=0.996, val_mcc=0.703, train_loss_epoch=0.131]        \n",
      "Epoch 118:  25%|██▌       | 1/4 [00:01<00:03,  0.84it/s, v_num=0, train_loss_step=0.152, train_acc=0.967, train_acc_func=0.408, train_mcc=0.163, val_loss_step=8.910, val_loss_epoch=8.910, val_auroc=0.213, val_acc=0.996, val_mcc=0.703, train_loss_epoch=0.131]\n",
      "Epoch 118:  50%|█████     | 2/4 [00:01<00:01,  1.13it/s, v_num=0, train_loss_step=0.122, train_acc=0.975, train_acc_func=0.388, train_mcc=0.189, val_loss_step=8.910, val_loss_epoch=8.910, val_auroc=0.213, val_acc=0.996, val_mcc=0.703, train_loss_epoch=0.131]\n",
      "Epoch 118:  75%|███████▌  | 3/4 [00:02<00:00,  1.30it/s, v_num=0, train_loss_step=0.125, train_acc=0.974, train_acc_func=0.383, train_mcc=0.185, val_loss_step=8.910, val_loss_epoch=8.910, val_auroc=0.213, val_acc=0.996, val_mcc=0.703, train_loss_epoch=0.131]\n",
      "Epoch 118: 100%|██████████| 4/4 [00:02<00:00,  1.45it/s, v_num=0, train_loss_step=0.120, train_acc=0.974, train_acc_func=0.382, train_mcc=0.226, val_loss_step=8.910, val_loss_epoch=8.910, val_auroc=0.213, val_acc=0.996, val_mcc=0.703, train_loss_epoch=0.131]\n",
      "\u001b[36m(train_linevd pid=14937)\u001b[0m \n",
      "Validation: |          | 0/? [00:00<?, ?it/s]\u001b[A\n",
      "\u001b[36m(train_linevd pid=14937)\u001b[0m \n",
      "Validation:   0%|          | 0/1 [00:00<?, ?it/s]\u001b[A\n",
      "Validation DataLoader 0:   0%|          | 0/1 [00:00<?, ?it/s]\u001b[A\n",
      "\u001b[36m(train_linevd pid=14937)\u001b[0m \n",
      "Validation DataLoader 0: 100%|██████████| 1/1 [00:00<00:00,  3.22it/s]\u001b[A\n"
     ]
    },
    {
     "name": "stderr",
     "output_type": "stream",
     "text": [
      "\u001b[36m(train_linevd pid=14937)\u001b[0m Checkpoint successfully created at: Checkpoint(filesystem=local, path=/home/ubuntu/linevd/storage/processed/raytune_best_-1/202401100409_1fca96a_update_get_data.sh/tune_linevd/train_linevd_541e2_00000_0_batch_size=1024,embtype=codebert,gatdropout=0.2000,gnntype=gcn,gtype=pdg_raw,hdropout=0.3000,hfeat=512,_2024-01-10_04-09-08/checkpoint_000118)\n"
     ]
    },
    {
     "name": "stdout",
     "output_type": "stream",
     "text": [
      "\u001b[36m(train_linevd pid=14937)\u001b[0m \n",
      "Epoch 119:   0%|          | 0/4 [00:00<?, ?it/s, v_num=0, train_loss_step=0.120, train_acc=0.974, train_acc_func=0.382, train_mcc=0.226, val_loss_step=8.830, val_loss_epoch=8.830, val_auroc=0.214, val_acc=0.996, val_mcc=0.703, train_loss_epoch=0.130]        \n",
      "Epoch 119:  25%|██▌       | 1/4 [00:01<00:03,  0.80it/s, v_num=0, train_loss_step=0.117, train_acc=0.976, train_acc_func=0.401, train_mcc=0.193, val_loss_step=8.830, val_loss_epoch=8.830, val_auroc=0.214, val_acc=0.996, val_mcc=0.703, train_loss_epoch=0.130]\n",
      "Epoch 119:  50%|█████     | 2/4 [00:01<00:01,  1.14it/s, v_num=0, train_loss_step=0.160, train_acc=0.966, train_acc_func=0.377, train_mcc=0.160, val_loss_step=8.830, val_loss_epoch=8.830, val_auroc=0.214, val_acc=0.996, val_mcc=0.703, train_loss_epoch=0.130]\n",
      "Epoch 119:  75%|███████▌  | 3/4 [00:02<00:00,  1.27it/s, v_num=0, train_loss_step=0.123, train_acc=0.974, train_acc_func=0.400, train_mcc=0.185, val_loss_step=8.830, val_loss_epoch=8.830, val_auroc=0.214, val_acc=0.996, val_mcc=0.703, train_loss_epoch=0.130]\n",
      "Epoch 119: 100%|██████████| 4/4 [00:02<00:00,  1.42it/s, v_num=0, train_loss_step=0.120, train_acc=0.974, train_acc_func=0.382, train_mcc=0.226, val_loss_step=8.830, val_loss_epoch=8.830, val_auroc=0.214, val_acc=0.996, val_mcc=0.703, train_loss_epoch=0.130]\n",
      "Validation: |          | 0/? [00:00<?, ?it/s]\u001b[A\n",
      "\u001b[36m(train_linevd pid=14937)\u001b[0m \n",
      "Validation:   0%|          | 0/1 [00:00<?, ?it/s]\u001b[A\n",
      "Validation DataLoader 0:   0%|          | 0/1 [00:00<?, ?it/s]\u001b[A\n",
      "\u001b[36m(train_linevd pid=14937)\u001b[0m \n",
      "Validation DataLoader 0: 100%|██████████| 1/1 [00:00<00:00,  9.19it/s]\u001b[A\n"
     ]
    },
    {
     "name": "stderr",
     "output_type": "stream",
     "text": [
      "\u001b[36m(train_linevd pid=14937)\u001b[0m Checkpoint successfully created at: Checkpoint(filesystem=local, path=/home/ubuntu/linevd/storage/processed/raytune_best_-1/202401100409_1fca96a_update_get_data.sh/tune_linevd/train_linevd_541e2_00000_0_batch_size=1024,embtype=codebert,gatdropout=0.2000,gnntype=gcn,gtype=pdg_raw,hdropout=0.3000,hfeat=512,_2024-01-10_04-09-08/checkpoint_000119)\n"
     ]
    },
    {
     "name": "stdout",
     "output_type": "stream",
     "text": [
      "\u001b[36m(train_linevd pid=14937)\u001b[0m \n",
      "Epoch 120:   0%|          | 0/4 [00:00<?, ?it/s, v_num=0, train_loss_step=0.120, train_acc=0.974, train_acc_func=0.382, train_mcc=0.226, val_loss_step=8.750, val_loss_epoch=8.750, val_auroc=0.213, val_acc=0.996, val_mcc=0.703, train_loss_epoch=0.130]        \n",
      "Epoch 120:  25%|██▌       | 1/4 [00:00<00:02,  1.09it/s, v_num=0, train_loss_step=0.133, train_acc=0.972, train_acc_func=0.375, train_mcc=0.178, val_loss_step=8.750, val_loss_epoch=8.750, val_auroc=0.213, val_acc=0.996, val_mcc=0.703, train_loss_epoch=0.130]\n",
      "Epoch 120:  50%|█████     | 2/4 [00:02<00:02,  0.92it/s, v_num=0, train_loss_step=0.161, train_acc=0.964, train_acc_func=0.397, train_mcc=0.155, val_loss_step=8.750, val_loss_epoch=8.750, val_auroc=0.213, val_acc=0.996, val_mcc=0.703, train_loss_epoch=0.130]\n",
      "Epoch 120:  75%|███████▌  | 3/4 [00:03<00:01,  0.85it/s, v_num=0, train_loss_step=0.123, train_acc=0.973, train_acc_func=0.379, train_mcc=0.181, val_loss_step=8.750, val_loss_epoch=8.750, val_auroc=0.213, val_acc=0.996, val_mcc=0.703, train_loss_epoch=0.130]\n",
      "Epoch 120: 100%|██████████| 4/4 [00:03<00:00,  1.02it/s, v_num=0, train_loss_step=0.0867, train_acc=0.984, train_acc_func=0.423, train_mcc=0.294, val_loss_step=8.750, val_loss_epoch=8.750, val_auroc=0.213, val_acc=0.996, val_mcc=0.703, train_loss_epoch=0.130]\n",
      "\u001b[36m(train_linevd pid=14937)\u001b[0m \n",
      "Validation: |          | 0/? [00:00<?, ?it/s]\u001b[A\n",
      "\u001b[36m(train_linevd pid=14937)\u001b[0m \n",
      "Validation:   0%|          | 0/1 [00:00<?, ?it/s]\u001b[A\n",
      "Validation DataLoader 0:   0%|          | 0/1 [00:00<?, ?it/s]\u001b[A\n",
      "\u001b[36m(train_linevd pid=14937)\u001b[0m \n",
      "Validation DataLoader 0: 100%|██████████| 1/1 [00:00<00:00, 11.28it/s]\u001b[A\n"
     ]
    },
    {
     "name": "stderr",
     "output_type": "stream",
     "text": [
      "\u001b[36m(train_linevd pid=14937)\u001b[0m Checkpoint successfully created at: Checkpoint(filesystem=local, path=/home/ubuntu/linevd/storage/processed/raytune_best_-1/202401100409_1fca96a_update_get_data.sh/tune_linevd/train_linevd_541e2_00000_0_batch_size=1024,embtype=codebert,gatdropout=0.2000,gnntype=gcn,gtype=pdg_raw,hdropout=0.3000,hfeat=512,_2024-01-10_04-09-08/checkpoint_000120)\n"
     ]
    },
    {
     "name": "stdout",
     "output_type": "stream",
     "text": [
      "\u001b[36m(train_linevd pid=14937)\u001b[0m \n",
      "Epoch 121:   0%|          | 0/4 [00:00<?, ?it/s, v_num=0, train_loss_step=0.0867, train_acc=0.984, train_acc_func=0.423, train_mcc=0.294, val_loss_step=8.740, val_loss_epoch=8.740, val_auroc=0.212, val_acc=0.996, val_mcc=0.703, train_loss_epoch=0.126]        \n",
      "Epoch 121:  25%|██▌       | 1/4 [00:00<00:02,  1.12it/s, v_num=0, train_loss_step=0.126, train_acc=0.972, train_acc_func=0.382, train_mcc=0.178, val_loss_step=8.740, val_loss_epoch=8.740, val_auroc=0.212, val_acc=0.996, val_mcc=0.703, train_loss_epoch=0.126] \n",
      "Epoch 121:  50%|█████     | 2/4 [00:01<00:01,  1.40it/s, v_num=0, train_loss_step=0.129, train_acc=0.974, train_acc_func=0.390, train_mcc=0.185, val_loss_step=8.740, val_loss_epoch=8.740, val_auroc=0.212, val_acc=0.996, val_mcc=0.703, train_loss_epoch=0.126]\n",
      "Epoch 121:  75%|███████▌  | 3/4 [00:02<00:00,  1.45it/s, v_num=0, train_loss_step=0.127, train_acc=0.973, train_acc_func=0.412, train_mcc=0.181, val_loss_step=8.740, val_loss_epoch=8.740, val_auroc=0.212, val_acc=0.996, val_mcc=0.703, train_loss_epoch=0.126]\n",
      "Epoch 121: 100%|██████████| 4/4 [00:03<00:00,  1.08it/s, v_num=0, train_loss_step=0.137, train_acc=0.969, train_acc_func=0.375, train_mcc=0.208, val_loss_step=8.740, val_loss_epoch=8.740, val_auroc=0.212, val_acc=0.996, val_mcc=0.703, train_loss_epoch=0.126]\n",
      "\u001b[36m(train_linevd pid=14937)\u001b[0m \n",
      "Validation: |          | 0/? [00:00<?, ?it/s]\u001b[A\n",
      "\u001b[36m(train_linevd pid=14937)\u001b[0m \n",
      "Validation:   0%|          | 0/1 [00:00<?, ?it/s]\u001b[A\n",
      "Validation DataLoader 0:   0%|          | 0/1 [00:00<?, ?it/s]\u001b[A\n",
      "\u001b[36m(train_linevd pid=14937)\u001b[0m \n",
      "Validation DataLoader 0: 100%|██████████| 1/1 [00:00<00:00, 10.34it/s]\u001b[A\n"
     ]
    },
    {
     "name": "stderr",
     "output_type": "stream",
     "text": [
      "\u001b[36m(train_linevd pid=14937)\u001b[0m Checkpoint successfully created at: Checkpoint(filesystem=local, path=/home/ubuntu/linevd/storage/processed/raytune_best_-1/202401100409_1fca96a_update_get_data.sh/tune_linevd/train_linevd_541e2_00000_0_batch_size=1024,embtype=codebert,gatdropout=0.2000,gnntype=gcn,gtype=pdg_raw,hdropout=0.3000,hfeat=512,_2024-01-10_04-09-08/checkpoint_000121)\n"
     ]
    },
    {
     "name": "stdout",
     "output_type": "stream",
     "text": [
      "\u001b[36m(train_linevd pid=14937)\u001b[0m \n",
      "Epoch 122:   0%|          | 0/4 [00:00<?, ?it/s, v_num=0, train_loss_step=0.137, train_acc=0.969, train_acc_func=0.375, train_mcc=0.208, val_loss_step=8.950, val_loss_epoch=8.950, val_auroc=0.213, val_acc=0.996, val_mcc=0.703, train_loss_epoch=0.130]        \n",
      "Epoch 122:  25%|██▌       | 1/4 [00:00<00:02,  1.13it/s, v_num=0, train_loss_step=0.123, train_acc=0.975, train_acc_func=0.374, train_mcc=0.189, val_loss_step=8.950, val_loss_epoch=8.950, val_auroc=0.213, val_acc=0.996, val_mcc=0.703, train_loss_epoch=0.130]\n",
      "Epoch 122:  50%|█████     | 2/4 [00:01<00:01,  1.50it/s, v_num=0, train_loss_step=0.113, train_acc=0.977, train_acc_func=0.401, train_mcc=0.197, val_loss_step=8.950, val_loss_epoch=8.950, val_auroc=0.213, val_acc=0.996, val_mcc=0.703, train_loss_epoch=0.130]\n",
      "Epoch 122:  75%|███████▌  | 3/4 [00:01<00:00,  1.64it/s, v_num=0, train_loss_step=0.134, train_acc=0.972, train_acc_func=0.408, train_mcc=0.178, val_loss_step=8.950, val_loss_epoch=8.950, val_auroc=0.213, val_acc=0.996, val_mcc=0.703, train_loss_epoch=0.130]\n",
      "Epoch 122: 100%|██████████| 4/4 [00:02<00:00,  1.82it/s, v_num=0, train_loss_step=0.168, train_acc=0.962, train_acc_func=0.375, train_mcc=0.185, val_loss_step=8.950, val_loss_epoch=8.950, val_auroc=0.213, val_acc=0.996, val_mcc=0.703, train_loss_epoch=0.130]\n",
      "Validation: |          | 0/? [00:00<?, ?it/s]\u001b[A\n",
      "\u001b[36m(train_linevd pid=14937)\u001b[0m \n",
      "Validation:   0%|          | 0/1 [00:00<?, ?it/s]\u001b[A\n",
      "Validation DataLoader 0:   0%|          | 0/1 [00:00<?, ?it/s]\u001b[A\n",
      "Validation DataLoader 0: 100%|██████████| 1/1 [00:00<00:00, 12.74it/s]\u001b[A\n"
     ]
    },
    {
     "name": "stderr",
     "output_type": "stream",
     "text": [
      "\u001b[36m(train_linevd pid=14937)\u001b[0m Checkpoint successfully created at: Checkpoint(filesystem=local, path=/home/ubuntu/linevd/storage/processed/raytune_best_-1/202401100409_1fca96a_update_get_data.sh/tune_linevd/train_linevd_541e2_00000_0_batch_size=1024,embtype=codebert,gatdropout=0.2000,gnntype=gcn,gtype=pdg_raw,hdropout=0.3000,hfeat=512,_2024-01-10_04-09-08/checkpoint_000122)\n"
     ]
    },
    {
     "name": "stdout",
     "output_type": "stream",
     "text": [
      "\u001b[36m(train_linevd pid=14937)\u001b[0m \n",
      "Epoch 123:   0%|          | 0/4 [00:00<?, ?it/s, v_num=0, train_loss_step=0.168, train_acc=0.962, train_acc_func=0.375, train_mcc=0.185, val_loss_step=9.040, val_loss_epoch=9.040, val_auroc=0.213, val_acc=0.996, val_mcc=0.703, train_loss_epoch=0.134]        \n",
      "Epoch 123:  25%|██▌       | 1/4 [00:02<00:07,  0.42it/s, v_num=0, train_loss_step=0.133, train_acc=0.972, train_acc_func=0.382, train_mcc=0.178, val_loss_step=9.040, val_loss_epoch=9.040, val_auroc=0.213, val_acc=0.996, val_mcc=0.703, train_loss_epoch=0.134]\n",
      "Epoch 123:  50%|█████     | 2/4 [00:02<00:02,  0.70it/s, v_num=0, train_loss_step=0.144, train_acc=0.969, train_acc_func=0.364, train_mcc=0.168, val_loss_step=9.040, val_loss_epoch=9.040, val_auroc=0.213, val_acc=0.996, val_mcc=0.703, train_loss_epoch=0.134]\n",
      "Epoch 123:  75%|███████▌  | 3/4 [00:03<00:01,  0.89it/s, v_num=0, train_loss_step=0.117, train_acc=0.976, train_acc_func=0.425, train_mcc=0.193, val_loss_step=9.040, val_loss_epoch=9.040, val_auroc=0.213, val_acc=0.996, val_mcc=0.703, train_loss_epoch=0.134]\n",
      "Epoch 123: 100%|██████████| 4/4 [00:03<00:00,  1.07it/s, v_num=0, train_loss_step=0.128, train_acc=0.972, train_acc_func=0.394, train_mcc=0.220, val_loss_step=9.040, val_loss_epoch=9.040, val_auroc=0.213, val_acc=0.996, val_mcc=0.703, train_loss_epoch=0.134]\n",
      "\u001b[36m(train_linevd pid=14937)\u001b[0m \n",
      "Validation: |          | 0/? [00:00<?, ?it/s]\u001b[A\n",
      "\u001b[36m(train_linevd pid=14937)\u001b[0m \n",
      "Validation:   0%|          | 0/1 [00:00<?, ?it/s]\u001b[A\n",
      "Validation DataLoader 0:   0%|          | 0/1 [00:00<?, ?it/s]\u001b[A\n",
      "Validation DataLoader 0: 100%|██████████| 1/1 [00:00<00:00, 11.31it/s]\u001b[A\n"
     ]
    },
    {
     "name": "stderr",
     "output_type": "stream",
     "text": [
      "\u001b[36m(train_linevd pid=14937)\u001b[0m Checkpoint successfully created at: Checkpoint(filesystem=local, path=/home/ubuntu/linevd/storage/processed/raytune_best_-1/202401100409_1fca96a_update_get_data.sh/tune_linevd/train_linevd_541e2_00000_0_batch_size=1024,embtype=codebert,gatdropout=0.2000,gnntype=gcn,gtype=pdg_raw,hdropout=0.3000,hfeat=512,_2024-01-10_04-09-08/checkpoint_000123)\n"
     ]
    },
    {
     "name": "stdout",
     "output_type": "stream",
     "text": [
      "\u001b[36m(train_linevd pid=14937)\u001b[0m \n",
      "Epoch 124:   0%|          | 0/4 [00:00<?, ?it/s, v_num=0, train_loss_step=0.128, train_acc=0.972, train_acc_func=0.394, train_mcc=0.220, val_loss_step=9.390, val_loss_epoch=9.390, val_auroc=0.213, val_acc=0.996, val_mcc=0.703, train_loss_epoch=0.130]        \n",
      "Epoch 124:  25%|██▌       | 1/4 [00:00<00:02,  1.07it/s, v_num=0, train_loss_step=0.118, train_acc=0.976, train_acc_func=0.388, train_mcc=0.193, val_loss_step=9.390, val_loss_epoch=9.390, val_auroc=0.213, val_acc=0.996, val_mcc=0.703, train_loss_epoch=0.130]\n",
      "Epoch 124:  50%|█████     | 2/4 [00:01<00:01,  1.36it/s, v_num=0, train_loss_step=0.162, train_acc=0.963, train_acc_func=0.386, train_mcc=0.153, val_loss_step=9.390, val_loss_epoch=9.390, val_auroc=0.213, val_acc=0.996, val_mcc=0.703, train_loss_epoch=0.130]\n",
      "Epoch 124:  75%|███████▌  | 3/4 [00:03<00:01,  0.95it/s, v_num=0, train_loss_step=0.104, train_acc=0.979, train_acc_func=0.406, train_mcc=0.211, val_loss_step=9.390, val_loss_epoch=9.390, val_auroc=0.213, val_acc=0.996, val_mcc=0.703, train_loss_epoch=0.130]\n",
      "Epoch 124: 100%|██████████| 4/4 [00:03<00:00,  1.02it/s, v_num=0, train_loss_step=0.145, train_acc=0.969, train_acc_func=0.381, train_mcc=0.208, val_loss_step=9.390, val_loss_epoch=9.390, val_auroc=0.213, val_acc=0.996, val_mcc=0.703, train_loss_epoch=0.130]\n",
      "Validation: |          | 0/? [00:00<?, ?it/s]\u001b[A\n",
      "\u001b[36m(train_linevd pid=14937)\u001b[0m \n",
      "Validation:   0%|          | 0/1 [00:00<?, ?it/s]\u001b[A\n",
      "Validation DataLoader 0:   0%|          | 0/1 [00:00<?, ?it/s]\u001b[A\n",
      "Validation DataLoader 0: 100%|██████████| 1/1 [00:00<00:00, 12.32it/s]\u001b[A\n"
     ]
    },
    {
     "name": "stderr",
     "output_type": "stream",
     "text": [
      "\u001b[36m(train_linevd pid=14937)\u001b[0m Checkpoint successfully created at: Checkpoint(filesystem=local, path=/home/ubuntu/linevd/storage/processed/raytune_best_-1/202401100409_1fca96a_update_get_data.sh/tune_linevd/train_linevd_541e2_00000_0_batch_size=1024,embtype=codebert,gatdropout=0.2000,gnntype=gcn,gtype=pdg_raw,hdropout=0.3000,hfeat=512,_2024-01-10_04-09-08/checkpoint_000124)\n"
     ]
    },
    {
     "name": "stdout",
     "output_type": "stream",
     "text": [
      "\u001b[36m(train_linevd pid=14937)\u001b[0m \n",
      "Epoch 125:   0%|          | 0/4 [00:00<?, ?it/s, v_num=0, train_loss_step=0.145, train_acc=0.969, train_acc_func=0.381, train_mcc=0.208, val_loss_step=8.290, val_loss_epoch=8.290, val_auroc=0.207, val_acc=0.996, val_mcc=0.703, train_loss_epoch=0.132]        \n",
      "Epoch 125:  25%|██▌       | 1/4 [00:00<00:02,  1.11it/s, v_num=0, train_loss_step=0.136, train_acc=0.970, train_acc_func=0.411, train_mcc=0.171, val_loss_step=8.290, val_loss_epoch=8.290, val_auroc=0.207, val_acc=0.996, val_mcc=0.703, train_loss_epoch=0.132]\n",
      "Epoch 125:  50%|█████     | 2/4 [00:01<00:01,  1.44it/s, v_num=0, train_loss_step=0.147, train_acc=0.969, train_acc_func=0.392, train_mcc=0.168, val_loss_step=8.290, val_loss_epoch=8.290, val_auroc=0.207, val_acc=0.996, val_mcc=0.703, train_loss_epoch=0.132]\n",
      "Epoch 125:  75%|███████▌  | 3/4 [00:01<00:00,  1.53it/s, v_num=0, train_loss_step=0.110, train_acc=0.978, train_acc_func=0.367, train_mcc=0.201, val_loss_step=8.290, val_loss_epoch=8.290, val_auroc=0.207, val_acc=0.996, val_mcc=0.703, train_loss_epoch=0.132]\n",
      "Epoch 125: 100%|██████████| 4/4 [00:02<00:00,  1.61it/s, v_num=0, train_loss_step=0.126, train_acc=0.972, train_acc_func=0.395, train_mcc=0.220, val_loss_step=8.290, val_loss_epoch=8.290, val_auroc=0.207, val_acc=0.996, val_mcc=0.703, train_loss_epoch=0.132]\n",
      "\u001b[36m(train_linevd pid=14937)\u001b[0m \n",
      "Validation: |          | 0/? [00:00<?, ?it/s]\u001b[A\n",
      "\u001b[36m(train_linevd pid=14937)\u001b[0m \n",
      "Validation:   0%|          | 0/1 [00:00<?, ?it/s]\u001b[A\n",
      "Validation DataLoader 0:   0%|          | 0/1 [00:00<?, ?it/s]\u001b[A\n",
      "\u001b[36m(train_linevd pid=14937)\u001b[0m \n",
      "Validation DataLoader 0: 100%|██████████| 1/1 [00:00<00:00,  2.39it/s]\u001b[A\n"
     ]
    },
    {
     "name": "stderr",
     "output_type": "stream",
     "text": [
      "\u001b[36m(train_linevd pid=14937)\u001b[0m Checkpoint successfully created at: Checkpoint(filesystem=local, path=/home/ubuntu/linevd/storage/processed/raytune_best_-1/202401100409_1fca96a_update_get_data.sh/tune_linevd/train_linevd_541e2_00000_0_batch_size=1024,embtype=codebert,gatdropout=0.2000,gnntype=gcn,gtype=pdg_raw,hdropout=0.3000,hfeat=512,_2024-01-10_04-09-08/checkpoint_000125)\n"
     ]
    },
    {
     "name": "stdout",
     "output_type": "stream",
     "text": [
      "\u001b[36m(train_linevd pid=14937)\u001b[0m \n",
      "Epoch 126:   0%|          | 0/4 [00:00<?, ?it/s, v_num=0, train_loss_step=0.126, train_acc=0.972, train_acc_func=0.395, train_mcc=0.220, val_loss_step=9.590, val_loss_epoch=9.590, val_auroc=0.200, val_acc=0.996, val_mcc=0.703, train_loss_epoch=0.130]        \n",
      "Epoch 126:  25%|██▌       | 1/4 [00:00<00:02,  1.06it/s, v_num=0, train_loss_step=0.0985, train_acc=0.980, train_acc_func=0.404, train_mcc=0.217, val_loss_step=9.590, val_loss_epoch=9.590, val_auroc=0.200, val_acc=0.996, val_mcc=0.703, train_loss_epoch=0.130]\n",
      "Epoch 126:  50%|█████     | 2/4 [00:01<00:01,  1.40it/s, v_num=0, train_loss_step=0.150, train_acc=0.968, train_acc_func=0.385, train_mcc=0.166, val_loss_step=9.590, val_loss_epoch=9.590, val_auroc=0.200, val_acc=0.996, val_mcc=0.703, train_loss_epoch=0.130] \n",
      "Epoch 126:  75%|███████▌  | 3/4 [00:01<00:00,  1.53it/s, v_num=0, train_loss_step=0.146, train_acc=0.968, train_acc_func=0.389, train_mcc=0.166, val_loss_step=9.590, val_loss_epoch=9.590, val_auroc=0.200, val_acc=0.996, val_mcc=0.703, train_loss_epoch=0.130]\n",
      "Epoch 126: 100%|██████████| 4/4 [00:02<00:00,  1.72it/s, v_num=0, train_loss_step=0.127, train_acc=0.972, train_acc_func=0.384, train_mcc=0.220, val_loss_step=9.590, val_loss_epoch=9.590, val_auroc=0.200, val_acc=0.996, val_mcc=0.703, train_loss_epoch=0.130]\n",
      "\u001b[36m(train_linevd pid=14937)\u001b[0m \n",
      "Validation: |          | 0/? [00:00<?, ?it/s]\u001b[A\n",
      "Validation:   0%|          | 0/1 [00:00<?, ?it/s]\u001b[A\n",
      "Validation DataLoader 0:   0%|          | 0/1 [00:00<?, ?it/s]\u001b[A\n",
      "\u001b[36m(train_linevd pid=14937)\u001b[0m \n",
      "Validation DataLoader 0: 100%|██████████| 1/1 [00:00<00:00, 12.60it/s]\u001b[A\n",
      "\u001b[36m(train_linevd pid=14937)\u001b[0m \n",
      "Epoch 127:   0%|          | 0/4 [00:00<?, ?it/s, v_num=0, train_loss_step=0.127, train_acc=0.972, train_acc_func=0.384, train_mcc=0.220, val_loss_step=8.720, val_loss_epoch=8.720, val_auroc=0.200, val_acc=0.996, val_mcc=0.703, train_loss_epoch=0.130]        \n"
     ]
    },
    {
     "name": "stderr",
     "output_type": "stream",
     "text": [
      "\u001b[36m(train_linevd pid=14937)\u001b[0m Checkpoint successfully created at: Checkpoint(filesystem=local, path=/home/ubuntu/linevd/storage/processed/raytune_best_-1/202401100409_1fca96a_update_get_data.sh/tune_linevd/train_linevd_541e2_00000_0_batch_size=1024,embtype=codebert,gatdropout=0.2000,gnntype=gcn,gtype=pdg_raw,hdropout=0.3000,hfeat=512,_2024-01-10_04-09-08/checkpoint_000126)\n"
     ]
    },
    {
     "name": "stdout",
     "output_type": "stream",
     "text": [
      "Epoch 127:  25%|██▌       | 1/4 [00:02<00:07,  0.40it/s, v_num=0, train_loss_step=0.151, train_acc=0.968, train_acc_func=0.391, train_mcc=0.166, val_loss_step=8.720, val_loss_epoch=8.720, val_auroc=0.200, val_acc=0.996, val_mcc=0.703, train_loss_epoch=0.130]\n",
      "Epoch 127:  50%|█████     | 2/4 [00:03<00:03,  0.65it/s, v_num=0, train_loss_step=0.118, train_acc=0.976, train_acc_func=0.395, train_mcc=0.193, val_loss_step=8.720, val_loss_epoch=8.720, val_auroc=0.200, val_acc=0.996, val_mcc=0.703, train_loss_epoch=0.130]\n",
      "Epoch 127:  75%|███████▌  | 3/4 [00:03<00:01,  0.83it/s, v_num=0, train_loss_step=0.134, train_acc=0.973, train_acc_func=0.404, train_mcc=0.181, val_loss_step=8.720, val_loss_epoch=8.720, val_auroc=0.200, val_acc=0.996, val_mcc=0.703, train_loss_epoch=0.130]\n",
      "Epoch 127: 100%|██████████| 4/4 [00:04<00:00,  1.00it/s, v_num=0, train_loss_step=0.126, train_acc=0.972, train_acc_func=0.366, train_mcc=0.220, val_loss_step=8.720, val_loss_epoch=8.720, val_auroc=0.200, val_acc=0.996, val_mcc=0.703, train_loss_epoch=0.130]\n",
      "\u001b[36m(train_linevd pid=14937)\u001b[0m \n",
      "Validation: |          | 0/? [00:00<?, ?it/s]\u001b[A\n",
      "\u001b[36m(train_linevd pid=14937)\u001b[0m \n",
      "Validation:   0%|          | 0/1 [00:00<?, ?it/s]\u001b[A\n",
      "Validation DataLoader 0:   0%|          | 0/1 [00:00<?, ?it/s]\u001b[A\n",
      "\u001b[36m(train_linevd pid=14937)\u001b[0m \n",
      "Validation DataLoader 0: 100%|██████████| 1/1 [00:00<00:00,  8.14it/s]\u001b[A\n"
     ]
    },
    {
     "name": "stderr",
     "output_type": "stream",
     "text": [
      "\u001b[36m(train_linevd pid=14937)\u001b[0m Checkpoint successfully created at: Checkpoint(filesystem=local, path=/home/ubuntu/linevd/storage/processed/raytune_best_-1/202401100409_1fca96a_update_get_data.sh/tune_linevd/train_linevd_541e2_00000_0_batch_size=1024,embtype=codebert,gatdropout=0.2000,gnntype=gcn,gtype=pdg_raw,hdropout=0.3000,hfeat=512,_2024-01-10_04-09-08/checkpoint_000127)\n"
     ]
    },
    {
     "name": "stdout",
     "output_type": "stream",
     "text": [
      "\u001b[36m(train_linevd pid=14937)\u001b[0m \n",
      "Epoch 127: 100%|██████████| 4/4 [00:04<00:00,  0.86it/s, v_num=0, train_loss_step=0.126, train_acc=0.972, train_acc_func=0.366, train_mcc=0.220, val_loss_step=10.10, val_loss_epoch=10.10, val_auroc=0.200, val_acc=0.996, val_mcc=0.703, train_loss_epoch=0.130]\n",
      "Epoch 128:   0%|          | 0/4 [00:00<?, ?it/s, v_num=0, train_loss_step=0.126, train_acc=0.972, train_acc_func=0.366, train_mcc=0.220, val_loss_step=10.10, val_loss_epoch=10.10, val_auroc=0.200, val_acc=0.996, val_mcc=0.703, train_loss_epoch=0.132]        \n",
      "Epoch 128:  25%|██▌       | 1/4 [00:01<00:03,  0.93it/s, v_num=0, train_loss_step=0.157, train_acc=0.966, train_acc_func=0.397, train_mcc=0.160, val_loss_step=10.10, val_loss_epoch=10.10, val_auroc=0.200, val_acc=0.996, val_mcc=0.703, train_loss_epoch=0.132]\n",
      "Epoch 128:  50%|█████     | 2/4 [00:01<00:01,  1.08it/s, v_num=0, train_loss_step=0.132, train_acc=0.973, train_acc_func=0.368, train_mcc=0.181, val_loss_step=10.10, val_loss_epoch=10.10, val_auroc=0.200, val_acc=0.996, val_mcc=0.703, train_loss_epoch=0.132]\n",
      "Epoch 128:  75%|███████▌  | 3/4 [00:03<00:01,  0.79it/s, v_num=0, train_loss_step=0.107, train_acc=0.980, train_acc_func=0.419, train_mcc=0.217, val_loss_step=10.10, val_loss_epoch=10.10, val_auroc=0.200, val_acc=0.996, val_mcc=0.703, train_loss_epoch=0.132]\n",
      "Epoch 128: 100%|██████████| 4/4 [00:04<00:00,  0.96it/s, v_num=0, train_loss_step=0.149, train_acc=0.968, train_acc_func=0.373, train_mcc=0.203, val_loss_step=10.10, val_loss_epoch=10.10, val_auroc=0.200, val_acc=0.996, val_mcc=0.703, train_loss_epoch=0.132]\n",
      "\u001b[36m(train_linevd pid=14937)\u001b[0m \n",
      "Validation: |          | 0/? [00:00<?, ?it/s]\u001b[A\n",
      "\u001b[36m(train_linevd pid=14937)\u001b[0m \n",
      "Validation:   0%|          | 0/1 [00:00<?, ?it/s]\u001b[A\n",
      "Validation DataLoader 0:   0%|          | 0/1 [00:00<?, ?it/s]\u001b[A\n",
      "Validation DataLoader 0: 100%|██████████| 1/1 [00:00<00:00, 11.09it/s]\u001b[A\n"
     ]
    },
    {
     "name": "stderr",
     "output_type": "stream",
     "text": [
      "\u001b[36m(train_linevd pid=14937)\u001b[0m Checkpoint successfully created at: Checkpoint(filesystem=local, path=/home/ubuntu/linevd/storage/processed/raytune_best_-1/202401100409_1fca96a_update_get_data.sh/tune_linevd/train_linevd_541e2_00000_0_batch_size=1024,embtype=codebert,gatdropout=0.2000,gnntype=gcn,gtype=pdg_raw,hdropout=0.3000,hfeat=512,_2024-01-10_04-09-08/checkpoint_000128)\n"
     ]
    },
    {
     "name": "stdout",
     "output_type": "stream",
     "text": [
      "\u001b[36m(train_linevd pid=14937)\u001b[0m \n",
      "Epoch 129:   0%|          | 0/4 [00:00<?, ?it/s, v_num=0, train_loss_step=0.149, train_acc=0.968, train_acc_func=0.373, train_mcc=0.203, val_loss_step=6.670, val_loss_epoch=6.670, val_auroc=0.198, val_acc=0.996, val_mcc=0.703, train_loss_epoch=0.137]        \n",
      "Epoch 129:  25%|██▌       | 1/4 [00:00<00:02,  1.05it/s, v_num=0, train_loss_step=0.178, train_acc=0.973, train_acc_func=0.388, train_mcc=0.181, val_loss_step=6.670, val_loss_epoch=6.670, val_auroc=0.198, val_acc=0.996, val_mcc=0.703, train_loss_epoch=0.137]\n",
      "Epoch 129:  50%|█████     | 2/4 [00:01<00:01,  1.37it/s, v_num=0, train_loss_step=0.201, train_acc=0.971, train_acc_func=0.397, train_mcc=0.174, val_loss_step=6.670, val_loss_epoch=6.670, val_auroc=0.198, val_acc=0.996, val_mcc=0.703, train_loss_epoch=0.137]\n",
      "Epoch 129:  75%|███████▌  | 3/4 [00:01<00:00,  1.56it/s, v_num=0, train_loss_step=0.101, train_acc=0.980, train_acc_func=0.385, train_mcc=0.217, val_loss_step=6.670, val_loss_epoch=6.670, val_auroc=0.198, val_acc=0.996, val_mcc=0.703, train_loss_epoch=0.137]\n",
      "Epoch 129: 100%|██████████| 4/4 [00:02<00:00,  1.76it/s, v_num=0, train_loss_step=0.175, train_acc=0.960, train_acc_func=0.395, train_mcc=0.181, val_loss_step=6.670, val_loss_epoch=6.670, val_auroc=0.198, val_acc=0.996, val_mcc=0.703, train_loss_epoch=0.137]\n",
      "\u001b[36m(train_linevd pid=14937)\u001b[0m \n",
      "Validation: |          | 0/? [00:00<?, ?it/s]\u001b[A\n",
      "\u001b[36m(train_linevd pid=14937)\u001b[0m \n",
      "Validation:   0%|          | 0/1 [00:00<?, ?it/s]\u001b[A\n",
      "Validation DataLoader 0:   0%|          | 0/1 [00:00<?, ?it/s]\u001b[A\n",
      "\u001b[36m(train_linevd pid=14937)\u001b[0m \n",
      "Validation DataLoader 0: 100%|██████████| 1/1 [00:00<00:00, 11.51it/s]\u001b[A\n"
     ]
    },
    {
     "name": "stderr",
     "output_type": "stream",
     "text": [
      "\u001b[36m(train_linevd pid=14937)\u001b[0m Checkpoint successfully created at: Checkpoint(filesystem=local, path=/home/ubuntu/linevd/storage/processed/raytune_best_-1/202401100409_1fca96a_update_get_data.sh/tune_linevd/train_linevd_541e2_00000_0_batch_size=1024,embtype=codebert,gatdropout=0.2000,gnntype=gcn,gtype=pdg_raw,hdropout=0.3000,hfeat=512,_2024-01-10_04-09-08/checkpoint_000129)\n"
     ]
    },
    {
     "name": "stdout",
     "output_type": "stream",
     "text": [
      "\u001b[36m(train_linevd pid=14937)\u001b[0m \n",
      "Epoch 129: 100%|██████████| 4/4 [00:02<00:00,  1.42it/s, v_num=0, train_loss_step=0.175, train_acc=0.960, train_acc_func=0.395, train_mcc=0.181, val_loss_step=6.700, val_loss_epoch=6.700, val_auroc=0.198, val_acc=0.996, val_mcc=0.703, train_loss_epoch=0.164]\n"
     ]
    },
    {
     "name": "stderr",
     "output_type": "stream",
     "text": [
      "\u001b[36m(train_linevd pid=14937)\u001b[0m `Trainer.fit` stopped: `max_epochs=130` reached.\n",
      "2024-01-10 04:17:40,961\tINFO tune.py:1042 -- Total run time: 512.52 seconds (512.47 seconds for the tuning loop).\n"
     ]
    },
    {
     "name": "stderr",
     "output_type": "stream",
     "text": [
      "\u001b[33m(raylet)\u001b[0m [2024-01-10 05:01:07,162 E 14576 14576] (raylet) node_manager.cc:3022: 2 Workers (tasks / actors) killed due to memory pressure (OOM), 0 Workers crashed due to other reasons at node (ID: 25b409d06a9db2d4037ef3d6030195679fbd22c436f5a5f3e9813e08, IP: 172.31.35.121) over the last time period. To see more information about the Workers killed on this node, use `ray logs raylet.out -ip 172.31.35.121`\n",
      "\u001b[33m(raylet)\u001b[0m \n",
      "\u001b[33m(raylet)\u001b[0m Refer to the documentation on how to address the out of memory issue: https://docs.ray.io/en/latest/ray-core/scheduling/ray-oom-prevention.html. Consider provisioning more memory on this node or reducing task parallelism by requesting more CPUs per task. To adjust the kill threshold, set the environment variable `RAY_memory_usage_threshold` when starting Ray. To disable worker killing, set the environment variable `RAY_memory_monitor_refresh_ms` to zero.\n"
     ]
    }
   ],
   "source": [
    "import os\n",
    "\n",
    "import sastvd as svd\n",
    "import sastvd.linevd.run as lvdrun\n",
    "from ray import tune\n",
    "\n",
    "os.environ[\"SLURM_JOB_NAME\"] = \"bash\"\n",
    "\n",
    "config = {\n",
    "    \"hfeat\": tune.choice([512]),\n",
    "    \"embtype\": tune.choice([\"codebert\"]),\n",
    "    \"stmtweight\": tune.choice([1]),\n",
    "    \"hdropout\": tune.choice([0.3]),\n",
    "    \"gatdropout\": tune.choice([0.2]),\n",
    "    \"modeltype\": tune.choice([\"gat2layer\"]),\n",
    "    \"gnntype\": tune.choice([\"gcn\"]),\n",
    "    \"loss\": tune.choice([\"ce\"]),\n",
    "    \"scea\": tune.choice([0.5]),\n",
    "    \"gtype\": tune.choice([\"pdg+raw\"]),\n",
    "    \"batch_size\": tune.choice([1024]),\n",
    "    \"multitask\": tune.choice([\"linemethod\"]),\n",
    "    \"splits\": tune.choice([\"default\"]),\n",
    "    \"lr\": tune.choice([1e-4]),\n",
    "}\n",
    "\n",
    "samplesz = -1\n",
    "run_id = svd.get_run_id()\n",
    "sp = str(svd.get_dir(svd.processed_dir() / f\"raytune_best_{samplesz}\" / run_id))\n",
    "trainable = tune.with_parameters(\n",
    "    lvdrun.train_linevd, max_epochs=130, samplesz=samplesz, savepath=sp\n",
    ")\n",
    "\n",
    "analysis = tune.run(\n",
    "    trainable,\n",
    "    resources_per_trial={\"cpu\": 2, \"gpu\": 0}, #\"gpu\": 0.5},\n",
    "    metric=\"val_loss\",\n",
    "    mode=\"min\",\n",
    "    config=config,\n",
    "    num_samples=1,\n",
    "    name=\"tune_linevd\",\n",
    "    local_dir=sp,\n",
    "    keep_checkpoints_num=2,\n",
    "    checkpoint_score_attr=\"min-val_loss\",\n",
    ")\n"
   ]
  }
 ],
 "metadata": {
  "kernelspec": {
   "display_name": "base",
   "language": "python",
   "name": "python3"
  },
  "language_info": {
   "codemirror_mode": {
    "name": "ipython",
    "version": 3
   },
   "file_extension": ".py",
   "mimetype": "text/x-python",
   "name": "python",
   "nbconvert_exporter": "python",
   "pygments_lexer": "ipython3",
   "version": "3.10.13"
  }
 },
 "nbformat": 4,
 "nbformat_minor": 2
}
